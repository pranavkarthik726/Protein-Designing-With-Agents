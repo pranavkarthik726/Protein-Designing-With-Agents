{
 "cells": [
  {
   "cell_type": "code",
   "execution_count": 1,
   "metadata": {},
   "outputs": [],
   "source": [
    "import os\n",
    "import json\n",
    "from pydantic import BaseModel\n",
    "from crewai.tools.structured_tool import CrewStructuredTool\n",
    "from crewai import Agent, Task, Crew, LLM\n",
    "import requests\n",
    "import urllib.parse\n",
    "from pydantic import BaseModel, Field\n",
    "from typing import List, Literal\n",
    "from pathlib import Path\n",
    "from crewai.tools import tool"
   ]
  },
  {
   "cell_type": "code",
   "execution_count": 2,
   "metadata": {},
   "outputs": [],
   "source": [
    "from storage_manager import StorageManager\n",
    "from tools.uniprot_extended_tool import toolset\n",
    "from tools.rossetta_tool import PyRosettaWrapper\n",
    "from tools.rf_dif_tool import run_rf_diffusion\n",
    "from config.rf_diff_script_format import RFDiffusionScriptConfig"
   ]
  },
  {
   "cell_type": "code",
   "execution_count": 3,
   "metadata": {},
   "outputs": [],
   "source": [
    "os.environ[\"GEMINI_API_KEY\"] = \"Paste you gemini key\"\n",
    "gemini_llm = LLM(\n",
    "    model=\"gemini/gemini-2.0-flash\",\n",
    "    temperature=0.7\n",
    ")"
   ]
  },
  {
   "cell_type": "code",
   "execution_count": 4,
   "metadata": {},
   "outputs": [],
   "source": [
    "rf_diff_context_path = r\"config/RF_diff_context.txt\"\n",
    "with open(rf_diff_context_path, 'r') as f:\n",
    "    RF_Dif_manual = f.read()"
   ]
  },
  {
   "cell_type": "code",
   "execution_count": 5,
   "metadata": {},
   "outputs": [
    {
     "name": "stdout",
     "output_type": "stream",
     "text": [
      "/home/bharath-sooryaa-m/Documents/BIO/proj/Protein-Designing-With-Agents/cache/session_20250408-220920_55100258\n"
     ]
    }
   ],
   "source": [
    "storage = StorageManager()\n",
    "current_path = os.path.join(os.getcwd(), str(storage.get_session_path()))\n",
    "print(current_path)"
   ]
  },
  {
   "cell_type": "markdown",
   "metadata": {},
   "source": [
    "TOOLS"
   ]
  },
  {
   "cell_type": "code",
   "execution_count": 6,
   "metadata": {},
   "outputs": [
    {
     "name": "stdout",
     "output_type": "stream",
     "text": [
      "PyRosettaWrapper initialized with directory: /home/bharath-sooryaa-m/Documents/BIO/proj/Protein-Designing-With-Agents/cache/session_20250408-220920_55100258\n"
     ]
    }
   ],
   "source": [
    "\n",
    "crewtool = toolset(current_path)\n",
    "Rosettatool = PyRosettaWrapper(current_path)\n",
    "\n",
    "@tool(\"fetchUniProt\")\n",
    "def fetchUniProt(query: str) -> str:\n",
    "    \"\"\"This tool provides an acces to fetch data from UniProtKB using the UniProt REST API.\n",
    "    the input has to be strictly a string \"\"\"\n",
    "    return crewtool.uniprot_fetch_tool(query=query)\n",
    "\n",
    "\n",
    "@tool(\"getSiteInfo\")\n",
    "def getSiteInfo(protein_id: str) -> str:\n",
    "    \"\"\"Fetches the protein site information from cache.\"\"\"\n",
    "    return crewtool.get_protein__site_info(protein_id=protein_id)\n",
    "\n",
    "@tool(\"getFuncInfo\")\n",
    "def getFuncInfo(protein_id: str) -> str:\n",
    "    \"\"\"Fetches the protein function information from cache.\"\"\"\n",
    "    return crewtool.get_all_function()\n",
    "\n",
    "@tool(\"rfDiffTool\")\n",
    "def rfDiffTool(script:dict,protein_id: str,) -> str:\n",
    "    \"\"\"This tool provides an access to fetch data from RF_diff\n",
    "    the input has to be strictly a RFDiffusionScriptConfig first is the script and the second is the protein_id, the tool will automatically access the pdb file \"\"\"\n",
    "    print(RFDiffusionScriptConfig.get_script_with_dict(script,dir=current_path))\n",
    "    return run_rf_diffusion(script_str=RFDiffusionScriptConfig.get_script_with_dict(script,dir=current_path), pdb_file_path= current_path+\"/pdb/\"+protein_id+\".pdb\")\n",
    "\n",
    "@tool(\"rossetaTool\")\n",
    "def rossetaTool(pdb_id: str) -> str:\n",
    "    \"\"\"This tool provides an access to fetch data from Rosetta\n",
    "    the input has to be strictly a string first is the script and the second is the protein_id, the tool will automatically access the pdb file \"\"\"\n",
    "    return Rosettatool.run(pdb_file=pdb_id)\n"
   ]
  },
  {
   "cell_type": "markdown",
   "metadata": {},
   "source": [
    "AGENTS"
   ]
  },
  {
   "cell_type": "code",
   "execution_count": 7,
   "metadata": {},
   "outputs": [],
   "source": [
    "\n",
    "queryGen = Agent(\n",
    "    role=\"queryGen\",\n",
    "    goal=\"Generates a UniProt query from a given protein function: {userinput}. Ensure the query retrieves relevant proteins\",\n",
    "    backstory=\"Designed as a highly specialized bioinformatics assistant to construct precise UniProt queries.\",\n",
    "    \n",
    "    verbose=True,\n",
    "    llm=gemini_llm\n",
    ")\n",
    "\n",
    "queryValidator = Agent(\n",
    "    role=\"queryValidator\",\n",
    "    goal=\"Ensures the generated UniProt query is accurate and relevant to the protein function: {userinput}. Verify that the query retrieves the correct proteins and aligns with the intended function.\"\n",
    "          \"RUN the uniprot_fetch_tool, if it doesn't work then the query is suboptimal, provide suggestions to improve it.\"\n",
    "          \"uniprot_fetch_tool only works with a parathesis query in string format\"\n",
    "          \"Query rules:\"\n",
    "          \"-the query has to be string with paranthesis and semicolon and characters no other special characters allowed\"\n",
    "          \"-avoid metioning \\\"query\\\" as it is unnecessary\",\n",
    "    backstory=\"This agent acts as a quality control specialist for bioinformatics queries, ensuring that the query targets the right proteins.\",\n",
    "    tools=[fetchUniProt],\n",
    "    verbose=True,\n",
    "    llm=gemini_llm,\n",
    ")\n",
    "\n",
    "proteinPicker = Agent(\n",
    "    role=\"Protein Selection Expert\",\n",
    "    goal=\"Select the best protein that matches the given function requirement from a provided list. Access the list of proteins from the tool.\",\n",
    "    backstory=\"You are an expert in protein biochemistry and bioinformatics, with a keen ability to match protein functions to desired roles.\",\n",
    "    verbose=True,\n",
    "    llm=gemini_llm,\n",
    "    tools=[getFuncInfo]\n",
    ")\n",
    "\n",
    "scaffoldPlanner = Agent(\n",
    "    role=\"Protein Scaffolding Specialist\",\n",
    "    goal=\"Assist in creating protein scaffolds by identifying which motifs should be masked or preserved based on UniProt features.\",\n",
    "    backstory=\"Expert in computational protein design with experience in analyzing protein structural and functional data.\",\n",
    "    llm=gemini_llm,\n",
    "    tools=[getSiteInfo],\n",
    "    tools_verbose=True,\n",
    "    verbose=True\n",
    ")\n",
    "\n",
    "rfDiffuser = Agent(\n",
    "    role=\"RF Diffusion Expert\",\n",
    "    goal=(\"Translate the protein scaffolding requirements into specific RF Diffusion implementation strategies, \"\n",
    "          \"specifying which motifs to mask versus preserve and providing technical details.\"),\n",
    "    backstory=\"Expert in diffusion-based generative modeling for protein design. Manual context: {RF_Dif_manual}\",\n",
    "    llm=gemini_llm,\n",
    "    verbose=True\n",
    ")\n",
    "\n",
    "rfDiffVerifier = Agent(\n",
    "    role=\"RF Diffusion Script Verifier\",\n",
    "    goal=(\n",
    "        \"Verify the generated RF Diffusion configuration script for correctness, \"\n",
    "        \"remove any unnecessary or redundant lines, ensure all parameters and file paths \"\n",
    "        \"are valid, then execute the script via the RF Diffusion tool. STOP IMMEDIATELY AFTER PDB FILE GENERATION.\"\n",
    "    ),\n",
    "    backstory=\"Expert in RF Diffusion process scripts, code review, and pipeline execution. Manual context: {RF_Dif_manual}\",\n",
    "    llm=gemini_llm,\n",
    "    tools=[rfDiffTool],\n",
    "    verbose=True,\n",
    ")"
   ]
  },
  {
   "cell_type": "markdown",
   "metadata": {},
   "source": [
    "TASKS"
   ]
  },
  {
   "cell_type": "code",
   "execution_count": 8,
   "metadata": {},
   "outputs": [],
   "source": [
    "generateQuery = Task(\n",
    "    description=(\n",
    "        \"1. Extract key biological terms from the protein function description: {userinput}.\\n\"\n",
    "        \"2. Map these terms to UniProt search fields and controlled vocabularies.\\n\"\n",
    "        \"3. Generate a string within paranthesis UniProt query optimized for accuracy and recall.\\n\"\n",
    "        \"4. Validate and refine the query to ensure relevant search results.\"\n",
    "    ),\n",
    "    expected_output=\"UniProt query for the given protein function description\",\n",
    "    agent=queryGen\n",
    ")\n",
    "\n",
    "validateQuery = Task(\n",
    "    description=\"Review the UniProt query generated by the uniprot_query_generator agent.\",\n",
    "    expected_input=\"A UniProt query string generated from a protein function description, along with the original user input.\",\n",
    "    expected_output=(\n",
    "                     \"If the query is suboptimal, provide suggestions to improve it.\"\n",
    "                     \"After a successful query return the protein ID\"),\n",
    "    steps=[\n",
    "        \"Receive the generated UniProt query and the original protein function description.\",\n",
    "        \"Submit the query to the UniProt database using uniprot_tool.\",\n",
    "        \"Analyze the retrieved proteins and compare their functions to the intended protein function.\",\n",
    "        \"resolve the query using the uniprot_fetch_tool unitil the problem is fixed\",\n",
    "        \"Approve the query if it runs successfully and retrieves relevant proteins.\",\n",
    "    ],\n",
    "    acceptance_criteria=[\n",
    "        \"The query retrieves proteins that strongly match the intended function.\",\n",
    "        \"The query does not produce irrelevant or overly broad results.\",\n",
    "        \"Suggestions for improvement are practical and enhance query precision.\",\n",
    "        \"The validation report clearly explains the decision.\"\n",
    "    ],\n",
    "    agent=queryValidator\n",
    ")\n",
    "\n",
    "pickProtein = Task(\n",
    "    description=\"Choose the best protein from the provided list that performs the target function:{function}. try to choose only limited proteins\",\n",
    "    expected_output=\"A JSON object detailing the selected protein and its function.\",\n",
    "    agent=proteinPicker\n",
    ")\n",
    "\n",
    "analyzeMotifs = Task(\n",
    "    description=(\"Analyze the provided UniProt features in JSON format, identifying all functional sites (active sites, binding sites, metal-binding sites, etc.). \"\n",
    "                 \"Interpret the user's desired protein function described in natural language and determine which motifs should be preserved as anchors and which regions masked for redesign. \"\n",
    "                 \"Identify the most appropriate scaffolding approach and provide clear reasoning for your decisions, including motif positions. \"\n",
    "                 \"unction to be preserved: {function}. use the protein id from previous task\"),\n",
    "    expected_output=(\"A detailed JSON report containing an analysis of UniProt features, the identified motifs to be preserved or masked with justification, \"\n",
    "                     \"and the recommended scaffolding approach.\"),\n",
    "    agent=scaffoldPlanner,\n",
    "    context=[pickProtein]\n",
    "    #context=[protein_analysis_task]\n",
    ")\n",
    "\n",
    "createDiffConfig = Task(\n",
    "    description=(\"Using the analysis from the previous task, generate a configuration script for running the RF Diffusion process. \"\n",
    "                 \"Include model settings, diffusion parameters, input file paths, output directory locations, and any optional parameters (such as contigmap).\"),\n",
    "    expected_output=\"A valid terminal script containing the RF Diffusion configuration with all necessary parameters.\"\n",
    "     \"You should make sure sure that the pdb file should be the uniprot ID which will be given from the previous task\",\n",
    "    agent=rfDiffuser,\n",
    "    context=[analyzeMotifs],\n",
    "    output_pydantic=RFDiffusionScriptConfig,\n",
    ")\n",
    "\n",
    "rfDiffVerification = Task(\n",
    "    description=(\n",
    "        \"1) Take the output configuration script from the previous task.  \"\n",
    "        \"2) Check syntax and parameter correctness, remove any unnecessary or redundant lines.  \"\n",
    "        \"3) Run the cleaned script using rf_diffusion_tool.run(script_path).  \"\n",
    "        \"4) IMMEDIATELY STOP PROCESSING ONCE PDB FILE IS GENERATED IN THE OUTPUT DIRECTORY.\"\n",
    "        \"5) Do NOT perform any additional verification steps beyond PDB file creation.\"\n",
    "    ),\n",
    "    expected_output=(\n",
    "        \"— A cleaned and validated RF Diffusion configuration script  \\n\"\n",
    "        \"— Confirmation of PDB file generation in the output directory\"\n",
    "    ),\n",
    "    agent=rfDiffVerifier,\n",
    "    context=[createDiffConfig],\n",
    "    output_pydantic=RFDiffusionScriptConfig\n",
    ")"
   ]
  },
  {
   "cell_type": "markdown",
   "metadata": {},
   "source": [
    "CREW"
   ]
  },
  {
   "cell_type": "code",
   "execution_count": 9,
   "metadata": {},
   "outputs": [],
   "source": [
    "combined_crew = Crew(\n",
    "    agents=[queryGen, queryValidator, proteinPicker, scaffoldPlanner, rfDiffuser, rfDiffVerifier],\n",
    "    tasks=[generateQuery, validateQuery, pickProtein, analyzeMotifs, createDiffConfig, rfDiffVerification],\n",
    "    verbose=True,\n",
    ")"
   ]
  },
  {
   "cell_type": "markdown",
   "metadata": {},
   "source": [
    "RUN"
   ]
  },
  {
   "cell_type": "code",
   "execution_count": 10,
   "metadata": {},
   "outputs": [],
   "source": [
    "combined_inputs = {\n",
    "    \"userinput\": \"I want a protein that can help in the DNA binding.\",\n",
    "    \"function\": \"I want a protein that can help in the DNA binding.\",\n",
    "    \"RF_Dif_manual\": RF_Dif_manual,\n",
    "}"
   ]
  },
  {
   "cell_type": "code",
   "execution_count": 11,
   "metadata": {},
   "outputs": [
    {
     "data": {
      "text/html": [
       "<pre style=\"white-space:pre;overflow-x:auto;line-height:normal;font-family:Menlo,'DejaVu Sans Mono',consolas,'Courier New',monospace\"><span style=\"color: #008080; text-decoration-color: #008080\">╭──────────────────────────────────────────── Crew Execution Started ─────────────────────────────────────────────╮</span>\n",
       "<span style=\"color: #008080; text-decoration-color: #008080\">│</span>                                                                                                                 <span style=\"color: #008080; text-decoration-color: #008080\">│</span>\n",
       "<span style=\"color: #008080; text-decoration-color: #008080\">│</span>  <span style=\"color: #008080; text-decoration-color: #008080; font-weight: bold\">Crew Execution Started</span>                                                                                         <span style=\"color: #008080; text-decoration-color: #008080\">│</span>\n",
       "<span style=\"color: #008080; text-decoration-color: #008080\">│</span>  <span style=\"color: #c0c0c0; text-decoration-color: #c0c0c0\">Name: </span><span style=\"color: #008080; text-decoration-color: #008080\">crew</span>                                                                                                     <span style=\"color: #008080; text-decoration-color: #008080\">│</span>\n",
       "<span style=\"color: #008080; text-decoration-color: #008080\">│</span>  <span style=\"color: #c0c0c0; text-decoration-color: #c0c0c0\">ID: </span><span style=\"color: #008080; text-decoration-color: #008080\">8fec67af-406e-41bd-9619-2e5fe7187e53</span>                                                                       <span style=\"color: #008080; text-decoration-color: #008080\">│</span>\n",
       "<span style=\"color: #008080; text-decoration-color: #008080\">│</span>                                                                                                                 <span style=\"color: #008080; text-decoration-color: #008080\">│</span>\n",
       "<span style=\"color: #008080; text-decoration-color: #008080\">│</span>                                                                                                                 <span style=\"color: #008080; text-decoration-color: #008080\">│</span>\n",
       "<span style=\"color: #008080; text-decoration-color: #008080\">╰─────────────────────────────────────────────────────────────────────────────────────────────────────────────────╯</span>\n",
       "</pre>\n"
      ],
      "text/plain": [
       "\u001b[36m╭─\u001b[0m\u001b[36m───────────────────────────────────────────\u001b[0m\u001b[36m Crew Execution Started \u001b[0m\u001b[36m────────────────────────────────────────────\u001b[0m\u001b[36m─╮\u001b[0m\n",
       "\u001b[36m│\u001b[0m                                                                                                                 \u001b[36m│\u001b[0m\n",
       "\u001b[36m│\u001b[0m  \u001b[1;36mCrew Execution Started\u001b[0m                                                                                         \u001b[36m│\u001b[0m\n",
       "\u001b[36m│\u001b[0m  \u001b[37mName: \u001b[0m\u001b[36mcrew\u001b[0m                                                                                                     \u001b[36m│\u001b[0m\n",
       "\u001b[36m│\u001b[0m  \u001b[37mID: \u001b[0m\u001b[36m8fec67af-406e-41bd-9619-2e5fe7187e53\u001b[0m                                                                       \u001b[36m│\u001b[0m\n",
       "\u001b[36m│\u001b[0m                                                                                                                 \u001b[36m│\u001b[0m\n",
       "\u001b[36m│\u001b[0m                                                                                                                 \u001b[36m│\u001b[0m\n",
       "\u001b[36m╰─────────────────────────────────────────────────────────────────────────────────────────────────────────────────╯\u001b[0m\n"
      ]
     },
     "metadata": {},
     "output_type": "display_data"
    },
    {
     "data": {
      "text/html": [
       "<pre style=\"white-space:pre;overflow-x:auto;line-height:normal;font-family:Menlo,'DejaVu Sans Mono',consolas,'Courier New',monospace\">\n",
       "</pre>\n"
      ],
      "text/plain": [
       "\n"
      ]
     },
     "metadata": {},
     "output_type": "display_data"
    },
    {
     "data": {
      "text/html": [
       "<pre style=\"white-space:pre;overflow-x:auto;line-height:normal;font-family:Menlo,'DejaVu Sans Mono',consolas,'Courier New',monospace\"><span style=\"color: #008080; text-decoration-color: #008080; font-weight: bold\">🚀 Crew: crew</span>\n",
       "└── <span style=\"color: #808000; text-decoration-color: #808000; font-weight: bold\">📋 Task: caf17771-5c84-4cff-a0c5-e14ae66db4c5</span>\n",
       "    <span style=\"color: #c0c0c0; text-decoration-color: #c0c0c0\">   Status: </span><span style=\"color: #bfbf7f; text-decoration-color: #bfbf7f\">Executing Task...</span>\n",
       "</pre>\n"
      ],
      "text/plain": [
       "\u001b[1;36m🚀 Crew: \u001b[0m\u001b[1;36mcrew\u001b[0m\n",
       "└── \u001b[1;33m📋 Task: caf17771-5c84-4cff-a0c5-e14ae66db4c5\u001b[0m\n",
       "    \u001b[37m   Status: \u001b[0m\u001b[2;33mExecuting Task...\u001b[0m\n"
      ]
     },
     "metadata": {},
     "output_type": "display_data"
    },
    {
     "data": {
      "text/html": [
       "<pre style=\"white-space:pre;overflow-x:auto;line-height:normal;font-family:Menlo,'DejaVu Sans Mono',consolas,'Courier New',monospace\">\n",
       "</pre>\n"
      ],
      "text/plain": [
       "\n"
      ]
     },
     "metadata": {},
     "output_type": "display_data"
    },
    {
     "data": {
      "text/html": [
       "<pre style=\"white-space:pre;overflow-x:auto;line-height:normal;font-family:Menlo,'DejaVu Sans Mono',consolas,'Courier New',monospace\"><span style=\"color: #008080; text-decoration-color: #008080; font-weight: bold\">🚀 Crew: crew</span>\n",
       "└── <span style=\"color: #808000; text-decoration-color: #808000; font-weight: bold\">📋 Task: caf17771-5c84-4cff-a0c5-e14ae66db4c5</span>\n",
       "    <span style=\"color: #c0c0c0; text-decoration-color: #c0c0c0\">   Status: </span><span style=\"color: #bfbf7f; text-decoration-color: #bfbf7f\">Executing Task...</span>\n",
       "    └── <span style=\"color: #008000; text-decoration-color: #008000; font-weight: bold\">🤖 Agent: </span><span style=\"color: #008000; text-decoration-color: #008000\">queryGen</span>\n",
       "        <span style=\"color: #c0c0c0; text-decoration-color: #c0c0c0\">    Status: </span><span style=\"color: #008000; text-decoration-color: #008000; font-weight: bold\">In Progress</span>\n",
       "</pre>\n"
      ],
      "text/plain": [
       "\u001b[1;36m🚀 Crew: \u001b[0m\u001b[1;36mcrew\u001b[0m\n",
       "└── \u001b[1;33m📋 Task: caf17771-5c84-4cff-a0c5-e14ae66db4c5\u001b[0m\n",
       "    \u001b[37m   Status: \u001b[0m\u001b[2;33mExecuting Task...\u001b[0m\n",
       "    └── \u001b[1;32m🤖 Agent: \u001b[0m\u001b[32mqueryGen\u001b[0m\n",
       "        \u001b[37m    Status: \u001b[0m\u001b[1;32mIn Progress\u001b[0m\n"
      ]
     },
     "metadata": {},
     "output_type": "display_data"
    },
    {
     "data": {
      "text/html": [
       "<pre style=\"white-space:pre;overflow-x:auto;line-height:normal;font-family:Menlo,'DejaVu Sans Mono',consolas,'Courier New',monospace\">\n",
       "</pre>\n"
      ],
      "text/plain": [
       "\n"
      ]
     },
     "metadata": {},
     "output_type": "display_data"
    },
    {
     "name": "stdout",
     "output_type": "stream",
     "text": [
      "\u001b[1m\u001b[95m# Agent:\u001b[00m \u001b[1m\u001b[92mqueryGen\u001b[00m\n",
      "\u001b[95m## Task:\u001b[00m \u001b[92m1. Extract key biological terms from the protein function description: I want a protein that can help in the DNA binding..\n",
      "2. Map these terms to UniProt search fields and controlled vocabularies.\n",
      "3. Generate a string within paranthesis UniProt query optimized for accuracy and recall.\n",
      "4. Validate and refine the query to ensure relevant search results.\u001b[00m\n"
     ]
    },
    {
     "data": {
      "text/html": [
       "<pre style=\"white-space:pre;overflow-x:auto;line-height:normal;font-family:Menlo,'DejaVu Sans Mono',consolas,'Courier New',monospace\"><span style=\"color: #008080; text-decoration-color: #008080; font-weight: bold\">🚀 Crew: crew</span>\n",
       "└── <span style=\"color: #808000; text-decoration-color: #808000; font-weight: bold\">📋 Task: caf17771-5c84-4cff-a0c5-e14ae66db4c5</span>\n",
       "    <span style=\"color: #c0c0c0; text-decoration-color: #c0c0c0\">   Status: </span><span style=\"color: #bfbf7f; text-decoration-color: #bfbf7f\">Executing Task...</span>\n",
       "    └── <span style=\"color: #008000; text-decoration-color: #008000; font-weight: bold\">🤖 Agent: </span><span style=\"color: #008000; text-decoration-color: #008000\">queryGen</span>\n",
       "        <span style=\"color: #c0c0c0; text-decoration-color: #c0c0c0\">    Status: </span><span style=\"color: #008000; text-decoration-color: #008000; font-weight: bold\">In Progress</span>\n",
       "        └── <span style=\"color: #000080; text-decoration-color: #000080; font-weight: bold\">🧠 </span><span style=\"color: #000080; text-decoration-color: #000080\">Thinking...</span>\n",
       "</pre>\n"
      ],
      "text/plain": [
       "\u001b[1;36m🚀 Crew: \u001b[0m\u001b[1;36mcrew\u001b[0m\n",
       "└── \u001b[1;33m📋 Task: caf17771-5c84-4cff-a0c5-e14ae66db4c5\u001b[0m\n",
       "    \u001b[37m   Status: \u001b[0m\u001b[2;33mExecuting Task...\u001b[0m\n",
       "    └── \u001b[1;32m🤖 Agent: \u001b[0m\u001b[32mqueryGen\u001b[0m\n",
       "        \u001b[37m    Status: \u001b[0m\u001b[1;32mIn Progress\u001b[0m\n",
       "        └── \u001b[1;34m🧠 \u001b[0m\u001b[34mThinking...\u001b[0m\n"
      ]
     },
     "metadata": {},
     "output_type": "display_data"
    },
    {
     "data": {
      "text/html": [
       "<pre style=\"white-space:pre;overflow-x:auto;line-height:normal;font-family:Menlo,'DejaVu Sans Mono',consolas,'Courier New',monospace\">\n",
       "</pre>\n"
      ],
      "text/plain": [
       "\n"
      ]
     },
     "metadata": {},
     "output_type": "display_data"
    },
    {
     "data": {
      "text/html": [
       "<pre style=\"white-space:pre;overflow-x:auto;line-height:normal;font-family:Menlo,'DejaVu Sans Mono',consolas,'Courier New',monospace\"><span style=\"color: #008080; text-decoration-color: #008080; font-weight: bold\">🚀 Crew: crew</span>\n",
       "└── <span style=\"color: #808000; text-decoration-color: #808000; font-weight: bold\">📋 Task: caf17771-5c84-4cff-a0c5-e14ae66db4c5</span>\n",
       "    <span style=\"color: #c0c0c0; text-decoration-color: #c0c0c0\">   Status: </span><span style=\"color: #bfbf7f; text-decoration-color: #bfbf7f\">Executing Task...</span>\n",
       "    └── <span style=\"color: #008000; text-decoration-color: #008000; font-weight: bold\">🤖 Agent: </span><span style=\"color: #008000; text-decoration-color: #008000\">queryGen</span>\n",
       "        <span style=\"color: #c0c0c0; text-decoration-color: #c0c0c0\">    Status: </span><span style=\"color: #008000; text-decoration-color: #008000; font-weight: bold\">In Progress</span>\n",
       "</pre>\n"
      ],
      "text/plain": [
       "\u001b[1;36m🚀 Crew: \u001b[0m\u001b[1;36mcrew\u001b[0m\n",
       "└── \u001b[1;33m📋 Task: caf17771-5c84-4cff-a0c5-e14ae66db4c5\u001b[0m\n",
       "    \u001b[37m   Status: \u001b[0m\u001b[2;33mExecuting Task...\u001b[0m\n",
       "    └── \u001b[1;32m🤖 Agent: \u001b[0m\u001b[32mqueryGen\u001b[0m\n",
       "        \u001b[37m    Status: \u001b[0m\u001b[1;32mIn Progress\u001b[0m\n"
      ]
     },
     "metadata": {},
     "output_type": "display_data"
    },
    {
     "data": {
      "text/html": [
       "<pre style=\"white-space:pre;overflow-x:auto;line-height:normal;font-family:Menlo,'DejaVu Sans Mono',consolas,'Courier New',monospace\">\n",
       "</pre>\n"
      ],
      "text/plain": [
       "\n"
      ]
     },
     "metadata": {},
     "output_type": "display_data"
    },
    {
     "name": "stdout",
     "output_type": "stream",
     "text": [
      "\n",
      "\n",
      "\u001b[1m\u001b[95m# Agent:\u001b[00m \u001b[1m\u001b[92mqueryGen\u001b[00m\n",
      "\u001b[95m## Final Answer:\u001b[00m \u001b[92m\n",
      "`(go:\"DNA binding\" ) OR (keyword:\"DNA binding\")`\u001b[00m\n",
      "\n",
      "\n"
     ]
    },
    {
     "data": {
      "text/html": [
       "<pre style=\"white-space:pre;overflow-x:auto;line-height:normal;font-family:Menlo,'DejaVu Sans Mono',consolas,'Courier New',monospace\"><span style=\"color: #008080; text-decoration-color: #008080; font-weight: bold\">🚀 Crew: crew</span>\n",
       "└── <span style=\"color: #808000; text-decoration-color: #808000; font-weight: bold\">📋 Task: caf17771-5c84-4cff-a0c5-e14ae66db4c5</span>\n",
       "    <span style=\"color: #c0c0c0; text-decoration-color: #c0c0c0\">   Status: </span><span style=\"color: #bfbf7f; text-decoration-color: #bfbf7f\">Executing Task...</span>\n",
       "    └── <span style=\"color: #008000; text-decoration-color: #008000; font-weight: bold\">🤖 Agent: </span><span style=\"color: #008000; text-decoration-color: #008000\">queryGen</span>\n",
       "        <span style=\"color: #c0c0c0; text-decoration-color: #c0c0c0\">    Status: </span><span style=\"color: #008000; text-decoration-color: #008000; font-weight: bold\">✅ Completed</span>\n",
       "</pre>\n"
      ],
      "text/plain": [
       "\u001b[1;36m🚀 Crew: \u001b[0m\u001b[1;36mcrew\u001b[0m\n",
       "└── \u001b[1;33m📋 Task: caf17771-5c84-4cff-a0c5-e14ae66db4c5\u001b[0m\n",
       "    \u001b[37m   Status: \u001b[0m\u001b[2;33mExecuting Task...\u001b[0m\n",
       "    └── \u001b[1;32m🤖 Agent: \u001b[0m\u001b[32mqueryGen\u001b[0m\n",
       "        \u001b[37m    Status: \u001b[0m\u001b[1;32m✅ Completed\u001b[0m\n"
      ]
     },
     "metadata": {},
     "output_type": "display_data"
    },
    {
     "data": {
      "text/html": [
       "<pre style=\"white-space:pre;overflow-x:auto;line-height:normal;font-family:Menlo,'DejaVu Sans Mono',consolas,'Courier New',monospace\">\n",
       "</pre>\n"
      ],
      "text/plain": [
       "\n"
      ]
     },
     "metadata": {},
     "output_type": "display_data"
    },
    {
     "data": {
      "text/html": [
       "<pre style=\"white-space:pre;overflow-x:auto;line-height:normal;font-family:Menlo,'DejaVu Sans Mono',consolas,'Courier New',monospace\"><span style=\"color: #008080; text-decoration-color: #008080; font-weight: bold\">🚀 Crew: crew</span>\n",
       "└── <span style=\"color: #008000; text-decoration-color: #008000; font-weight: bold\">📋 Task: caf17771-5c84-4cff-a0c5-e14ae66db4c5</span>\n",
       "    <span style=\"color: #c0c0c0; text-decoration-color: #c0c0c0\">   Assigned to: </span><span style=\"color: #008000; text-decoration-color: #008000\">queryGen</span>\n",
       "    <span style=\"color: #c0c0c0; text-decoration-color: #c0c0c0\">   Status: </span><span style=\"color: #008000; text-decoration-color: #008000; font-weight: bold\">✅ Completed</span>\n",
       "    └── <span style=\"color: #008000; text-decoration-color: #008000; font-weight: bold\">🤖 Agent: </span><span style=\"color: #008000; text-decoration-color: #008000\">queryGen</span>\n",
       "        <span style=\"color: #c0c0c0; text-decoration-color: #c0c0c0\">    Status: </span><span style=\"color: #008000; text-decoration-color: #008000; font-weight: bold\">✅ Completed</span>\n",
       "</pre>\n"
      ],
      "text/plain": [
       "\u001b[1;36m🚀 Crew: \u001b[0m\u001b[1;36mcrew\u001b[0m\n",
       "└── \u001b[1;32m📋 Task: caf17771-5c84-4cff-a0c5-e14ae66db4c5\u001b[0m\n",
       "    \u001b[37m   Assigned to: \u001b[0m\u001b[32mqueryGen\u001b[0m\n",
       "    \u001b[37m   Status: \u001b[0m\u001b[1;32m✅ Completed\u001b[0m\n",
       "    └── \u001b[1;32m🤖 Agent: \u001b[0m\u001b[32mqueryGen\u001b[0m\n",
       "        \u001b[37m    Status: \u001b[0m\u001b[1;32m✅ Completed\u001b[0m\n"
      ]
     },
     "metadata": {},
     "output_type": "display_data"
    },
    {
     "data": {
      "text/html": [
       "<pre style=\"white-space:pre;overflow-x:auto;line-height:normal;font-family:Menlo,'DejaVu Sans Mono',consolas,'Courier New',monospace\"><span style=\"color: #008000; text-decoration-color: #008000\">╭──────────────────────────────────────────────── Task Completion ────────────────────────────────────────────────╮</span>\n",
       "<span style=\"color: #008000; text-decoration-color: #008000\">│</span>                                                                                                                 <span style=\"color: #008000; text-decoration-color: #008000\">│</span>\n",
       "<span style=\"color: #008000; text-decoration-color: #008000\">│</span>  <span style=\"color: #008000; text-decoration-color: #008000; font-weight: bold\">Task Completed</span>                                                                                                 <span style=\"color: #008000; text-decoration-color: #008000\">│</span>\n",
       "<span style=\"color: #008000; text-decoration-color: #008000\">│</span>  <span style=\"color: #c0c0c0; text-decoration-color: #c0c0c0\">Name: </span><span style=\"color: #008000; text-decoration-color: #008000\">caf17771-5c84-4cff-a0c5-e14ae66db4c5</span>                                                                     <span style=\"color: #008000; text-decoration-color: #008000\">│</span>\n",
       "<span style=\"color: #008000; text-decoration-color: #008000\">│</span>  <span style=\"color: #c0c0c0; text-decoration-color: #c0c0c0\">Agent: </span><span style=\"color: #008000; text-decoration-color: #008000\">queryGen</span>                                                                                                <span style=\"color: #008000; text-decoration-color: #008000\">│</span>\n",
       "<span style=\"color: #008000; text-decoration-color: #008000\">│</span>                                                                                                                 <span style=\"color: #008000; text-decoration-color: #008000\">│</span>\n",
       "<span style=\"color: #008000; text-decoration-color: #008000\">│</span>                                                                                                                 <span style=\"color: #008000; text-decoration-color: #008000\">│</span>\n",
       "<span style=\"color: #008000; text-decoration-color: #008000\">╰─────────────────────────────────────────────────────────────────────────────────────────────────────────────────╯</span>\n",
       "</pre>\n"
      ],
      "text/plain": [
       "\u001b[32m╭─\u001b[0m\u001b[32m───────────────────────────────────────────────\u001b[0m\u001b[32m Task Completion \u001b[0m\u001b[32m───────────────────────────────────────────────\u001b[0m\u001b[32m─╮\u001b[0m\n",
       "\u001b[32m│\u001b[0m                                                                                                                 \u001b[32m│\u001b[0m\n",
       "\u001b[32m│\u001b[0m  \u001b[1;32mTask Completed\u001b[0m                                                                                                 \u001b[32m│\u001b[0m\n",
       "\u001b[32m│\u001b[0m  \u001b[37mName: \u001b[0m\u001b[32mcaf17771-5c84-4cff-a0c5-e14ae66db4c5\u001b[0m                                                                     \u001b[32m│\u001b[0m\n",
       "\u001b[32m│\u001b[0m  \u001b[37mAgent: \u001b[0m\u001b[32mqueryGen\u001b[0m                                                                                                \u001b[32m│\u001b[0m\n",
       "\u001b[32m│\u001b[0m                                                                                                                 \u001b[32m│\u001b[0m\n",
       "\u001b[32m│\u001b[0m                                                                                                                 \u001b[32m│\u001b[0m\n",
       "\u001b[32m╰─────────────────────────────────────────────────────────────────────────────────────────────────────────────────╯\u001b[0m\n"
      ]
     },
     "metadata": {},
     "output_type": "display_data"
    },
    {
     "data": {
      "text/html": [
       "<pre style=\"white-space:pre;overflow-x:auto;line-height:normal;font-family:Menlo,'DejaVu Sans Mono',consolas,'Courier New',monospace\">\n",
       "</pre>\n"
      ],
      "text/plain": [
       "\n"
      ]
     },
     "metadata": {},
     "output_type": "display_data"
    },
    {
     "data": {
      "text/html": [
       "<pre style=\"white-space:pre;overflow-x:auto;line-height:normal;font-family:Menlo,'DejaVu Sans Mono',consolas,'Courier New',monospace\"><span style=\"color: #008080; text-decoration-color: #008080; font-weight: bold\">🚀 Crew: crew</span>\n",
       "├── <span style=\"color: #008000; text-decoration-color: #008000; font-weight: bold\">📋 Task: caf17771-5c84-4cff-a0c5-e14ae66db4c5</span>\n",
       "│   <span style=\"color: #c0c0c0; text-decoration-color: #c0c0c0\">   Assigned to: </span><span style=\"color: #008000; text-decoration-color: #008000\">queryGen</span>\n",
       "│   <span style=\"color: #c0c0c0; text-decoration-color: #c0c0c0\">   Status: </span><span style=\"color: #008000; text-decoration-color: #008000; font-weight: bold\">✅ Completed</span>\n",
       "│   └── <span style=\"color: #008000; text-decoration-color: #008000; font-weight: bold\">🤖 Agent: </span><span style=\"color: #008000; text-decoration-color: #008000\">queryGen</span>\n",
       "│       <span style=\"color: #c0c0c0; text-decoration-color: #c0c0c0\">    Status: </span><span style=\"color: #008000; text-decoration-color: #008000; font-weight: bold\">✅ Completed</span>\n",
       "└── <span style=\"color: #808000; text-decoration-color: #808000; font-weight: bold\">📋 Task: d056b313-31cd-4ef9-81d6-e5e5fc29d6ac</span>\n",
       "    <span style=\"color: #c0c0c0; text-decoration-color: #c0c0c0\">   Status: </span><span style=\"color: #bfbf7f; text-decoration-color: #bfbf7f\">Executing Task...</span>\n",
       "</pre>\n"
      ],
      "text/plain": [
       "\u001b[1;36m🚀 Crew: \u001b[0m\u001b[1;36mcrew\u001b[0m\n",
       "├── \u001b[1;32m📋 Task: caf17771-5c84-4cff-a0c5-e14ae66db4c5\u001b[0m\n",
       "│   \u001b[37m   Assigned to: \u001b[0m\u001b[32mqueryGen\u001b[0m\n",
       "│   \u001b[37m   Status: \u001b[0m\u001b[1;32m✅ Completed\u001b[0m\n",
       "│   └── \u001b[1;32m🤖 Agent: \u001b[0m\u001b[32mqueryGen\u001b[0m\n",
       "│       \u001b[37m    Status: \u001b[0m\u001b[1;32m✅ Completed\u001b[0m\n",
       "└── \u001b[1;33m📋 Task: d056b313-31cd-4ef9-81d6-e5e5fc29d6ac\u001b[0m\n",
       "    \u001b[37m   Status: \u001b[0m\u001b[2;33mExecuting Task...\u001b[0m\n"
      ]
     },
     "metadata": {},
     "output_type": "display_data"
    },
    {
     "data": {
      "text/html": [
       "<pre style=\"white-space:pre;overflow-x:auto;line-height:normal;font-family:Menlo,'DejaVu Sans Mono',consolas,'Courier New',monospace\">\n",
       "</pre>\n"
      ],
      "text/plain": [
       "\n"
      ]
     },
     "metadata": {},
     "output_type": "display_data"
    },
    {
     "data": {
      "text/html": [
       "<pre style=\"white-space:pre;overflow-x:auto;line-height:normal;font-family:Menlo,'DejaVu Sans Mono',consolas,'Courier New',monospace\"><span style=\"color: #008080; text-decoration-color: #008080; font-weight: bold\">🚀 Crew: crew</span>\n",
       "├── <span style=\"color: #008000; text-decoration-color: #008000; font-weight: bold\">📋 Task: caf17771-5c84-4cff-a0c5-e14ae66db4c5</span>\n",
       "│   <span style=\"color: #c0c0c0; text-decoration-color: #c0c0c0\">   Assigned to: </span><span style=\"color: #008000; text-decoration-color: #008000\">queryGen</span>\n",
       "│   <span style=\"color: #c0c0c0; text-decoration-color: #c0c0c0\">   Status: </span><span style=\"color: #008000; text-decoration-color: #008000; font-weight: bold\">✅ Completed</span>\n",
       "│   └── <span style=\"color: #008000; text-decoration-color: #008000; font-weight: bold\">🤖 Agent: </span><span style=\"color: #008000; text-decoration-color: #008000\">queryGen</span>\n",
       "│       <span style=\"color: #c0c0c0; text-decoration-color: #c0c0c0\">    Status: </span><span style=\"color: #008000; text-decoration-color: #008000; font-weight: bold\">✅ Completed</span>\n",
       "└── <span style=\"color: #808000; text-decoration-color: #808000; font-weight: bold\">📋 Task: d056b313-31cd-4ef9-81d6-e5e5fc29d6ac</span>\n",
       "    <span style=\"color: #c0c0c0; text-decoration-color: #c0c0c0\">   Status: </span><span style=\"color: #bfbf7f; text-decoration-color: #bfbf7f\">Executing Task...</span>\n",
       "    └── <span style=\"color: #008000; text-decoration-color: #008000; font-weight: bold\">🤖 Agent: </span><span style=\"color: #008000; text-decoration-color: #008000\">queryValidator</span>\n",
       "        <span style=\"color: #c0c0c0; text-decoration-color: #c0c0c0\">    Status: </span><span style=\"color: #008000; text-decoration-color: #008000; font-weight: bold\">In Progress</span>\n",
       "</pre>\n"
      ],
      "text/plain": [
       "\u001b[1;36m🚀 Crew: \u001b[0m\u001b[1;36mcrew\u001b[0m\n",
       "├── \u001b[1;32m📋 Task: caf17771-5c84-4cff-a0c5-e14ae66db4c5\u001b[0m\n",
       "│   \u001b[37m   Assigned to: \u001b[0m\u001b[32mqueryGen\u001b[0m\n",
       "│   \u001b[37m   Status: \u001b[0m\u001b[1;32m✅ Completed\u001b[0m\n",
       "│   └── \u001b[1;32m🤖 Agent: \u001b[0m\u001b[32mqueryGen\u001b[0m\n",
       "│       \u001b[37m    Status: \u001b[0m\u001b[1;32m✅ Completed\u001b[0m\n",
       "└── \u001b[1;33m📋 Task: d056b313-31cd-4ef9-81d6-e5e5fc29d6ac\u001b[0m\n",
       "    \u001b[37m   Status: \u001b[0m\u001b[2;33mExecuting Task...\u001b[0m\n",
       "    └── \u001b[1;32m🤖 Agent: \u001b[0m\u001b[32mqueryValidator\u001b[0m\n",
       "        \u001b[37m    Status: \u001b[0m\u001b[1;32mIn Progress\u001b[0m\n"
      ]
     },
     "metadata": {},
     "output_type": "display_data"
    },
    {
     "data": {
      "text/html": [
       "<pre style=\"white-space:pre;overflow-x:auto;line-height:normal;font-family:Menlo,'DejaVu Sans Mono',consolas,'Courier New',monospace\">\n",
       "</pre>\n"
      ],
      "text/plain": [
       "\n"
      ]
     },
     "metadata": {},
     "output_type": "display_data"
    },
    {
     "name": "stdout",
     "output_type": "stream",
     "text": [
      "\u001b[1m\u001b[95m# Agent:\u001b[00m \u001b[1m\u001b[92mqueryValidator\u001b[00m\n",
      "\u001b[95m## Task:\u001b[00m \u001b[92mReview the UniProt query generated by the uniprot_query_generator agent.\u001b[00m\n"
     ]
    },
    {
     "data": {
      "text/html": [
       "<pre style=\"white-space:pre;overflow-x:auto;line-height:normal;font-family:Menlo,'DejaVu Sans Mono',consolas,'Courier New',monospace\"><span style=\"color: #008080; text-decoration-color: #008080; font-weight: bold\">🚀 Crew: crew</span>\n",
       "├── <span style=\"color: #008000; text-decoration-color: #008000; font-weight: bold\">📋 Task: caf17771-5c84-4cff-a0c5-e14ae66db4c5</span>\n",
       "│   <span style=\"color: #c0c0c0; text-decoration-color: #c0c0c0\">   Assigned to: </span><span style=\"color: #008000; text-decoration-color: #008000\">queryGen</span>\n",
       "│   <span style=\"color: #c0c0c0; text-decoration-color: #c0c0c0\">   Status: </span><span style=\"color: #008000; text-decoration-color: #008000; font-weight: bold\">✅ Completed</span>\n",
       "│   └── <span style=\"color: #008000; text-decoration-color: #008000; font-weight: bold\">🤖 Agent: </span><span style=\"color: #008000; text-decoration-color: #008000\">queryGen</span>\n",
       "│       <span style=\"color: #c0c0c0; text-decoration-color: #c0c0c0\">    Status: </span><span style=\"color: #008000; text-decoration-color: #008000; font-weight: bold\">✅ Completed</span>\n",
       "└── <span style=\"color: #808000; text-decoration-color: #808000; font-weight: bold\">📋 Task: d056b313-31cd-4ef9-81d6-e5e5fc29d6ac</span>\n",
       "    <span style=\"color: #c0c0c0; text-decoration-color: #c0c0c0\">   Status: </span><span style=\"color: #bfbf7f; text-decoration-color: #bfbf7f\">Executing Task...</span>\n",
       "    └── <span style=\"color: #008000; text-decoration-color: #008000; font-weight: bold\">🤖 Agent: </span><span style=\"color: #008000; text-decoration-color: #008000\">queryValidator</span>\n",
       "        <span style=\"color: #c0c0c0; text-decoration-color: #c0c0c0\">    Status: </span><span style=\"color: #008000; text-decoration-color: #008000; font-weight: bold\">In Progress</span>\n",
       "        └── <span style=\"color: #000080; text-decoration-color: #000080; font-weight: bold\">🧠 </span><span style=\"color: #000080; text-decoration-color: #000080\">Thinking...</span>\n",
       "</pre>\n"
      ],
      "text/plain": [
       "\u001b[1;36m🚀 Crew: \u001b[0m\u001b[1;36mcrew\u001b[0m\n",
       "├── \u001b[1;32m📋 Task: caf17771-5c84-4cff-a0c5-e14ae66db4c5\u001b[0m\n",
       "│   \u001b[37m   Assigned to: \u001b[0m\u001b[32mqueryGen\u001b[0m\n",
       "│   \u001b[37m   Status: \u001b[0m\u001b[1;32m✅ Completed\u001b[0m\n",
       "│   └── \u001b[1;32m🤖 Agent: \u001b[0m\u001b[32mqueryGen\u001b[0m\n",
       "│       \u001b[37m    Status: \u001b[0m\u001b[1;32m✅ Completed\u001b[0m\n",
       "└── \u001b[1;33m📋 Task: d056b313-31cd-4ef9-81d6-e5e5fc29d6ac\u001b[0m\n",
       "    \u001b[37m   Status: \u001b[0m\u001b[2;33mExecuting Task...\u001b[0m\n",
       "    └── \u001b[1;32m🤖 Agent: \u001b[0m\u001b[32mqueryValidator\u001b[0m\n",
       "        \u001b[37m    Status: \u001b[0m\u001b[1;32mIn Progress\u001b[0m\n",
       "        └── \u001b[1;34m🧠 \u001b[0m\u001b[34mThinking...\u001b[0m\n"
      ]
     },
     "metadata": {},
     "output_type": "display_data"
    },
    {
     "data": {
      "text/html": [
       "<pre style=\"white-space:pre;overflow-x:auto;line-height:normal;font-family:Menlo,'DejaVu Sans Mono',consolas,'Courier New',monospace\">\n",
       "</pre>\n"
      ],
      "text/plain": [
       "\n"
      ]
     },
     "metadata": {},
     "output_type": "display_data"
    },
    {
     "data": {
      "text/html": [
       "<pre style=\"white-space:pre;overflow-x:auto;line-height:normal;font-family:Menlo,'DejaVu Sans Mono',consolas,'Courier New',monospace\"><span style=\"color: #008080; text-decoration-color: #008080; font-weight: bold\">🚀 Crew: crew</span>\n",
       "├── <span style=\"color: #008000; text-decoration-color: #008000; font-weight: bold\">📋 Task: caf17771-5c84-4cff-a0c5-e14ae66db4c5</span>\n",
       "│   <span style=\"color: #c0c0c0; text-decoration-color: #c0c0c0\">   Assigned to: </span><span style=\"color: #008000; text-decoration-color: #008000\">queryGen</span>\n",
       "│   <span style=\"color: #c0c0c0; text-decoration-color: #c0c0c0\">   Status: </span><span style=\"color: #008000; text-decoration-color: #008000; font-weight: bold\">✅ Completed</span>\n",
       "│   └── <span style=\"color: #008000; text-decoration-color: #008000; font-weight: bold\">🤖 Agent: </span><span style=\"color: #008000; text-decoration-color: #008000\">queryGen</span>\n",
       "│       <span style=\"color: #c0c0c0; text-decoration-color: #c0c0c0\">    Status: </span><span style=\"color: #008000; text-decoration-color: #008000; font-weight: bold\">✅ Completed</span>\n",
       "└── <span style=\"color: #808000; text-decoration-color: #808000; font-weight: bold\">📋 Task: d056b313-31cd-4ef9-81d6-e5e5fc29d6ac</span>\n",
       "    <span style=\"color: #c0c0c0; text-decoration-color: #c0c0c0\">   Status: </span><span style=\"color: #bfbf7f; text-decoration-color: #bfbf7f\">Executing Task...</span>\n",
       "    └── <span style=\"color: #008000; text-decoration-color: #008000; font-weight: bold\">🤖 Agent: </span><span style=\"color: #008000; text-decoration-color: #008000\">queryValidator</span>\n",
       "        <span style=\"color: #c0c0c0; text-decoration-color: #c0c0c0\">    Status: </span><span style=\"color: #008000; text-decoration-color: #008000; font-weight: bold\">In Progress</span>\n",
       "</pre>\n"
      ],
      "text/plain": [
       "\u001b[1;36m🚀 Crew: \u001b[0m\u001b[1;36mcrew\u001b[0m\n",
       "├── \u001b[1;32m📋 Task: caf17771-5c84-4cff-a0c5-e14ae66db4c5\u001b[0m\n",
       "│   \u001b[37m   Assigned to: \u001b[0m\u001b[32mqueryGen\u001b[0m\n",
       "│   \u001b[37m   Status: \u001b[0m\u001b[1;32m✅ Completed\u001b[0m\n",
       "│   └── \u001b[1;32m🤖 Agent: \u001b[0m\u001b[32mqueryGen\u001b[0m\n",
       "│       \u001b[37m    Status: \u001b[0m\u001b[1;32m✅ Completed\u001b[0m\n",
       "└── \u001b[1;33m📋 Task: d056b313-31cd-4ef9-81d6-e5e5fc29d6ac\u001b[0m\n",
       "    \u001b[37m   Status: \u001b[0m\u001b[2;33mExecuting Task...\u001b[0m\n",
       "    └── \u001b[1;32m🤖 Agent: \u001b[0m\u001b[32mqueryValidator\u001b[0m\n",
       "        \u001b[37m    Status: \u001b[0m\u001b[1;32mIn Progress\u001b[0m\n"
      ]
     },
     "metadata": {},
     "output_type": "display_data"
    },
    {
     "data": {
      "text/html": [
       "<pre style=\"white-space:pre;overflow-x:auto;line-height:normal;font-family:Menlo,'DejaVu Sans Mono',consolas,'Courier New',monospace\">\n",
       "</pre>\n"
      ],
      "text/plain": [
       "\n"
      ]
     },
     "metadata": {},
     "output_type": "display_data"
    },
    {
     "data": {
      "text/html": [
       "<pre style=\"white-space:pre;overflow-x:auto;line-height:normal;font-family:Menlo,'DejaVu Sans Mono',consolas,'Courier New',monospace\"><span style=\"color: #008080; text-decoration-color: #008080; font-weight: bold\">🚀 Crew: crew</span>\n",
       "├── <span style=\"color: #008000; text-decoration-color: #008000; font-weight: bold\">📋 Task: caf17771-5c84-4cff-a0c5-e14ae66db4c5</span>\n",
       "│   <span style=\"color: #c0c0c0; text-decoration-color: #c0c0c0\">   Assigned to: </span><span style=\"color: #008000; text-decoration-color: #008000\">queryGen</span>\n",
       "│   <span style=\"color: #c0c0c0; text-decoration-color: #c0c0c0\">   Status: </span><span style=\"color: #008000; text-decoration-color: #008000; font-weight: bold\">✅ Completed</span>\n",
       "│   └── <span style=\"color: #008000; text-decoration-color: #008000; font-weight: bold\">🤖 Agent: </span><span style=\"color: #008000; text-decoration-color: #008000\">queryGen</span>\n",
       "│       <span style=\"color: #c0c0c0; text-decoration-color: #c0c0c0\">    Status: </span><span style=\"color: #008000; text-decoration-color: #008000; font-weight: bold\">✅ Completed</span>\n",
       "└── <span style=\"color: #808000; text-decoration-color: #808000; font-weight: bold\">📋 Task: d056b313-31cd-4ef9-81d6-e5e5fc29d6ac</span>\n",
       "    <span style=\"color: #c0c0c0; text-decoration-color: #c0c0c0\">   Status: </span><span style=\"color: #bfbf7f; text-decoration-color: #bfbf7f\">Executing Task...</span>\n",
       "    └── <span style=\"color: #008000; text-decoration-color: #008000; font-weight: bold\">🤖 Agent: </span><span style=\"color: #008000; text-decoration-color: #008000\">queryValidator</span>\n",
       "        <span style=\"color: #c0c0c0; text-decoration-color: #c0c0c0\">    Status: </span><span style=\"color: #008000; text-decoration-color: #008000; font-weight: bold\">In Progress</span>\n",
       "        └── <span style=\"color: #808000; text-decoration-color: #808000; font-weight: bold\">🔧 </span><span style=\"color: #808000; text-decoration-color: #808000\">Using fetchUniProt (1)</span>\n",
       "</pre>\n"
      ],
      "text/plain": [
       "\u001b[1;36m🚀 Crew: \u001b[0m\u001b[1;36mcrew\u001b[0m\n",
       "├── \u001b[1;32m📋 Task: caf17771-5c84-4cff-a0c5-e14ae66db4c5\u001b[0m\n",
       "│   \u001b[37m   Assigned to: \u001b[0m\u001b[32mqueryGen\u001b[0m\n",
       "│   \u001b[37m   Status: \u001b[0m\u001b[1;32m✅ Completed\u001b[0m\n",
       "│   └── \u001b[1;32m🤖 Agent: \u001b[0m\u001b[32mqueryGen\u001b[0m\n",
       "│       \u001b[37m    Status: \u001b[0m\u001b[1;32m✅ Completed\u001b[0m\n",
       "└── \u001b[1;33m📋 Task: d056b313-31cd-4ef9-81d6-e5e5fc29d6ac\u001b[0m\n",
       "    \u001b[37m   Status: \u001b[0m\u001b[2;33mExecuting Task...\u001b[0m\n",
       "    └── \u001b[1;32m🤖 Agent: \u001b[0m\u001b[32mqueryValidator\u001b[0m\n",
       "        \u001b[37m    Status: \u001b[0m\u001b[1;32mIn Progress\u001b[0m\n",
       "        └── \u001b[1;33m🔧 \u001b[0m\u001b[33mUsing fetchUniProt (1)\u001b[0m\n"
      ]
     },
     "metadata": {},
     "output_type": "display_data"
    },
    {
     "data": {
      "text/html": [
       "<pre style=\"white-space:pre;overflow-x:auto;line-height:normal;font-family:Menlo,'DejaVu Sans Mono',consolas,'Courier New',monospace\">\n",
       "</pre>\n"
      ],
      "text/plain": [
       "\n"
      ]
     },
     "metadata": {},
     "output_type": "display_data"
    },
    {
     "name": "stdout",
     "output_type": "stream",
     "text": [
      "https://rest.uniprot.org/uniprotkb/search?query=%28go%3A%22DNA+binding%22+%29+OR+%28keyword%3A%22DNA+binding%22%29&format=json&size=20\n",
      "Data saved to /home/bharath-sooryaa-m/Documents/BIO/proj/Protein-Designing-With-Agents/cache/session_20250408-220920_55100258/uniprot/P07199.json\n",
      "Data saved to /home/bharath-sooryaa-m/Documents/BIO/proj/Protein-Designing-With-Agents/cache/session_20250408-220920_55100258/uniprot/Q96BR9.json\n",
      "Data saved to /home/bharath-sooryaa-m/Documents/BIO/proj/Protein-Designing-With-Agents/cache/session_20250408-220920_55100258/uniprot/O14628.json\n",
      "Data saved to /home/bharath-sooryaa-m/Documents/BIO/proj/Protein-Designing-With-Agents/cache/session_20250408-220920_55100258/uniprot/P17022.json\n",
      "Data saved to /home/bharath-sooryaa-m/Documents/BIO/proj/Protein-Designing-With-Agents/cache/session_20250408-220920_55100258/uniprot/P17040.json\n",
      "Data saved to /home/bharath-sooryaa-m/Documents/BIO/proj/Protein-Designing-With-Agents/cache/session_20250408-220920_55100258/uniprot/Q3KNS6.json\n",
      "Data saved to /home/bharath-sooryaa-m/Documents/BIO/proj/Protein-Designing-With-Agents/cache/session_20250408-220920_55100258/uniprot/Q6P2D0.json\n",
      "Data saved to /home/bharath-sooryaa-m/Documents/BIO/proj/Protein-Designing-With-Agents/cache/session_20250408-220920_55100258/uniprot/Q7L2R6.json\n",
      "Data saved to /home/bharath-sooryaa-m/Documents/BIO/proj/Protein-Designing-With-Agents/cache/session_20250408-220920_55100258/uniprot/Q8N0Y2.json\n",
      "Data saved to /home/bharath-sooryaa-m/Documents/BIO/proj/Protein-Designing-With-Agents/cache/session_20250408-220920_55100258/uniprot/Q9H4T2.json\n",
      "Data saved to /home/bharath-sooryaa-m/Documents/BIO/proj/Protein-Designing-With-Agents/cache/session_20250408-220920_55100258/uniprot/Q9NX65.json\n",
      "Data saved to /home/bharath-sooryaa-m/Documents/BIO/proj/Protein-Designing-With-Agents/cache/session_20250408-220920_55100258/uniprot/Q9ULM2.json\n",
      "Data saved to /home/bharath-sooryaa-m/Documents/BIO/proj/Protein-Designing-With-Agents/cache/session_20250408-220920_55100258/uniprot/Q9Y222.json\n",
      "Data saved to /home/bharath-sooryaa-m/Documents/BIO/proj/Protein-Designing-With-Agents/cache/session_20250408-220920_55100258/uniprot/P17021.json\n",
      "Data saved to /home/bharath-sooryaa-m/Documents/BIO/proj/Protein-Designing-With-Agents/cache/session_20250408-220920_55100258/uniprot/P17027.json\n",
      "Data saved to /home/bharath-sooryaa-m/Documents/BIO/proj/Protein-Designing-With-Agents/cache/session_20250408-220920_55100258/uniprot/P49910.json\n",
      "Data saved to /home/bharath-sooryaa-m/Documents/BIO/proj/Protein-Designing-With-Agents/cache/session_20250408-220920_55100258/uniprot/Q3KQV3.json\n",
      "Data saved to /home/bharath-sooryaa-m/Documents/BIO/proj/Protein-Designing-With-Agents/cache/session_20250408-220920_55100258/uniprot/Q3MJ62.json\n",
      "Data saved to /home/bharath-sooryaa-m/Documents/BIO/proj/Protein-Designing-With-Agents/cache/session_20250408-220920_55100258/uniprot/Q6NX45.json\n",
      "Data saved to /home/bharath-sooryaa-m/Documents/BIO/proj/Protein-Designing-With-Agents/cache/session_20250408-220920_55100258/uniprot/Q6ZN57.json\n",
      "Starting to search PDB file from AlphaFoldDB...\n",
      "PDB file downloaded successfully.\n",
      "Starting to search PDB file from AlphaFoldDB...\n",
      "PDB file downloaded successfully.\n",
      "Starting to search PDB file from AlphaFoldDB...\n",
      "PDB file downloaded successfully.\n",
      "Starting to search PDB file from AlphaFoldDB...\n",
      "PDB file downloaded successfully.\n",
      "Starting to search PDB file from AlphaFoldDB...\n",
      "PDB file downloaded successfully.\n",
      "Starting to search PDB file from AlphaFoldDB...\n",
      "PDB file downloaded successfully.\n",
      "Starting to search PDB file from AlphaFoldDB...\n",
      "PDB file downloaded successfully.\n",
      "Starting to search PDB file from AlphaFoldDB...\n",
      "PDB file downloaded successfully.\n",
      "Starting to search PDB file from AlphaFoldDB...\n",
      "PDB file downloaded successfully.\n",
      "Starting to search PDB file from AlphaFoldDB...\n",
      "PDB file downloaded successfully.\n",
      "Starting to search PDB file from AlphaFoldDB...\n",
      "PDB file downloaded successfully.\n",
      "Starting to search PDB file from AlphaFoldDB...\n",
      "PDB file downloaded successfully.\n",
      "Starting to search PDB file from AlphaFoldDB...\n",
      "PDB file downloaded successfully.\n",
      "Starting to search PDB file from AlphaFoldDB...\n",
      "PDB file downloaded successfully.\n",
      "Starting to search PDB file from AlphaFoldDB...\n",
      "PDB file downloaded successfully.\n",
      "Starting to search PDB file from AlphaFoldDB...\n",
      "PDB file downloaded successfully.\n",
      "Starting to search PDB file from AlphaFoldDB...\n",
      "PDB file downloaded successfully.\n",
      "Starting to search PDB file from AlphaFoldDB...\n",
      "PDB file downloaded successfully.\n",
      "Starting to search PDB file from AlphaFoldDB...\n",
      "PDB file downloaded successfully.\n",
      "Starting to search PDB file from AlphaFoldDB...\n",
      "No AlphaFoldDB entry found for the given entry ID.\n"
     ]
    },
    {
     "data": {
      "text/html": [
       "<pre style=\"white-space:pre;overflow-x:auto;line-height:normal;font-family:Menlo,'DejaVu Sans Mono',consolas,'Courier New',monospace\"><span style=\"color: #008080; text-decoration-color: #008080; font-weight: bold\">🚀 Crew: crew</span>\n",
       "├── <span style=\"color: #008000; text-decoration-color: #008000; font-weight: bold\">📋 Task: caf17771-5c84-4cff-a0c5-e14ae66db4c5</span>\n",
       "│   <span style=\"color: #c0c0c0; text-decoration-color: #c0c0c0\">   Assigned to: </span><span style=\"color: #008000; text-decoration-color: #008000\">queryGen</span>\n",
       "│   <span style=\"color: #c0c0c0; text-decoration-color: #c0c0c0\">   Status: </span><span style=\"color: #008000; text-decoration-color: #008000; font-weight: bold\">✅ Completed</span>\n",
       "│   └── <span style=\"color: #008000; text-decoration-color: #008000; font-weight: bold\">🤖 Agent: </span><span style=\"color: #008000; text-decoration-color: #008000\">queryGen</span>\n",
       "│       <span style=\"color: #c0c0c0; text-decoration-color: #c0c0c0\">    Status: </span><span style=\"color: #008000; text-decoration-color: #008000; font-weight: bold\">✅ Completed</span>\n",
       "└── <span style=\"color: #808000; text-decoration-color: #808000; font-weight: bold\">📋 Task: d056b313-31cd-4ef9-81d6-e5e5fc29d6ac</span>\n",
       "    <span style=\"color: #c0c0c0; text-decoration-color: #c0c0c0\">   Status: </span><span style=\"color: #bfbf7f; text-decoration-color: #bfbf7f\">Executing Task...</span>\n",
       "    └── <span style=\"color: #008000; text-decoration-color: #008000; font-weight: bold\">🤖 Agent: </span><span style=\"color: #008000; text-decoration-color: #008000\">queryValidator</span>\n",
       "        <span style=\"color: #c0c0c0; text-decoration-color: #c0c0c0\">    Status: </span><span style=\"color: #008000; text-decoration-color: #008000; font-weight: bold\">In Progress</span>\n",
       "        └── <span style=\"color: #008000; text-decoration-color: #008000; font-weight: bold\">🔧 </span><span style=\"color: #008000; text-decoration-color: #008000\">Used fetchUniProt (1)</span>\n",
       "</pre>\n"
      ],
      "text/plain": [
       "\u001b[1;36m🚀 Crew: \u001b[0m\u001b[1;36mcrew\u001b[0m\n",
       "├── \u001b[1;32m📋 Task: caf17771-5c84-4cff-a0c5-e14ae66db4c5\u001b[0m\n",
       "│   \u001b[37m   Assigned to: \u001b[0m\u001b[32mqueryGen\u001b[0m\n",
       "│   \u001b[37m   Status: \u001b[0m\u001b[1;32m✅ Completed\u001b[0m\n",
       "│   └── \u001b[1;32m🤖 Agent: \u001b[0m\u001b[32mqueryGen\u001b[0m\n",
       "│       \u001b[37m    Status: \u001b[0m\u001b[1;32m✅ Completed\u001b[0m\n",
       "└── \u001b[1;33m📋 Task: d056b313-31cd-4ef9-81d6-e5e5fc29d6ac\u001b[0m\n",
       "    \u001b[37m   Status: \u001b[0m\u001b[2;33mExecuting Task...\u001b[0m\n",
       "    └── \u001b[1;32m🤖 Agent: \u001b[0m\u001b[32mqueryValidator\u001b[0m\n",
       "        \u001b[37m    Status: \u001b[0m\u001b[1;32mIn Progress\u001b[0m\n",
       "        └── \u001b[1;32m🔧 \u001b[0m\u001b[32mUsed fetchUniProt (1)\u001b[0m\n"
      ]
     },
     "metadata": {},
     "output_type": "display_data"
    },
    {
     "data": {
      "text/html": [
       "<pre style=\"white-space:pre;overflow-x:auto;line-height:normal;font-family:Menlo,'DejaVu Sans Mono',consolas,'Courier New',monospace\">\n",
       "</pre>\n"
      ],
      "text/plain": [
       "\n"
      ]
     },
     "metadata": {},
     "output_type": "display_data"
    },
    {
     "name": "stdout",
     "output_type": "stream",
     "text": [
      "\n",
      "\n",
      "\u001b[1m\u001b[95m# Agent:\u001b[00m \u001b[1m\u001b[92mqueryValidator\u001b[00m\n",
      "\u001b[95m## Thought:\u001b[00m \u001b[92mThe query aims to find proteins involved in DNA binding. To verify its accuracy and relevance, I need to execute the query using the `fetchUniProt` tool and analyze the results. If the results are satisfactory, meaning they primarily consist of proteins known to be involved in DNA binding, then the query is acceptable. Otherwise, I will suggest improvements.\u001b[00m\n",
      "\u001b[95m## Using tool:\u001b[00m \u001b[92mfetchUniProt\u001b[00m\n",
      "\u001b[95m## Tool Input:\u001b[00m \u001b[92m\n",
      "\"{\\\"query\\\": \\\"(go:\\\\\\\"DNA binding\\\\\\\" ) OR (keyword:\\\\\\\"DNA binding\\\\\\\")\\\"}\"\u001b[00m\n",
      "\u001b[95m## Tool Output:\u001b[00m \u001b[92m\n",
      "No AlphaFoldDB entry found for the given entry ID.,provide a query with take protein with structure\u001b[00m\n"
     ]
    },
    {
     "data": {
      "text/html": [
       "<pre style=\"white-space:pre;overflow-x:auto;line-height:normal;font-family:Menlo,'DejaVu Sans Mono',consolas,'Courier New',monospace\"><span style=\"color: #008080; text-decoration-color: #008080; font-weight: bold\">🚀 Crew: crew</span>\n",
       "├── <span style=\"color: #008000; text-decoration-color: #008000; font-weight: bold\">📋 Task: caf17771-5c84-4cff-a0c5-e14ae66db4c5</span>\n",
       "│   <span style=\"color: #c0c0c0; text-decoration-color: #c0c0c0\">   Assigned to: </span><span style=\"color: #008000; text-decoration-color: #008000\">queryGen</span>\n",
       "│   <span style=\"color: #c0c0c0; text-decoration-color: #c0c0c0\">   Status: </span><span style=\"color: #008000; text-decoration-color: #008000; font-weight: bold\">✅ Completed</span>\n",
       "│   └── <span style=\"color: #008000; text-decoration-color: #008000; font-weight: bold\">🤖 Agent: </span><span style=\"color: #008000; text-decoration-color: #008000\">queryGen</span>\n",
       "│       <span style=\"color: #c0c0c0; text-decoration-color: #c0c0c0\">    Status: </span><span style=\"color: #008000; text-decoration-color: #008000; font-weight: bold\">✅ Completed</span>\n",
       "└── <span style=\"color: #808000; text-decoration-color: #808000; font-weight: bold\">📋 Task: d056b313-31cd-4ef9-81d6-e5e5fc29d6ac</span>\n",
       "    <span style=\"color: #c0c0c0; text-decoration-color: #c0c0c0\">   Status: </span><span style=\"color: #bfbf7f; text-decoration-color: #bfbf7f\">Executing Task...</span>\n",
       "    └── <span style=\"color: #008000; text-decoration-color: #008000; font-weight: bold\">🤖 Agent: </span><span style=\"color: #008000; text-decoration-color: #008000\">queryValidator</span>\n",
       "        <span style=\"color: #c0c0c0; text-decoration-color: #c0c0c0\">    Status: </span><span style=\"color: #008000; text-decoration-color: #008000; font-weight: bold\">In Progress</span>\n",
       "        ├── <span style=\"color: #008000; text-decoration-color: #008000; font-weight: bold\">🔧 </span><span style=\"color: #008000; text-decoration-color: #008000\">Used fetchUniProt (1)</span>\n",
       "        └── <span style=\"color: #000080; text-decoration-color: #000080; font-weight: bold\">🧠 </span><span style=\"color: #000080; text-decoration-color: #000080\">Thinking...</span>\n",
       "</pre>\n"
      ],
      "text/plain": [
       "\u001b[1;36m🚀 Crew: \u001b[0m\u001b[1;36mcrew\u001b[0m\n",
       "├── \u001b[1;32m📋 Task: caf17771-5c84-4cff-a0c5-e14ae66db4c5\u001b[0m\n",
       "│   \u001b[37m   Assigned to: \u001b[0m\u001b[32mqueryGen\u001b[0m\n",
       "│   \u001b[37m   Status: \u001b[0m\u001b[1;32m✅ Completed\u001b[0m\n",
       "│   └── \u001b[1;32m🤖 Agent: \u001b[0m\u001b[32mqueryGen\u001b[0m\n",
       "│       \u001b[37m    Status: \u001b[0m\u001b[1;32m✅ Completed\u001b[0m\n",
       "└── \u001b[1;33m📋 Task: d056b313-31cd-4ef9-81d6-e5e5fc29d6ac\u001b[0m\n",
       "    \u001b[37m   Status: \u001b[0m\u001b[2;33mExecuting Task...\u001b[0m\n",
       "    └── \u001b[1;32m🤖 Agent: \u001b[0m\u001b[32mqueryValidator\u001b[0m\n",
       "        \u001b[37m    Status: \u001b[0m\u001b[1;32mIn Progress\u001b[0m\n",
       "        ├── \u001b[1;32m🔧 \u001b[0m\u001b[32mUsed fetchUniProt (1)\u001b[0m\n",
       "        └── \u001b[1;34m🧠 \u001b[0m\u001b[34mThinking...\u001b[0m\n"
      ]
     },
     "metadata": {},
     "output_type": "display_data"
    },
    {
     "data": {
      "text/html": [
       "<pre style=\"white-space:pre;overflow-x:auto;line-height:normal;font-family:Menlo,'DejaVu Sans Mono',consolas,'Courier New',monospace\">\n",
       "</pre>\n"
      ],
      "text/plain": [
       "\n"
      ]
     },
     "metadata": {},
     "output_type": "display_data"
    },
    {
     "data": {
      "text/html": [
       "<pre style=\"white-space:pre;overflow-x:auto;line-height:normal;font-family:Menlo,'DejaVu Sans Mono',consolas,'Courier New',monospace\"><span style=\"color: #008080; text-decoration-color: #008080; font-weight: bold\">🚀 Crew: crew</span>\n",
       "├── <span style=\"color: #008000; text-decoration-color: #008000; font-weight: bold\">📋 Task: caf17771-5c84-4cff-a0c5-e14ae66db4c5</span>\n",
       "│   <span style=\"color: #c0c0c0; text-decoration-color: #c0c0c0\">   Assigned to: </span><span style=\"color: #008000; text-decoration-color: #008000\">queryGen</span>\n",
       "│   <span style=\"color: #c0c0c0; text-decoration-color: #c0c0c0\">   Status: </span><span style=\"color: #008000; text-decoration-color: #008000; font-weight: bold\">✅ Completed</span>\n",
       "│   └── <span style=\"color: #008000; text-decoration-color: #008000; font-weight: bold\">🤖 Agent: </span><span style=\"color: #008000; text-decoration-color: #008000\">queryGen</span>\n",
       "│       <span style=\"color: #c0c0c0; text-decoration-color: #c0c0c0\">    Status: </span><span style=\"color: #008000; text-decoration-color: #008000; font-weight: bold\">✅ Completed</span>\n",
       "└── <span style=\"color: #808000; text-decoration-color: #808000; font-weight: bold\">📋 Task: d056b313-31cd-4ef9-81d6-e5e5fc29d6ac</span>\n",
       "    <span style=\"color: #c0c0c0; text-decoration-color: #c0c0c0\">   Status: </span><span style=\"color: #bfbf7f; text-decoration-color: #bfbf7f\">Executing Task...</span>\n",
       "    └── <span style=\"color: #008000; text-decoration-color: #008000; font-weight: bold\">🤖 Agent: </span><span style=\"color: #008000; text-decoration-color: #008000\">queryValidator</span>\n",
       "        <span style=\"color: #c0c0c0; text-decoration-color: #c0c0c0\">    Status: </span><span style=\"color: #008000; text-decoration-color: #008000; font-weight: bold\">In Progress</span>\n",
       "        └── <span style=\"color: #008000; text-decoration-color: #008000; font-weight: bold\">🔧 </span><span style=\"color: #008000; text-decoration-color: #008000\">Used fetchUniProt (1)</span>\n",
       "</pre>\n"
      ],
      "text/plain": [
       "\u001b[1;36m🚀 Crew: \u001b[0m\u001b[1;36mcrew\u001b[0m\n",
       "├── \u001b[1;32m📋 Task: caf17771-5c84-4cff-a0c5-e14ae66db4c5\u001b[0m\n",
       "│   \u001b[37m   Assigned to: \u001b[0m\u001b[32mqueryGen\u001b[0m\n",
       "│   \u001b[37m   Status: \u001b[0m\u001b[1;32m✅ Completed\u001b[0m\n",
       "│   └── \u001b[1;32m🤖 Agent: \u001b[0m\u001b[32mqueryGen\u001b[0m\n",
       "│       \u001b[37m    Status: \u001b[0m\u001b[1;32m✅ Completed\u001b[0m\n",
       "└── \u001b[1;33m📋 Task: d056b313-31cd-4ef9-81d6-e5e5fc29d6ac\u001b[0m\n",
       "    \u001b[37m   Status: \u001b[0m\u001b[2;33mExecuting Task...\u001b[0m\n",
       "    └── \u001b[1;32m🤖 Agent: \u001b[0m\u001b[32mqueryValidator\u001b[0m\n",
       "        \u001b[37m    Status: \u001b[0m\u001b[1;32mIn Progress\u001b[0m\n",
       "        └── \u001b[1;32m🔧 \u001b[0m\u001b[32mUsed fetchUniProt (1)\u001b[0m\n"
      ]
     },
     "metadata": {},
     "output_type": "display_data"
    },
    {
     "data": {
      "text/html": [
       "<pre style=\"white-space:pre;overflow-x:auto;line-height:normal;font-family:Menlo,'DejaVu Sans Mono',consolas,'Courier New',monospace\">\n",
       "</pre>\n"
      ],
      "text/plain": [
       "\n"
      ]
     },
     "metadata": {},
     "output_type": "display_data"
    },
    {
     "name": "stdout",
     "output_type": "stream",
     "text": [
      "\n",
      "\n",
      "\u001b[1m\u001b[95m# Agent:\u001b[00m \u001b[1m\u001b[92mqueryValidator\u001b[00m\n",
      "\u001b[95m## Final Answer:\u001b[00m \u001b[92m\n",
      "The query `(go:\"DNA binding\" ) OR (keyword:\"DNA binding\")` is suboptimal. It is too broad and does not guarantee retrieval of proteins with known structures.\n",
      "\n",
      "Suggestion: Refine the query by adding specific criteria, such as:\n",
      "\n",
      "1.  Specifying the organism (e.g., `(go:\"DNA binding\") AND (organism:\"Homo sapiens\")`).\n",
      "2.  Focusing on proteins with experimental evidence (e.g., `(go:\"DNA binding\") AND (evidence:experimental)`).\n",
      "3.  Including specific protein names or families known for DNA binding (e.g., `(go:\"DNA binding\") AND (protein:\"transcription factor\")`).\n",
      "\n",
      "A more specific query would be: `((go:\"DNA binding\") AND (organism:\"Homo sapiens\") AND (evidence:experimental))`\u001b[00m\n",
      "\n",
      "\n"
     ]
    },
    {
     "data": {
      "text/html": [
       "<pre style=\"white-space:pre;overflow-x:auto;line-height:normal;font-family:Menlo,'DejaVu Sans Mono',consolas,'Courier New',monospace\"><span style=\"color: #008080; text-decoration-color: #008080; font-weight: bold\">🚀 Crew: crew</span>\n",
       "├── <span style=\"color: #008000; text-decoration-color: #008000; font-weight: bold\">📋 Task: caf17771-5c84-4cff-a0c5-e14ae66db4c5</span>\n",
       "│   <span style=\"color: #c0c0c0; text-decoration-color: #c0c0c0\">   Assigned to: </span><span style=\"color: #008000; text-decoration-color: #008000\">queryGen</span>\n",
       "│   <span style=\"color: #c0c0c0; text-decoration-color: #c0c0c0\">   Status: </span><span style=\"color: #008000; text-decoration-color: #008000; font-weight: bold\">✅ Completed</span>\n",
       "│   └── <span style=\"color: #008000; text-decoration-color: #008000; font-weight: bold\">🤖 Agent: </span><span style=\"color: #008000; text-decoration-color: #008000\">queryGen</span>\n",
       "│       <span style=\"color: #c0c0c0; text-decoration-color: #c0c0c0\">    Status: </span><span style=\"color: #008000; text-decoration-color: #008000; font-weight: bold\">✅ Completed</span>\n",
       "└── <span style=\"color: #808000; text-decoration-color: #808000; font-weight: bold\">📋 Task: d056b313-31cd-4ef9-81d6-e5e5fc29d6ac</span>\n",
       "    <span style=\"color: #c0c0c0; text-decoration-color: #c0c0c0\">   Status: </span><span style=\"color: #bfbf7f; text-decoration-color: #bfbf7f\">Executing Task...</span>\n",
       "    └── <span style=\"color: #008000; text-decoration-color: #008000; font-weight: bold\">🤖 Agent: </span><span style=\"color: #008000; text-decoration-color: #008000\">queryValidator</span>\n",
       "        <span style=\"color: #c0c0c0; text-decoration-color: #c0c0c0\">    Status: </span><span style=\"color: #008000; text-decoration-color: #008000; font-weight: bold\">✅ Completed</span>\n",
       "        └── <span style=\"color: #008000; text-decoration-color: #008000; font-weight: bold\">🔧 </span><span style=\"color: #008000; text-decoration-color: #008000\">Used fetchUniProt (1)</span>\n",
       "</pre>\n"
      ],
      "text/plain": [
       "\u001b[1;36m🚀 Crew: \u001b[0m\u001b[1;36mcrew\u001b[0m\n",
       "├── \u001b[1;32m📋 Task: caf17771-5c84-4cff-a0c5-e14ae66db4c5\u001b[0m\n",
       "│   \u001b[37m   Assigned to: \u001b[0m\u001b[32mqueryGen\u001b[0m\n",
       "│   \u001b[37m   Status: \u001b[0m\u001b[1;32m✅ Completed\u001b[0m\n",
       "│   └── \u001b[1;32m🤖 Agent: \u001b[0m\u001b[32mqueryGen\u001b[0m\n",
       "│       \u001b[37m    Status: \u001b[0m\u001b[1;32m✅ Completed\u001b[0m\n",
       "└── \u001b[1;33m📋 Task: d056b313-31cd-4ef9-81d6-e5e5fc29d6ac\u001b[0m\n",
       "    \u001b[37m   Status: \u001b[0m\u001b[2;33mExecuting Task...\u001b[0m\n",
       "    └── \u001b[1;32m🤖 Agent: \u001b[0m\u001b[32mqueryValidator\u001b[0m\n",
       "        \u001b[37m    Status: \u001b[0m\u001b[1;32m✅ Completed\u001b[0m\n",
       "        └── \u001b[1;32m🔧 \u001b[0m\u001b[32mUsed fetchUniProt (1)\u001b[0m\n"
      ]
     },
     "metadata": {},
     "output_type": "display_data"
    },
    {
     "data": {
      "text/html": [
       "<pre style=\"white-space:pre;overflow-x:auto;line-height:normal;font-family:Menlo,'DejaVu Sans Mono',consolas,'Courier New',monospace\">\n",
       "</pre>\n"
      ],
      "text/plain": [
       "\n"
      ]
     },
     "metadata": {},
     "output_type": "display_data"
    },
    {
     "data": {
      "text/html": [
       "<pre style=\"white-space:pre;overflow-x:auto;line-height:normal;font-family:Menlo,'DejaVu Sans Mono',consolas,'Courier New',monospace\"><span style=\"color: #008080; text-decoration-color: #008080; font-weight: bold\">🚀 Crew: crew</span>\n",
       "├── <span style=\"color: #008000; text-decoration-color: #008000; font-weight: bold\">📋 Task: caf17771-5c84-4cff-a0c5-e14ae66db4c5</span>\n",
       "│   <span style=\"color: #c0c0c0; text-decoration-color: #c0c0c0\">   Assigned to: </span><span style=\"color: #008000; text-decoration-color: #008000\">queryGen</span>\n",
       "│   <span style=\"color: #c0c0c0; text-decoration-color: #c0c0c0\">   Status: </span><span style=\"color: #008000; text-decoration-color: #008000; font-weight: bold\">✅ Completed</span>\n",
       "│   └── <span style=\"color: #008000; text-decoration-color: #008000; font-weight: bold\">🤖 Agent: </span><span style=\"color: #008000; text-decoration-color: #008000\">queryGen</span>\n",
       "│       <span style=\"color: #c0c0c0; text-decoration-color: #c0c0c0\">    Status: </span><span style=\"color: #008000; text-decoration-color: #008000; font-weight: bold\">✅ Completed</span>\n",
       "└── <span style=\"color: #008000; text-decoration-color: #008000; font-weight: bold\">📋 Task: d056b313-31cd-4ef9-81d6-e5e5fc29d6ac</span>\n",
       "    <span style=\"color: #c0c0c0; text-decoration-color: #c0c0c0\">   Assigned to: </span><span style=\"color: #008000; text-decoration-color: #008000\">queryValidator</span>\n",
       "    <span style=\"color: #c0c0c0; text-decoration-color: #c0c0c0\">   Status: </span><span style=\"color: #008000; text-decoration-color: #008000; font-weight: bold\">✅ Completed</span>\n",
       "    └── <span style=\"color: #008000; text-decoration-color: #008000; font-weight: bold\">🤖 Agent: </span><span style=\"color: #008000; text-decoration-color: #008000\">queryValidator</span>\n",
       "        <span style=\"color: #c0c0c0; text-decoration-color: #c0c0c0\">    Status: </span><span style=\"color: #008000; text-decoration-color: #008000; font-weight: bold\">✅ Completed</span>\n",
       "        └── <span style=\"color: #008000; text-decoration-color: #008000; font-weight: bold\">🔧 </span><span style=\"color: #008000; text-decoration-color: #008000\">Used fetchUniProt (1)</span>\n",
       "</pre>\n"
      ],
      "text/plain": [
       "\u001b[1;36m🚀 Crew: \u001b[0m\u001b[1;36mcrew\u001b[0m\n",
       "├── \u001b[1;32m📋 Task: caf17771-5c84-4cff-a0c5-e14ae66db4c5\u001b[0m\n",
       "│   \u001b[37m   Assigned to: \u001b[0m\u001b[32mqueryGen\u001b[0m\n",
       "│   \u001b[37m   Status: \u001b[0m\u001b[1;32m✅ Completed\u001b[0m\n",
       "│   └── \u001b[1;32m🤖 Agent: \u001b[0m\u001b[32mqueryGen\u001b[0m\n",
       "│       \u001b[37m    Status: \u001b[0m\u001b[1;32m✅ Completed\u001b[0m\n",
       "└── \u001b[1;32m📋 Task: d056b313-31cd-4ef9-81d6-e5e5fc29d6ac\u001b[0m\n",
       "    \u001b[37m   Assigned to: \u001b[0m\u001b[32mqueryValidator\u001b[0m\n",
       "    \u001b[37m   Status: \u001b[0m\u001b[1;32m✅ Completed\u001b[0m\n",
       "    └── \u001b[1;32m🤖 Agent: \u001b[0m\u001b[32mqueryValidator\u001b[0m\n",
       "        \u001b[37m    Status: \u001b[0m\u001b[1;32m✅ Completed\u001b[0m\n",
       "        └── \u001b[1;32m🔧 \u001b[0m\u001b[32mUsed fetchUniProt (1)\u001b[0m\n"
      ]
     },
     "metadata": {},
     "output_type": "display_data"
    },
    {
     "data": {
      "text/html": [
       "<pre style=\"white-space:pre;overflow-x:auto;line-height:normal;font-family:Menlo,'DejaVu Sans Mono',consolas,'Courier New',monospace\"><span style=\"color: #008000; text-decoration-color: #008000\">╭──────────────────────────────────────────────── Task Completion ────────────────────────────────────────────────╮</span>\n",
       "<span style=\"color: #008000; text-decoration-color: #008000\">│</span>                                                                                                                 <span style=\"color: #008000; text-decoration-color: #008000\">│</span>\n",
       "<span style=\"color: #008000; text-decoration-color: #008000\">│</span>  <span style=\"color: #008000; text-decoration-color: #008000; font-weight: bold\">Task Completed</span>                                                                                                 <span style=\"color: #008000; text-decoration-color: #008000\">│</span>\n",
       "<span style=\"color: #008000; text-decoration-color: #008000\">│</span>  <span style=\"color: #c0c0c0; text-decoration-color: #c0c0c0\">Name: </span><span style=\"color: #008000; text-decoration-color: #008000\">d056b313-31cd-4ef9-81d6-e5e5fc29d6ac</span>                                                                     <span style=\"color: #008000; text-decoration-color: #008000\">│</span>\n",
       "<span style=\"color: #008000; text-decoration-color: #008000\">│</span>  <span style=\"color: #c0c0c0; text-decoration-color: #c0c0c0\">Agent: </span><span style=\"color: #008000; text-decoration-color: #008000\">queryValidator</span>                                                                                          <span style=\"color: #008000; text-decoration-color: #008000\">│</span>\n",
       "<span style=\"color: #008000; text-decoration-color: #008000\">│</span>                                                                                                                 <span style=\"color: #008000; text-decoration-color: #008000\">│</span>\n",
       "<span style=\"color: #008000; text-decoration-color: #008000\">│</span>                                                                                                                 <span style=\"color: #008000; text-decoration-color: #008000\">│</span>\n",
       "<span style=\"color: #008000; text-decoration-color: #008000\">╰─────────────────────────────────────────────────────────────────────────────────────────────────────────────────╯</span>\n",
       "</pre>\n"
      ],
      "text/plain": [
       "\u001b[32m╭─\u001b[0m\u001b[32m───────────────────────────────────────────────\u001b[0m\u001b[32m Task Completion \u001b[0m\u001b[32m───────────────────────────────────────────────\u001b[0m\u001b[32m─╮\u001b[0m\n",
       "\u001b[32m│\u001b[0m                                                                                                                 \u001b[32m│\u001b[0m\n",
       "\u001b[32m│\u001b[0m  \u001b[1;32mTask Completed\u001b[0m                                                                                                 \u001b[32m│\u001b[0m\n",
       "\u001b[32m│\u001b[0m  \u001b[37mName: \u001b[0m\u001b[32md056b313-31cd-4ef9-81d6-e5e5fc29d6ac\u001b[0m                                                                     \u001b[32m│\u001b[0m\n",
       "\u001b[32m│\u001b[0m  \u001b[37mAgent: \u001b[0m\u001b[32mqueryValidator\u001b[0m                                                                                          \u001b[32m│\u001b[0m\n",
       "\u001b[32m│\u001b[0m                                                                                                                 \u001b[32m│\u001b[0m\n",
       "\u001b[32m│\u001b[0m                                                                                                                 \u001b[32m│\u001b[0m\n",
       "\u001b[32m╰─────────────────────────────────────────────────────────────────────────────────────────────────────────────────╯\u001b[0m\n"
      ]
     },
     "metadata": {},
     "output_type": "display_data"
    },
    {
     "data": {
      "text/html": [
       "<pre style=\"white-space:pre;overflow-x:auto;line-height:normal;font-family:Menlo,'DejaVu Sans Mono',consolas,'Courier New',monospace\">\n",
       "</pre>\n"
      ],
      "text/plain": [
       "\n"
      ]
     },
     "metadata": {},
     "output_type": "display_data"
    },
    {
     "data": {
      "text/html": [
       "<pre style=\"white-space:pre;overflow-x:auto;line-height:normal;font-family:Menlo,'DejaVu Sans Mono',consolas,'Courier New',monospace\"><span style=\"color: #008080; text-decoration-color: #008080; font-weight: bold\">🚀 Crew: crew</span>\n",
       "├── <span style=\"color: #008000; text-decoration-color: #008000; font-weight: bold\">📋 Task: caf17771-5c84-4cff-a0c5-e14ae66db4c5</span>\n",
       "│   <span style=\"color: #c0c0c0; text-decoration-color: #c0c0c0\">   Assigned to: </span><span style=\"color: #008000; text-decoration-color: #008000\">queryGen</span>\n",
       "│   <span style=\"color: #c0c0c0; text-decoration-color: #c0c0c0\">   Status: </span><span style=\"color: #008000; text-decoration-color: #008000; font-weight: bold\">✅ Completed</span>\n",
       "│   └── <span style=\"color: #008000; text-decoration-color: #008000; font-weight: bold\">🤖 Agent: </span><span style=\"color: #008000; text-decoration-color: #008000\">queryGen</span>\n",
       "│       <span style=\"color: #c0c0c0; text-decoration-color: #c0c0c0\">    Status: </span><span style=\"color: #008000; text-decoration-color: #008000; font-weight: bold\">✅ Completed</span>\n",
       "├── <span style=\"color: #008000; text-decoration-color: #008000; font-weight: bold\">📋 Task: d056b313-31cd-4ef9-81d6-e5e5fc29d6ac</span>\n",
       "│   <span style=\"color: #c0c0c0; text-decoration-color: #c0c0c0\">   Assigned to: </span><span style=\"color: #008000; text-decoration-color: #008000\">queryValidator</span>\n",
       "│   <span style=\"color: #c0c0c0; text-decoration-color: #c0c0c0\">   Status: </span><span style=\"color: #008000; text-decoration-color: #008000; font-weight: bold\">✅ Completed</span>\n",
       "│   └── <span style=\"color: #008000; text-decoration-color: #008000; font-weight: bold\">🤖 Agent: </span><span style=\"color: #008000; text-decoration-color: #008000\">queryValidator</span>\n",
       "│       <span style=\"color: #c0c0c0; text-decoration-color: #c0c0c0\">    Status: </span><span style=\"color: #008000; text-decoration-color: #008000; font-weight: bold\">✅ Completed</span>\n",
       "│       └── <span style=\"color: #008000; text-decoration-color: #008000; font-weight: bold\">🔧 </span><span style=\"color: #008000; text-decoration-color: #008000\">Used fetchUniProt (1)</span>\n",
       "└── <span style=\"color: #808000; text-decoration-color: #808000; font-weight: bold\">📋 Task: 0efdf50d-e90f-4f85-bf31-1595702bb389</span>\n",
       "    <span style=\"color: #c0c0c0; text-decoration-color: #c0c0c0\">   Status: </span><span style=\"color: #bfbf7f; text-decoration-color: #bfbf7f\">Executing Task...</span>\n",
       "</pre>\n"
      ],
      "text/plain": [
       "\u001b[1;36m🚀 Crew: \u001b[0m\u001b[1;36mcrew\u001b[0m\n",
       "├── \u001b[1;32m📋 Task: caf17771-5c84-4cff-a0c5-e14ae66db4c5\u001b[0m\n",
       "│   \u001b[37m   Assigned to: \u001b[0m\u001b[32mqueryGen\u001b[0m\n",
       "│   \u001b[37m   Status: \u001b[0m\u001b[1;32m✅ Completed\u001b[0m\n",
       "│   └── \u001b[1;32m🤖 Agent: \u001b[0m\u001b[32mqueryGen\u001b[0m\n",
       "│       \u001b[37m    Status: \u001b[0m\u001b[1;32m✅ Completed\u001b[0m\n",
       "├── \u001b[1;32m📋 Task: d056b313-31cd-4ef9-81d6-e5e5fc29d6ac\u001b[0m\n",
       "│   \u001b[37m   Assigned to: \u001b[0m\u001b[32mqueryValidator\u001b[0m\n",
       "│   \u001b[37m   Status: \u001b[0m\u001b[1;32m✅ Completed\u001b[0m\n",
       "│   └── \u001b[1;32m🤖 Agent: \u001b[0m\u001b[32mqueryValidator\u001b[0m\n",
       "│       \u001b[37m    Status: \u001b[0m\u001b[1;32m✅ Completed\u001b[0m\n",
       "│       └── \u001b[1;32m🔧 \u001b[0m\u001b[32mUsed fetchUniProt (1)\u001b[0m\n",
       "└── \u001b[1;33m📋 Task: 0efdf50d-e90f-4f85-bf31-1595702bb389\u001b[0m\n",
       "    \u001b[37m   Status: \u001b[0m\u001b[2;33mExecuting Task...\u001b[0m\n"
      ]
     },
     "metadata": {},
     "output_type": "display_data"
    },
    {
     "data": {
      "text/html": [
       "<pre style=\"white-space:pre;overflow-x:auto;line-height:normal;font-family:Menlo,'DejaVu Sans Mono',consolas,'Courier New',monospace\">\n",
       "</pre>\n"
      ],
      "text/plain": [
       "\n"
      ]
     },
     "metadata": {},
     "output_type": "display_data"
    },
    {
     "data": {
      "text/html": [
       "<pre style=\"white-space:pre;overflow-x:auto;line-height:normal;font-family:Menlo,'DejaVu Sans Mono',consolas,'Courier New',monospace\"><span style=\"color: #008080; text-decoration-color: #008080; font-weight: bold\">🚀 Crew: crew</span>\n",
       "├── <span style=\"color: #008000; text-decoration-color: #008000; font-weight: bold\">📋 Task: caf17771-5c84-4cff-a0c5-e14ae66db4c5</span>\n",
       "│   <span style=\"color: #c0c0c0; text-decoration-color: #c0c0c0\">   Assigned to: </span><span style=\"color: #008000; text-decoration-color: #008000\">queryGen</span>\n",
       "│   <span style=\"color: #c0c0c0; text-decoration-color: #c0c0c0\">   Status: </span><span style=\"color: #008000; text-decoration-color: #008000; font-weight: bold\">✅ Completed</span>\n",
       "│   └── <span style=\"color: #008000; text-decoration-color: #008000; font-weight: bold\">🤖 Agent: </span><span style=\"color: #008000; text-decoration-color: #008000\">queryGen</span>\n",
       "│       <span style=\"color: #c0c0c0; text-decoration-color: #c0c0c0\">    Status: </span><span style=\"color: #008000; text-decoration-color: #008000; font-weight: bold\">✅ Completed</span>\n",
       "├── <span style=\"color: #008000; text-decoration-color: #008000; font-weight: bold\">📋 Task: d056b313-31cd-4ef9-81d6-e5e5fc29d6ac</span>\n",
       "│   <span style=\"color: #c0c0c0; text-decoration-color: #c0c0c0\">   Assigned to: </span><span style=\"color: #008000; text-decoration-color: #008000\">queryValidator</span>\n",
       "│   <span style=\"color: #c0c0c0; text-decoration-color: #c0c0c0\">   Status: </span><span style=\"color: #008000; text-decoration-color: #008000; font-weight: bold\">✅ Completed</span>\n",
       "│   └── <span style=\"color: #008000; text-decoration-color: #008000; font-weight: bold\">🤖 Agent: </span><span style=\"color: #008000; text-decoration-color: #008000\">queryValidator</span>\n",
       "│       <span style=\"color: #c0c0c0; text-decoration-color: #c0c0c0\">    Status: </span><span style=\"color: #008000; text-decoration-color: #008000; font-weight: bold\">✅ Completed</span>\n",
       "│       └── <span style=\"color: #008000; text-decoration-color: #008000; font-weight: bold\">🔧 </span><span style=\"color: #008000; text-decoration-color: #008000\">Used fetchUniProt (1)</span>\n",
       "└── <span style=\"color: #808000; text-decoration-color: #808000; font-weight: bold\">📋 Task: 0efdf50d-e90f-4f85-bf31-1595702bb389</span>\n",
       "    <span style=\"color: #c0c0c0; text-decoration-color: #c0c0c0\">   Status: </span><span style=\"color: #bfbf7f; text-decoration-color: #bfbf7f\">Executing Task...</span>\n",
       "    └── <span style=\"color: #008000; text-decoration-color: #008000; font-weight: bold\">🤖 Agent: </span><span style=\"color: #008000; text-decoration-color: #008000\">Protein Selection Expert</span>\n",
       "        <span style=\"color: #c0c0c0; text-decoration-color: #c0c0c0\">    Status: </span><span style=\"color: #008000; text-decoration-color: #008000; font-weight: bold\">In Progress</span>\n",
       "</pre>\n"
      ],
      "text/plain": [
       "\u001b[1;36m🚀 Crew: \u001b[0m\u001b[1;36mcrew\u001b[0m\n",
       "├── \u001b[1;32m📋 Task: caf17771-5c84-4cff-a0c5-e14ae66db4c5\u001b[0m\n",
       "│   \u001b[37m   Assigned to: \u001b[0m\u001b[32mqueryGen\u001b[0m\n",
       "│   \u001b[37m   Status: \u001b[0m\u001b[1;32m✅ Completed\u001b[0m\n",
       "│   └── \u001b[1;32m🤖 Agent: \u001b[0m\u001b[32mqueryGen\u001b[0m\n",
       "│       \u001b[37m    Status: \u001b[0m\u001b[1;32m✅ Completed\u001b[0m\n",
       "├── \u001b[1;32m📋 Task: d056b313-31cd-4ef9-81d6-e5e5fc29d6ac\u001b[0m\n",
       "│   \u001b[37m   Assigned to: \u001b[0m\u001b[32mqueryValidator\u001b[0m\n",
       "│   \u001b[37m   Status: \u001b[0m\u001b[1;32m✅ Completed\u001b[0m\n",
       "│   └── \u001b[1;32m🤖 Agent: \u001b[0m\u001b[32mqueryValidator\u001b[0m\n",
       "│       \u001b[37m    Status: \u001b[0m\u001b[1;32m✅ Completed\u001b[0m\n",
       "│       └── \u001b[1;32m🔧 \u001b[0m\u001b[32mUsed fetchUniProt (1)\u001b[0m\n",
       "└── \u001b[1;33m📋 Task: 0efdf50d-e90f-4f85-bf31-1595702bb389\u001b[0m\n",
       "    \u001b[37m   Status: \u001b[0m\u001b[2;33mExecuting Task...\u001b[0m\n",
       "    └── \u001b[1;32m🤖 Agent: \u001b[0m\u001b[32mProtein Selection Expert\u001b[0m\n",
       "        \u001b[37m    Status: \u001b[0m\u001b[1;32mIn Progress\u001b[0m\n"
      ]
     },
     "metadata": {},
     "output_type": "display_data"
    },
    {
     "data": {
      "text/html": [
       "<pre style=\"white-space:pre;overflow-x:auto;line-height:normal;font-family:Menlo,'DejaVu Sans Mono',consolas,'Courier New',monospace\">\n",
       "</pre>\n"
      ],
      "text/plain": [
       "\n"
      ]
     },
     "metadata": {},
     "output_type": "display_data"
    },
    {
     "name": "stdout",
     "output_type": "stream",
     "text": [
      "\u001b[1m\u001b[95m# Agent:\u001b[00m \u001b[1m\u001b[92mProtein Selection Expert\u001b[00m\n",
      "\u001b[95m## Task:\u001b[00m \u001b[92mChoose the best protein from the provided list that performs the target function:I want a protein that can help in the DNA binding.. try to choose only limited proteins\u001b[00m\n"
     ]
    },
    {
     "data": {
      "text/html": [
       "<pre style=\"white-space:pre;overflow-x:auto;line-height:normal;font-family:Menlo,'DejaVu Sans Mono',consolas,'Courier New',monospace\"><span style=\"color: #008080; text-decoration-color: #008080; font-weight: bold\">🚀 Crew: crew</span>\n",
       "├── <span style=\"color: #008000; text-decoration-color: #008000; font-weight: bold\">📋 Task: caf17771-5c84-4cff-a0c5-e14ae66db4c5</span>\n",
       "│   <span style=\"color: #c0c0c0; text-decoration-color: #c0c0c0\">   Assigned to: </span><span style=\"color: #008000; text-decoration-color: #008000\">queryGen</span>\n",
       "│   <span style=\"color: #c0c0c0; text-decoration-color: #c0c0c0\">   Status: </span><span style=\"color: #008000; text-decoration-color: #008000; font-weight: bold\">✅ Completed</span>\n",
       "│   └── <span style=\"color: #008000; text-decoration-color: #008000; font-weight: bold\">🤖 Agent: </span><span style=\"color: #008000; text-decoration-color: #008000\">queryGen</span>\n",
       "│       <span style=\"color: #c0c0c0; text-decoration-color: #c0c0c0\">    Status: </span><span style=\"color: #008000; text-decoration-color: #008000; font-weight: bold\">✅ Completed</span>\n",
       "├── <span style=\"color: #008000; text-decoration-color: #008000; font-weight: bold\">📋 Task: d056b313-31cd-4ef9-81d6-e5e5fc29d6ac</span>\n",
       "│   <span style=\"color: #c0c0c0; text-decoration-color: #c0c0c0\">   Assigned to: </span><span style=\"color: #008000; text-decoration-color: #008000\">queryValidator</span>\n",
       "│   <span style=\"color: #c0c0c0; text-decoration-color: #c0c0c0\">   Status: </span><span style=\"color: #008000; text-decoration-color: #008000; font-weight: bold\">✅ Completed</span>\n",
       "│   └── <span style=\"color: #008000; text-decoration-color: #008000; font-weight: bold\">🤖 Agent: </span><span style=\"color: #008000; text-decoration-color: #008000\">queryValidator</span>\n",
       "│       <span style=\"color: #c0c0c0; text-decoration-color: #c0c0c0\">    Status: </span><span style=\"color: #008000; text-decoration-color: #008000; font-weight: bold\">✅ Completed</span>\n",
       "│       └── <span style=\"color: #008000; text-decoration-color: #008000; font-weight: bold\">🔧 </span><span style=\"color: #008000; text-decoration-color: #008000\">Used fetchUniProt (1)</span>\n",
       "└── <span style=\"color: #808000; text-decoration-color: #808000; font-weight: bold\">📋 Task: 0efdf50d-e90f-4f85-bf31-1595702bb389</span>\n",
       "    <span style=\"color: #c0c0c0; text-decoration-color: #c0c0c0\">   Status: </span><span style=\"color: #bfbf7f; text-decoration-color: #bfbf7f\">Executing Task...</span>\n",
       "    └── <span style=\"color: #008000; text-decoration-color: #008000; font-weight: bold\">🤖 Agent: </span><span style=\"color: #008000; text-decoration-color: #008000\">Protein Selection Expert</span>\n",
       "        <span style=\"color: #c0c0c0; text-decoration-color: #c0c0c0\">    Status: </span><span style=\"color: #008000; text-decoration-color: #008000; font-weight: bold\">In Progress</span>\n",
       "        └── <span style=\"color: #000080; text-decoration-color: #000080; font-weight: bold\">🧠 </span><span style=\"color: #000080; text-decoration-color: #000080\">Thinking...</span>\n",
       "</pre>\n"
      ],
      "text/plain": [
       "\u001b[1;36m🚀 Crew: \u001b[0m\u001b[1;36mcrew\u001b[0m\n",
       "├── \u001b[1;32m📋 Task: caf17771-5c84-4cff-a0c5-e14ae66db4c5\u001b[0m\n",
       "│   \u001b[37m   Assigned to: \u001b[0m\u001b[32mqueryGen\u001b[0m\n",
       "│   \u001b[37m   Status: \u001b[0m\u001b[1;32m✅ Completed\u001b[0m\n",
       "│   └── \u001b[1;32m🤖 Agent: \u001b[0m\u001b[32mqueryGen\u001b[0m\n",
       "│       \u001b[37m    Status: \u001b[0m\u001b[1;32m✅ Completed\u001b[0m\n",
       "├── \u001b[1;32m📋 Task: d056b313-31cd-4ef9-81d6-e5e5fc29d6ac\u001b[0m\n",
       "│   \u001b[37m   Assigned to: \u001b[0m\u001b[32mqueryValidator\u001b[0m\n",
       "│   \u001b[37m   Status: \u001b[0m\u001b[1;32m✅ Completed\u001b[0m\n",
       "│   └── \u001b[1;32m🤖 Agent: \u001b[0m\u001b[32mqueryValidator\u001b[0m\n",
       "│       \u001b[37m    Status: \u001b[0m\u001b[1;32m✅ Completed\u001b[0m\n",
       "│       └── \u001b[1;32m🔧 \u001b[0m\u001b[32mUsed fetchUniProt (1)\u001b[0m\n",
       "└── \u001b[1;33m📋 Task: 0efdf50d-e90f-4f85-bf31-1595702bb389\u001b[0m\n",
       "    \u001b[37m   Status: \u001b[0m\u001b[2;33mExecuting Task...\u001b[0m\n",
       "    └── \u001b[1;32m🤖 Agent: \u001b[0m\u001b[32mProtein Selection Expert\u001b[0m\n",
       "        \u001b[37m    Status: \u001b[0m\u001b[1;32mIn Progress\u001b[0m\n",
       "        └── \u001b[1;34m🧠 \u001b[0m\u001b[34mThinking...\u001b[0m\n"
      ]
     },
     "metadata": {},
     "output_type": "display_data"
    },
    {
     "data": {
      "text/html": [
       "<pre style=\"white-space:pre;overflow-x:auto;line-height:normal;font-family:Menlo,'DejaVu Sans Mono',consolas,'Courier New',monospace\">\n",
       "</pre>\n"
      ],
      "text/plain": [
       "\n"
      ]
     },
     "metadata": {},
     "output_type": "display_data"
    },
    {
     "data": {
      "text/html": [
       "<pre style=\"white-space:pre;overflow-x:auto;line-height:normal;font-family:Menlo,'DejaVu Sans Mono',consolas,'Courier New',monospace\"><span style=\"color: #008080; text-decoration-color: #008080; font-weight: bold\">🚀 Crew: crew</span>\n",
       "├── <span style=\"color: #008000; text-decoration-color: #008000; font-weight: bold\">📋 Task: caf17771-5c84-4cff-a0c5-e14ae66db4c5</span>\n",
       "│   <span style=\"color: #c0c0c0; text-decoration-color: #c0c0c0\">   Assigned to: </span><span style=\"color: #008000; text-decoration-color: #008000\">queryGen</span>\n",
       "│   <span style=\"color: #c0c0c0; text-decoration-color: #c0c0c0\">   Status: </span><span style=\"color: #008000; text-decoration-color: #008000; font-weight: bold\">✅ Completed</span>\n",
       "│   └── <span style=\"color: #008000; text-decoration-color: #008000; font-weight: bold\">🤖 Agent: </span><span style=\"color: #008000; text-decoration-color: #008000\">queryGen</span>\n",
       "│       <span style=\"color: #c0c0c0; text-decoration-color: #c0c0c0\">    Status: </span><span style=\"color: #008000; text-decoration-color: #008000; font-weight: bold\">✅ Completed</span>\n",
       "├── <span style=\"color: #008000; text-decoration-color: #008000; font-weight: bold\">📋 Task: d056b313-31cd-4ef9-81d6-e5e5fc29d6ac</span>\n",
       "│   <span style=\"color: #c0c0c0; text-decoration-color: #c0c0c0\">   Assigned to: </span><span style=\"color: #008000; text-decoration-color: #008000\">queryValidator</span>\n",
       "│   <span style=\"color: #c0c0c0; text-decoration-color: #c0c0c0\">   Status: </span><span style=\"color: #008000; text-decoration-color: #008000; font-weight: bold\">✅ Completed</span>\n",
       "│   └── <span style=\"color: #008000; text-decoration-color: #008000; font-weight: bold\">🤖 Agent: </span><span style=\"color: #008000; text-decoration-color: #008000\">queryValidator</span>\n",
       "│       <span style=\"color: #c0c0c0; text-decoration-color: #c0c0c0\">    Status: </span><span style=\"color: #008000; text-decoration-color: #008000; font-weight: bold\">✅ Completed</span>\n",
       "│       └── <span style=\"color: #008000; text-decoration-color: #008000; font-weight: bold\">🔧 </span><span style=\"color: #008000; text-decoration-color: #008000\">Used fetchUniProt (1)</span>\n",
       "└── <span style=\"color: #808000; text-decoration-color: #808000; font-weight: bold\">📋 Task: 0efdf50d-e90f-4f85-bf31-1595702bb389</span>\n",
       "    <span style=\"color: #c0c0c0; text-decoration-color: #c0c0c0\">   Status: </span><span style=\"color: #bfbf7f; text-decoration-color: #bfbf7f\">Executing Task...</span>\n",
       "    └── <span style=\"color: #008000; text-decoration-color: #008000; font-weight: bold\">🤖 Agent: </span><span style=\"color: #008000; text-decoration-color: #008000\">Protein Selection Expert</span>\n",
       "        <span style=\"color: #c0c0c0; text-decoration-color: #c0c0c0\">    Status: </span><span style=\"color: #008000; text-decoration-color: #008000; font-weight: bold\">In Progress</span>\n",
       "</pre>\n"
      ],
      "text/plain": [
       "\u001b[1;36m🚀 Crew: \u001b[0m\u001b[1;36mcrew\u001b[0m\n",
       "├── \u001b[1;32m📋 Task: caf17771-5c84-4cff-a0c5-e14ae66db4c5\u001b[0m\n",
       "│   \u001b[37m   Assigned to: \u001b[0m\u001b[32mqueryGen\u001b[0m\n",
       "│   \u001b[37m   Status: \u001b[0m\u001b[1;32m✅ Completed\u001b[0m\n",
       "│   └── \u001b[1;32m🤖 Agent: \u001b[0m\u001b[32mqueryGen\u001b[0m\n",
       "│       \u001b[37m    Status: \u001b[0m\u001b[1;32m✅ Completed\u001b[0m\n",
       "├── \u001b[1;32m📋 Task: d056b313-31cd-4ef9-81d6-e5e5fc29d6ac\u001b[0m\n",
       "│   \u001b[37m   Assigned to: \u001b[0m\u001b[32mqueryValidator\u001b[0m\n",
       "│   \u001b[37m   Status: \u001b[0m\u001b[1;32m✅ Completed\u001b[0m\n",
       "│   └── \u001b[1;32m🤖 Agent: \u001b[0m\u001b[32mqueryValidator\u001b[0m\n",
       "│       \u001b[37m    Status: \u001b[0m\u001b[1;32m✅ Completed\u001b[0m\n",
       "│       └── \u001b[1;32m🔧 \u001b[0m\u001b[32mUsed fetchUniProt (1)\u001b[0m\n",
       "└── \u001b[1;33m📋 Task: 0efdf50d-e90f-4f85-bf31-1595702bb389\u001b[0m\n",
       "    \u001b[37m   Status: \u001b[0m\u001b[2;33mExecuting Task...\u001b[0m\n",
       "    └── \u001b[1;32m🤖 Agent: \u001b[0m\u001b[32mProtein Selection Expert\u001b[0m\n",
       "        \u001b[37m    Status: \u001b[0m\u001b[1;32mIn Progress\u001b[0m\n"
      ]
     },
     "metadata": {},
     "output_type": "display_data"
    },
    {
     "data": {
      "text/html": [
       "<pre style=\"white-space:pre;overflow-x:auto;line-height:normal;font-family:Menlo,'DejaVu Sans Mono',consolas,'Courier New',monospace\">\n",
       "</pre>\n"
      ],
      "text/plain": [
       "\n"
      ]
     },
     "metadata": {},
     "output_type": "display_data"
    },
    {
     "data": {
      "text/html": [
       "<pre style=\"white-space:pre;overflow-x:auto;line-height:normal;font-family:Menlo,'DejaVu Sans Mono',consolas,'Courier New',monospace\"><span style=\"color: #008080; text-decoration-color: #008080; font-weight: bold\">🚀 Crew: crew</span>\n",
       "├── <span style=\"color: #008000; text-decoration-color: #008000; font-weight: bold\">📋 Task: caf17771-5c84-4cff-a0c5-e14ae66db4c5</span>\n",
       "│   <span style=\"color: #c0c0c0; text-decoration-color: #c0c0c0\">   Assigned to: </span><span style=\"color: #008000; text-decoration-color: #008000\">queryGen</span>\n",
       "│   <span style=\"color: #c0c0c0; text-decoration-color: #c0c0c0\">   Status: </span><span style=\"color: #008000; text-decoration-color: #008000; font-weight: bold\">✅ Completed</span>\n",
       "│   └── <span style=\"color: #008000; text-decoration-color: #008000; font-weight: bold\">🤖 Agent: </span><span style=\"color: #008000; text-decoration-color: #008000\">queryGen</span>\n",
       "│       <span style=\"color: #c0c0c0; text-decoration-color: #c0c0c0\">    Status: </span><span style=\"color: #008000; text-decoration-color: #008000; font-weight: bold\">✅ Completed</span>\n",
       "├── <span style=\"color: #008000; text-decoration-color: #008000; font-weight: bold\">📋 Task: d056b313-31cd-4ef9-81d6-e5e5fc29d6ac</span>\n",
       "│   <span style=\"color: #c0c0c0; text-decoration-color: #c0c0c0\">   Assigned to: </span><span style=\"color: #008000; text-decoration-color: #008000\">queryValidator</span>\n",
       "│   <span style=\"color: #c0c0c0; text-decoration-color: #c0c0c0\">   Status: </span><span style=\"color: #008000; text-decoration-color: #008000; font-weight: bold\">✅ Completed</span>\n",
       "│   └── <span style=\"color: #008000; text-decoration-color: #008000; font-weight: bold\">🤖 Agent: </span><span style=\"color: #008000; text-decoration-color: #008000\">queryValidator</span>\n",
       "│       <span style=\"color: #c0c0c0; text-decoration-color: #c0c0c0\">    Status: </span><span style=\"color: #008000; text-decoration-color: #008000; font-weight: bold\">✅ Completed</span>\n",
       "│       └── <span style=\"color: #008000; text-decoration-color: #008000; font-weight: bold\">🔧 </span><span style=\"color: #008000; text-decoration-color: #008000\">Used fetchUniProt (1)</span>\n",
       "└── <span style=\"color: #808000; text-decoration-color: #808000; font-weight: bold\">📋 Task: 0efdf50d-e90f-4f85-bf31-1595702bb389</span>\n",
       "    <span style=\"color: #c0c0c0; text-decoration-color: #c0c0c0\">   Status: </span><span style=\"color: #bfbf7f; text-decoration-color: #bfbf7f\">Executing Task...</span>\n",
       "    └── <span style=\"color: #008000; text-decoration-color: #008000; font-weight: bold\">🤖 Agent: </span><span style=\"color: #008000; text-decoration-color: #008000\">Protein Selection Expert</span>\n",
       "        <span style=\"color: #c0c0c0; text-decoration-color: #c0c0c0\">    Status: </span><span style=\"color: #008000; text-decoration-color: #008000; font-weight: bold\">In Progress</span>\n",
       "        └── <span style=\"color: #808000; text-decoration-color: #808000; font-weight: bold\">🔧 </span><span style=\"color: #808000; text-decoration-color: #808000\">Using getFuncInfo (1)</span>\n",
       "</pre>\n"
      ],
      "text/plain": [
       "\u001b[1;36m🚀 Crew: \u001b[0m\u001b[1;36mcrew\u001b[0m\n",
       "├── \u001b[1;32m📋 Task: caf17771-5c84-4cff-a0c5-e14ae66db4c5\u001b[0m\n",
       "│   \u001b[37m   Assigned to: \u001b[0m\u001b[32mqueryGen\u001b[0m\n",
       "│   \u001b[37m   Status: \u001b[0m\u001b[1;32m✅ Completed\u001b[0m\n",
       "│   └── \u001b[1;32m🤖 Agent: \u001b[0m\u001b[32mqueryGen\u001b[0m\n",
       "│       \u001b[37m    Status: \u001b[0m\u001b[1;32m✅ Completed\u001b[0m\n",
       "├── \u001b[1;32m📋 Task: d056b313-31cd-4ef9-81d6-e5e5fc29d6ac\u001b[0m\n",
       "│   \u001b[37m   Assigned to: \u001b[0m\u001b[32mqueryValidator\u001b[0m\n",
       "│   \u001b[37m   Status: \u001b[0m\u001b[1;32m✅ Completed\u001b[0m\n",
       "│   └── \u001b[1;32m🤖 Agent: \u001b[0m\u001b[32mqueryValidator\u001b[0m\n",
       "│       \u001b[37m    Status: \u001b[0m\u001b[1;32m✅ Completed\u001b[0m\n",
       "│       └── \u001b[1;32m🔧 \u001b[0m\u001b[32mUsed fetchUniProt (1)\u001b[0m\n",
       "└── \u001b[1;33m📋 Task: 0efdf50d-e90f-4f85-bf31-1595702bb389\u001b[0m\n",
       "    \u001b[37m   Status: \u001b[0m\u001b[2;33mExecuting Task...\u001b[0m\n",
       "    └── \u001b[1;32m🤖 Agent: \u001b[0m\u001b[32mProtein Selection Expert\u001b[0m\n",
       "        \u001b[37m    Status: \u001b[0m\u001b[1;32mIn Progress\u001b[0m\n",
       "        └── \u001b[1;33m🔧 \u001b[0m\u001b[33mUsing getFuncInfo (1)\u001b[0m\n"
      ]
     },
     "metadata": {},
     "output_type": "display_data"
    },
    {
     "data": {
      "text/html": [
       "<pre style=\"white-space:pre;overflow-x:auto;line-height:normal;font-family:Menlo,'DejaVu Sans Mono',consolas,'Courier New',monospace\">\n",
       "</pre>\n"
      ],
      "text/plain": [
       "\n"
      ]
     },
     "metadata": {},
     "output_type": "display_data"
    },
    {
     "data": {
      "text/html": [
       "<pre style=\"white-space:pre;overflow-x:auto;line-height:normal;font-family:Menlo,'DejaVu Sans Mono',consolas,'Courier New',monospace\"><span style=\"color: #008080; text-decoration-color: #008080; font-weight: bold\">🚀 Crew: crew</span>\n",
       "├── <span style=\"color: #008000; text-decoration-color: #008000; font-weight: bold\">📋 Task: caf17771-5c84-4cff-a0c5-e14ae66db4c5</span>\n",
       "│   <span style=\"color: #c0c0c0; text-decoration-color: #c0c0c0\">   Assigned to: </span><span style=\"color: #008000; text-decoration-color: #008000\">queryGen</span>\n",
       "│   <span style=\"color: #c0c0c0; text-decoration-color: #c0c0c0\">   Status: </span><span style=\"color: #008000; text-decoration-color: #008000; font-weight: bold\">✅ Completed</span>\n",
       "│   └── <span style=\"color: #008000; text-decoration-color: #008000; font-weight: bold\">🤖 Agent: </span><span style=\"color: #008000; text-decoration-color: #008000\">queryGen</span>\n",
       "│       <span style=\"color: #c0c0c0; text-decoration-color: #c0c0c0\">    Status: </span><span style=\"color: #008000; text-decoration-color: #008000; font-weight: bold\">✅ Completed</span>\n",
       "├── <span style=\"color: #008000; text-decoration-color: #008000; font-weight: bold\">📋 Task: d056b313-31cd-4ef9-81d6-e5e5fc29d6ac</span>\n",
       "│   <span style=\"color: #c0c0c0; text-decoration-color: #c0c0c0\">   Assigned to: </span><span style=\"color: #008000; text-decoration-color: #008000\">queryValidator</span>\n",
       "│   <span style=\"color: #c0c0c0; text-decoration-color: #c0c0c0\">   Status: </span><span style=\"color: #008000; text-decoration-color: #008000; font-weight: bold\">✅ Completed</span>\n",
       "│   └── <span style=\"color: #008000; text-decoration-color: #008000; font-weight: bold\">🤖 Agent: </span><span style=\"color: #008000; text-decoration-color: #008000\">queryValidator</span>\n",
       "│       <span style=\"color: #c0c0c0; text-decoration-color: #c0c0c0\">    Status: </span><span style=\"color: #008000; text-decoration-color: #008000; font-weight: bold\">✅ Completed</span>\n",
       "│       └── <span style=\"color: #008000; text-decoration-color: #008000; font-weight: bold\">🔧 </span><span style=\"color: #008000; text-decoration-color: #008000\">Used fetchUniProt (1)</span>\n",
       "└── <span style=\"color: #808000; text-decoration-color: #808000; font-weight: bold\">📋 Task: 0efdf50d-e90f-4f85-bf31-1595702bb389</span>\n",
       "    <span style=\"color: #c0c0c0; text-decoration-color: #c0c0c0\">   Status: </span><span style=\"color: #bfbf7f; text-decoration-color: #bfbf7f\">Executing Task...</span>\n",
       "    └── <span style=\"color: #008000; text-decoration-color: #008000; font-weight: bold\">🤖 Agent: </span><span style=\"color: #008000; text-decoration-color: #008000\">Protein Selection Expert</span>\n",
       "        <span style=\"color: #c0c0c0; text-decoration-color: #c0c0c0\">    Status: </span><span style=\"color: #008000; text-decoration-color: #008000; font-weight: bold\">In Progress</span>\n",
       "        └── <span style=\"color: #008000; text-decoration-color: #008000; font-weight: bold\">🔧 </span><span style=\"color: #008000; text-decoration-color: #008000\">Used getFuncInfo (1)</span>\n",
       "</pre>\n"
      ],
      "text/plain": [
       "\u001b[1;36m🚀 Crew: \u001b[0m\u001b[1;36mcrew\u001b[0m\n",
       "├── \u001b[1;32m📋 Task: caf17771-5c84-4cff-a0c5-e14ae66db4c5\u001b[0m\n",
       "│   \u001b[37m   Assigned to: \u001b[0m\u001b[32mqueryGen\u001b[0m\n",
       "│   \u001b[37m   Status: \u001b[0m\u001b[1;32m✅ Completed\u001b[0m\n",
       "│   └── \u001b[1;32m🤖 Agent: \u001b[0m\u001b[32mqueryGen\u001b[0m\n",
       "│       \u001b[37m    Status: \u001b[0m\u001b[1;32m✅ Completed\u001b[0m\n",
       "├── \u001b[1;32m📋 Task: d056b313-31cd-4ef9-81d6-e5e5fc29d6ac\u001b[0m\n",
       "│   \u001b[37m   Assigned to: \u001b[0m\u001b[32mqueryValidator\u001b[0m\n",
       "│   \u001b[37m   Status: \u001b[0m\u001b[1;32m✅ Completed\u001b[0m\n",
       "│   └── \u001b[1;32m🤖 Agent: \u001b[0m\u001b[32mqueryValidator\u001b[0m\n",
       "│       \u001b[37m    Status: \u001b[0m\u001b[1;32m✅ Completed\u001b[0m\n",
       "│       └── \u001b[1;32m🔧 \u001b[0m\u001b[32mUsed fetchUniProt (1)\u001b[0m\n",
       "└── \u001b[1;33m📋 Task: 0efdf50d-e90f-4f85-bf31-1595702bb389\u001b[0m\n",
       "    \u001b[37m   Status: \u001b[0m\u001b[2;33mExecuting Task...\u001b[0m\n",
       "    └── \u001b[1;32m🤖 Agent: \u001b[0m\u001b[32mProtein Selection Expert\u001b[0m\n",
       "        \u001b[37m    Status: \u001b[0m\u001b[1;32mIn Progress\u001b[0m\n",
       "        └── \u001b[1;32m🔧 \u001b[0m\u001b[32mUsed getFuncInfo (1)\u001b[0m\n"
      ]
     },
     "metadata": {},
     "output_type": "display_data"
    },
    {
     "data": {
      "text/html": [
       "<pre style=\"white-space:pre;overflow-x:auto;line-height:normal;font-family:Menlo,'DejaVu Sans Mono',consolas,'Courier New',monospace\">\n",
       "</pre>\n"
      ],
      "text/plain": [
       "\n"
      ]
     },
     "metadata": {},
     "output_type": "display_data"
    },
    {
     "name": "stdout",
     "output_type": "stream",
     "text": [
      "\n",
      "\n",
      "\u001b[1m\u001b[95m# Agent:\u001b[00m \u001b[1m\u001b[92mProtein Selection Expert\u001b[00m\n",
      "\u001b[95m## Thought:\u001b[00m \u001b[92mOkay, I understand the task. I need to select the best protein for DNA binding from a list (that I will access using the tool) based on the user's criteria. I will start by getting information on the proteins. Since the initial query was too broad, I will use the suggested refined query: `((go:\"DNA binding\") AND (organism:\"Homo sapiens\") AND (evidence:experimental))`. However, I don't have a list of proteins to choose from yet. I will start by fetching information for a protein known to be involved in DNA binding, for example, a transcription factor. I will use getFuncInfo to fetch the function information.\u001b[00m\n",
      "\u001b[95m## Using tool:\u001b[00m \u001b[92mgetFuncInfo\u001b[00m\n",
      "\u001b[95m## Tool Input:\u001b[00m \u001b[92m\n",
      "\"{\\\"protein_id\\\": \\\"P0DTC2\\\"}\"\u001b[00m\n",
      "\u001b[95m## Tool Output:\u001b[00m \u001b[92m\n",
      "{'Q3KNS6': ['May be involved in transcriptional regulation'], 'Q6P2D0': ['May be involved in transcriptional regulation'], 'P17027': ['May be involved in transcriptional regulation. May have a role in embryonic development'], 'Q6ZN57': ['Probable transcription factor involved in neuronal differentiation and/or phenotypic maintenance'], 'Q9NX65': ['May be involved in transcriptional regulation'], 'P49910': ['May be involved in transcriptional regulation'], 'Q8N0Y2': [\"Transcriptional regulator. Binds to the 5'-flanking critical region of the SCARF1 promoter\"], 'P17040': ['May be involved in transcriptional regulation'], 'P17021': ['May be involved in transcriptional regulation'], 'Q7L2R6': ['May be involved in transcriptional regulation'], 'P17022': ['May be involved in transcriptional regulation'], 'Q9ULM2': ['May be involved in transcriptional regulation'], 'O14628': ['May be involved in transcriptional regulation'], 'Q3KQV3': ['May be involved in transcriptional regulation'], 'P07199': ['Interacts with centromeric heterochromatin in chromosomes and binds to a specific 17 bp subset of alphoid satellite DNA, called the CENP-B box (PubMed:11726497). May organize arrays of centromere satellite DNA into a higher-order structure which then directs centromere formation and kinetochore assembly in mammalian chromosomes (Probable)'], 'Q96BR9': ['May be involved in transcriptional regulation'], 'Q3MJ62': ['May be involved in transcriptional regulation'], 'Q9H4T2': ['May be involved in transcriptional regulation'], 'Q9Y222': [\"Transcriptional activator which activates the CDKN2A/ARF locus in response to Ras-Raf signaling, thereby promoting p53/TP53-dependent growth arrest (By similarity). Binds to the consensus sequence 5'-CCCG[GT]ATGT-3' (By similarity). Isoform 1 may cooperate with MYB to activate transcription of the ANPEP gene. Isoform 2 may antagonize transcriptional activation by isoform 1\"], 'Q6NX45': ['May be involved in transcriptional regulation']}\u001b[00m\n"
     ]
    },
    {
     "data": {
      "text/html": [
       "<pre style=\"white-space:pre;overflow-x:auto;line-height:normal;font-family:Menlo,'DejaVu Sans Mono',consolas,'Courier New',monospace\"><span style=\"color: #008080; text-decoration-color: #008080; font-weight: bold\">🚀 Crew: crew</span>\n",
       "├── <span style=\"color: #008000; text-decoration-color: #008000; font-weight: bold\">📋 Task: caf17771-5c84-4cff-a0c5-e14ae66db4c5</span>\n",
       "│   <span style=\"color: #c0c0c0; text-decoration-color: #c0c0c0\">   Assigned to: </span><span style=\"color: #008000; text-decoration-color: #008000\">queryGen</span>\n",
       "│   <span style=\"color: #c0c0c0; text-decoration-color: #c0c0c0\">   Status: </span><span style=\"color: #008000; text-decoration-color: #008000; font-weight: bold\">✅ Completed</span>\n",
       "│   └── <span style=\"color: #008000; text-decoration-color: #008000; font-weight: bold\">🤖 Agent: </span><span style=\"color: #008000; text-decoration-color: #008000\">queryGen</span>\n",
       "│       <span style=\"color: #c0c0c0; text-decoration-color: #c0c0c0\">    Status: </span><span style=\"color: #008000; text-decoration-color: #008000; font-weight: bold\">✅ Completed</span>\n",
       "├── <span style=\"color: #008000; text-decoration-color: #008000; font-weight: bold\">📋 Task: d056b313-31cd-4ef9-81d6-e5e5fc29d6ac</span>\n",
       "│   <span style=\"color: #c0c0c0; text-decoration-color: #c0c0c0\">   Assigned to: </span><span style=\"color: #008000; text-decoration-color: #008000\">queryValidator</span>\n",
       "│   <span style=\"color: #c0c0c0; text-decoration-color: #c0c0c0\">   Status: </span><span style=\"color: #008000; text-decoration-color: #008000; font-weight: bold\">✅ Completed</span>\n",
       "│   └── <span style=\"color: #008000; text-decoration-color: #008000; font-weight: bold\">🤖 Agent: </span><span style=\"color: #008000; text-decoration-color: #008000\">queryValidator</span>\n",
       "│       <span style=\"color: #c0c0c0; text-decoration-color: #c0c0c0\">    Status: </span><span style=\"color: #008000; text-decoration-color: #008000; font-weight: bold\">✅ Completed</span>\n",
       "│       └── <span style=\"color: #008000; text-decoration-color: #008000; font-weight: bold\">🔧 </span><span style=\"color: #008000; text-decoration-color: #008000\">Used fetchUniProt (1)</span>\n",
       "└── <span style=\"color: #808000; text-decoration-color: #808000; font-weight: bold\">📋 Task: 0efdf50d-e90f-4f85-bf31-1595702bb389</span>\n",
       "    <span style=\"color: #c0c0c0; text-decoration-color: #c0c0c0\">   Status: </span><span style=\"color: #bfbf7f; text-decoration-color: #bfbf7f\">Executing Task...</span>\n",
       "    └── <span style=\"color: #008000; text-decoration-color: #008000; font-weight: bold\">🤖 Agent: </span><span style=\"color: #008000; text-decoration-color: #008000\">Protein Selection Expert</span>\n",
       "        <span style=\"color: #c0c0c0; text-decoration-color: #c0c0c0\">    Status: </span><span style=\"color: #008000; text-decoration-color: #008000; font-weight: bold\">In Progress</span>\n",
       "        ├── <span style=\"color: #008000; text-decoration-color: #008000; font-weight: bold\">🔧 </span><span style=\"color: #008000; text-decoration-color: #008000\">Used getFuncInfo (1)</span>\n",
       "        └── <span style=\"color: #000080; text-decoration-color: #000080; font-weight: bold\">🧠 </span><span style=\"color: #000080; text-decoration-color: #000080\">Thinking...</span>\n",
       "</pre>\n"
      ],
      "text/plain": [
       "\u001b[1;36m🚀 Crew: \u001b[0m\u001b[1;36mcrew\u001b[0m\n",
       "├── \u001b[1;32m📋 Task: caf17771-5c84-4cff-a0c5-e14ae66db4c5\u001b[0m\n",
       "│   \u001b[37m   Assigned to: \u001b[0m\u001b[32mqueryGen\u001b[0m\n",
       "│   \u001b[37m   Status: \u001b[0m\u001b[1;32m✅ Completed\u001b[0m\n",
       "│   └── \u001b[1;32m🤖 Agent: \u001b[0m\u001b[32mqueryGen\u001b[0m\n",
       "│       \u001b[37m    Status: \u001b[0m\u001b[1;32m✅ Completed\u001b[0m\n",
       "├── \u001b[1;32m📋 Task: d056b313-31cd-4ef9-81d6-e5e5fc29d6ac\u001b[0m\n",
       "│   \u001b[37m   Assigned to: \u001b[0m\u001b[32mqueryValidator\u001b[0m\n",
       "│   \u001b[37m   Status: \u001b[0m\u001b[1;32m✅ Completed\u001b[0m\n",
       "│   └── \u001b[1;32m🤖 Agent: \u001b[0m\u001b[32mqueryValidator\u001b[0m\n",
       "│       \u001b[37m    Status: \u001b[0m\u001b[1;32m✅ Completed\u001b[0m\n",
       "│       └── \u001b[1;32m🔧 \u001b[0m\u001b[32mUsed fetchUniProt (1)\u001b[0m\n",
       "└── \u001b[1;33m📋 Task: 0efdf50d-e90f-4f85-bf31-1595702bb389\u001b[0m\n",
       "    \u001b[37m   Status: \u001b[0m\u001b[2;33mExecuting Task...\u001b[0m\n",
       "    └── \u001b[1;32m🤖 Agent: \u001b[0m\u001b[32mProtein Selection Expert\u001b[0m\n",
       "        \u001b[37m    Status: \u001b[0m\u001b[1;32mIn Progress\u001b[0m\n",
       "        ├── \u001b[1;32m🔧 \u001b[0m\u001b[32mUsed getFuncInfo (1)\u001b[0m\n",
       "        └── \u001b[1;34m🧠 \u001b[0m\u001b[34mThinking...\u001b[0m\n"
      ]
     },
     "metadata": {},
     "output_type": "display_data"
    },
    {
     "data": {
      "text/html": [
       "<pre style=\"white-space:pre;overflow-x:auto;line-height:normal;font-family:Menlo,'DejaVu Sans Mono',consolas,'Courier New',monospace\">\n",
       "</pre>\n"
      ],
      "text/plain": [
       "\n"
      ]
     },
     "metadata": {},
     "output_type": "display_data"
    },
    {
     "data": {
      "text/html": [
       "<pre style=\"white-space:pre;overflow-x:auto;line-height:normal;font-family:Menlo,'DejaVu Sans Mono',consolas,'Courier New',monospace\"><span style=\"color: #008080; text-decoration-color: #008080; font-weight: bold\">🚀 Crew: crew</span>\n",
       "├── <span style=\"color: #008000; text-decoration-color: #008000; font-weight: bold\">📋 Task: caf17771-5c84-4cff-a0c5-e14ae66db4c5</span>\n",
       "│   <span style=\"color: #c0c0c0; text-decoration-color: #c0c0c0\">   Assigned to: </span><span style=\"color: #008000; text-decoration-color: #008000\">queryGen</span>\n",
       "│   <span style=\"color: #c0c0c0; text-decoration-color: #c0c0c0\">   Status: </span><span style=\"color: #008000; text-decoration-color: #008000; font-weight: bold\">✅ Completed</span>\n",
       "│   └── <span style=\"color: #008000; text-decoration-color: #008000; font-weight: bold\">🤖 Agent: </span><span style=\"color: #008000; text-decoration-color: #008000\">queryGen</span>\n",
       "│       <span style=\"color: #c0c0c0; text-decoration-color: #c0c0c0\">    Status: </span><span style=\"color: #008000; text-decoration-color: #008000; font-weight: bold\">✅ Completed</span>\n",
       "├── <span style=\"color: #008000; text-decoration-color: #008000; font-weight: bold\">📋 Task: d056b313-31cd-4ef9-81d6-e5e5fc29d6ac</span>\n",
       "│   <span style=\"color: #c0c0c0; text-decoration-color: #c0c0c0\">   Assigned to: </span><span style=\"color: #008000; text-decoration-color: #008000\">queryValidator</span>\n",
       "│   <span style=\"color: #c0c0c0; text-decoration-color: #c0c0c0\">   Status: </span><span style=\"color: #008000; text-decoration-color: #008000; font-weight: bold\">✅ Completed</span>\n",
       "│   └── <span style=\"color: #008000; text-decoration-color: #008000; font-weight: bold\">🤖 Agent: </span><span style=\"color: #008000; text-decoration-color: #008000\">queryValidator</span>\n",
       "│       <span style=\"color: #c0c0c0; text-decoration-color: #c0c0c0\">    Status: </span><span style=\"color: #008000; text-decoration-color: #008000; font-weight: bold\">✅ Completed</span>\n",
       "│       └── <span style=\"color: #008000; text-decoration-color: #008000; font-weight: bold\">🔧 </span><span style=\"color: #008000; text-decoration-color: #008000\">Used fetchUniProt (1)</span>\n",
       "└── <span style=\"color: #808000; text-decoration-color: #808000; font-weight: bold\">📋 Task: 0efdf50d-e90f-4f85-bf31-1595702bb389</span>\n",
       "    <span style=\"color: #c0c0c0; text-decoration-color: #c0c0c0\">   Status: </span><span style=\"color: #bfbf7f; text-decoration-color: #bfbf7f\">Executing Task...</span>\n",
       "    └── <span style=\"color: #008000; text-decoration-color: #008000; font-weight: bold\">🤖 Agent: </span><span style=\"color: #008000; text-decoration-color: #008000\">Protein Selection Expert</span>\n",
       "        <span style=\"color: #c0c0c0; text-decoration-color: #c0c0c0\">    Status: </span><span style=\"color: #008000; text-decoration-color: #008000; font-weight: bold\">In Progress</span>\n",
       "        └── <span style=\"color: #008000; text-decoration-color: #008000; font-weight: bold\">🔧 </span><span style=\"color: #008000; text-decoration-color: #008000\">Used getFuncInfo (1)</span>\n",
       "</pre>\n"
      ],
      "text/plain": [
       "\u001b[1;36m🚀 Crew: \u001b[0m\u001b[1;36mcrew\u001b[0m\n",
       "├── \u001b[1;32m📋 Task: caf17771-5c84-4cff-a0c5-e14ae66db4c5\u001b[0m\n",
       "│   \u001b[37m   Assigned to: \u001b[0m\u001b[32mqueryGen\u001b[0m\n",
       "│   \u001b[37m   Status: \u001b[0m\u001b[1;32m✅ Completed\u001b[0m\n",
       "│   └── \u001b[1;32m🤖 Agent: \u001b[0m\u001b[32mqueryGen\u001b[0m\n",
       "│       \u001b[37m    Status: \u001b[0m\u001b[1;32m✅ Completed\u001b[0m\n",
       "├── \u001b[1;32m📋 Task: d056b313-31cd-4ef9-81d6-e5e5fc29d6ac\u001b[0m\n",
       "│   \u001b[37m   Assigned to: \u001b[0m\u001b[32mqueryValidator\u001b[0m\n",
       "│   \u001b[37m   Status: \u001b[0m\u001b[1;32m✅ Completed\u001b[0m\n",
       "│   └── \u001b[1;32m🤖 Agent: \u001b[0m\u001b[32mqueryValidator\u001b[0m\n",
       "│       \u001b[37m    Status: \u001b[0m\u001b[1;32m✅ Completed\u001b[0m\n",
       "│       └── \u001b[1;32m🔧 \u001b[0m\u001b[32mUsed fetchUniProt (1)\u001b[0m\n",
       "└── \u001b[1;33m📋 Task: 0efdf50d-e90f-4f85-bf31-1595702bb389\u001b[0m\n",
       "    \u001b[37m   Status: \u001b[0m\u001b[2;33mExecuting Task...\u001b[0m\n",
       "    └── \u001b[1;32m🤖 Agent: \u001b[0m\u001b[32mProtein Selection Expert\u001b[0m\n",
       "        \u001b[37m    Status: \u001b[0m\u001b[1;32mIn Progress\u001b[0m\n",
       "        └── \u001b[1;32m🔧 \u001b[0m\u001b[32mUsed getFuncInfo (1)\u001b[0m\n"
      ]
     },
     "metadata": {},
     "output_type": "display_data"
    },
    {
     "data": {
      "text/html": [
       "<pre style=\"white-space:pre;overflow-x:auto;line-height:normal;font-family:Menlo,'DejaVu Sans Mono',consolas,'Courier New',monospace\">\n",
       "</pre>\n"
      ],
      "text/plain": [
       "\n"
      ]
     },
     "metadata": {},
     "output_type": "display_data"
    },
    {
     "name": "stdout",
     "output_type": "stream",
     "text": [
      "\n",
      "\n",
      "\u001b[1m\u001b[95m# Agent:\u001b[00m \u001b[1m\u001b[92mProtein Selection Expert\u001b[00m\n",
      "\u001b[95m## Final Answer:\u001b[00m \u001b[92m\n",
      "{\"protein_id\": \"P07199\", \"function\": \"Interacts with centromeric heterochromatin in chromosomes and binds to a specific 17 bp subset of alphoid satellite DNA, called the CENP-B box (PubMed:11726497). May organize arrays of centromere satellite DNA into a higher-order structure which then directs centromere formation and kinetochore assembly in mammalian chromosomes (Probable)\"}\u001b[00m\n",
      "\n",
      "\n"
     ]
    },
    {
     "data": {
      "text/html": [
       "<pre style=\"white-space:pre;overflow-x:auto;line-height:normal;font-family:Menlo,'DejaVu Sans Mono',consolas,'Courier New',monospace\"><span style=\"color: #008080; text-decoration-color: #008080; font-weight: bold\">🚀 Crew: crew</span>\n",
       "├── <span style=\"color: #008000; text-decoration-color: #008000; font-weight: bold\">📋 Task: caf17771-5c84-4cff-a0c5-e14ae66db4c5</span>\n",
       "│   <span style=\"color: #c0c0c0; text-decoration-color: #c0c0c0\">   Assigned to: </span><span style=\"color: #008000; text-decoration-color: #008000\">queryGen</span>\n",
       "│   <span style=\"color: #c0c0c0; text-decoration-color: #c0c0c0\">   Status: </span><span style=\"color: #008000; text-decoration-color: #008000; font-weight: bold\">✅ Completed</span>\n",
       "│   └── <span style=\"color: #008000; text-decoration-color: #008000; font-weight: bold\">🤖 Agent: </span><span style=\"color: #008000; text-decoration-color: #008000\">queryGen</span>\n",
       "│       <span style=\"color: #c0c0c0; text-decoration-color: #c0c0c0\">    Status: </span><span style=\"color: #008000; text-decoration-color: #008000; font-weight: bold\">✅ Completed</span>\n",
       "├── <span style=\"color: #008000; text-decoration-color: #008000; font-weight: bold\">📋 Task: d056b313-31cd-4ef9-81d6-e5e5fc29d6ac</span>\n",
       "│   <span style=\"color: #c0c0c0; text-decoration-color: #c0c0c0\">   Assigned to: </span><span style=\"color: #008000; text-decoration-color: #008000\">queryValidator</span>\n",
       "│   <span style=\"color: #c0c0c0; text-decoration-color: #c0c0c0\">   Status: </span><span style=\"color: #008000; text-decoration-color: #008000; font-weight: bold\">✅ Completed</span>\n",
       "│   └── <span style=\"color: #008000; text-decoration-color: #008000; font-weight: bold\">🤖 Agent: </span><span style=\"color: #008000; text-decoration-color: #008000\">queryValidator</span>\n",
       "│       <span style=\"color: #c0c0c0; text-decoration-color: #c0c0c0\">    Status: </span><span style=\"color: #008000; text-decoration-color: #008000; font-weight: bold\">✅ Completed</span>\n",
       "│       └── <span style=\"color: #008000; text-decoration-color: #008000; font-weight: bold\">🔧 </span><span style=\"color: #008000; text-decoration-color: #008000\">Used fetchUniProt (1)</span>\n",
       "└── <span style=\"color: #808000; text-decoration-color: #808000; font-weight: bold\">📋 Task: 0efdf50d-e90f-4f85-bf31-1595702bb389</span>\n",
       "    <span style=\"color: #c0c0c0; text-decoration-color: #c0c0c0\">   Status: </span><span style=\"color: #bfbf7f; text-decoration-color: #bfbf7f\">Executing Task...</span>\n",
       "    └── <span style=\"color: #008000; text-decoration-color: #008000; font-weight: bold\">🤖 Agent: </span><span style=\"color: #008000; text-decoration-color: #008000\">Protein Selection Expert</span>\n",
       "        <span style=\"color: #c0c0c0; text-decoration-color: #c0c0c0\">    Status: </span><span style=\"color: #008000; text-decoration-color: #008000; font-weight: bold\">✅ Completed</span>\n",
       "        └── <span style=\"color: #008000; text-decoration-color: #008000; font-weight: bold\">🔧 </span><span style=\"color: #008000; text-decoration-color: #008000\">Used getFuncInfo (1)</span>\n",
       "</pre>\n"
      ],
      "text/plain": [
       "\u001b[1;36m🚀 Crew: \u001b[0m\u001b[1;36mcrew\u001b[0m\n",
       "├── \u001b[1;32m📋 Task: caf17771-5c84-4cff-a0c5-e14ae66db4c5\u001b[0m\n",
       "│   \u001b[37m   Assigned to: \u001b[0m\u001b[32mqueryGen\u001b[0m\n",
       "│   \u001b[37m   Status: \u001b[0m\u001b[1;32m✅ Completed\u001b[0m\n",
       "│   └── \u001b[1;32m🤖 Agent: \u001b[0m\u001b[32mqueryGen\u001b[0m\n",
       "│       \u001b[37m    Status: \u001b[0m\u001b[1;32m✅ Completed\u001b[0m\n",
       "├── \u001b[1;32m📋 Task: d056b313-31cd-4ef9-81d6-e5e5fc29d6ac\u001b[0m\n",
       "│   \u001b[37m   Assigned to: \u001b[0m\u001b[32mqueryValidator\u001b[0m\n",
       "│   \u001b[37m   Status: \u001b[0m\u001b[1;32m✅ Completed\u001b[0m\n",
       "│   └── \u001b[1;32m🤖 Agent: \u001b[0m\u001b[32mqueryValidator\u001b[0m\n",
       "│       \u001b[37m    Status: \u001b[0m\u001b[1;32m✅ Completed\u001b[0m\n",
       "│       └── \u001b[1;32m🔧 \u001b[0m\u001b[32mUsed fetchUniProt (1)\u001b[0m\n",
       "└── \u001b[1;33m📋 Task: 0efdf50d-e90f-4f85-bf31-1595702bb389\u001b[0m\n",
       "    \u001b[37m   Status: \u001b[0m\u001b[2;33mExecuting Task...\u001b[0m\n",
       "    └── \u001b[1;32m🤖 Agent: \u001b[0m\u001b[32mProtein Selection Expert\u001b[0m\n",
       "        \u001b[37m    Status: \u001b[0m\u001b[1;32m✅ Completed\u001b[0m\n",
       "        └── \u001b[1;32m🔧 \u001b[0m\u001b[32mUsed getFuncInfo (1)\u001b[0m\n"
      ]
     },
     "metadata": {},
     "output_type": "display_data"
    },
    {
     "data": {
      "text/html": [
       "<pre style=\"white-space:pre;overflow-x:auto;line-height:normal;font-family:Menlo,'DejaVu Sans Mono',consolas,'Courier New',monospace\">\n",
       "</pre>\n"
      ],
      "text/plain": [
       "\n"
      ]
     },
     "metadata": {},
     "output_type": "display_data"
    },
    {
     "data": {
      "text/html": [
       "<pre style=\"white-space:pre;overflow-x:auto;line-height:normal;font-family:Menlo,'DejaVu Sans Mono',consolas,'Courier New',monospace\"><span style=\"color: #008080; text-decoration-color: #008080; font-weight: bold\">🚀 Crew: crew</span>\n",
       "├── <span style=\"color: #008000; text-decoration-color: #008000; font-weight: bold\">📋 Task: caf17771-5c84-4cff-a0c5-e14ae66db4c5</span>\n",
       "│   <span style=\"color: #c0c0c0; text-decoration-color: #c0c0c0\">   Assigned to: </span><span style=\"color: #008000; text-decoration-color: #008000\">queryGen</span>\n",
       "│   <span style=\"color: #c0c0c0; text-decoration-color: #c0c0c0\">   Status: </span><span style=\"color: #008000; text-decoration-color: #008000; font-weight: bold\">✅ Completed</span>\n",
       "│   └── <span style=\"color: #008000; text-decoration-color: #008000; font-weight: bold\">🤖 Agent: </span><span style=\"color: #008000; text-decoration-color: #008000\">queryGen</span>\n",
       "│       <span style=\"color: #c0c0c0; text-decoration-color: #c0c0c0\">    Status: </span><span style=\"color: #008000; text-decoration-color: #008000; font-weight: bold\">✅ Completed</span>\n",
       "├── <span style=\"color: #008000; text-decoration-color: #008000; font-weight: bold\">📋 Task: d056b313-31cd-4ef9-81d6-e5e5fc29d6ac</span>\n",
       "│   <span style=\"color: #c0c0c0; text-decoration-color: #c0c0c0\">   Assigned to: </span><span style=\"color: #008000; text-decoration-color: #008000\">queryValidator</span>\n",
       "│   <span style=\"color: #c0c0c0; text-decoration-color: #c0c0c0\">   Status: </span><span style=\"color: #008000; text-decoration-color: #008000; font-weight: bold\">✅ Completed</span>\n",
       "│   └── <span style=\"color: #008000; text-decoration-color: #008000; font-weight: bold\">🤖 Agent: </span><span style=\"color: #008000; text-decoration-color: #008000\">queryValidator</span>\n",
       "│       <span style=\"color: #c0c0c0; text-decoration-color: #c0c0c0\">    Status: </span><span style=\"color: #008000; text-decoration-color: #008000; font-weight: bold\">✅ Completed</span>\n",
       "│       └── <span style=\"color: #008000; text-decoration-color: #008000; font-weight: bold\">🔧 </span><span style=\"color: #008000; text-decoration-color: #008000\">Used fetchUniProt (1)</span>\n",
       "└── <span style=\"color: #008000; text-decoration-color: #008000; font-weight: bold\">📋 Task: 0efdf50d-e90f-4f85-bf31-1595702bb389</span>\n",
       "    <span style=\"color: #c0c0c0; text-decoration-color: #c0c0c0\">   Assigned to: </span><span style=\"color: #008000; text-decoration-color: #008000\">Protein Selection Expert</span>\n",
       "    <span style=\"color: #c0c0c0; text-decoration-color: #c0c0c0\">   Status: </span><span style=\"color: #008000; text-decoration-color: #008000; font-weight: bold\">✅ Completed</span>\n",
       "    └── <span style=\"color: #008000; text-decoration-color: #008000; font-weight: bold\">🤖 Agent: </span><span style=\"color: #008000; text-decoration-color: #008000\">Protein Selection Expert</span>\n",
       "        <span style=\"color: #c0c0c0; text-decoration-color: #c0c0c0\">    Status: </span><span style=\"color: #008000; text-decoration-color: #008000; font-weight: bold\">✅ Completed</span>\n",
       "        └── <span style=\"color: #008000; text-decoration-color: #008000; font-weight: bold\">🔧 </span><span style=\"color: #008000; text-decoration-color: #008000\">Used getFuncInfo (1)</span>\n",
       "</pre>\n"
      ],
      "text/plain": [
       "\u001b[1;36m🚀 Crew: \u001b[0m\u001b[1;36mcrew\u001b[0m\n",
       "├── \u001b[1;32m📋 Task: caf17771-5c84-4cff-a0c5-e14ae66db4c5\u001b[0m\n",
       "│   \u001b[37m   Assigned to: \u001b[0m\u001b[32mqueryGen\u001b[0m\n",
       "│   \u001b[37m   Status: \u001b[0m\u001b[1;32m✅ Completed\u001b[0m\n",
       "│   └── \u001b[1;32m🤖 Agent: \u001b[0m\u001b[32mqueryGen\u001b[0m\n",
       "│       \u001b[37m    Status: \u001b[0m\u001b[1;32m✅ Completed\u001b[0m\n",
       "├── \u001b[1;32m📋 Task: d056b313-31cd-4ef9-81d6-e5e5fc29d6ac\u001b[0m\n",
       "│   \u001b[37m   Assigned to: \u001b[0m\u001b[32mqueryValidator\u001b[0m\n",
       "│   \u001b[37m   Status: \u001b[0m\u001b[1;32m✅ Completed\u001b[0m\n",
       "│   └── \u001b[1;32m🤖 Agent: \u001b[0m\u001b[32mqueryValidator\u001b[0m\n",
       "│       \u001b[37m    Status: \u001b[0m\u001b[1;32m✅ Completed\u001b[0m\n",
       "│       └── \u001b[1;32m🔧 \u001b[0m\u001b[32mUsed fetchUniProt (1)\u001b[0m\n",
       "└── \u001b[1;32m📋 Task: 0efdf50d-e90f-4f85-bf31-1595702bb389\u001b[0m\n",
       "    \u001b[37m   Assigned to: \u001b[0m\u001b[32mProtein Selection Expert\u001b[0m\n",
       "    \u001b[37m   Status: \u001b[0m\u001b[1;32m✅ Completed\u001b[0m\n",
       "    └── \u001b[1;32m🤖 Agent: \u001b[0m\u001b[32mProtein Selection Expert\u001b[0m\n",
       "        \u001b[37m    Status: \u001b[0m\u001b[1;32m✅ Completed\u001b[0m\n",
       "        └── \u001b[1;32m🔧 \u001b[0m\u001b[32mUsed getFuncInfo (1)\u001b[0m\n"
      ]
     },
     "metadata": {},
     "output_type": "display_data"
    },
    {
     "data": {
      "text/html": [
       "<pre style=\"white-space:pre;overflow-x:auto;line-height:normal;font-family:Menlo,'DejaVu Sans Mono',consolas,'Courier New',monospace\"><span style=\"color: #008000; text-decoration-color: #008000\">╭──────────────────────────────────────────────── Task Completion ────────────────────────────────────────────────╮</span>\n",
       "<span style=\"color: #008000; text-decoration-color: #008000\">│</span>                                                                                                                 <span style=\"color: #008000; text-decoration-color: #008000\">│</span>\n",
       "<span style=\"color: #008000; text-decoration-color: #008000\">│</span>  <span style=\"color: #008000; text-decoration-color: #008000; font-weight: bold\">Task Completed</span>                                                                                                 <span style=\"color: #008000; text-decoration-color: #008000\">│</span>\n",
       "<span style=\"color: #008000; text-decoration-color: #008000\">│</span>  <span style=\"color: #c0c0c0; text-decoration-color: #c0c0c0\">Name: </span><span style=\"color: #008000; text-decoration-color: #008000\">0efdf50d-e90f-4f85-bf31-1595702bb389</span>                                                                     <span style=\"color: #008000; text-decoration-color: #008000\">│</span>\n",
       "<span style=\"color: #008000; text-decoration-color: #008000\">│</span>  <span style=\"color: #c0c0c0; text-decoration-color: #c0c0c0\">Agent: </span><span style=\"color: #008000; text-decoration-color: #008000\">Protein Selection Expert</span>                                                                                <span style=\"color: #008000; text-decoration-color: #008000\">│</span>\n",
       "<span style=\"color: #008000; text-decoration-color: #008000\">│</span>                                                                                                                 <span style=\"color: #008000; text-decoration-color: #008000\">│</span>\n",
       "<span style=\"color: #008000; text-decoration-color: #008000\">│</span>                                                                                                                 <span style=\"color: #008000; text-decoration-color: #008000\">│</span>\n",
       "<span style=\"color: #008000; text-decoration-color: #008000\">╰─────────────────────────────────────────────────────────────────────────────────────────────────────────────────╯</span>\n",
       "</pre>\n"
      ],
      "text/plain": [
       "\u001b[32m╭─\u001b[0m\u001b[32m───────────────────────────────────────────────\u001b[0m\u001b[32m Task Completion \u001b[0m\u001b[32m───────────────────────────────────────────────\u001b[0m\u001b[32m─╮\u001b[0m\n",
       "\u001b[32m│\u001b[0m                                                                                                                 \u001b[32m│\u001b[0m\n",
       "\u001b[32m│\u001b[0m  \u001b[1;32mTask Completed\u001b[0m                                                                                                 \u001b[32m│\u001b[0m\n",
       "\u001b[32m│\u001b[0m  \u001b[37mName: \u001b[0m\u001b[32m0efdf50d-e90f-4f85-bf31-1595702bb389\u001b[0m                                                                     \u001b[32m│\u001b[0m\n",
       "\u001b[32m│\u001b[0m  \u001b[37mAgent: \u001b[0m\u001b[32mProtein Selection Expert\u001b[0m                                                                                \u001b[32m│\u001b[0m\n",
       "\u001b[32m│\u001b[0m                                                                                                                 \u001b[32m│\u001b[0m\n",
       "\u001b[32m│\u001b[0m                                                                                                                 \u001b[32m│\u001b[0m\n",
       "\u001b[32m╰─────────────────────────────────────────────────────────────────────────────────────────────────────────────────╯\u001b[0m\n"
      ]
     },
     "metadata": {},
     "output_type": "display_data"
    },
    {
     "data": {
      "text/html": [
       "<pre style=\"white-space:pre;overflow-x:auto;line-height:normal;font-family:Menlo,'DejaVu Sans Mono',consolas,'Courier New',monospace\">\n",
       "</pre>\n"
      ],
      "text/plain": [
       "\n"
      ]
     },
     "metadata": {},
     "output_type": "display_data"
    },
    {
     "data": {
      "text/html": [
       "<pre style=\"white-space:pre;overflow-x:auto;line-height:normal;font-family:Menlo,'DejaVu Sans Mono',consolas,'Courier New',monospace\"><span style=\"color: #008080; text-decoration-color: #008080; font-weight: bold\">🚀 Crew: crew</span>\n",
       "├── <span style=\"color: #008000; text-decoration-color: #008000; font-weight: bold\">📋 Task: caf17771-5c84-4cff-a0c5-e14ae66db4c5</span>\n",
       "│   <span style=\"color: #c0c0c0; text-decoration-color: #c0c0c0\">   Assigned to: </span><span style=\"color: #008000; text-decoration-color: #008000\">queryGen</span>\n",
       "│   <span style=\"color: #c0c0c0; text-decoration-color: #c0c0c0\">   Status: </span><span style=\"color: #008000; text-decoration-color: #008000; font-weight: bold\">✅ Completed</span>\n",
       "│   └── <span style=\"color: #008000; text-decoration-color: #008000; font-weight: bold\">🤖 Agent: </span><span style=\"color: #008000; text-decoration-color: #008000\">queryGen</span>\n",
       "│       <span style=\"color: #c0c0c0; text-decoration-color: #c0c0c0\">    Status: </span><span style=\"color: #008000; text-decoration-color: #008000; font-weight: bold\">✅ Completed</span>\n",
       "├── <span style=\"color: #008000; text-decoration-color: #008000; font-weight: bold\">📋 Task: d056b313-31cd-4ef9-81d6-e5e5fc29d6ac</span>\n",
       "│   <span style=\"color: #c0c0c0; text-decoration-color: #c0c0c0\">   Assigned to: </span><span style=\"color: #008000; text-decoration-color: #008000\">queryValidator</span>\n",
       "│   <span style=\"color: #c0c0c0; text-decoration-color: #c0c0c0\">   Status: </span><span style=\"color: #008000; text-decoration-color: #008000; font-weight: bold\">✅ Completed</span>\n",
       "│   └── <span style=\"color: #008000; text-decoration-color: #008000; font-weight: bold\">🤖 Agent: </span><span style=\"color: #008000; text-decoration-color: #008000\">queryValidator</span>\n",
       "│       <span style=\"color: #c0c0c0; text-decoration-color: #c0c0c0\">    Status: </span><span style=\"color: #008000; text-decoration-color: #008000; font-weight: bold\">✅ Completed</span>\n",
       "│       └── <span style=\"color: #008000; text-decoration-color: #008000; font-weight: bold\">🔧 </span><span style=\"color: #008000; text-decoration-color: #008000\">Used fetchUniProt (1)</span>\n",
       "├── <span style=\"color: #008000; text-decoration-color: #008000; font-weight: bold\">📋 Task: 0efdf50d-e90f-4f85-bf31-1595702bb389</span>\n",
       "│   <span style=\"color: #c0c0c0; text-decoration-color: #c0c0c0\">   Assigned to: </span><span style=\"color: #008000; text-decoration-color: #008000\">Protein Selection Expert</span>\n",
       "│   <span style=\"color: #c0c0c0; text-decoration-color: #c0c0c0\">   Status: </span><span style=\"color: #008000; text-decoration-color: #008000; font-weight: bold\">✅ Completed</span>\n",
       "│   └── <span style=\"color: #008000; text-decoration-color: #008000; font-weight: bold\">🤖 Agent: </span><span style=\"color: #008000; text-decoration-color: #008000\">Protein Selection Expert</span>\n",
       "│       <span style=\"color: #c0c0c0; text-decoration-color: #c0c0c0\">    Status: </span><span style=\"color: #008000; text-decoration-color: #008000; font-weight: bold\">✅ Completed</span>\n",
       "│       └── <span style=\"color: #008000; text-decoration-color: #008000; font-weight: bold\">🔧 </span><span style=\"color: #008000; text-decoration-color: #008000\">Used getFuncInfo (1)</span>\n",
       "└── <span style=\"color: #808000; text-decoration-color: #808000; font-weight: bold\">📋 Task: 092f99b0-aae9-4434-9fcb-22083d6bfd97</span>\n",
       "    <span style=\"color: #c0c0c0; text-decoration-color: #c0c0c0\">   Status: </span><span style=\"color: #bfbf7f; text-decoration-color: #bfbf7f\">Executing Task...</span>\n",
       "</pre>\n"
      ],
      "text/plain": [
       "\u001b[1;36m🚀 Crew: \u001b[0m\u001b[1;36mcrew\u001b[0m\n",
       "├── \u001b[1;32m📋 Task: caf17771-5c84-4cff-a0c5-e14ae66db4c5\u001b[0m\n",
       "│   \u001b[37m   Assigned to: \u001b[0m\u001b[32mqueryGen\u001b[0m\n",
       "│   \u001b[37m   Status: \u001b[0m\u001b[1;32m✅ Completed\u001b[0m\n",
       "│   └── \u001b[1;32m🤖 Agent: \u001b[0m\u001b[32mqueryGen\u001b[0m\n",
       "│       \u001b[37m    Status: \u001b[0m\u001b[1;32m✅ Completed\u001b[0m\n",
       "├── \u001b[1;32m📋 Task: d056b313-31cd-4ef9-81d6-e5e5fc29d6ac\u001b[0m\n",
       "│   \u001b[37m   Assigned to: \u001b[0m\u001b[32mqueryValidator\u001b[0m\n",
       "│   \u001b[37m   Status: \u001b[0m\u001b[1;32m✅ Completed\u001b[0m\n",
       "│   └── \u001b[1;32m🤖 Agent: \u001b[0m\u001b[32mqueryValidator\u001b[0m\n",
       "│       \u001b[37m    Status: \u001b[0m\u001b[1;32m✅ Completed\u001b[0m\n",
       "│       └── \u001b[1;32m🔧 \u001b[0m\u001b[32mUsed fetchUniProt (1)\u001b[0m\n",
       "├── \u001b[1;32m📋 Task: 0efdf50d-e90f-4f85-bf31-1595702bb389\u001b[0m\n",
       "│   \u001b[37m   Assigned to: \u001b[0m\u001b[32mProtein Selection Expert\u001b[0m\n",
       "│   \u001b[37m   Status: \u001b[0m\u001b[1;32m✅ Completed\u001b[0m\n",
       "│   └── \u001b[1;32m🤖 Agent: \u001b[0m\u001b[32mProtein Selection Expert\u001b[0m\n",
       "│       \u001b[37m    Status: \u001b[0m\u001b[1;32m✅ Completed\u001b[0m\n",
       "│       └── \u001b[1;32m🔧 \u001b[0m\u001b[32mUsed getFuncInfo (1)\u001b[0m\n",
       "└── \u001b[1;33m📋 Task: 092f99b0-aae9-4434-9fcb-22083d6bfd97\u001b[0m\n",
       "    \u001b[37m   Status: \u001b[0m\u001b[2;33mExecuting Task...\u001b[0m\n"
      ]
     },
     "metadata": {},
     "output_type": "display_data"
    },
    {
     "data": {
      "text/html": [
       "<pre style=\"white-space:pre;overflow-x:auto;line-height:normal;font-family:Menlo,'DejaVu Sans Mono',consolas,'Courier New',monospace\">\n",
       "</pre>\n"
      ],
      "text/plain": [
       "\n"
      ]
     },
     "metadata": {},
     "output_type": "display_data"
    },
    {
     "data": {
      "text/html": [
       "<pre style=\"white-space:pre;overflow-x:auto;line-height:normal;font-family:Menlo,'DejaVu Sans Mono',consolas,'Courier New',monospace\"><span style=\"color: #008080; text-decoration-color: #008080; font-weight: bold\">🚀 Crew: crew</span>\n",
       "├── <span style=\"color: #008000; text-decoration-color: #008000; font-weight: bold\">📋 Task: caf17771-5c84-4cff-a0c5-e14ae66db4c5</span>\n",
       "│   <span style=\"color: #c0c0c0; text-decoration-color: #c0c0c0\">   Assigned to: </span><span style=\"color: #008000; text-decoration-color: #008000\">queryGen</span>\n",
       "│   <span style=\"color: #c0c0c0; text-decoration-color: #c0c0c0\">   Status: </span><span style=\"color: #008000; text-decoration-color: #008000; font-weight: bold\">✅ Completed</span>\n",
       "│   └── <span style=\"color: #008000; text-decoration-color: #008000; font-weight: bold\">🤖 Agent: </span><span style=\"color: #008000; text-decoration-color: #008000\">queryGen</span>\n",
       "│       <span style=\"color: #c0c0c0; text-decoration-color: #c0c0c0\">    Status: </span><span style=\"color: #008000; text-decoration-color: #008000; font-weight: bold\">✅ Completed</span>\n",
       "├── <span style=\"color: #008000; text-decoration-color: #008000; font-weight: bold\">📋 Task: d056b313-31cd-4ef9-81d6-e5e5fc29d6ac</span>\n",
       "│   <span style=\"color: #c0c0c0; text-decoration-color: #c0c0c0\">   Assigned to: </span><span style=\"color: #008000; text-decoration-color: #008000\">queryValidator</span>\n",
       "│   <span style=\"color: #c0c0c0; text-decoration-color: #c0c0c0\">   Status: </span><span style=\"color: #008000; text-decoration-color: #008000; font-weight: bold\">✅ Completed</span>\n",
       "│   └── <span style=\"color: #008000; text-decoration-color: #008000; font-weight: bold\">🤖 Agent: </span><span style=\"color: #008000; text-decoration-color: #008000\">queryValidator</span>\n",
       "│       <span style=\"color: #c0c0c0; text-decoration-color: #c0c0c0\">    Status: </span><span style=\"color: #008000; text-decoration-color: #008000; font-weight: bold\">✅ Completed</span>\n",
       "│       └── <span style=\"color: #008000; text-decoration-color: #008000; font-weight: bold\">🔧 </span><span style=\"color: #008000; text-decoration-color: #008000\">Used fetchUniProt (1)</span>\n",
       "├── <span style=\"color: #008000; text-decoration-color: #008000; font-weight: bold\">📋 Task: 0efdf50d-e90f-4f85-bf31-1595702bb389</span>\n",
       "│   <span style=\"color: #c0c0c0; text-decoration-color: #c0c0c0\">   Assigned to: </span><span style=\"color: #008000; text-decoration-color: #008000\">Protein Selection Expert</span>\n",
       "│   <span style=\"color: #c0c0c0; text-decoration-color: #c0c0c0\">   Status: </span><span style=\"color: #008000; text-decoration-color: #008000; font-weight: bold\">✅ Completed</span>\n",
       "│   └── <span style=\"color: #008000; text-decoration-color: #008000; font-weight: bold\">🤖 Agent: </span><span style=\"color: #008000; text-decoration-color: #008000\">Protein Selection Expert</span>\n",
       "│       <span style=\"color: #c0c0c0; text-decoration-color: #c0c0c0\">    Status: </span><span style=\"color: #008000; text-decoration-color: #008000; font-weight: bold\">✅ Completed</span>\n",
       "│       └── <span style=\"color: #008000; text-decoration-color: #008000; font-weight: bold\">🔧 </span><span style=\"color: #008000; text-decoration-color: #008000\">Used getFuncInfo (1)</span>\n",
       "└── <span style=\"color: #808000; text-decoration-color: #808000; font-weight: bold\">📋 Task: 092f99b0-aae9-4434-9fcb-22083d6bfd97</span>\n",
       "    <span style=\"color: #c0c0c0; text-decoration-color: #c0c0c0\">   Status: </span><span style=\"color: #bfbf7f; text-decoration-color: #bfbf7f\">Executing Task...</span>\n",
       "    └── <span style=\"color: #008000; text-decoration-color: #008000; font-weight: bold\">🤖 Agent: </span><span style=\"color: #008000; text-decoration-color: #008000\">Protein Scaffolding Specialist</span>\n",
       "        <span style=\"color: #c0c0c0; text-decoration-color: #c0c0c0\">    Status: </span><span style=\"color: #008000; text-decoration-color: #008000; font-weight: bold\">In Progress</span>\n",
       "</pre>\n"
      ],
      "text/plain": [
       "\u001b[1;36m🚀 Crew: \u001b[0m\u001b[1;36mcrew\u001b[0m\n",
       "├── \u001b[1;32m📋 Task: caf17771-5c84-4cff-a0c5-e14ae66db4c5\u001b[0m\n",
       "│   \u001b[37m   Assigned to: \u001b[0m\u001b[32mqueryGen\u001b[0m\n",
       "│   \u001b[37m   Status: \u001b[0m\u001b[1;32m✅ Completed\u001b[0m\n",
       "│   └── \u001b[1;32m🤖 Agent: \u001b[0m\u001b[32mqueryGen\u001b[0m\n",
       "│       \u001b[37m    Status: \u001b[0m\u001b[1;32m✅ Completed\u001b[0m\n",
       "├── \u001b[1;32m📋 Task: d056b313-31cd-4ef9-81d6-e5e5fc29d6ac\u001b[0m\n",
       "│   \u001b[37m   Assigned to: \u001b[0m\u001b[32mqueryValidator\u001b[0m\n",
       "│   \u001b[37m   Status: \u001b[0m\u001b[1;32m✅ Completed\u001b[0m\n",
       "│   └── \u001b[1;32m🤖 Agent: \u001b[0m\u001b[32mqueryValidator\u001b[0m\n",
       "│       \u001b[37m    Status: \u001b[0m\u001b[1;32m✅ Completed\u001b[0m\n",
       "│       └── \u001b[1;32m🔧 \u001b[0m\u001b[32mUsed fetchUniProt (1)\u001b[0m\n",
       "├── \u001b[1;32m📋 Task: 0efdf50d-e90f-4f85-bf31-1595702bb389\u001b[0m\n",
       "│   \u001b[37m   Assigned to: \u001b[0m\u001b[32mProtein Selection Expert\u001b[0m\n",
       "│   \u001b[37m   Status: \u001b[0m\u001b[1;32m✅ Completed\u001b[0m\n",
       "│   └── \u001b[1;32m🤖 Agent: \u001b[0m\u001b[32mProtein Selection Expert\u001b[0m\n",
       "│       \u001b[37m    Status: \u001b[0m\u001b[1;32m✅ Completed\u001b[0m\n",
       "│       └── \u001b[1;32m🔧 \u001b[0m\u001b[32mUsed getFuncInfo (1)\u001b[0m\n",
       "└── \u001b[1;33m📋 Task: 092f99b0-aae9-4434-9fcb-22083d6bfd97\u001b[0m\n",
       "    \u001b[37m   Status: \u001b[0m\u001b[2;33mExecuting Task...\u001b[0m\n",
       "    └── \u001b[1;32m🤖 Agent: \u001b[0m\u001b[32mProtein Scaffolding Specialist\u001b[0m\n",
       "        \u001b[37m    Status: \u001b[0m\u001b[1;32mIn Progress\u001b[0m\n"
      ]
     },
     "metadata": {},
     "output_type": "display_data"
    },
    {
     "data": {
      "text/html": [
       "<pre style=\"white-space:pre;overflow-x:auto;line-height:normal;font-family:Menlo,'DejaVu Sans Mono',consolas,'Courier New',monospace\">\n",
       "</pre>\n"
      ],
      "text/plain": [
       "\n"
      ]
     },
     "metadata": {},
     "output_type": "display_data"
    },
    {
     "name": "stdout",
     "output_type": "stream",
     "text": [
      "\u001b[1m\u001b[95m# Agent:\u001b[00m \u001b[1m\u001b[92mProtein Scaffolding Specialist\u001b[00m\n",
      "\u001b[95m## Task:\u001b[00m \u001b[92mAnalyze the provided UniProt features in JSON format, identifying all functional sites (active sites, binding sites, metal-binding sites, etc.). Interpret the user's desired protein function described in natural language and determine which motifs should be preserved as anchors and which regions masked for redesign. Identify the most appropriate scaffolding approach and provide clear reasoning for your decisions, including motif positions. unction to be preserved: I want a protein that can help in the DNA binding.. use the protein id from previous task\u001b[00m\n"
     ]
    },
    {
     "data": {
      "text/html": [
       "<pre style=\"white-space:pre;overflow-x:auto;line-height:normal;font-family:Menlo,'DejaVu Sans Mono',consolas,'Courier New',monospace\"><span style=\"color: #008080; text-decoration-color: #008080; font-weight: bold\">🚀 Crew: crew</span>\n",
       "├── <span style=\"color: #008000; text-decoration-color: #008000; font-weight: bold\">📋 Task: caf17771-5c84-4cff-a0c5-e14ae66db4c5</span>\n",
       "│   <span style=\"color: #c0c0c0; text-decoration-color: #c0c0c0\">   Assigned to: </span><span style=\"color: #008000; text-decoration-color: #008000\">queryGen</span>\n",
       "│   <span style=\"color: #c0c0c0; text-decoration-color: #c0c0c0\">   Status: </span><span style=\"color: #008000; text-decoration-color: #008000; font-weight: bold\">✅ Completed</span>\n",
       "│   └── <span style=\"color: #008000; text-decoration-color: #008000; font-weight: bold\">🤖 Agent: </span><span style=\"color: #008000; text-decoration-color: #008000\">queryGen</span>\n",
       "│       <span style=\"color: #c0c0c0; text-decoration-color: #c0c0c0\">    Status: </span><span style=\"color: #008000; text-decoration-color: #008000; font-weight: bold\">✅ Completed</span>\n",
       "├── <span style=\"color: #008000; text-decoration-color: #008000; font-weight: bold\">📋 Task: d056b313-31cd-4ef9-81d6-e5e5fc29d6ac</span>\n",
       "│   <span style=\"color: #c0c0c0; text-decoration-color: #c0c0c0\">   Assigned to: </span><span style=\"color: #008000; text-decoration-color: #008000\">queryValidator</span>\n",
       "│   <span style=\"color: #c0c0c0; text-decoration-color: #c0c0c0\">   Status: </span><span style=\"color: #008000; text-decoration-color: #008000; font-weight: bold\">✅ Completed</span>\n",
       "│   └── <span style=\"color: #008000; text-decoration-color: #008000; font-weight: bold\">🤖 Agent: </span><span style=\"color: #008000; text-decoration-color: #008000\">queryValidator</span>\n",
       "│       <span style=\"color: #c0c0c0; text-decoration-color: #c0c0c0\">    Status: </span><span style=\"color: #008000; text-decoration-color: #008000; font-weight: bold\">✅ Completed</span>\n",
       "│       └── <span style=\"color: #008000; text-decoration-color: #008000; font-weight: bold\">🔧 </span><span style=\"color: #008000; text-decoration-color: #008000\">Used fetchUniProt (1)</span>\n",
       "├── <span style=\"color: #008000; text-decoration-color: #008000; font-weight: bold\">📋 Task: 0efdf50d-e90f-4f85-bf31-1595702bb389</span>\n",
       "│   <span style=\"color: #c0c0c0; text-decoration-color: #c0c0c0\">   Assigned to: </span><span style=\"color: #008000; text-decoration-color: #008000\">Protein Selection Expert</span>\n",
       "│   <span style=\"color: #c0c0c0; text-decoration-color: #c0c0c0\">   Status: </span><span style=\"color: #008000; text-decoration-color: #008000; font-weight: bold\">✅ Completed</span>\n",
       "│   └── <span style=\"color: #008000; text-decoration-color: #008000; font-weight: bold\">🤖 Agent: </span><span style=\"color: #008000; text-decoration-color: #008000\">Protein Selection Expert</span>\n",
       "│       <span style=\"color: #c0c0c0; text-decoration-color: #c0c0c0\">    Status: </span><span style=\"color: #008000; text-decoration-color: #008000; font-weight: bold\">✅ Completed</span>\n",
       "│       └── <span style=\"color: #008000; text-decoration-color: #008000; font-weight: bold\">🔧 </span><span style=\"color: #008000; text-decoration-color: #008000\">Used getFuncInfo (1)</span>\n",
       "└── <span style=\"color: #808000; text-decoration-color: #808000; font-weight: bold\">📋 Task: 092f99b0-aae9-4434-9fcb-22083d6bfd97</span>\n",
       "    <span style=\"color: #c0c0c0; text-decoration-color: #c0c0c0\">   Status: </span><span style=\"color: #bfbf7f; text-decoration-color: #bfbf7f\">Executing Task...</span>\n",
       "    └── <span style=\"color: #008000; text-decoration-color: #008000; font-weight: bold\">🤖 Agent: </span><span style=\"color: #008000; text-decoration-color: #008000\">Protein Scaffolding Specialist</span>\n",
       "        <span style=\"color: #c0c0c0; text-decoration-color: #c0c0c0\">    Status: </span><span style=\"color: #008000; text-decoration-color: #008000; font-weight: bold\">In Progress</span>\n",
       "        └── <span style=\"color: #000080; text-decoration-color: #000080; font-weight: bold\">🧠 </span><span style=\"color: #000080; text-decoration-color: #000080\">Thinking...</span>\n",
       "</pre>\n"
      ],
      "text/plain": [
       "\u001b[1;36m🚀 Crew: \u001b[0m\u001b[1;36mcrew\u001b[0m\n",
       "├── \u001b[1;32m📋 Task: caf17771-5c84-4cff-a0c5-e14ae66db4c5\u001b[0m\n",
       "│   \u001b[37m   Assigned to: \u001b[0m\u001b[32mqueryGen\u001b[0m\n",
       "│   \u001b[37m   Status: \u001b[0m\u001b[1;32m✅ Completed\u001b[0m\n",
       "│   └── \u001b[1;32m🤖 Agent: \u001b[0m\u001b[32mqueryGen\u001b[0m\n",
       "│       \u001b[37m    Status: \u001b[0m\u001b[1;32m✅ Completed\u001b[0m\n",
       "├── \u001b[1;32m📋 Task: d056b313-31cd-4ef9-81d6-e5e5fc29d6ac\u001b[0m\n",
       "│   \u001b[37m   Assigned to: \u001b[0m\u001b[32mqueryValidator\u001b[0m\n",
       "│   \u001b[37m   Status: \u001b[0m\u001b[1;32m✅ Completed\u001b[0m\n",
       "│   └── \u001b[1;32m🤖 Agent: \u001b[0m\u001b[32mqueryValidator\u001b[0m\n",
       "│       \u001b[37m    Status: \u001b[0m\u001b[1;32m✅ Completed\u001b[0m\n",
       "│       └── \u001b[1;32m🔧 \u001b[0m\u001b[32mUsed fetchUniProt (1)\u001b[0m\n",
       "├── \u001b[1;32m📋 Task: 0efdf50d-e90f-4f85-bf31-1595702bb389\u001b[0m\n",
       "│   \u001b[37m   Assigned to: \u001b[0m\u001b[32mProtein Selection Expert\u001b[0m\n",
       "│   \u001b[37m   Status: \u001b[0m\u001b[1;32m✅ Completed\u001b[0m\n",
       "│   └── \u001b[1;32m🤖 Agent: \u001b[0m\u001b[32mProtein Selection Expert\u001b[0m\n",
       "│       \u001b[37m    Status: \u001b[0m\u001b[1;32m✅ Completed\u001b[0m\n",
       "│       └── \u001b[1;32m🔧 \u001b[0m\u001b[32mUsed getFuncInfo (1)\u001b[0m\n",
       "└── \u001b[1;33m📋 Task: 092f99b0-aae9-4434-9fcb-22083d6bfd97\u001b[0m\n",
       "    \u001b[37m   Status: \u001b[0m\u001b[2;33mExecuting Task...\u001b[0m\n",
       "    └── \u001b[1;32m🤖 Agent: \u001b[0m\u001b[32mProtein Scaffolding Specialist\u001b[0m\n",
       "        \u001b[37m    Status: \u001b[0m\u001b[1;32mIn Progress\u001b[0m\n",
       "        └── \u001b[1;34m🧠 \u001b[0m\u001b[34mThinking...\u001b[0m\n"
      ]
     },
     "metadata": {},
     "output_type": "display_data"
    },
    {
     "data": {
      "text/html": [
       "<pre style=\"white-space:pre;overflow-x:auto;line-height:normal;font-family:Menlo,'DejaVu Sans Mono',consolas,'Courier New',monospace\">\n",
       "</pre>\n"
      ],
      "text/plain": [
       "\n"
      ]
     },
     "metadata": {},
     "output_type": "display_data"
    },
    {
     "data": {
      "text/html": [
       "<pre style=\"white-space:pre;overflow-x:auto;line-height:normal;font-family:Menlo,'DejaVu Sans Mono',consolas,'Courier New',monospace\"><span style=\"color: #008080; text-decoration-color: #008080; font-weight: bold\">🚀 Crew: crew</span>\n",
       "├── <span style=\"color: #008000; text-decoration-color: #008000; font-weight: bold\">📋 Task: caf17771-5c84-4cff-a0c5-e14ae66db4c5</span>\n",
       "│   <span style=\"color: #c0c0c0; text-decoration-color: #c0c0c0\">   Assigned to: </span><span style=\"color: #008000; text-decoration-color: #008000\">queryGen</span>\n",
       "│   <span style=\"color: #c0c0c0; text-decoration-color: #c0c0c0\">   Status: </span><span style=\"color: #008000; text-decoration-color: #008000; font-weight: bold\">✅ Completed</span>\n",
       "│   └── <span style=\"color: #008000; text-decoration-color: #008000; font-weight: bold\">🤖 Agent: </span><span style=\"color: #008000; text-decoration-color: #008000\">queryGen</span>\n",
       "│       <span style=\"color: #c0c0c0; text-decoration-color: #c0c0c0\">    Status: </span><span style=\"color: #008000; text-decoration-color: #008000; font-weight: bold\">✅ Completed</span>\n",
       "├── <span style=\"color: #008000; text-decoration-color: #008000; font-weight: bold\">📋 Task: d056b313-31cd-4ef9-81d6-e5e5fc29d6ac</span>\n",
       "│   <span style=\"color: #c0c0c0; text-decoration-color: #c0c0c0\">   Assigned to: </span><span style=\"color: #008000; text-decoration-color: #008000\">queryValidator</span>\n",
       "│   <span style=\"color: #c0c0c0; text-decoration-color: #c0c0c0\">   Status: </span><span style=\"color: #008000; text-decoration-color: #008000; font-weight: bold\">✅ Completed</span>\n",
       "│   └── <span style=\"color: #008000; text-decoration-color: #008000; font-weight: bold\">🤖 Agent: </span><span style=\"color: #008000; text-decoration-color: #008000\">queryValidator</span>\n",
       "│       <span style=\"color: #c0c0c0; text-decoration-color: #c0c0c0\">    Status: </span><span style=\"color: #008000; text-decoration-color: #008000; font-weight: bold\">✅ Completed</span>\n",
       "│       └── <span style=\"color: #008000; text-decoration-color: #008000; font-weight: bold\">🔧 </span><span style=\"color: #008000; text-decoration-color: #008000\">Used fetchUniProt (1)</span>\n",
       "├── <span style=\"color: #008000; text-decoration-color: #008000; font-weight: bold\">📋 Task: 0efdf50d-e90f-4f85-bf31-1595702bb389</span>\n",
       "│   <span style=\"color: #c0c0c0; text-decoration-color: #c0c0c0\">   Assigned to: </span><span style=\"color: #008000; text-decoration-color: #008000\">Protein Selection Expert</span>\n",
       "│   <span style=\"color: #c0c0c0; text-decoration-color: #c0c0c0\">   Status: </span><span style=\"color: #008000; text-decoration-color: #008000; font-weight: bold\">✅ Completed</span>\n",
       "│   └── <span style=\"color: #008000; text-decoration-color: #008000; font-weight: bold\">🤖 Agent: </span><span style=\"color: #008000; text-decoration-color: #008000\">Protein Selection Expert</span>\n",
       "│       <span style=\"color: #c0c0c0; text-decoration-color: #c0c0c0\">    Status: </span><span style=\"color: #008000; text-decoration-color: #008000; font-weight: bold\">✅ Completed</span>\n",
       "│       └── <span style=\"color: #008000; text-decoration-color: #008000; font-weight: bold\">🔧 </span><span style=\"color: #008000; text-decoration-color: #008000\">Used getFuncInfo (1)</span>\n",
       "└── <span style=\"color: #808000; text-decoration-color: #808000; font-weight: bold\">📋 Task: 092f99b0-aae9-4434-9fcb-22083d6bfd97</span>\n",
       "    <span style=\"color: #c0c0c0; text-decoration-color: #c0c0c0\">   Status: </span><span style=\"color: #bfbf7f; text-decoration-color: #bfbf7f\">Executing Task...</span>\n",
       "    └── <span style=\"color: #008000; text-decoration-color: #008000; font-weight: bold\">🤖 Agent: </span><span style=\"color: #008000; text-decoration-color: #008000\">Protein Scaffolding Specialist</span>\n",
       "        <span style=\"color: #c0c0c0; text-decoration-color: #c0c0c0\">    Status: </span><span style=\"color: #008000; text-decoration-color: #008000; font-weight: bold\">In Progress</span>\n",
       "</pre>\n"
      ],
      "text/plain": [
       "\u001b[1;36m🚀 Crew: \u001b[0m\u001b[1;36mcrew\u001b[0m\n",
       "├── \u001b[1;32m📋 Task: caf17771-5c84-4cff-a0c5-e14ae66db4c5\u001b[0m\n",
       "│   \u001b[37m   Assigned to: \u001b[0m\u001b[32mqueryGen\u001b[0m\n",
       "│   \u001b[37m   Status: \u001b[0m\u001b[1;32m✅ Completed\u001b[0m\n",
       "│   └── \u001b[1;32m🤖 Agent: \u001b[0m\u001b[32mqueryGen\u001b[0m\n",
       "│       \u001b[37m    Status: \u001b[0m\u001b[1;32m✅ Completed\u001b[0m\n",
       "├── \u001b[1;32m📋 Task: d056b313-31cd-4ef9-81d6-e5e5fc29d6ac\u001b[0m\n",
       "│   \u001b[37m   Assigned to: \u001b[0m\u001b[32mqueryValidator\u001b[0m\n",
       "│   \u001b[37m   Status: \u001b[0m\u001b[1;32m✅ Completed\u001b[0m\n",
       "│   └── \u001b[1;32m🤖 Agent: \u001b[0m\u001b[32mqueryValidator\u001b[0m\n",
       "│       \u001b[37m    Status: \u001b[0m\u001b[1;32m✅ Completed\u001b[0m\n",
       "│       └── \u001b[1;32m🔧 \u001b[0m\u001b[32mUsed fetchUniProt (1)\u001b[0m\n",
       "├── \u001b[1;32m📋 Task: 0efdf50d-e90f-4f85-bf31-1595702bb389\u001b[0m\n",
       "│   \u001b[37m   Assigned to: \u001b[0m\u001b[32mProtein Selection Expert\u001b[0m\n",
       "│   \u001b[37m   Status: \u001b[0m\u001b[1;32m✅ Completed\u001b[0m\n",
       "│   └── \u001b[1;32m🤖 Agent: \u001b[0m\u001b[32mProtein Selection Expert\u001b[0m\n",
       "│       \u001b[37m    Status: \u001b[0m\u001b[1;32m✅ Completed\u001b[0m\n",
       "│       └── \u001b[1;32m🔧 \u001b[0m\u001b[32mUsed getFuncInfo (1)\u001b[0m\n",
       "└── \u001b[1;33m📋 Task: 092f99b0-aae9-4434-9fcb-22083d6bfd97\u001b[0m\n",
       "    \u001b[37m   Status: \u001b[0m\u001b[2;33mExecuting Task...\u001b[0m\n",
       "    └── \u001b[1;32m🤖 Agent: \u001b[0m\u001b[32mProtein Scaffolding Specialist\u001b[0m\n",
       "        \u001b[37m    Status: \u001b[0m\u001b[1;32mIn Progress\u001b[0m\n"
      ]
     },
     "metadata": {},
     "output_type": "display_data"
    },
    {
     "data": {
      "text/html": [
       "<pre style=\"white-space:pre;overflow-x:auto;line-height:normal;font-family:Menlo,'DejaVu Sans Mono',consolas,'Courier New',monospace\">\n",
       "</pre>\n"
      ],
      "text/plain": [
       "\n"
      ]
     },
     "metadata": {},
     "output_type": "display_data"
    },
    {
     "data": {
      "text/html": [
       "<pre style=\"white-space:pre;overflow-x:auto;line-height:normal;font-family:Menlo,'DejaVu Sans Mono',consolas,'Courier New',monospace\"><span style=\"color: #008080; text-decoration-color: #008080; font-weight: bold\">🚀 Crew: crew</span>\n",
       "├── <span style=\"color: #008000; text-decoration-color: #008000; font-weight: bold\">📋 Task: caf17771-5c84-4cff-a0c5-e14ae66db4c5</span>\n",
       "│   <span style=\"color: #c0c0c0; text-decoration-color: #c0c0c0\">   Assigned to: </span><span style=\"color: #008000; text-decoration-color: #008000\">queryGen</span>\n",
       "│   <span style=\"color: #c0c0c0; text-decoration-color: #c0c0c0\">   Status: </span><span style=\"color: #008000; text-decoration-color: #008000; font-weight: bold\">✅ Completed</span>\n",
       "│   └── <span style=\"color: #008000; text-decoration-color: #008000; font-weight: bold\">🤖 Agent: </span><span style=\"color: #008000; text-decoration-color: #008000\">queryGen</span>\n",
       "│       <span style=\"color: #c0c0c0; text-decoration-color: #c0c0c0\">    Status: </span><span style=\"color: #008000; text-decoration-color: #008000; font-weight: bold\">✅ Completed</span>\n",
       "├── <span style=\"color: #008000; text-decoration-color: #008000; font-weight: bold\">📋 Task: d056b313-31cd-4ef9-81d6-e5e5fc29d6ac</span>\n",
       "│   <span style=\"color: #c0c0c0; text-decoration-color: #c0c0c0\">   Assigned to: </span><span style=\"color: #008000; text-decoration-color: #008000\">queryValidator</span>\n",
       "│   <span style=\"color: #c0c0c0; text-decoration-color: #c0c0c0\">   Status: </span><span style=\"color: #008000; text-decoration-color: #008000; font-weight: bold\">✅ Completed</span>\n",
       "│   └── <span style=\"color: #008000; text-decoration-color: #008000; font-weight: bold\">🤖 Agent: </span><span style=\"color: #008000; text-decoration-color: #008000\">queryValidator</span>\n",
       "│       <span style=\"color: #c0c0c0; text-decoration-color: #c0c0c0\">    Status: </span><span style=\"color: #008000; text-decoration-color: #008000; font-weight: bold\">✅ Completed</span>\n",
       "│       └── <span style=\"color: #008000; text-decoration-color: #008000; font-weight: bold\">🔧 </span><span style=\"color: #008000; text-decoration-color: #008000\">Used fetchUniProt (1)</span>\n",
       "├── <span style=\"color: #008000; text-decoration-color: #008000; font-weight: bold\">📋 Task: 0efdf50d-e90f-4f85-bf31-1595702bb389</span>\n",
       "│   <span style=\"color: #c0c0c0; text-decoration-color: #c0c0c0\">   Assigned to: </span><span style=\"color: #008000; text-decoration-color: #008000\">Protein Selection Expert</span>\n",
       "│   <span style=\"color: #c0c0c0; text-decoration-color: #c0c0c0\">   Status: </span><span style=\"color: #008000; text-decoration-color: #008000; font-weight: bold\">✅ Completed</span>\n",
       "│   └── <span style=\"color: #008000; text-decoration-color: #008000; font-weight: bold\">🤖 Agent: </span><span style=\"color: #008000; text-decoration-color: #008000\">Protein Selection Expert</span>\n",
       "│       <span style=\"color: #c0c0c0; text-decoration-color: #c0c0c0\">    Status: </span><span style=\"color: #008000; text-decoration-color: #008000; font-weight: bold\">✅ Completed</span>\n",
       "│       └── <span style=\"color: #008000; text-decoration-color: #008000; font-weight: bold\">🔧 </span><span style=\"color: #008000; text-decoration-color: #008000\">Used getFuncInfo (1)</span>\n",
       "└── <span style=\"color: #808000; text-decoration-color: #808000; font-weight: bold\">📋 Task: 092f99b0-aae9-4434-9fcb-22083d6bfd97</span>\n",
       "    <span style=\"color: #c0c0c0; text-decoration-color: #c0c0c0\">   Status: </span><span style=\"color: #bfbf7f; text-decoration-color: #bfbf7f\">Executing Task...</span>\n",
       "    └── <span style=\"color: #008000; text-decoration-color: #008000; font-weight: bold\">🤖 Agent: </span><span style=\"color: #008000; text-decoration-color: #008000\">Protein Scaffolding Specialist</span>\n",
       "        <span style=\"color: #c0c0c0; text-decoration-color: #c0c0c0\">    Status: </span><span style=\"color: #008000; text-decoration-color: #008000; font-weight: bold\">In Progress</span>\n",
       "        └── <span style=\"color: #808000; text-decoration-color: #808000; font-weight: bold\">🔧 </span><span style=\"color: #808000; text-decoration-color: #808000\">Using getSiteInfo (1)</span>\n",
       "</pre>\n"
      ],
      "text/plain": [
       "\u001b[1;36m🚀 Crew: \u001b[0m\u001b[1;36mcrew\u001b[0m\n",
       "├── \u001b[1;32m📋 Task: caf17771-5c84-4cff-a0c5-e14ae66db4c5\u001b[0m\n",
       "│   \u001b[37m   Assigned to: \u001b[0m\u001b[32mqueryGen\u001b[0m\n",
       "│   \u001b[37m   Status: \u001b[0m\u001b[1;32m✅ Completed\u001b[0m\n",
       "│   └── \u001b[1;32m🤖 Agent: \u001b[0m\u001b[32mqueryGen\u001b[0m\n",
       "│       \u001b[37m    Status: \u001b[0m\u001b[1;32m✅ Completed\u001b[0m\n",
       "├── \u001b[1;32m📋 Task: d056b313-31cd-4ef9-81d6-e5e5fc29d6ac\u001b[0m\n",
       "│   \u001b[37m   Assigned to: \u001b[0m\u001b[32mqueryValidator\u001b[0m\n",
       "│   \u001b[37m   Status: \u001b[0m\u001b[1;32m✅ Completed\u001b[0m\n",
       "│   └── \u001b[1;32m🤖 Agent: \u001b[0m\u001b[32mqueryValidator\u001b[0m\n",
       "│       \u001b[37m    Status: \u001b[0m\u001b[1;32m✅ Completed\u001b[0m\n",
       "│       └── \u001b[1;32m🔧 \u001b[0m\u001b[32mUsed fetchUniProt (1)\u001b[0m\n",
       "├── \u001b[1;32m📋 Task: 0efdf50d-e90f-4f85-bf31-1595702bb389\u001b[0m\n",
       "│   \u001b[37m   Assigned to: \u001b[0m\u001b[32mProtein Selection Expert\u001b[0m\n",
       "│   \u001b[37m   Status: \u001b[0m\u001b[1;32m✅ Completed\u001b[0m\n",
       "│   └── \u001b[1;32m🤖 Agent: \u001b[0m\u001b[32mProtein Selection Expert\u001b[0m\n",
       "│       \u001b[37m    Status: \u001b[0m\u001b[1;32m✅ Completed\u001b[0m\n",
       "│       └── \u001b[1;32m🔧 \u001b[0m\u001b[32mUsed getFuncInfo (1)\u001b[0m\n",
       "└── \u001b[1;33m📋 Task: 092f99b0-aae9-4434-9fcb-22083d6bfd97\u001b[0m\n",
       "    \u001b[37m   Status: \u001b[0m\u001b[2;33mExecuting Task...\u001b[0m\n",
       "    └── \u001b[1;32m🤖 Agent: \u001b[0m\u001b[32mProtein Scaffolding Specialist\u001b[0m\n",
       "        \u001b[37m    Status: \u001b[0m\u001b[1;32mIn Progress\u001b[0m\n",
       "        └── \u001b[1;33m🔧 \u001b[0m\u001b[33mUsing getSiteInfo (1)\u001b[0m\n"
      ]
     },
     "metadata": {},
     "output_type": "display_data"
    },
    {
     "data": {
      "text/html": [
       "<pre style=\"white-space:pre;overflow-x:auto;line-height:normal;font-family:Menlo,'DejaVu Sans Mono',consolas,'Courier New',monospace\">\n",
       "</pre>\n"
      ],
      "text/plain": [
       "\n"
      ]
     },
     "metadata": {},
     "output_type": "display_data"
    },
    {
     "name": "stdout",
     "output_type": "stream",
     "text": [
      "used\n"
     ]
    },
    {
     "data": {
      "text/html": [
       "<pre style=\"white-space:pre;overflow-x:auto;line-height:normal;font-family:Menlo,'DejaVu Sans Mono',consolas,'Courier New',monospace\"><span style=\"color: #008080; text-decoration-color: #008080; font-weight: bold\">🚀 Crew: crew</span>\n",
       "├── <span style=\"color: #008000; text-decoration-color: #008000; font-weight: bold\">📋 Task: caf17771-5c84-4cff-a0c5-e14ae66db4c5</span>\n",
       "│   <span style=\"color: #c0c0c0; text-decoration-color: #c0c0c0\">   Assigned to: </span><span style=\"color: #008000; text-decoration-color: #008000\">queryGen</span>\n",
       "│   <span style=\"color: #c0c0c0; text-decoration-color: #c0c0c0\">   Status: </span><span style=\"color: #008000; text-decoration-color: #008000; font-weight: bold\">✅ Completed</span>\n",
       "│   └── <span style=\"color: #008000; text-decoration-color: #008000; font-weight: bold\">🤖 Agent: </span><span style=\"color: #008000; text-decoration-color: #008000\">queryGen</span>\n",
       "│       <span style=\"color: #c0c0c0; text-decoration-color: #c0c0c0\">    Status: </span><span style=\"color: #008000; text-decoration-color: #008000; font-weight: bold\">✅ Completed</span>\n",
       "├── <span style=\"color: #008000; text-decoration-color: #008000; font-weight: bold\">📋 Task: d056b313-31cd-4ef9-81d6-e5e5fc29d6ac</span>\n",
       "│   <span style=\"color: #c0c0c0; text-decoration-color: #c0c0c0\">   Assigned to: </span><span style=\"color: #008000; text-decoration-color: #008000\">queryValidator</span>\n",
       "│   <span style=\"color: #c0c0c0; text-decoration-color: #c0c0c0\">   Status: </span><span style=\"color: #008000; text-decoration-color: #008000; font-weight: bold\">✅ Completed</span>\n",
       "│   └── <span style=\"color: #008000; text-decoration-color: #008000; font-weight: bold\">🤖 Agent: </span><span style=\"color: #008000; text-decoration-color: #008000\">queryValidator</span>\n",
       "│       <span style=\"color: #c0c0c0; text-decoration-color: #c0c0c0\">    Status: </span><span style=\"color: #008000; text-decoration-color: #008000; font-weight: bold\">✅ Completed</span>\n",
       "│       └── <span style=\"color: #008000; text-decoration-color: #008000; font-weight: bold\">🔧 </span><span style=\"color: #008000; text-decoration-color: #008000\">Used fetchUniProt (1)</span>\n",
       "├── <span style=\"color: #008000; text-decoration-color: #008000; font-weight: bold\">📋 Task: 0efdf50d-e90f-4f85-bf31-1595702bb389</span>\n",
       "│   <span style=\"color: #c0c0c0; text-decoration-color: #c0c0c0\">   Assigned to: </span><span style=\"color: #008000; text-decoration-color: #008000\">Protein Selection Expert</span>\n",
       "│   <span style=\"color: #c0c0c0; text-decoration-color: #c0c0c0\">   Status: </span><span style=\"color: #008000; text-decoration-color: #008000; font-weight: bold\">✅ Completed</span>\n",
       "│   └── <span style=\"color: #008000; text-decoration-color: #008000; font-weight: bold\">🤖 Agent: </span><span style=\"color: #008000; text-decoration-color: #008000\">Protein Selection Expert</span>\n",
       "│       <span style=\"color: #c0c0c0; text-decoration-color: #c0c0c0\">    Status: </span><span style=\"color: #008000; text-decoration-color: #008000; font-weight: bold\">✅ Completed</span>\n",
       "│       └── <span style=\"color: #008000; text-decoration-color: #008000; font-weight: bold\">🔧 </span><span style=\"color: #008000; text-decoration-color: #008000\">Used getFuncInfo (1)</span>\n",
       "└── <span style=\"color: #808000; text-decoration-color: #808000; font-weight: bold\">📋 Task: 092f99b0-aae9-4434-9fcb-22083d6bfd97</span>\n",
       "    <span style=\"color: #c0c0c0; text-decoration-color: #c0c0c0\">   Status: </span><span style=\"color: #bfbf7f; text-decoration-color: #bfbf7f\">Executing Task...</span>\n",
       "    └── <span style=\"color: #008000; text-decoration-color: #008000; font-weight: bold\">🤖 Agent: </span><span style=\"color: #008000; text-decoration-color: #008000\">Protein Scaffolding Specialist</span>\n",
       "        <span style=\"color: #c0c0c0; text-decoration-color: #c0c0c0\">    Status: </span><span style=\"color: #008000; text-decoration-color: #008000; font-weight: bold\">In Progress</span>\n",
       "        └── <span style=\"color: #008000; text-decoration-color: #008000; font-weight: bold\">🔧 </span><span style=\"color: #008000; text-decoration-color: #008000\">Used getSiteInfo (1)</span>\n",
       "</pre>\n"
      ],
      "text/plain": [
       "\u001b[1;36m🚀 Crew: \u001b[0m\u001b[1;36mcrew\u001b[0m\n",
       "├── \u001b[1;32m📋 Task: caf17771-5c84-4cff-a0c5-e14ae66db4c5\u001b[0m\n",
       "│   \u001b[37m   Assigned to: \u001b[0m\u001b[32mqueryGen\u001b[0m\n",
       "│   \u001b[37m   Status: \u001b[0m\u001b[1;32m✅ Completed\u001b[0m\n",
       "│   └── \u001b[1;32m🤖 Agent: \u001b[0m\u001b[32mqueryGen\u001b[0m\n",
       "│       \u001b[37m    Status: \u001b[0m\u001b[1;32m✅ Completed\u001b[0m\n",
       "├── \u001b[1;32m📋 Task: d056b313-31cd-4ef9-81d6-e5e5fc29d6ac\u001b[0m\n",
       "│   \u001b[37m   Assigned to: \u001b[0m\u001b[32mqueryValidator\u001b[0m\n",
       "│   \u001b[37m   Status: \u001b[0m\u001b[1;32m✅ Completed\u001b[0m\n",
       "│   └── \u001b[1;32m🤖 Agent: \u001b[0m\u001b[32mqueryValidator\u001b[0m\n",
       "│       \u001b[37m    Status: \u001b[0m\u001b[1;32m✅ Completed\u001b[0m\n",
       "│       └── \u001b[1;32m🔧 \u001b[0m\u001b[32mUsed fetchUniProt (1)\u001b[0m\n",
       "├── \u001b[1;32m📋 Task: 0efdf50d-e90f-4f85-bf31-1595702bb389\u001b[0m\n",
       "│   \u001b[37m   Assigned to: \u001b[0m\u001b[32mProtein Selection Expert\u001b[0m\n",
       "│   \u001b[37m   Status: \u001b[0m\u001b[1;32m✅ Completed\u001b[0m\n",
       "│   └── \u001b[1;32m🤖 Agent: \u001b[0m\u001b[32mProtein Selection Expert\u001b[0m\n",
       "│       \u001b[37m    Status: \u001b[0m\u001b[1;32m✅ Completed\u001b[0m\n",
       "│       └── \u001b[1;32m🔧 \u001b[0m\u001b[32mUsed getFuncInfo (1)\u001b[0m\n",
       "└── \u001b[1;33m📋 Task: 092f99b0-aae9-4434-9fcb-22083d6bfd97\u001b[0m\n",
       "    \u001b[37m   Status: \u001b[0m\u001b[2;33mExecuting Task...\u001b[0m\n",
       "    └── \u001b[1;32m🤖 Agent: \u001b[0m\u001b[32mProtein Scaffolding Specialist\u001b[0m\n",
       "        \u001b[37m    Status: \u001b[0m\u001b[1;32mIn Progress\u001b[0m\n",
       "        └── \u001b[1;32m🔧 \u001b[0m\u001b[32mUsed getSiteInfo (1)\u001b[0m\n"
      ]
     },
     "metadata": {},
     "output_type": "display_data"
    },
    {
     "data": {
      "text/html": [
       "<pre style=\"white-space:pre;overflow-x:auto;line-height:normal;font-family:Menlo,'DejaVu Sans Mono',consolas,'Courier New',monospace\">\n",
       "</pre>\n"
      ],
      "text/plain": [
       "\n"
      ]
     },
     "metadata": {},
     "output_type": "display_data"
    },
    {
     "name": "stdout",
     "output_type": "stream",
     "text": [
      "\n",
      "\n",
      "\u001b[1m\u001b[95m# Agent:\u001b[00m \u001b[1m\u001b[92mProtein Scaffolding Specialist\u001b[00m\n",
      "\u001b[95m## Thought:\u001b[00m \u001b[92mI need to analyze the UniProt features of the protein with ID P07199 to identify functional sites relevant to DNA binding. Based on the user's request to preserve DNA binding function, I will identify motifs related to DNA binding and mark them for preservation. Other regions will be considered for masking to allow for redesign while maintaining the core functionality. Finally, I will recommend a scaffolding approach based on these considerations.\u001b[00m\n",
      "\u001b[95m## Using tool:\u001b[00m \u001b[92mgetSiteInfo\u001b[00m\n",
      "\u001b[95m## Tool Input:\u001b[00m \u001b[92m\n",
      "\"{\\\"protein_id\\\": \\\"P07199\\\"}\"\u001b[00m\n",
      "\u001b[95m## Tool Output:\u001b[00m \u001b[92m\n",
      "[{'type': 'Initiator methionine', 'location': {'start': {'value': 1, 'modifier': 'EXACT'}, 'end': {'value': 1, 'modifier': 'EXACT'}}, 'description': 'Removed', 'evidences': [{'evidenceCode': 'ECO:0000269', 'source': 'PubMed', 'id': '23978223'}]}, {'type': 'Chain', 'location': {'start': {'value': 2, 'modifier': 'EXACT'}, 'end': {'value': 599, 'modifier': 'EXACT'}}, 'description': 'Major centromere autoantigen B', 'featureId': 'PRO_0000126125'}, {'type': 'Domain', 'location': {'start': {'value': 2, 'modifier': 'EXACT'}, 'end': {'value': 52, 'modifier': 'EXACT'}}, 'description': 'HTH psq-type', 'evidences': [{'evidenceCode': 'ECO:0000255', 'source': 'PROSITE-ProRule', 'id': 'PRU00320'}]}, {'type': 'Domain', 'location': {'start': {'value': 65, 'modifier': 'EXACT'}, 'end': {'value': 136, 'modifier': 'EXACT'}}, 'description': 'HTH CENPB-type', 'evidences': [{'evidenceCode': 'ECO:0000255', 'source': 'PROSITE-ProRule', 'id': 'PRU00583'}]}, {'type': 'DNA binding', 'location': {'start': {'value': 28, 'modifier': 'EXACT'}, 'end': {'value': 48, 'modifier': 'EXACT'}}, 'description': 'H-T-H motif'}, {'type': 'DNA binding', 'location': {'start': {'value': 97, 'modifier': 'EXACT'}, 'end': {'value': 129, 'modifier': 'EXACT'}}, 'description': 'H-T-H motif'}, {'type': 'Region', 'location': {'start': {'value': 143, 'modifier': 'EXACT'}, 'end': {'value': 184, 'modifier': 'EXACT'}}, 'description': 'Disordered', 'evidences': [{'evidenceCode': 'ECO:0000256', 'source': 'SAM', 'id': 'MobiDB-lite'}]}, {'type': 'Region', 'location': {'start': {'value': 387, 'modifier': 'EXACT'}, 'end': {'value': 475, 'modifier': 'EXACT'}}, 'description': 'Disordered', 'evidences': [{'evidenceCode': 'ECO:0000256', 'source': 'SAM', 'id': 'MobiDB-lite'}]}, {'type': 'Region', 'location': {'start': {'value': 495, 'modifier': 'EXACT'}, 'end': {'value': 544, 'modifier': 'EXACT'}}, 'description': 'Disordered', 'evidences': [{'evidenceCode': 'ECO:0000256', 'source': 'SAM', 'id': 'MobiDB-lite'}]}, {'type': 'Region', 'location': {'start': {'value': 536, 'modifier': 'EXACT'}, 'end': {'value': 599, 'modifier': 'EXACT'}}, 'description': 'Homodimerization'}, {'type': 'Compositional bias', 'location': {'start': {'value': 405, 'modifier': 'EXACT'}, 'end': {'value': 475, 'modifier': 'EXACT'}}, 'description': 'Acidic residues', 'evidences': [{'evidenceCode': 'ECO:0000256', 'source': 'SAM', 'id': 'MobiDB-lite'}]}, {'type': 'Compositional bias', 'location': {'start': {'value': 506, 'modifier': 'EXACT'}, 'end': {'value': 538, 'modifier': 'EXACT'}}, 'description': 'Acidic residues', 'evidences': [{'evidenceCode': 'ECO:0000256', 'source': 'SAM', 'id': 'MobiDB-lite'}]}, {'type': 'Modified residue', 'location': {'start': {'value': 2, 'modifier': 'EXACT'}, 'end': {'value': 2, 'modifier': 'EXACT'}}, 'description': 'N,N,N-trimethylglycine; alternate', 'evidences': [{'evidenceCode': 'ECO:0000269', 'source': 'PubMed', 'id': '23978223'}]}, {'type': 'Modified residue', 'location': {'start': {'value': 2, 'modifier': 'EXACT'}, 'end': {'value': 2, 'modifier': 'EXACT'}}, 'description': 'N,N-dimethylglycine; alternate', 'evidences': [{'evidenceCode': 'ECO:0000269', 'source': 'PubMed', 'id': '23978223'}]}, {'type': 'Modified residue', 'location': {'start': {'value': 2, 'modifier': 'EXACT'}, 'end': {'value': 2, 'modifier': 'EXACT'}}, 'description': 'N-methylglycine; alternate', 'evidences': [{'evidenceCode': 'ECO:0000269', 'source': 'PubMed', 'id': '23978223'}]}, {'type': 'Modified residue', 'location': {'start': {'value': 156, 'modifier': 'EXACT'}, 'end': {'value': 156, 'modifier': 'EXACT'}}, 'description': 'Phosphoserine', 'evidences': [{'evidenceCode': 'ECO:0007744', 'source': 'PubMed', 'id': '18220336'}, {'evidenceCode': 'ECO:0007744', 'source': 'PubMed', 'id': '20068231'}, {'evidenceCode': 'ECO:0007744', 'source': 'PubMed', 'id': '23186163'}]}, {'type': 'Modified residue', 'location': {'start': {'value': 165, 'modifier': 'EXACT'}, 'end': {'value': 165, 'modifier': 'EXACT'}}, 'description': 'Phosphoserine', 'evidences': [{'evidenceCode': 'ECO:0007744', 'source': 'PubMed', 'id': '20068231'}]}, {'type': 'Modified residue', 'location': {'start': {'value': 396, 'modifier': 'EXACT'}, 'end': {'value': 396, 'modifier': 'EXACT'}}, 'description': 'Phosphothreonine', 'evidences': [{'evidenceCode': 'ECO:0007744', 'source': 'PubMed', 'id': '23186163'}]}, {'type': 'Modified residue', 'location': {'start': {'value': 398, 'modifier': 'EXACT'}, 'end': {'value': 398, 'modifier': 'EXACT'}}, 'description': 'Phosphothreonine', 'evidences': [{'evidenceCode': 'ECO:0007744', 'source': 'PubMed', 'id': '20068231'}]}, {'type': 'Cross-link', 'location': {'start': {'value': 246, 'modifier': 'EXACT'}, 'end': {'value': 246, 'modifier': 'EXACT'}}, 'description': 'Glycyl lysine isopeptide (Lys-Gly) (interchain with G-Cter in SUMO2)', 'evidences': [{'evidenceCode': 'ECO:0007744', 'source': 'PubMed', 'id': '28112733'}]}, {'type': 'Mutagenesis', 'location': {'start': {'value': 4, 'modifier': 'EXACT'}, 'end': {'value': 4, 'modifier': 'EXACT'}}, 'description': 'Abolishes N-terminal methylation.', 'evidences': [{'evidenceCode': 'ECO:0000269', 'source': 'PubMed', 'id': '23978223'}], 'alternativeSequence': {'originalSequence': 'K', 'alternativeSequences': ['Q']}}, {'type': 'Sequence conflict', 'location': {'start': {'value': 583, 'modifier': 'EXACT'}, 'end': {'value': 583, 'modifier': 'EXACT'}}, 'description': 'in Ref. 4; CAA28918', 'evidences': [{'evidenceCode': 'ECO:0000305'}], 'alternativeSequence': {'originalSequence': 'R', 'alternativeSequences': ['M']}}, {'type': 'Sequence conflict', 'location': {'start': {'value': 592, 'modifier': 'EXACT'}, 'end': {'value': 593, 'modifier': 'EXACT'}}, 'description': 'in Ref. 4; CAA28918', 'evidences': [{'evidenceCode': 'ECO:0000305'}], 'alternativeSequence': {'originalSequence': 'VR', 'alternativeSequences': ['LL']}}, {'type': 'Beta strand', 'location': {'start': {'value': 4, 'modifier': 'EXACT'}, 'end': {'value': 6, 'modifier': 'EXACT'}}, 'description': '', 'evidences': [{'evidenceCode': 'ECO:0007829', 'source': 'PDB', 'id': '1BW6'}]}, {'type': 'Helix', 'location': {'start': {'value': 10, 'modifier': 'EXACT'}, 'end': {'value': 22, 'modifier': 'EXACT'}}, 'description': '', 'evidences': [{'evidenceCode': 'ECO:0007829', 'source': 'PDB', 'id': '1HLV'}]}, {'type': 'Beta strand', 'location': {'start': {'value': 24, 'modifier': 'EXACT'}, 'end': {'value': 26, 'modifier': 'EXACT'}}, 'description': '', 'evidences': [{'evidenceCode': 'ECO:0007829', 'source': 'PDB', 'id': '1BW6'}]}, {'type': 'Helix', 'location': {'start': {'value': 28, 'modifier': 'EXACT'}, 'end': {'value': 35, 'modifier': 'EXACT'}}, 'description': '', 'evidences': [{'evidenceCode': 'ECO:0007829', 'source': 'PDB', 'id': '1HLV'}]}, {'type': 'Helix', 'location': {'start': {'value': 39, 'modifier': 'EXACT'}, 'end': {'value': 47, 'modifier': 'EXACT'}}, 'description': '', 'evidences': [{'evidenceCode': 'ECO:0007829', 'source': 'PDB', 'id': '1HLV'}]}, {'type': 'Helix', 'location': {'start': {'value': 49, 'modifier': 'EXACT'}, 'end': {'value': 59, 'modifier': 'EXACT'}}, 'description': '', 'evidences': [{'evidenceCode': 'ECO:0007829', 'source': 'PDB', 'id': '1HLV'}]}, {'type': 'Helix', 'location': {'start': {'value': 60, 'modifier': 'EXACT'}, 'end': {'value': 64, 'modifier': 'EXACT'}}, 'description': '', 'evidences': [{'evidenceCode': 'ECO:0007829', 'source': 'PDB', 'id': '1HLV'}]}, {'type': 'Helix', 'location': {'start': {'value': 75, 'modifier': 'EXACT'}, 'end': {'value': 88, 'modifier': 'EXACT'}}, 'description': '', 'evidences': [{'evidenceCode': 'ECO:0007829', 'source': 'PDB', 'id': '1HLV'}]}, {'type': 'Helix', 'location': {'start': {'value': 89, 'modifier': 'EXACT'}, 'end': {'value': 91, 'modifier': 'EXACT'}}, 'description': '', 'evidences': [{'evidenceCode': 'ECO:0007829', 'source': 'PDB', 'id': '1HLV'}]}, {'type': 'Helix', 'location': {'start': {'value': 97, 'modifier': 'EXACT'}, 'end': {'value': 111, 'modifier': 'EXACT'}}, 'description': '', 'evidences': [{'evidenceCode': 'ECO:0007829', 'source': 'PDB', 'id': '1HLV'}]}, {'type': 'Helix', 'location': {'start': {'value': 120, 'modifier': 'EXACT'}, 'end': {'value': 129, 'modifier': 'EXACT'}}, 'description': '', 'evidences': [{'evidenceCode': 'ECO:0007829', 'source': 'PDB', 'id': '1HLV'}]}, {'type': 'Helix', 'location': {'start': {'value': 544, 'modifier': 'EXACT'}, 'end': {'value': 558, 'modifier': 'EXACT'}}, 'description': '', 'evidences': [{'evidenceCode': 'ECO:0007829', 'source': 'PDB', 'id': '1UFI'}]}, {'type': 'Helix', 'location': {'start': {'value': 565, 'modifier': 'EXACT'}, 'end': {'value': 584, 'modifier': 'EXACT'}}, 'description': '', 'evidences': [{'evidenceCode': 'ECO:0007829', 'source': 'PDB', 'id': '1UFI'}]}]\u001b[00m\n"
     ]
    },
    {
     "data": {
      "text/html": [
       "<pre style=\"white-space:pre;overflow-x:auto;line-height:normal;font-family:Menlo,'DejaVu Sans Mono',consolas,'Courier New',monospace\"><span style=\"color: #008080; text-decoration-color: #008080; font-weight: bold\">🚀 Crew: crew</span>\n",
       "├── <span style=\"color: #008000; text-decoration-color: #008000; font-weight: bold\">📋 Task: caf17771-5c84-4cff-a0c5-e14ae66db4c5</span>\n",
       "│   <span style=\"color: #c0c0c0; text-decoration-color: #c0c0c0\">   Assigned to: </span><span style=\"color: #008000; text-decoration-color: #008000\">queryGen</span>\n",
       "│   <span style=\"color: #c0c0c0; text-decoration-color: #c0c0c0\">   Status: </span><span style=\"color: #008000; text-decoration-color: #008000; font-weight: bold\">✅ Completed</span>\n",
       "│   └── <span style=\"color: #008000; text-decoration-color: #008000; font-weight: bold\">🤖 Agent: </span><span style=\"color: #008000; text-decoration-color: #008000\">queryGen</span>\n",
       "│       <span style=\"color: #c0c0c0; text-decoration-color: #c0c0c0\">    Status: </span><span style=\"color: #008000; text-decoration-color: #008000; font-weight: bold\">✅ Completed</span>\n",
       "├── <span style=\"color: #008000; text-decoration-color: #008000; font-weight: bold\">📋 Task: d056b313-31cd-4ef9-81d6-e5e5fc29d6ac</span>\n",
       "│   <span style=\"color: #c0c0c0; text-decoration-color: #c0c0c0\">   Assigned to: </span><span style=\"color: #008000; text-decoration-color: #008000\">queryValidator</span>\n",
       "│   <span style=\"color: #c0c0c0; text-decoration-color: #c0c0c0\">   Status: </span><span style=\"color: #008000; text-decoration-color: #008000; font-weight: bold\">✅ Completed</span>\n",
       "│   └── <span style=\"color: #008000; text-decoration-color: #008000; font-weight: bold\">🤖 Agent: </span><span style=\"color: #008000; text-decoration-color: #008000\">queryValidator</span>\n",
       "│       <span style=\"color: #c0c0c0; text-decoration-color: #c0c0c0\">    Status: </span><span style=\"color: #008000; text-decoration-color: #008000; font-weight: bold\">✅ Completed</span>\n",
       "│       └── <span style=\"color: #008000; text-decoration-color: #008000; font-weight: bold\">🔧 </span><span style=\"color: #008000; text-decoration-color: #008000\">Used fetchUniProt (1)</span>\n",
       "├── <span style=\"color: #008000; text-decoration-color: #008000; font-weight: bold\">📋 Task: 0efdf50d-e90f-4f85-bf31-1595702bb389</span>\n",
       "│   <span style=\"color: #c0c0c0; text-decoration-color: #c0c0c0\">   Assigned to: </span><span style=\"color: #008000; text-decoration-color: #008000\">Protein Selection Expert</span>\n",
       "│   <span style=\"color: #c0c0c0; text-decoration-color: #c0c0c0\">   Status: </span><span style=\"color: #008000; text-decoration-color: #008000; font-weight: bold\">✅ Completed</span>\n",
       "│   └── <span style=\"color: #008000; text-decoration-color: #008000; font-weight: bold\">🤖 Agent: </span><span style=\"color: #008000; text-decoration-color: #008000\">Protein Selection Expert</span>\n",
       "│       <span style=\"color: #c0c0c0; text-decoration-color: #c0c0c0\">    Status: </span><span style=\"color: #008000; text-decoration-color: #008000; font-weight: bold\">✅ Completed</span>\n",
       "│       └── <span style=\"color: #008000; text-decoration-color: #008000; font-weight: bold\">🔧 </span><span style=\"color: #008000; text-decoration-color: #008000\">Used getFuncInfo (1)</span>\n",
       "└── <span style=\"color: #808000; text-decoration-color: #808000; font-weight: bold\">📋 Task: 092f99b0-aae9-4434-9fcb-22083d6bfd97</span>\n",
       "    <span style=\"color: #c0c0c0; text-decoration-color: #c0c0c0\">   Status: </span><span style=\"color: #bfbf7f; text-decoration-color: #bfbf7f\">Executing Task...</span>\n",
       "    └── <span style=\"color: #008000; text-decoration-color: #008000; font-weight: bold\">🤖 Agent: </span><span style=\"color: #008000; text-decoration-color: #008000\">Protein Scaffolding Specialist</span>\n",
       "        <span style=\"color: #c0c0c0; text-decoration-color: #c0c0c0\">    Status: </span><span style=\"color: #008000; text-decoration-color: #008000; font-weight: bold\">In Progress</span>\n",
       "        ├── <span style=\"color: #008000; text-decoration-color: #008000; font-weight: bold\">🔧 </span><span style=\"color: #008000; text-decoration-color: #008000\">Used getSiteInfo (1)</span>\n",
       "        └── <span style=\"color: #000080; text-decoration-color: #000080; font-weight: bold\">🧠 </span><span style=\"color: #000080; text-decoration-color: #000080\">Thinking...</span>\n",
       "</pre>\n"
      ],
      "text/plain": [
       "\u001b[1;36m🚀 Crew: \u001b[0m\u001b[1;36mcrew\u001b[0m\n",
       "├── \u001b[1;32m📋 Task: caf17771-5c84-4cff-a0c5-e14ae66db4c5\u001b[0m\n",
       "│   \u001b[37m   Assigned to: \u001b[0m\u001b[32mqueryGen\u001b[0m\n",
       "│   \u001b[37m   Status: \u001b[0m\u001b[1;32m✅ Completed\u001b[0m\n",
       "│   └── \u001b[1;32m🤖 Agent: \u001b[0m\u001b[32mqueryGen\u001b[0m\n",
       "│       \u001b[37m    Status: \u001b[0m\u001b[1;32m✅ Completed\u001b[0m\n",
       "├── \u001b[1;32m📋 Task: d056b313-31cd-4ef9-81d6-e5e5fc29d6ac\u001b[0m\n",
       "│   \u001b[37m   Assigned to: \u001b[0m\u001b[32mqueryValidator\u001b[0m\n",
       "│   \u001b[37m   Status: \u001b[0m\u001b[1;32m✅ Completed\u001b[0m\n",
       "│   └── \u001b[1;32m🤖 Agent: \u001b[0m\u001b[32mqueryValidator\u001b[0m\n",
       "│       \u001b[37m    Status: \u001b[0m\u001b[1;32m✅ Completed\u001b[0m\n",
       "│       └── \u001b[1;32m🔧 \u001b[0m\u001b[32mUsed fetchUniProt (1)\u001b[0m\n",
       "├── \u001b[1;32m📋 Task: 0efdf50d-e90f-4f85-bf31-1595702bb389\u001b[0m\n",
       "│   \u001b[37m   Assigned to: \u001b[0m\u001b[32mProtein Selection Expert\u001b[0m\n",
       "│   \u001b[37m   Status: \u001b[0m\u001b[1;32m✅ Completed\u001b[0m\n",
       "│   └── \u001b[1;32m🤖 Agent: \u001b[0m\u001b[32mProtein Selection Expert\u001b[0m\n",
       "│       \u001b[37m    Status: \u001b[0m\u001b[1;32m✅ Completed\u001b[0m\n",
       "│       └── \u001b[1;32m🔧 \u001b[0m\u001b[32mUsed getFuncInfo (1)\u001b[0m\n",
       "└── \u001b[1;33m📋 Task: 092f99b0-aae9-4434-9fcb-22083d6bfd97\u001b[0m\n",
       "    \u001b[37m   Status: \u001b[0m\u001b[2;33mExecuting Task...\u001b[0m\n",
       "    └── \u001b[1;32m🤖 Agent: \u001b[0m\u001b[32mProtein Scaffolding Specialist\u001b[0m\n",
       "        \u001b[37m    Status: \u001b[0m\u001b[1;32mIn Progress\u001b[0m\n",
       "        ├── \u001b[1;32m🔧 \u001b[0m\u001b[32mUsed getSiteInfo (1)\u001b[0m\n",
       "        └── \u001b[1;34m🧠 \u001b[0m\u001b[34mThinking...\u001b[0m\n"
      ]
     },
     "metadata": {},
     "output_type": "display_data"
    },
    {
     "data": {
      "text/html": [
       "<pre style=\"white-space:pre;overflow-x:auto;line-height:normal;font-family:Menlo,'DejaVu Sans Mono',consolas,'Courier New',monospace\">\n",
       "</pre>\n"
      ],
      "text/plain": [
       "\n"
      ]
     },
     "metadata": {},
     "output_type": "display_data"
    },
    {
     "data": {
      "text/html": [
       "<pre style=\"white-space:pre;overflow-x:auto;line-height:normal;font-family:Menlo,'DejaVu Sans Mono',consolas,'Courier New',monospace\"><span style=\"color: #008080; text-decoration-color: #008080; font-weight: bold\">🚀 Crew: crew</span>\n",
       "├── <span style=\"color: #008000; text-decoration-color: #008000; font-weight: bold\">📋 Task: caf17771-5c84-4cff-a0c5-e14ae66db4c5</span>\n",
       "│   <span style=\"color: #c0c0c0; text-decoration-color: #c0c0c0\">   Assigned to: </span><span style=\"color: #008000; text-decoration-color: #008000\">queryGen</span>\n",
       "│   <span style=\"color: #c0c0c0; text-decoration-color: #c0c0c0\">   Status: </span><span style=\"color: #008000; text-decoration-color: #008000; font-weight: bold\">✅ Completed</span>\n",
       "│   └── <span style=\"color: #008000; text-decoration-color: #008000; font-weight: bold\">🤖 Agent: </span><span style=\"color: #008000; text-decoration-color: #008000\">queryGen</span>\n",
       "│       <span style=\"color: #c0c0c0; text-decoration-color: #c0c0c0\">    Status: </span><span style=\"color: #008000; text-decoration-color: #008000; font-weight: bold\">✅ Completed</span>\n",
       "├── <span style=\"color: #008000; text-decoration-color: #008000; font-weight: bold\">📋 Task: d056b313-31cd-4ef9-81d6-e5e5fc29d6ac</span>\n",
       "│   <span style=\"color: #c0c0c0; text-decoration-color: #c0c0c0\">   Assigned to: </span><span style=\"color: #008000; text-decoration-color: #008000\">queryValidator</span>\n",
       "│   <span style=\"color: #c0c0c0; text-decoration-color: #c0c0c0\">   Status: </span><span style=\"color: #008000; text-decoration-color: #008000; font-weight: bold\">✅ Completed</span>\n",
       "│   └── <span style=\"color: #008000; text-decoration-color: #008000; font-weight: bold\">🤖 Agent: </span><span style=\"color: #008000; text-decoration-color: #008000\">queryValidator</span>\n",
       "│       <span style=\"color: #c0c0c0; text-decoration-color: #c0c0c0\">    Status: </span><span style=\"color: #008000; text-decoration-color: #008000; font-weight: bold\">✅ Completed</span>\n",
       "│       └── <span style=\"color: #008000; text-decoration-color: #008000; font-weight: bold\">🔧 </span><span style=\"color: #008000; text-decoration-color: #008000\">Used fetchUniProt (1)</span>\n",
       "├── <span style=\"color: #008000; text-decoration-color: #008000; font-weight: bold\">📋 Task: 0efdf50d-e90f-4f85-bf31-1595702bb389</span>\n",
       "│   <span style=\"color: #c0c0c0; text-decoration-color: #c0c0c0\">   Assigned to: </span><span style=\"color: #008000; text-decoration-color: #008000\">Protein Selection Expert</span>\n",
       "│   <span style=\"color: #c0c0c0; text-decoration-color: #c0c0c0\">   Status: </span><span style=\"color: #008000; text-decoration-color: #008000; font-weight: bold\">✅ Completed</span>\n",
       "│   └── <span style=\"color: #008000; text-decoration-color: #008000; font-weight: bold\">🤖 Agent: </span><span style=\"color: #008000; text-decoration-color: #008000\">Protein Selection Expert</span>\n",
       "│       <span style=\"color: #c0c0c0; text-decoration-color: #c0c0c0\">    Status: </span><span style=\"color: #008000; text-decoration-color: #008000; font-weight: bold\">✅ Completed</span>\n",
       "│       └── <span style=\"color: #008000; text-decoration-color: #008000; font-weight: bold\">🔧 </span><span style=\"color: #008000; text-decoration-color: #008000\">Used getFuncInfo (1)</span>\n",
       "└── <span style=\"color: #808000; text-decoration-color: #808000; font-weight: bold\">📋 Task: 092f99b0-aae9-4434-9fcb-22083d6bfd97</span>\n",
       "    <span style=\"color: #c0c0c0; text-decoration-color: #c0c0c0\">   Status: </span><span style=\"color: #bfbf7f; text-decoration-color: #bfbf7f\">Executing Task...</span>\n",
       "    └── <span style=\"color: #008000; text-decoration-color: #008000; font-weight: bold\">🤖 Agent: </span><span style=\"color: #008000; text-decoration-color: #008000\">Protein Scaffolding Specialist</span>\n",
       "        <span style=\"color: #c0c0c0; text-decoration-color: #c0c0c0\">    Status: </span><span style=\"color: #008000; text-decoration-color: #008000; font-weight: bold\">In Progress</span>\n",
       "        └── <span style=\"color: #008000; text-decoration-color: #008000; font-weight: bold\">🔧 </span><span style=\"color: #008000; text-decoration-color: #008000\">Used getSiteInfo (1)</span>\n",
       "</pre>\n"
      ],
      "text/plain": [
       "\u001b[1;36m🚀 Crew: \u001b[0m\u001b[1;36mcrew\u001b[0m\n",
       "├── \u001b[1;32m📋 Task: caf17771-5c84-4cff-a0c5-e14ae66db4c5\u001b[0m\n",
       "│   \u001b[37m   Assigned to: \u001b[0m\u001b[32mqueryGen\u001b[0m\n",
       "│   \u001b[37m   Status: \u001b[0m\u001b[1;32m✅ Completed\u001b[0m\n",
       "│   └── \u001b[1;32m🤖 Agent: \u001b[0m\u001b[32mqueryGen\u001b[0m\n",
       "│       \u001b[37m    Status: \u001b[0m\u001b[1;32m✅ Completed\u001b[0m\n",
       "├── \u001b[1;32m📋 Task: d056b313-31cd-4ef9-81d6-e5e5fc29d6ac\u001b[0m\n",
       "│   \u001b[37m   Assigned to: \u001b[0m\u001b[32mqueryValidator\u001b[0m\n",
       "│   \u001b[37m   Status: \u001b[0m\u001b[1;32m✅ Completed\u001b[0m\n",
       "│   └── \u001b[1;32m🤖 Agent: \u001b[0m\u001b[32mqueryValidator\u001b[0m\n",
       "│       \u001b[37m    Status: \u001b[0m\u001b[1;32m✅ Completed\u001b[0m\n",
       "│       └── \u001b[1;32m🔧 \u001b[0m\u001b[32mUsed fetchUniProt (1)\u001b[0m\n",
       "├── \u001b[1;32m📋 Task: 0efdf50d-e90f-4f85-bf31-1595702bb389\u001b[0m\n",
       "│   \u001b[37m   Assigned to: \u001b[0m\u001b[32mProtein Selection Expert\u001b[0m\n",
       "│   \u001b[37m   Status: \u001b[0m\u001b[1;32m✅ Completed\u001b[0m\n",
       "│   └── \u001b[1;32m🤖 Agent: \u001b[0m\u001b[32mProtein Selection Expert\u001b[0m\n",
       "│       \u001b[37m    Status: \u001b[0m\u001b[1;32m✅ Completed\u001b[0m\n",
       "│       └── \u001b[1;32m🔧 \u001b[0m\u001b[32mUsed getFuncInfo (1)\u001b[0m\n",
       "└── \u001b[1;33m📋 Task: 092f99b0-aae9-4434-9fcb-22083d6bfd97\u001b[0m\n",
       "    \u001b[37m   Status: \u001b[0m\u001b[2;33mExecuting Task...\u001b[0m\n",
       "    └── \u001b[1;32m🤖 Agent: \u001b[0m\u001b[32mProtein Scaffolding Specialist\u001b[0m\n",
       "        \u001b[37m    Status: \u001b[0m\u001b[1;32mIn Progress\u001b[0m\n",
       "        └── \u001b[1;32m🔧 \u001b[0m\u001b[32mUsed getSiteInfo (1)\u001b[0m\n"
      ]
     },
     "metadata": {},
     "output_type": "display_data"
    },
    {
     "data": {
      "text/html": [
       "<pre style=\"white-space:pre;overflow-x:auto;line-height:normal;font-family:Menlo,'DejaVu Sans Mono',consolas,'Courier New',monospace\">\n",
       "</pre>\n"
      ],
      "text/plain": [
       "\n"
      ]
     },
     "metadata": {},
     "output_type": "display_data"
    },
    {
     "name": "stdout",
     "output_type": "stream",
     "text": [
      "\n",
      "\n",
      "\u001b[1m\u001b[95m# Agent:\u001b[00m \u001b[1m\u001b[92mProtein Scaffolding Specialist\u001b[00m\n",
      "\u001b[95m## Final Answer:\u001b[00m \u001b[92m\n",
      "```json\n",
      "{\n",
      "  \"UniProt_features_analysis\": {\n",
      "    \"protein_id\": \"P07199\",\n",
      "    \"function\": \"Interacts with centromeric heterochromatin in chromosomes and binds to a specific 17 bp subset of alphoid satellite DNA, called the CENP-B box. May organize arrays of centromere satellite DNA into a higher-order structure which then directs centromere formation and kinetochore assembly in mammalian chromosomes\",\n",
      "    \"motifs_to_preserve\": [\n",
      "      {\n",
      "        \"type\": \"DNA binding\",\n",
      "        \"location\": {\n",
      "          \"start\": 28,\n",
      "          \"end\": 48\n",
      "        },\n",
      "        \"description\": \"H-T-H motif\",\n",
      "        \"justification\": \"Essential for DNA binding functionality.\"\n",
      "      },\n",
      "      {\n",
      "        \"type\": \"DNA binding\",\n",
      "        \"location\": {\n",
      "          \"start\": 97,\n",
      "          \"end\": 129\n",
      "        },\n",
      "        \"description\": \"H-T-H motif\",\n",
      "        \"justification\": \"Essential for DNA binding functionality.\"\n",
      "      },\n",
      "      {\n",
      "        \"type\": \"Region\",\n",
      "        \"location\": {\n",
      "          \"start\": 536,\n",
      "          \"end\": 599\n",
      "        },\n",
      "        \"description\": \"Homodimerization\",\n",
      "        \"justification\": \"Preserve homodimerization functionality\"\n",
      "      }\n",
      "    ],\n",
      "    \"regions_to_mask\": [\n",
      "      {\n",
      "        \"type\": \"Region\",\n",
      "        \"location\": {\n",
      "          \"start\": 143,\n",
      "          \"end\": 184\n",
      "        },\n",
      "        \"description\": \"Disordered\",\n",
      "        \"justification\": \"Disordered region, less critical for core function, suitable for redesign.\"\n",
      "      },\n",
      "      {\n",
      "        \"type\": \"Region\",\n",
      "        \"location\": {\n",
      "          \"start\": 387,\n",
      "          \"end\": 475\n",
      "        },\n",
      "        \"description\": \"Disordered\",\n",
      "        \"justification\": \"Disordered region, less critical for core function, suitable for redesign.\"\n",
      "      },\n",
      "      {\n",
      "        \"type\": \"Region\",\n",
      "        \"location\": {\n",
      "          \"start\": 495,\n",
      "          \"end\": 544\n",
      "        },\n",
      "        \"description\": \"Disordered\",\n",
      "        \"justification\": \"Disordered region, less critical for core function, suitable for redesign.\"\n",
      "      }\n",
      "    ],\n",
      "    \"recommended_scaffolding_approach\": {\n",
      "      \"approach\": \"Motif Grafting with Loop Replacement\",\n",
      "      \"justification\": \"Given the presence of defined DNA-binding motifs (H-T-H), a motif grafting approach is suitable. The disordered regions can be replaced with loops of varying lengths from other protein structures to potentially improve stability or create novel functionalities while preserving the DNA-binding capability. The homodimerization region should be maintained to ensure the protein retains its native oligomeric state.\"\n",
      "    }\n",
      "  }\n",
      "}\n",
      "```\u001b[00m\n",
      "\n",
      "\n"
     ]
    },
    {
     "data": {
      "text/html": [
       "<pre style=\"white-space:pre;overflow-x:auto;line-height:normal;font-family:Menlo,'DejaVu Sans Mono',consolas,'Courier New',monospace\"><span style=\"color: #008080; text-decoration-color: #008080; font-weight: bold\">🚀 Crew: crew</span>\n",
       "├── <span style=\"color: #008000; text-decoration-color: #008000; font-weight: bold\">📋 Task: caf17771-5c84-4cff-a0c5-e14ae66db4c5</span>\n",
       "│   <span style=\"color: #c0c0c0; text-decoration-color: #c0c0c0\">   Assigned to: </span><span style=\"color: #008000; text-decoration-color: #008000\">queryGen</span>\n",
       "│   <span style=\"color: #c0c0c0; text-decoration-color: #c0c0c0\">   Status: </span><span style=\"color: #008000; text-decoration-color: #008000; font-weight: bold\">✅ Completed</span>\n",
       "│   └── <span style=\"color: #008000; text-decoration-color: #008000; font-weight: bold\">🤖 Agent: </span><span style=\"color: #008000; text-decoration-color: #008000\">queryGen</span>\n",
       "│       <span style=\"color: #c0c0c0; text-decoration-color: #c0c0c0\">    Status: </span><span style=\"color: #008000; text-decoration-color: #008000; font-weight: bold\">✅ Completed</span>\n",
       "├── <span style=\"color: #008000; text-decoration-color: #008000; font-weight: bold\">📋 Task: d056b313-31cd-4ef9-81d6-e5e5fc29d6ac</span>\n",
       "│   <span style=\"color: #c0c0c0; text-decoration-color: #c0c0c0\">   Assigned to: </span><span style=\"color: #008000; text-decoration-color: #008000\">queryValidator</span>\n",
       "│   <span style=\"color: #c0c0c0; text-decoration-color: #c0c0c0\">   Status: </span><span style=\"color: #008000; text-decoration-color: #008000; font-weight: bold\">✅ Completed</span>\n",
       "│   └── <span style=\"color: #008000; text-decoration-color: #008000; font-weight: bold\">🤖 Agent: </span><span style=\"color: #008000; text-decoration-color: #008000\">queryValidator</span>\n",
       "│       <span style=\"color: #c0c0c0; text-decoration-color: #c0c0c0\">    Status: </span><span style=\"color: #008000; text-decoration-color: #008000; font-weight: bold\">✅ Completed</span>\n",
       "│       └── <span style=\"color: #008000; text-decoration-color: #008000; font-weight: bold\">🔧 </span><span style=\"color: #008000; text-decoration-color: #008000\">Used fetchUniProt (1)</span>\n",
       "├── <span style=\"color: #008000; text-decoration-color: #008000; font-weight: bold\">📋 Task: 0efdf50d-e90f-4f85-bf31-1595702bb389</span>\n",
       "│   <span style=\"color: #c0c0c0; text-decoration-color: #c0c0c0\">   Assigned to: </span><span style=\"color: #008000; text-decoration-color: #008000\">Protein Selection Expert</span>\n",
       "│   <span style=\"color: #c0c0c0; text-decoration-color: #c0c0c0\">   Status: </span><span style=\"color: #008000; text-decoration-color: #008000; font-weight: bold\">✅ Completed</span>\n",
       "│   └── <span style=\"color: #008000; text-decoration-color: #008000; font-weight: bold\">🤖 Agent: </span><span style=\"color: #008000; text-decoration-color: #008000\">Protein Selection Expert</span>\n",
       "│       <span style=\"color: #c0c0c0; text-decoration-color: #c0c0c0\">    Status: </span><span style=\"color: #008000; text-decoration-color: #008000; font-weight: bold\">✅ Completed</span>\n",
       "│       └── <span style=\"color: #008000; text-decoration-color: #008000; font-weight: bold\">🔧 </span><span style=\"color: #008000; text-decoration-color: #008000\">Used getFuncInfo (1)</span>\n",
       "└── <span style=\"color: #808000; text-decoration-color: #808000; font-weight: bold\">📋 Task: 092f99b0-aae9-4434-9fcb-22083d6bfd97</span>\n",
       "    <span style=\"color: #c0c0c0; text-decoration-color: #c0c0c0\">   Status: </span><span style=\"color: #bfbf7f; text-decoration-color: #bfbf7f\">Executing Task...</span>\n",
       "    └── <span style=\"color: #008000; text-decoration-color: #008000; font-weight: bold\">🤖 Agent: </span><span style=\"color: #008000; text-decoration-color: #008000\">Protein Scaffolding Specialist</span>\n",
       "        <span style=\"color: #c0c0c0; text-decoration-color: #c0c0c0\">    Status: </span><span style=\"color: #008000; text-decoration-color: #008000; font-weight: bold\">✅ Completed</span>\n",
       "        └── <span style=\"color: #008000; text-decoration-color: #008000; font-weight: bold\">🔧 </span><span style=\"color: #008000; text-decoration-color: #008000\">Used getSiteInfo (1)</span>\n",
       "</pre>\n"
      ],
      "text/plain": [
       "\u001b[1;36m🚀 Crew: \u001b[0m\u001b[1;36mcrew\u001b[0m\n",
       "├── \u001b[1;32m📋 Task: caf17771-5c84-4cff-a0c5-e14ae66db4c5\u001b[0m\n",
       "│   \u001b[37m   Assigned to: \u001b[0m\u001b[32mqueryGen\u001b[0m\n",
       "│   \u001b[37m   Status: \u001b[0m\u001b[1;32m✅ Completed\u001b[0m\n",
       "│   └── \u001b[1;32m🤖 Agent: \u001b[0m\u001b[32mqueryGen\u001b[0m\n",
       "│       \u001b[37m    Status: \u001b[0m\u001b[1;32m✅ Completed\u001b[0m\n",
       "├── \u001b[1;32m📋 Task: d056b313-31cd-4ef9-81d6-e5e5fc29d6ac\u001b[0m\n",
       "│   \u001b[37m   Assigned to: \u001b[0m\u001b[32mqueryValidator\u001b[0m\n",
       "│   \u001b[37m   Status: \u001b[0m\u001b[1;32m✅ Completed\u001b[0m\n",
       "│   └── \u001b[1;32m🤖 Agent: \u001b[0m\u001b[32mqueryValidator\u001b[0m\n",
       "│       \u001b[37m    Status: \u001b[0m\u001b[1;32m✅ Completed\u001b[0m\n",
       "│       └── \u001b[1;32m🔧 \u001b[0m\u001b[32mUsed fetchUniProt (1)\u001b[0m\n",
       "├── \u001b[1;32m📋 Task: 0efdf50d-e90f-4f85-bf31-1595702bb389\u001b[0m\n",
       "│   \u001b[37m   Assigned to: \u001b[0m\u001b[32mProtein Selection Expert\u001b[0m\n",
       "│   \u001b[37m   Status: \u001b[0m\u001b[1;32m✅ Completed\u001b[0m\n",
       "│   └── \u001b[1;32m🤖 Agent: \u001b[0m\u001b[32mProtein Selection Expert\u001b[0m\n",
       "│       \u001b[37m    Status: \u001b[0m\u001b[1;32m✅ Completed\u001b[0m\n",
       "│       └── \u001b[1;32m🔧 \u001b[0m\u001b[32mUsed getFuncInfo (1)\u001b[0m\n",
       "└── \u001b[1;33m📋 Task: 092f99b0-aae9-4434-9fcb-22083d6bfd97\u001b[0m\n",
       "    \u001b[37m   Status: \u001b[0m\u001b[2;33mExecuting Task...\u001b[0m\n",
       "    └── \u001b[1;32m🤖 Agent: \u001b[0m\u001b[32mProtein Scaffolding Specialist\u001b[0m\n",
       "        \u001b[37m    Status: \u001b[0m\u001b[1;32m✅ Completed\u001b[0m\n",
       "        └── \u001b[1;32m🔧 \u001b[0m\u001b[32mUsed getSiteInfo (1)\u001b[0m\n"
      ]
     },
     "metadata": {},
     "output_type": "display_data"
    },
    {
     "data": {
      "text/html": [
       "<pre style=\"white-space:pre;overflow-x:auto;line-height:normal;font-family:Menlo,'DejaVu Sans Mono',consolas,'Courier New',monospace\">\n",
       "</pre>\n"
      ],
      "text/plain": [
       "\n"
      ]
     },
     "metadata": {},
     "output_type": "display_data"
    },
    {
     "data": {
      "text/html": [
       "<pre style=\"white-space:pre;overflow-x:auto;line-height:normal;font-family:Menlo,'DejaVu Sans Mono',consolas,'Courier New',monospace\"><span style=\"color: #008080; text-decoration-color: #008080; font-weight: bold\">🚀 Crew: crew</span>\n",
       "├── <span style=\"color: #008000; text-decoration-color: #008000; font-weight: bold\">📋 Task: caf17771-5c84-4cff-a0c5-e14ae66db4c5</span>\n",
       "│   <span style=\"color: #c0c0c0; text-decoration-color: #c0c0c0\">   Assigned to: </span><span style=\"color: #008000; text-decoration-color: #008000\">queryGen</span>\n",
       "│   <span style=\"color: #c0c0c0; text-decoration-color: #c0c0c0\">   Status: </span><span style=\"color: #008000; text-decoration-color: #008000; font-weight: bold\">✅ Completed</span>\n",
       "│   └── <span style=\"color: #008000; text-decoration-color: #008000; font-weight: bold\">🤖 Agent: </span><span style=\"color: #008000; text-decoration-color: #008000\">queryGen</span>\n",
       "│       <span style=\"color: #c0c0c0; text-decoration-color: #c0c0c0\">    Status: </span><span style=\"color: #008000; text-decoration-color: #008000; font-weight: bold\">✅ Completed</span>\n",
       "├── <span style=\"color: #008000; text-decoration-color: #008000; font-weight: bold\">📋 Task: d056b313-31cd-4ef9-81d6-e5e5fc29d6ac</span>\n",
       "│   <span style=\"color: #c0c0c0; text-decoration-color: #c0c0c0\">   Assigned to: </span><span style=\"color: #008000; text-decoration-color: #008000\">queryValidator</span>\n",
       "│   <span style=\"color: #c0c0c0; text-decoration-color: #c0c0c0\">   Status: </span><span style=\"color: #008000; text-decoration-color: #008000; font-weight: bold\">✅ Completed</span>\n",
       "│   └── <span style=\"color: #008000; text-decoration-color: #008000; font-weight: bold\">🤖 Agent: </span><span style=\"color: #008000; text-decoration-color: #008000\">queryValidator</span>\n",
       "│       <span style=\"color: #c0c0c0; text-decoration-color: #c0c0c0\">    Status: </span><span style=\"color: #008000; text-decoration-color: #008000; font-weight: bold\">✅ Completed</span>\n",
       "│       └── <span style=\"color: #008000; text-decoration-color: #008000; font-weight: bold\">🔧 </span><span style=\"color: #008000; text-decoration-color: #008000\">Used fetchUniProt (1)</span>\n",
       "├── <span style=\"color: #008000; text-decoration-color: #008000; font-weight: bold\">📋 Task: 0efdf50d-e90f-4f85-bf31-1595702bb389</span>\n",
       "│   <span style=\"color: #c0c0c0; text-decoration-color: #c0c0c0\">   Assigned to: </span><span style=\"color: #008000; text-decoration-color: #008000\">Protein Selection Expert</span>\n",
       "│   <span style=\"color: #c0c0c0; text-decoration-color: #c0c0c0\">   Status: </span><span style=\"color: #008000; text-decoration-color: #008000; font-weight: bold\">✅ Completed</span>\n",
       "│   └── <span style=\"color: #008000; text-decoration-color: #008000; font-weight: bold\">🤖 Agent: </span><span style=\"color: #008000; text-decoration-color: #008000\">Protein Selection Expert</span>\n",
       "│       <span style=\"color: #c0c0c0; text-decoration-color: #c0c0c0\">    Status: </span><span style=\"color: #008000; text-decoration-color: #008000; font-weight: bold\">✅ Completed</span>\n",
       "│       └── <span style=\"color: #008000; text-decoration-color: #008000; font-weight: bold\">🔧 </span><span style=\"color: #008000; text-decoration-color: #008000\">Used getFuncInfo (1)</span>\n",
       "└── <span style=\"color: #008000; text-decoration-color: #008000; font-weight: bold\">📋 Task: 092f99b0-aae9-4434-9fcb-22083d6bfd97</span>\n",
       "    <span style=\"color: #c0c0c0; text-decoration-color: #c0c0c0\">   Assigned to: </span><span style=\"color: #008000; text-decoration-color: #008000\">Protein Scaffolding Specialist</span>\n",
       "    <span style=\"color: #c0c0c0; text-decoration-color: #c0c0c0\">   Status: </span><span style=\"color: #008000; text-decoration-color: #008000; font-weight: bold\">✅ Completed</span>\n",
       "    └── <span style=\"color: #008000; text-decoration-color: #008000; font-weight: bold\">🤖 Agent: </span><span style=\"color: #008000; text-decoration-color: #008000\">Protein Scaffolding Specialist</span>\n",
       "        <span style=\"color: #c0c0c0; text-decoration-color: #c0c0c0\">    Status: </span><span style=\"color: #008000; text-decoration-color: #008000; font-weight: bold\">✅ Completed</span>\n",
       "        └── <span style=\"color: #008000; text-decoration-color: #008000; font-weight: bold\">🔧 </span><span style=\"color: #008000; text-decoration-color: #008000\">Used getSiteInfo (1)</span>\n",
       "</pre>\n"
      ],
      "text/plain": [
       "\u001b[1;36m🚀 Crew: \u001b[0m\u001b[1;36mcrew\u001b[0m\n",
       "├── \u001b[1;32m📋 Task: caf17771-5c84-4cff-a0c5-e14ae66db4c5\u001b[0m\n",
       "│   \u001b[37m   Assigned to: \u001b[0m\u001b[32mqueryGen\u001b[0m\n",
       "│   \u001b[37m   Status: \u001b[0m\u001b[1;32m✅ Completed\u001b[0m\n",
       "│   └── \u001b[1;32m🤖 Agent: \u001b[0m\u001b[32mqueryGen\u001b[0m\n",
       "│       \u001b[37m    Status: \u001b[0m\u001b[1;32m✅ Completed\u001b[0m\n",
       "├── \u001b[1;32m📋 Task: d056b313-31cd-4ef9-81d6-e5e5fc29d6ac\u001b[0m\n",
       "│   \u001b[37m   Assigned to: \u001b[0m\u001b[32mqueryValidator\u001b[0m\n",
       "│   \u001b[37m   Status: \u001b[0m\u001b[1;32m✅ Completed\u001b[0m\n",
       "│   └── \u001b[1;32m🤖 Agent: \u001b[0m\u001b[32mqueryValidator\u001b[0m\n",
       "│       \u001b[37m    Status: \u001b[0m\u001b[1;32m✅ Completed\u001b[0m\n",
       "│       └── \u001b[1;32m🔧 \u001b[0m\u001b[32mUsed fetchUniProt (1)\u001b[0m\n",
       "├── \u001b[1;32m📋 Task: 0efdf50d-e90f-4f85-bf31-1595702bb389\u001b[0m\n",
       "│   \u001b[37m   Assigned to: \u001b[0m\u001b[32mProtein Selection Expert\u001b[0m\n",
       "│   \u001b[37m   Status: \u001b[0m\u001b[1;32m✅ Completed\u001b[0m\n",
       "│   └── \u001b[1;32m🤖 Agent: \u001b[0m\u001b[32mProtein Selection Expert\u001b[0m\n",
       "│       \u001b[37m    Status: \u001b[0m\u001b[1;32m✅ Completed\u001b[0m\n",
       "│       └── \u001b[1;32m🔧 \u001b[0m\u001b[32mUsed getFuncInfo (1)\u001b[0m\n",
       "└── \u001b[1;32m📋 Task: 092f99b0-aae9-4434-9fcb-22083d6bfd97\u001b[0m\n",
       "    \u001b[37m   Assigned to: \u001b[0m\u001b[32mProtein Scaffolding Specialist\u001b[0m\n",
       "    \u001b[37m   Status: \u001b[0m\u001b[1;32m✅ Completed\u001b[0m\n",
       "    └── \u001b[1;32m🤖 Agent: \u001b[0m\u001b[32mProtein Scaffolding Specialist\u001b[0m\n",
       "        \u001b[37m    Status: \u001b[0m\u001b[1;32m✅ Completed\u001b[0m\n",
       "        └── \u001b[1;32m🔧 \u001b[0m\u001b[32mUsed getSiteInfo (1)\u001b[0m\n"
      ]
     },
     "metadata": {},
     "output_type": "display_data"
    },
    {
     "data": {
      "text/html": [
       "<pre style=\"white-space:pre;overflow-x:auto;line-height:normal;font-family:Menlo,'DejaVu Sans Mono',consolas,'Courier New',monospace\"><span style=\"color: #008000; text-decoration-color: #008000\">╭──────────────────────────────────────────────── Task Completion ────────────────────────────────────────────────╮</span>\n",
       "<span style=\"color: #008000; text-decoration-color: #008000\">│</span>                                                                                                                 <span style=\"color: #008000; text-decoration-color: #008000\">│</span>\n",
       "<span style=\"color: #008000; text-decoration-color: #008000\">│</span>  <span style=\"color: #008000; text-decoration-color: #008000; font-weight: bold\">Task Completed</span>                                                                                                 <span style=\"color: #008000; text-decoration-color: #008000\">│</span>\n",
       "<span style=\"color: #008000; text-decoration-color: #008000\">│</span>  <span style=\"color: #c0c0c0; text-decoration-color: #c0c0c0\">Name: </span><span style=\"color: #008000; text-decoration-color: #008000\">092f99b0-aae9-4434-9fcb-22083d6bfd97</span>                                                                     <span style=\"color: #008000; text-decoration-color: #008000\">│</span>\n",
       "<span style=\"color: #008000; text-decoration-color: #008000\">│</span>  <span style=\"color: #c0c0c0; text-decoration-color: #c0c0c0\">Agent: </span><span style=\"color: #008000; text-decoration-color: #008000\">Protein Scaffolding Specialist</span>                                                                          <span style=\"color: #008000; text-decoration-color: #008000\">│</span>\n",
       "<span style=\"color: #008000; text-decoration-color: #008000\">│</span>                                                                                                                 <span style=\"color: #008000; text-decoration-color: #008000\">│</span>\n",
       "<span style=\"color: #008000; text-decoration-color: #008000\">│</span>                                                                                                                 <span style=\"color: #008000; text-decoration-color: #008000\">│</span>\n",
       "<span style=\"color: #008000; text-decoration-color: #008000\">╰─────────────────────────────────────────────────────────────────────────────────────────────────────────────────╯</span>\n",
       "</pre>\n"
      ],
      "text/plain": [
       "\u001b[32m╭─\u001b[0m\u001b[32m───────────────────────────────────────────────\u001b[0m\u001b[32m Task Completion \u001b[0m\u001b[32m───────────────────────────────────────────────\u001b[0m\u001b[32m─╮\u001b[0m\n",
       "\u001b[32m│\u001b[0m                                                                                                                 \u001b[32m│\u001b[0m\n",
       "\u001b[32m│\u001b[0m  \u001b[1;32mTask Completed\u001b[0m                                                                                                 \u001b[32m│\u001b[0m\n",
       "\u001b[32m│\u001b[0m  \u001b[37mName: \u001b[0m\u001b[32m092f99b0-aae9-4434-9fcb-22083d6bfd97\u001b[0m                                                                     \u001b[32m│\u001b[0m\n",
       "\u001b[32m│\u001b[0m  \u001b[37mAgent: \u001b[0m\u001b[32mProtein Scaffolding Specialist\u001b[0m                                                                          \u001b[32m│\u001b[0m\n",
       "\u001b[32m│\u001b[0m                                                                                                                 \u001b[32m│\u001b[0m\n",
       "\u001b[32m│\u001b[0m                                                                                                                 \u001b[32m│\u001b[0m\n",
       "\u001b[32m╰─────────────────────────────────────────────────────────────────────────────────────────────────────────────────╯\u001b[0m\n"
      ]
     },
     "metadata": {},
     "output_type": "display_data"
    },
    {
     "data": {
      "text/html": [
       "<pre style=\"white-space:pre;overflow-x:auto;line-height:normal;font-family:Menlo,'DejaVu Sans Mono',consolas,'Courier New',monospace\">\n",
       "</pre>\n"
      ],
      "text/plain": [
       "\n"
      ]
     },
     "metadata": {},
     "output_type": "display_data"
    },
    {
     "data": {
      "text/html": [
       "<pre style=\"white-space:pre;overflow-x:auto;line-height:normal;font-family:Menlo,'DejaVu Sans Mono',consolas,'Courier New',monospace\"><span style=\"color: #008080; text-decoration-color: #008080; font-weight: bold\">🚀 Crew: crew</span>\n",
       "├── <span style=\"color: #008000; text-decoration-color: #008000; font-weight: bold\">📋 Task: caf17771-5c84-4cff-a0c5-e14ae66db4c5</span>\n",
       "│   <span style=\"color: #c0c0c0; text-decoration-color: #c0c0c0\">   Assigned to: </span><span style=\"color: #008000; text-decoration-color: #008000\">queryGen</span>\n",
       "│   <span style=\"color: #c0c0c0; text-decoration-color: #c0c0c0\">   Status: </span><span style=\"color: #008000; text-decoration-color: #008000; font-weight: bold\">✅ Completed</span>\n",
       "│   └── <span style=\"color: #008000; text-decoration-color: #008000; font-weight: bold\">🤖 Agent: </span><span style=\"color: #008000; text-decoration-color: #008000\">queryGen</span>\n",
       "│       <span style=\"color: #c0c0c0; text-decoration-color: #c0c0c0\">    Status: </span><span style=\"color: #008000; text-decoration-color: #008000; font-weight: bold\">✅ Completed</span>\n",
       "├── <span style=\"color: #008000; text-decoration-color: #008000; font-weight: bold\">📋 Task: d056b313-31cd-4ef9-81d6-e5e5fc29d6ac</span>\n",
       "│   <span style=\"color: #c0c0c0; text-decoration-color: #c0c0c0\">   Assigned to: </span><span style=\"color: #008000; text-decoration-color: #008000\">queryValidator</span>\n",
       "│   <span style=\"color: #c0c0c0; text-decoration-color: #c0c0c0\">   Status: </span><span style=\"color: #008000; text-decoration-color: #008000; font-weight: bold\">✅ Completed</span>\n",
       "│   └── <span style=\"color: #008000; text-decoration-color: #008000; font-weight: bold\">🤖 Agent: </span><span style=\"color: #008000; text-decoration-color: #008000\">queryValidator</span>\n",
       "│       <span style=\"color: #c0c0c0; text-decoration-color: #c0c0c0\">    Status: </span><span style=\"color: #008000; text-decoration-color: #008000; font-weight: bold\">✅ Completed</span>\n",
       "│       └── <span style=\"color: #008000; text-decoration-color: #008000; font-weight: bold\">🔧 </span><span style=\"color: #008000; text-decoration-color: #008000\">Used fetchUniProt (1)</span>\n",
       "├── <span style=\"color: #008000; text-decoration-color: #008000; font-weight: bold\">📋 Task: 0efdf50d-e90f-4f85-bf31-1595702bb389</span>\n",
       "│   <span style=\"color: #c0c0c0; text-decoration-color: #c0c0c0\">   Assigned to: </span><span style=\"color: #008000; text-decoration-color: #008000\">Protein Selection Expert</span>\n",
       "│   <span style=\"color: #c0c0c0; text-decoration-color: #c0c0c0\">   Status: </span><span style=\"color: #008000; text-decoration-color: #008000; font-weight: bold\">✅ Completed</span>\n",
       "│   └── <span style=\"color: #008000; text-decoration-color: #008000; font-weight: bold\">🤖 Agent: </span><span style=\"color: #008000; text-decoration-color: #008000\">Protein Selection Expert</span>\n",
       "│       <span style=\"color: #c0c0c0; text-decoration-color: #c0c0c0\">    Status: </span><span style=\"color: #008000; text-decoration-color: #008000; font-weight: bold\">✅ Completed</span>\n",
       "│       └── <span style=\"color: #008000; text-decoration-color: #008000; font-weight: bold\">🔧 </span><span style=\"color: #008000; text-decoration-color: #008000\">Used getFuncInfo (1)</span>\n",
       "├── <span style=\"color: #008000; text-decoration-color: #008000; font-weight: bold\">📋 Task: 092f99b0-aae9-4434-9fcb-22083d6bfd97</span>\n",
       "│   <span style=\"color: #c0c0c0; text-decoration-color: #c0c0c0\">   Assigned to: </span><span style=\"color: #008000; text-decoration-color: #008000\">Protein Scaffolding Specialist</span>\n",
       "│   <span style=\"color: #c0c0c0; text-decoration-color: #c0c0c0\">   Status: </span><span style=\"color: #008000; text-decoration-color: #008000; font-weight: bold\">✅ Completed</span>\n",
       "│   └── <span style=\"color: #008000; text-decoration-color: #008000; font-weight: bold\">🤖 Agent: </span><span style=\"color: #008000; text-decoration-color: #008000\">Protein Scaffolding Specialist</span>\n",
       "│       <span style=\"color: #c0c0c0; text-decoration-color: #c0c0c0\">    Status: </span><span style=\"color: #008000; text-decoration-color: #008000; font-weight: bold\">✅ Completed</span>\n",
       "│       └── <span style=\"color: #008000; text-decoration-color: #008000; font-weight: bold\">🔧 </span><span style=\"color: #008000; text-decoration-color: #008000\">Used getSiteInfo (1)</span>\n",
       "└── <span style=\"color: #808000; text-decoration-color: #808000; font-weight: bold\">📋 Task: 5990c659-96a8-4131-95cd-8f4fe6aed56c</span>\n",
       "    <span style=\"color: #c0c0c0; text-decoration-color: #c0c0c0\">   Status: </span><span style=\"color: #bfbf7f; text-decoration-color: #bfbf7f\">Executing Task...</span>\n",
       "</pre>\n"
      ],
      "text/plain": [
       "\u001b[1;36m🚀 Crew: \u001b[0m\u001b[1;36mcrew\u001b[0m\n",
       "├── \u001b[1;32m📋 Task: caf17771-5c84-4cff-a0c5-e14ae66db4c5\u001b[0m\n",
       "│   \u001b[37m   Assigned to: \u001b[0m\u001b[32mqueryGen\u001b[0m\n",
       "│   \u001b[37m   Status: \u001b[0m\u001b[1;32m✅ Completed\u001b[0m\n",
       "│   └── \u001b[1;32m🤖 Agent: \u001b[0m\u001b[32mqueryGen\u001b[0m\n",
       "│       \u001b[37m    Status: \u001b[0m\u001b[1;32m✅ Completed\u001b[0m\n",
       "├── \u001b[1;32m📋 Task: d056b313-31cd-4ef9-81d6-e5e5fc29d6ac\u001b[0m\n",
       "│   \u001b[37m   Assigned to: \u001b[0m\u001b[32mqueryValidator\u001b[0m\n",
       "│   \u001b[37m   Status: \u001b[0m\u001b[1;32m✅ Completed\u001b[0m\n",
       "│   └── \u001b[1;32m🤖 Agent: \u001b[0m\u001b[32mqueryValidator\u001b[0m\n",
       "│       \u001b[37m    Status: \u001b[0m\u001b[1;32m✅ Completed\u001b[0m\n",
       "│       └── \u001b[1;32m🔧 \u001b[0m\u001b[32mUsed fetchUniProt (1)\u001b[0m\n",
       "├── \u001b[1;32m📋 Task: 0efdf50d-e90f-4f85-bf31-1595702bb389\u001b[0m\n",
       "│   \u001b[37m   Assigned to: \u001b[0m\u001b[32mProtein Selection Expert\u001b[0m\n",
       "│   \u001b[37m   Status: \u001b[0m\u001b[1;32m✅ Completed\u001b[0m\n",
       "│   └── \u001b[1;32m🤖 Agent: \u001b[0m\u001b[32mProtein Selection Expert\u001b[0m\n",
       "│       \u001b[37m    Status: \u001b[0m\u001b[1;32m✅ Completed\u001b[0m\n",
       "│       └── \u001b[1;32m🔧 \u001b[0m\u001b[32mUsed getFuncInfo (1)\u001b[0m\n",
       "├── \u001b[1;32m📋 Task: 092f99b0-aae9-4434-9fcb-22083d6bfd97\u001b[0m\n",
       "│   \u001b[37m   Assigned to: \u001b[0m\u001b[32mProtein Scaffolding Specialist\u001b[0m\n",
       "│   \u001b[37m   Status: \u001b[0m\u001b[1;32m✅ Completed\u001b[0m\n",
       "│   └── \u001b[1;32m🤖 Agent: \u001b[0m\u001b[32mProtein Scaffolding Specialist\u001b[0m\n",
       "│       \u001b[37m    Status: \u001b[0m\u001b[1;32m✅ Completed\u001b[0m\n",
       "│       └── \u001b[1;32m🔧 \u001b[0m\u001b[32mUsed getSiteInfo (1)\u001b[0m\n",
       "└── \u001b[1;33m📋 Task: 5990c659-96a8-4131-95cd-8f4fe6aed56c\u001b[0m\n",
       "    \u001b[37m   Status: \u001b[0m\u001b[2;33mExecuting Task...\u001b[0m\n"
      ]
     },
     "metadata": {},
     "output_type": "display_data"
    },
    {
     "data": {
      "text/html": [
       "<pre style=\"white-space:pre;overflow-x:auto;line-height:normal;font-family:Menlo,'DejaVu Sans Mono',consolas,'Courier New',monospace\">\n",
       "</pre>\n"
      ],
      "text/plain": [
       "\n"
      ]
     },
     "metadata": {},
     "output_type": "display_data"
    },
    {
     "data": {
      "text/html": [
       "<pre style=\"white-space:pre;overflow-x:auto;line-height:normal;font-family:Menlo,'DejaVu Sans Mono',consolas,'Courier New',monospace\"><span style=\"color: #008080; text-decoration-color: #008080; font-weight: bold\">🚀 Crew: crew</span>\n",
       "├── <span style=\"color: #008000; text-decoration-color: #008000; font-weight: bold\">📋 Task: caf17771-5c84-4cff-a0c5-e14ae66db4c5</span>\n",
       "│   <span style=\"color: #c0c0c0; text-decoration-color: #c0c0c0\">   Assigned to: </span><span style=\"color: #008000; text-decoration-color: #008000\">queryGen</span>\n",
       "│   <span style=\"color: #c0c0c0; text-decoration-color: #c0c0c0\">   Status: </span><span style=\"color: #008000; text-decoration-color: #008000; font-weight: bold\">✅ Completed</span>\n",
       "│   └── <span style=\"color: #008000; text-decoration-color: #008000; font-weight: bold\">🤖 Agent: </span><span style=\"color: #008000; text-decoration-color: #008000\">queryGen</span>\n",
       "│       <span style=\"color: #c0c0c0; text-decoration-color: #c0c0c0\">    Status: </span><span style=\"color: #008000; text-decoration-color: #008000; font-weight: bold\">✅ Completed</span>\n",
       "├── <span style=\"color: #008000; text-decoration-color: #008000; font-weight: bold\">📋 Task: d056b313-31cd-4ef9-81d6-e5e5fc29d6ac</span>\n",
       "│   <span style=\"color: #c0c0c0; text-decoration-color: #c0c0c0\">   Assigned to: </span><span style=\"color: #008000; text-decoration-color: #008000\">queryValidator</span>\n",
       "│   <span style=\"color: #c0c0c0; text-decoration-color: #c0c0c0\">   Status: </span><span style=\"color: #008000; text-decoration-color: #008000; font-weight: bold\">✅ Completed</span>\n",
       "│   └── <span style=\"color: #008000; text-decoration-color: #008000; font-weight: bold\">🤖 Agent: </span><span style=\"color: #008000; text-decoration-color: #008000\">queryValidator</span>\n",
       "│       <span style=\"color: #c0c0c0; text-decoration-color: #c0c0c0\">    Status: </span><span style=\"color: #008000; text-decoration-color: #008000; font-weight: bold\">✅ Completed</span>\n",
       "│       └── <span style=\"color: #008000; text-decoration-color: #008000; font-weight: bold\">🔧 </span><span style=\"color: #008000; text-decoration-color: #008000\">Used fetchUniProt (1)</span>\n",
       "├── <span style=\"color: #008000; text-decoration-color: #008000; font-weight: bold\">📋 Task: 0efdf50d-e90f-4f85-bf31-1595702bb389</span>\n",
       "│   <span style=\"color: #c0c0c0; text-decoration-color: #c0c0c0\">   Assigned to: </span><span style=\"color: #008000; text-decoration-color: #008000\">Protein Selection Expert</span>\n",
       "│   <span style=\"color: #c0c0c0; text-decoration-color: #c0c0c0\">   Status: </span><span style=\"color: #008000; text-decoration-color: #008000; font-weight: bold\">✅ Completed</span>\n",
       "│   └── <span style=\"color: #008000; text-decoration-color: #008000; font-weight: bold\">🤖 Agent: </span><span style=\"color: #008000; text-decoration-color: #008000\">Protein Selection Expert</span>\n",
       "│       <span style=\"color: #c0c0c0; text-decoration-color: #c0c0c0\">    Status: </span><span style=\"color: #008000; text-decoration-color: #008000; font-weight: bold\">✅ Completed</span>\n",
       "│       └── <span style=\"color: #008000; text-decoration-color: #008000; font-weight: bold\">🔧 </span><span style=\"color: #008000; text-decoration-color: #008000\">Used getFuncInfo (1)</span>\n",
       "├── <span style=\"color: #008000; text-decoration-color: #008000; font-weight: bold\">📋 Task: 092f99b0-aae9-4434-9fcb-22083d6bfd97</span>\n",
       "│   <span style=\"color: #c0c0c0; text-decoration-color: #c0c0c0\">   Assigned to: </span><span style=\"color: #008000; text-decoration-color: #008000\">Protein Scaffolding Specialist</span>\n",
       "│   <span style=\"color: #c0c0c0; text-decoration-color: #c0c0c0\">   Status: </span><span style=\"color: #008000; text-decoration-color: #008000; font-weight: bold\">✅ Completed</span>\n",
       "│   └── <span style=\"color: #008000; text-decoration-color: #008000; font-weight: bold\">🤖 Agent: </span><span style=\"color: #008000; text-decoration-color: #008000\">Protein Scaffolding Specialist</span>\n",
       "│       <span style=\"color: #c0c0c0; text-decoration-color: #c0c0c0\">    Status: </span><span style=\"color: #008000; text-decoration-color: #008000; font-weight: bold\">✅ Completed</span>\n",
       "│       └── <span style=\"color: #008000; text-decoration-color: #008000; font-weight: bold\">🔧 </span><span style=\"color: #008000; text-decoration-color: #008000\">Used getSiteInfo (1)</span>\n",
       "└── <span style=\"color: #808000; text-decoration-color: #808000; font-weight: bold\">📋 Task: 5990c659-96a8-4131-95cd-8f4fe6aed56c</span>\n",
       "    <span style=\"color: #c0c0c0; text-decoration-color: #c0c0c0\">   Status: </span><span style=\"color: #bfbf7f; text-decoration-color: #bfbf7f\">Executing Task...</span>\n",
       "    └── <span style=\"color: #008000; text-decoration-color: #008000; font-weight: bold\">🤖 Agent: </span><span style=\"color: #008000; text-decoration-color: #008000\">RF Diffusion Expert</span>\n",
       "        <span style=\"color: #c0c0c0; text-decoration-color: #c0c0c0\">    Status: </span><span style=\"color: #008000; text-decoration-color: #008000; font-weight: bold\">In Progress</span>\n",
       "</pre>\n"
      ],
      "text/plain": [
       "\u001b[1;36m🚀 Crew: \u001b[0m\u001b[1;36mcrew\u001b[0m\n",
       "├── \u001b[1;32m📋 Task: caf17771-5c84-4cff-a0c5-e14ae66db4c5\u001b[0m\n",
       "│   \u001b[37m   Assigned to: \u001b[0m\u001b[32mqueryGen\u001b[0m\n",
       "│   \u001b[37m   Status: \u001b[0m\u001b[1;32m✅ Completed\u001b[0m\n",
       "│   └── \u001b[1;32m🤖 Agent: \u001b[0m\u001b[32mqueryGen\u001b[0m\n",
       "│       \u001b[37m    Status: \u001b[0m\u001b[1;32m✅ Completed\u001b[0m\n",
       "├── \u001b[1;32m📋 Task: d056b313-31cd-4ef9-81d6-e5e5fc29d6ac\u001b[0m\n",
       "│   \u001b[37m   Assigned to: \u001b[0m\u001b[32mqueryValidator\u001b[0m\n",
       "│   \u001b[37m   Status: \u001b[0m\u001b[1;32m✅ Completed\u001b[0m\n",
       "│   └── \u001b[1;32m🤖 Agent: \u001b[0m\u001b[32mqueryValidator\u001b[0m\n",
       "│       \u001b[37m    Status: \u001b[0m\u001b[1;32m✅ Completed\u001b[0m\n",
       "│       └── \u001b[1;32m🔧 \u001b[0m\u001b[32mUsed fetchUniProt (1)\u001b[0m\n",
       "├── \u001b[1;32m📋 Task: 0efdf50d-e90f-4f85-bf31-1595702bb389\u001b[0m\n",
       "│   \u001b[37m   Assigned to: \u001b[0m\u001b[32mProtein Selection Expert\u001b[0m\n",
       "│   \u001b[37m   Status: \u001b[0m\u001b[1;32m✅ Completed\u001b[0m\n",
       "│   └── \u001b[1;32m🤖 Agent: \u001b[0m\u001b[32mProtein Selection Expert\u001b[0m\n",
       "│       \u001b[37m    Status: \u001b[0m\u001b[1;32m✅ Completed\u001b[0m\n",
       "│       └── \u001b[1;32m🔧 \u001b[0m\u001b[32mUsed getFuncInfo (1)\u001b[0m\n",
       "├── \u001b[1;32m📋 Task: 092f99b0-aae9-4434-9fcb-22083d6bfd97\u001b[0m\n",
       "│   \u001b[37m   Assigned to: \u001b[0m\u001b[32mProtein Scaffolding Specialist\u001b[0m\n",
       "│   \u001b[37m   Status: \u001b[0m\u001b[1;32m✅ Completed\u001b[0m\n",
       "│   └── \u001b[1;32m🤖 Agent: \u001b[0m\u001b[32mProtein Scaffolding Specialist\u001b[0m\n",
       "│       \u001b[37m    Status: \u001b[0m\u001b[1;32m✅ Completed\u001b[0m\n",
       "│       └── \u001b[1;32m🔧 \u001b[0m\u001b[32mUsed getSiteInfo (1)\u001b[0m\n",
       "└── \u001b[1;33m📋 Task: 5990c659-96a8-4131-95cd-8f4fe6aed56c\u001b[0m\n",
       "    \u001b[37m   Status: \u001b[0m\u001b[2;33mExecuting Task...\u001b[0m\n",
       "    └── \u001b[1;32m🤖 Agent: \u001b[0m\u001b[32mRF Diffusion Expert\u001b[0m\n",
       "        \u001b[37m    Status: \u001b[0m\u001b[1;32mIn Progress\u001b[0m\n"
      ]
     },
     "metadata": {},
     "output_type": "display_data"
    },
    {
     "data": {
      "text/html": [
       "<pre style=\"white-space:pre;overflow-x:auto;line-height:normal;font-family:Menlo,'DejaVu Sans Mono',consolas,'Courier New',monospace\">\n",
       "</pre>\n"
      ],
      "text/plain": [
       "\n"
      ]
     },
     "metadata": {},
     "output_type": "display_data"
    },
    {
     "name": "stdout",
     "output_type": "stream",
     "text": [
      "\u001b[1m\u001b[95m# Agent:\u001b[00m \u001b[1m\u001b[92mRF Diffusion Expert\u001b[00m\n",
      "\u001b[95m## Task:\u001b[00m \u001b[92mUsing the analysis from the previous task, generate a configuration script for running the RF Diffusion process. Include model settings, diffusion parameters, input file paths, output directory locations, and any optional parameters (such as contigmap).\u001b[00m\n"
     ]
    },
    {
     "data": {
      "text/html": [
       "<pre style=\"white-space:pre;overflow-x:auto;line-height:normal;font-family:Menlo,'DejaVu Sans Mono',consolas,'Courier New',monospace\"><span style=\"color: #008080; text-decoration-color: #008080; font-weight: bold\">🚀 Crew: crew</span>\n",
       "├── <span style=\"color: #008000; text-decoration-color: #008000; font-weight: bold\">📋 Task: caf17771-5c84-4cff-a0c5-e14ae66db4c5</span>\n",
       "│   <span style=\"color: #c0c0c0; text-decoration-color: #c0c0c0\">   Assigned to: </span><span style=\"color: #008000; text-decoration-color: #008000\">queryGen</span>\n",
       "│   <span style=\"color: #c0c0c0; text-decoration-color: #c0c0c0\">   Status: </span><span style=\"color: #008000; text-decoration-color: #008000; font-weight: bold\">✅ Completed</span>\n",
       "│   └── <span style=\"color: #008000; text-decoration-color: #008000; font-weight: bold\">🤖 Agent: </span><span style=\"color: #008000; text-decoration-color: #008000\">queryGen</span>\n",
       "│       <span style=\"color: #c0c0c0; text-decoration-color: #c0c0c0\">    Status: </span><span style=\"color: #008000; text-decoration-color: #008000; font-weight: bold\">✅ Completed</span>\n",
       "├── <span style=\"color: #008000; text-decoration-color: #008000; font-weight: bold\">📋 Task: d056b313-31cd-4ef9-81d6-e5e5fc29d6ac</span>\n",
       "│   <span style=\"color: #c0c0c0; text-decoration-color: #c0c0c0\">   Assigned to: </span><span style=\"color: #008000; text-decoration-color: #008000\">queryValidator</span>\n",
       "│   <span style=\"color: #c0c0c0; text-decoration-color: #c0c0c0\">   Status: </span><span style=\"color: #008000; text-decoration-color: #008000; font-weight: bold\">✅ Completed</span>\n",
       "│   └── <span style=\"color: #008000; text-decoration-color: #008000; font-weight: bold\">🤖 Agent: </span><span style=\"color: #008000; text-decoration-color: #008000\">queryValidator</span>\n",
       "│       <span style=\"color: #c0c0c0; text-decoration-color: #c0c0c0\">    Status: </span><span style=\"color: #008000; text-decoration-color: #008000; font-weight: bold\">✅ Completed</span>\n",
       "│       └── <span style=\"color: #008000; text-decoration-color: #008000; font-weight: bold\">🔧 </span><span style=\"color: #008000; text-decoration-color: #008000\">Used fetchUniProt (1)</span>\n",
       "├── <span style=\"color: #008000; text-decoration-color: #008000; font-weight: bold\">📋 Task: 0efdf50d-e90f-4f85-bf31-1595702bb389</span>\n",
       "│   <span style=\"color: #c0c0c0; text-decoration-color: #c0c0c0\">   Assigned to: </span><span style=\"color: #008000; text-decoration-color: #008000\">Protein Selection Expert</span>\n",
       "│   <span style=\"color: #c0c0c0; text-decoration-color: #c0c0c0\">   Status: </span><span style=\"color: #008000; text-decoration-color: #008000; font-weight: bold\">✅ Completed</span>\n",
       "│   └── <span style=\"color: #008000; text-decoration-color: #008000; font-weight: bold\">🤖 Agent: </span><span style=\"color: #008000; text-decoration-color: #008000\">Protein Selection Expert</span>\n",
       "│       <span style=\"color: #c0c0c0; text-decoration-color: #c0c0c0\">    Status: </span><span style=\"color: #008000; text-decoration-color: #008000; font-weight: bold\">✅ Completed</span>\n",
       "│       └── <span style=\"color: #008000; text-decoration-color: #008000; font-weight: bold\">🔧 </span><span style=\"color: #008000; text-decoration-color: #008000\">Used getFuncInfo (1)</span>\n",
       "├── <span style=\"color: #008000; text-decoration-color: #008000; font-weight: bold\">📋 Task: 092f99b0-aae9-4434-9fcb-22083d6bfd97</span>\n",
       "│   <span style=\"color: #c0c0c0; text-decoration-color: #c0c0c0\">   Assigned to: </span><span style=\"color: #008000; text-decoration-color: #008000\">Protein Scaffolding Specialist</span>\n",
       "│   <span style=\"color: #c0c0c0; text-decoration-color: #c0c0c0\">   Status: </span><span style=\"color: #008000; text-decoration-color: #008000; font-weight: bold\">✅ Completed</span>\n",
       "│   └── <span style=\"color: #008000; text-decoration-color: #008000; font-weight: bold\">🤖 Agent: </span><span style=\"color: #008000; text-decoration-color: #008000\">Protein Scaffolding Specialist</span>\n",
       "│       <span style=\"color: #c0c0c0; text-decoration-color: #c0c0c0\">    Status: </span><span style=\"color: #008000; text-decoration-color: #008000; font-weight: bold\">✅ Completed</span>\n",
       "│       └── <span style=\"color: #008000; text-decoration-color: #008000; font-weight: bold\">🔧 </span><span style=\"color: #008000; text-decoration-color: #008000\">Used getSiteInfo (1)</span>\n",
       "└── <span style=\"color: #808000; text-decoration-color: #808000; font-weight: bold\">📋 Task: 5990c659-96a8-4131-95cd-8f4fe6aed56c</span>\n",
       "    <span style=\"color: #c0c0c0; text-decoration-color: #c0c0c0\">   Status: </span><span style=\"color: #bfbf7f; text-decoration-color: #bfbf7f\">Executing Task...</span>\n",
       "    └── <span style=\"color: #008000; text-decoration-color: #008000; font-weight: bold\">🤖 Agent: </span><span style=\"color: #008000; text-decoration-color: #008000\">RF Diffusion Expert</span>\n",
       "        <span style=\"color: #c0c0c0; text-decoration-color: #c0c0c0\">    Status: </span><span style=\"color: #008000; text-decoration-color: #008000; font-weight: bold\">In Progress</span>\n",
       "        └── <span style=\"color: #000080; text-decoration-color: #000080; font-weight: bold\">🧠 </span><span style=\"color: #000080; text-decoration-color: #000080\">Thinking...</span>\n",
       "</pre>\n"
      ],
      "text/plain": [
       "\u001b[1;36m🚀 Crew: \u001b[0m\u001b[1;36mcrew\u001b[0m\n",
       "├── \u001b[1;32m📋 Task: caf17771-5c84-4cff-a0c5-e14ae66db4c5\u001b[0m\n",
       "│   \u001b[37m   Assigned to: \u001b[0m\u001b[32mqueryGen\u001b[0m\n",
       "│   \u001b[37m   Status: \u001b[0m\u001b[1;32m✅ Completed\u001b[0m\n",
       "│   └── \u001b[1;32m🤖 Agent: \u001b[0m\u001b[32mqueryGen\u001b[0m\n",
       "│       \u001b[37m    Status: \u001b[0m\u001b[1;32m✅ Completed\u001b[0m\n",
       "├── \u001b[1;32m📋 Task: d056b313-31cd-4ef9-81d6-e5e5fc29d6ac\u001b[0m\n",
       "│   \u001b[37m   Assigned to: \u001b[0m\u001b[32mqueryValidator\u001b[0m\n",
       "│   \u001b[37m   Status: \u001b[0m\u001b[1;32m✅ Completed\u001b[0m\n",
       "│   └── \u001b[1;32m🤖 Agent: \u001b[0m\u001b[32mqueryValidator\u001b[0m\n",
       "│       \u001b[37m    Status: \u001b[0m\u001b[1;32m✅ Completed\u001b[0m\n",
       "│       └── \u001b[1;32m🔧 \u001b[0m\u001b[32mUsed fetchUniProt (1)\u001b[0m\n",
       "├── \u001b[1;32m📋 Task: 0efdf50d-e90f-4f85-bf31-1595702bb389\u001b[0m\n",
       "│   \u001b[37m   Assigned to: \u001b[0m\u001b[32mProtein Selection Expert\u001b[0m\n",
       "│   \u001b[37m   Status: \u001b[0m\u001b[1;32m✅ Completed\u001b[0m\n",
       "│   └── \u001b[1;32m🤖 Agent: \u001b[0m\u001b[32mProtein Selection Expert\u001b[0m\n",
       "│       \u001b[37m    Status: \u001b[0m\u001b[1;32m✅ Completed\u001b[0m\n",
       "│       └── \u001b[1;32m🔧 \u001b[0m\u001b[32mUsed getFuncInfo (1)\u001b[0m\n",
       "├── \u001b[1;32m📋 Task: 092f99b0-aae9-4434-9fcb-22083d6bfd97\u001b[0m\n",
       "│   \u001b[37m   Assigned to: \u001b[0m\u001b[32mProtein Scaffolding Specialist\u001b[0m\n",
       "│   \u001b[37m   Status: \u001b[0m\u001b[1;32m✅ Completed\u001b[0m\n",
       "│   └── \u001b[1;32m🤖 Agent: \u001b[0m\u001b[32mProtein Scaffolding Specialist\u001b[0m\n",
       "│       \u001b[37m    Status: \u001b[0m\u001b[1;32m✅ Completed\u001b[0m\n",
       "│       └── \u001b[1;32m🔧 \u001b[0m\u001b[32mUsed getSiteInfo (1)\u001b[0m\n",
       "└── \u001b[1;33m📋 Task: 5990c659-96a8-4131-95cd-8f4fe6aed56c\u001b[0m\n",
       "    \u001b[37m   Status: \u001b[0m\u001b[2;33mExecuting Task...\u001b[0m\n",
       "    └── \u001b[1;32m🤖 Agent: \u001b[0m\u001b[32mRF Diffusion Expert\u001b[0m\n",
       "        \u001b[37m    Status: \u001b[0m\u001b[1;32mIn Progress\u001b[0m\n",
       "        └── \u001b[1;34m🧠 \u001b[0m\u001b[34mThinking...\u001b[0m\n"
      ]
     },
     "metadata": {},
     "output_type": "display_data"
    },
    {
     "data": {
      "text/html": [
       "<pre style=\"white-space:pre;overflow-x:auto;line-height:normal;font-family:Menlo,'DejaVu Sans Mono',consolas,'Courier New',monospace\">\n",
       "</pre>\n"
      ],
      "text/plain": [
       "\n"
      ]
     },
     "metadata": {},
     "output_type": "display_data"
    },
    {
     "data": {
      "text/html": [
       "<pre style=\"white-space:pre;overflow-x:auto;line-height:normal;font-family:Menlo,'DejaVu Sans Mono',consolas,'Courier New',monospace\"><span style=\"color: #008080; text-decoration-color: #008080; font-weight: bold\">🚀 Crew: crew</span>\n",
       "├── <span style=\"color: #008000; text-decoration-color: #008000; font-weight: bold\">📋 Task: caf17771-5c84-4cff-a0c5-e14ae66db4c5</span>\n",
       "│   <span style=\"color: #c0c0c0; text-decoration-color: #c0c0c0\">   Assigned to: </span><span style=\"color: #008000; text-decoration-color: #008000\">queryGen</span>\n",
       "│   <span style=\"color: #c0c0c0; text-decoration-color: #c0c0c0\">   Status: </span><span style=\"color: #008000; text-decoration-color: #008000; font-weight: bold\">✅ Completed</span>\n",
       "│   └── <span style=\"color: #008000; text-decoration-color: #008000; font-weight: bold\">🤖 Agent: </span><span style=\"color: #008000; text-decoration-color: #008000\">queryGen</span>\n",
       "│       <span style=\"color: #c0c0c0; text-decoration-color: #c0c0c0\">    Status: </span><span style=\"color: #008000; text-decoration-color: #008000; font-weight: bold\">✅ Completed</span>\n",
       "├── <span style=\"color: #008000; text-decoration-color: #008000; font-weight: bold\">📋 Task: d056b313-31cd-4ef9-81d6-e5e5fc29d6ac</span>\n",
       "│   <span style=\"color: #c0c0c0; text-decoration-color: #c0c0c0\">   Assigned to: </span><span style=\"color: #008000; text-decoration-color: #008000\">queryValidator</span>\n",
       "│   <span style=\"color: #c0c0c0; text-decoration-color: #c0c0c0\">   Status: </span><span style=\"color: #008000; text-decoration-color: #008000; font-weight: bold\">✅ Completed</span>\n",
       "│   └── <span style=\"color: #008000; text-decoration-color: #008000; font-weight: bold\">🤖 Agent: </span><span style=\"color: #008000; text-decoration-color: #008000\">queryValidator</span>\n",
       "│       <span style=\"color: #c0c0c0; text-decoration-color: #c0c0c0\">    Status: </span><span style=\"color: #008000; text-decoration-color: #008000; font-weight: bold\">✅ Completed</span>\n",
       "│       └── <span style=\"color: #008000; text-decoration-color: #008000; font-weight: bold\">🔧 </span><span style=\"color: #008000; text-decoration-color: #008000\">Used fetchUniProt (1)</span>\n",
       "├── <span style=\"color: #008000; text-decoration-color: #008000; font-weight: bold\">📋 Task: 0efdf50d-e90f-4f85-bf31-1595702bb389</span>\n",
       "│   <span style=\"color: #c0c0c0; text-decoration-color: #c0c0c0\">   Assigned to: </span><span style=\"color: #008000; text-decoration-color: #008000\">Protein Selection Expert</span>\n",
       "│   <span style=\"color: #c0c0c0; text-decoration-color: #c0c0c0\">   Status: </span><span style=\"color: #008000; text-decoration-color: #008000; font-weight: bold\">✅ Completed</span>\n",
       "│   └── <span style=\"color: #008000; text-decoration-color: #008000; font-weight: bold\">🤖 Agent: </span><span style=\"color: #008000; text-decoration-color: #008000\">Protein Selection Expert</span>\n",
       "│       <span style=\"color: #c0c0c0; text-decoration-color: #c0c0c0\">    Status: </span><span style=\"color: #008000; text-decoration-color: #008000; font-weight: bold\">✅ Completed</span>\n",
       "│       └── <span style=\"color: #008000; text-decoration-color: #008000; font-weight: bold\">🔧 </span><span style=\"color: #008000; text-decoration-color: #008000\">Used getFuncInfo (1)</span>\n",
       "├── <span style=\"color: #008000; text-decoration-color: #008000; font-weight: bold\">📋 Task: 092f99b0-aae9-4434-9fcb-22083d6bfd97</span>\n",
       "│   <span style=\"color: #c0c0c0; text-decoration-color: #c0c0c0\">   Assigned to: </span><span style=\"color: #008000; text-decoration-color: #008000\">Protein Scaffolding Specialist</span>\n",
       "│   <span style=\"color: #c0c0c0; text-decoration-color: #c0c0c0\">   Status: </span><span style=\"color: #008000; text-decoration-color: #008000; font-weight: bold\">✅ Completed</span>\n",
       "│   └── <span style=\"color: #008000; text-decoration-color: #008000; font-weight: bold\">🤖 Agent: </span><span style=\"color: #008000; text-decoration-color: #008000\">Protein Scaffolding Specialist</span>\n",
       "│       <span style=\"color: #c0c0c0; text-decoration-color: #c0c0c0\">    Status: </span><span style=\"color: #008000; text-decoration-color: #008000; font-weight: bold\">✅ Completed</span>\n",
       "│       └── <span style=\"color: #008000; text-decoration-color: #008000; font-weight: bold\">🔧 </span><span style=\"color: #008000; text-decoration-color: #008000\">Used getSiteInfo (1)</span>\n",
       "└── <span style=\"color: #808000; text-decoration-color: #808000; font-weight: bold\">📋 Task: 5990c659-96a8-4131-95cd-8f4fe6aed56c</span>\n",
       "    <span style=\"color: #c0c0c0; text-decoration-color: #c0c0c0\">   Status: </span><span style=\"color: #bfbf7f; text-decoration-color: #bfbf7f\">Executing Task...</span>\n",
       "    └── <span style=\"color: #008000; text-decoration-color: #008000; font-weight: bold\">🤖 Agent: </span><span style=\"color: #008000; text-decoration-color: #008000\">RF Diffusion Expert</span>\n",
       "        <span style=\"color: #c0c0c0; text-decoration-color: #c0c0c0\">    Status: </span><span style=\"color: #008000; text-decoration-color: #008000; font-weight: bold\">In Progress</span>\n",
       "</pre>\n"
      ],
      "text/plain": [
       "\u001b[1;36m🚀 Crew: \u001b[0m\u001b[1;36mcrew\u001b[0m\n",
       "├── \u001b[1;32m📋 Task: caf17771-5c84-4cff-a0c5-e14ae66db4c5\u001b[0m\n",
       "│   \u001b[37m   Assigned to: \u001b[0m\u001b[32mqueryGen\u001b[0m\n",
       "│   \u001b[37m   Status: \u001b[0m\u001b[1;32m✅ Completed\u001b[0m\n",
       "│   └── \u001b[1;32m🤖 Agent: \u001b[0m\u001b[32mqueryGen\u001b[0m\n",
       "│       \u001b[37m    Status: \u001b[0m\u001b[1;32m✅ Completed\u001b[0m\n",
       "├── \u001b[1;32m📋 Task: d056b313-31cd-4ef9-81d6-e5e5fc29d6ac\u001b[0m\n",
       "│   \u001b[37m   Assigned to: \u001b[0m\u001b[32mqueryValidator\u001b[0m\n",
       "│   \u001b[37m   Status: \u001b[0m\u001b[1;32m✅ Completed\u001b[0m\n",
       "│   └── \u001b[1;32m🤖 Agent: \u001b[0m\u001b[32mqueryValidator\u001b[0m\n",
       "│       \u001b[37m    Status: \u001b[0m\u001b[1;32m✅ Completed\u001b[0m\n",
       "│       └── \u001b[1;32m🔧 \u001b[0m\u001b[32mUsed fetchUniProt (1)\u001b[0m\n",
       "├── \u001b[1;32m📋 Task: 0efdf50d-e90f-4f85-bf31-1595702bb389\u001b[0m\n",
       "│   \u001b[37m   Assigned to: \u001b[0m\u001b[32mProtein Selection Expert\u001b[0m\n",
       "│   \u001b[37m   Status: \u001b[0m\u001b[1;32m✅ Completed\u001b[0m\n",
       "│   └── \u001b[1;32m🤖 Agent: \u001b[0m\u001b[32mProtein Selection Expert\u001b[0m\n",
       "│       \u001b[37m    Status: \u001b[0m\u001b[1;32m✅ Completed\u001b[0m\n",
       "│       └── \u001b[1;32m🔧 \u001b[0m\u001b[32mUsed getFuncInfo (1)\u001b[0m\n",
       "├── \u001b[1;32m📋 Task: 092f99b0-aae9-4434-9fcb-22083d6bfd97\u001b[0m\n",
       "│   \u001b[37m   Assigned to: \u001b[0m\u001b[32mProtein Scaffolding Specialist\u001b[0m\n",
       "│   \u001b[37m   Status: \u001b[0m\u001b[1;32m✅ Completed\u001b[0m\n",
       "│   └── \u001b[1;32m🤖 Agent: \u001b[0m\u001b[32mProtein Scaffolding Specialist\u001b[0m\n",
       "│       \u001b[37m    Status: \u001b[0m\u001b[1;32m✅ Completed\u001b[0m\n",
       "│       └── \u001b[1;32m🔧 \u001b[0m\u001b[32mUsed getSiteInfo (1)\u001b[0m\n",
       "└── \u001b[1;33m📋 Task: 5990c659-96a8-4131-95cd-8f4fe6aed56c\u001b[0m\n",
       "    \u001b[37m   Status: \u001b[0m\u001b[2;33mExecuting Task...\u001b[0m\n",
       "    └── \u001b[1;32m🤖 Agent: \u001b[0m\u001b[32mRF Diffusion Expert\u001b[0m\n",
       "        \u001b[37m    Status: \u001b[0m\u001b[1;32mIn Progress\u001b[0m\n"
      ]
     },
     "metadata": {},
     "output_type": "display_data"
    },
    {
     "data": {
      "text/html": [
       "<pre style=\"white-space:pre;overflow-x:auto;line-height:normal;font-family:Menlo,'DejaVu Sans Mono',consolas,'Courier New',monospace\">\n",
       "</pre>\n"
      ],
      "text/plain": [
       "\n"
      ]
     },
     "metadata": {},
     "output_type": "display_data"
    },
    {
     "data": {
      "text/html": [
       "<pre style=\"white-space:pre;overflow-x:auto;line-height:normal;font-family:Menlo,'DejaVu Sans Mono',consolas,'Courier New',monospace\"><span style=\"color: #008080; text-decoration-color: #008080; font-weight: bold\">🚀 Crew: crew</span>\n",
       "├── <span style=\"color: #008000; text-decoration-color: #008000; font-weight: bold\">📋 Task: caf17771-5c84-4cff-a0c5-e14ae66db4c5</span>\n",
       "│   <span style=\"color: #c0c0c0; text-decoration-color: #c0c0c0\">   Assigned to: </span><span style=\"color: #008000; text-decoration-color: #008000\">queryGen</span>\n",
       "│   <span style=\"color: #c0c0c0; text-decoration-color: #c0c0c0\">   Status: </span><span style=\"color: #008000; text-decoration-color: #008000; font-weight: bold\">✅ Completed</span>\n",
       "│   └── <span style=\"color: #008000; text-decoration-color: #008000; font-weight: bold\">🤖 Agent: </span><span style=\"color: #008000; text-decoration-color: #008000\">queryGen</span>\n",
       "│       <span style=\"color: #c0c0c0; text-decoration-color: #c0c0c0\">    Status: </span><span style=\"color: #008000; text-decoration-color: #008000; font-weight: bold\">✅ Completed</span>\n",
       "├── <span style=\"color: #008000; text-decoration-color: #008000; font-weight: bold\">📋 Task: d056b313-31cd-4ef9-81d6-e5e5fc29d6ac</span>\n",
       "│   <span style=\"color: #c0c0c0; text-decoration-color: #c0c0c0\">   Assigned to: </span><span style=\"color: #008000; text-decoration-color: #008000\">queryValidator</span>\n",
       "│   <span style=\"color: #c0c0c0; text-decoration-color: #c0c0c0\">   Status: </span><span style=\"color: #008000; text-decoration-color: #008000; font-weight: bold\">✅ Completed</span>\n",
       "│   └── <span style=\"color: #008000; text-decoration-color: #008000; font-weight: bold\">🤖 Agent: </span><span style=\"color: #008000; text-decoration-color: #008000\">queryValidator</span>\n",
       "│       <span style=\"color: #c0c0c0; text-decoration-color: #c0c0c0\">    Status: </span><span style=\"color: #008000; text-decoration-color: #008000; font-weight: bold\">✅ Completed</span>\n",
       "│       └── <span style=\"color: #008000; text-decoration-color: #008000; font-weight: bold\">🔧 </span><span style=\"color: #008000; text-decoration-color: #008000\">Used fetchUniProt (1)</span>\n",
       "├── <span style=\"color: #008000; text-decoration-color: #008000; font-weight: bold\">📋 Task: 0efdf50d-e90f-4f85-bf31-1595702bb389</span>\n",
       "│   <span style=\"color: #c0c0c0; text-decoration-color: #c0c0c0\">   Assigned to: </span><span style=\"color: #008000; text-decoration-color: #008000\">Protein Selection Expert</span>\n",
       "│   <span style=\"color: #c0c0c0; text-decoration-color: #c0c0c0\">   Status: </span><span style=\"color: #008000; text-decoration-color: #008000; font-weight: bold\">✅ Completed</span>\n",
       "│   └── <span style=\"color: #008000; text-decoration-color: #008000; font-weight: bold\">🤖 Agent: </span><span style=\"color: #008000; text-decoration-color: #008000\">Protein Selection Expert</span>\n",
       "│       <span style=\"color: #c0c0c0; text-decoration-color: #c0c0c0\">    Status: </span><span style=\"color: #008000; text-decoration-color: #008000; font-weight: bold\">✅ Completed</span>\n",
       "│       └── <span style=\"color: #008000; text-decoration-color: #008000; font-weight: bold\">🔧 </span><span style=\"color: #008000; text-decoration-color: #008000\">Used getFuncInfo (1)</span>\n",
       "├── <span style=\"color: #008000; text-decoration-color: #008000; font-weight: bold\">📋 Task: 092f99b0-aae9-4434-9fcb-22083d6bfd97</span>\n",
       "│   <span style=\"color: #c0c0c0; text-decoration-color: #c0c0c0\">   Assigned to: </span><span style=\"color: #008000; text-decoration-color: #008000\">Protein Scaffolding Specialist</span>\n",
       "│   <span style=\"color: #c0c0c0; text-decoration-color: #c0c0c0\">   Status: </span><span style=\"color: #008000; text-decoration-color: #008000; font-weight: bold\">✅ Completed</span>\n",
       "│   └── <span style=\"color: #008000; text-decoration-color: #008000; font-weight: bold\">🤖 Agent: </span><span style=\"color: #008000; text-decoration-color: #008000\">Protein Scaffolding Specialist</span>\n",
       "│       <span style=\"color: #c0c0c0; text-decoration-color: #c0c0c0\">    Status: </span><span style=\"color: #008000; text-decoration-color: #008000; font-weight: bold\">✅ Completed</span>\n",
       "│       └── <span style=\"color: #008000; text-decoration-color: #008000; font-weight: bold\">🔧 </span><span style=\"color: #008000; text-decoration-color: #008000\">Used getSiteInfo (1)</span>\n",
       "└── <span style=\"color: #808000; text-decoration-color: #808000; font-weight: bold\">📋 Task: 5990c659-96a8-4131-95cd-8f4fe6aed56c</span>\n",
       "    <span style=\"color: #c0c0c0; text-decoration-color: #c0c0c0\">   Status: </span><span style=\"color: #bfbf7f; text-decoration-color: #bfbf7f\">Executing Task...</span>\n",
       "    └── <span style=\"color: #008000; text-decoration-color: #008000; font-weight: bold\">🤖 Agent: </span><span style=\"color: #008000; text-decoration-color: #008000\">RF Diffusion Expert</span>\n",
       "        <span style=\"color: #c0c0c0; text-decoration-color: #c0c0c0\">    Status: </span><span style=\"color: #008000; text-decoration-color: #008000; font-weight: bold\">In Progress</span>\n",
       "        └── <span style=\"color: #000080; text-decoration-color: #000080; font-weight: bold\">🧠 </span><span style=\"color: #000080; text-decoration-color: #000080\">Thinking...</span>\n",
       "</pre>\n"
      ],
      "text/plain": [
       "\u001b[1;36m🚀 Crew: \u001b[0m\u001b[1;36mcrew\u001b[0m\n",
       "├── \u001b[1;32m📋 Task: caf17771-5c84-4cff-a0c5-e14ae66db4c5\u001b[0m\n",
       "│   \u001b[37m   Assigned to: \u001b[0m\u001b[32mqueryGen\u001b[0m\n",
       "│   \u001b[37m   Status: \u001b[0m\u001b[1;32m✅ Completed\u001b[0m\n",
       "│   └── \u001b[1;32m🤖 Agent: \u001b[0m\u001b[32mqueryGen\u001b[0m\n",
       "│       \u001b[37m    Status: \u001b[0m\u001b[1;32m✅ Completed\u001b[0m\n",
       "├── \u001b[1;32m📋 Task: d056b313-31cd-4ef9-81d6-e5e5fc29d6ac\u001b[0m\n",
       "│   \u001b[37m   Assigned to: \u001b[0m\u001b[32mqueryValidator\u001b[0m\n",
       "│   \u001b[37m   Status: \u001b[0m\u001b[1;32m✅ Completed\u001b[0m\n",
       "│   └── \u001b[1;32m🤖 Agent: \u001b[0m\u001b[32mqueryValidator\u001b[0m\n",
       "│       \u001b[37m    Status: \u001b[0m\u001b[1;32m✅ Completed\u001b[0m\n",
       "│       └── \u001b[1;32m🔧 \u001b[0m\u001b[32mUsed fetchUniProt (1)\u001b[0m\n",
       "├── \u001b[1;32m📋 Task: 0efdf50d-e90f-4f85-bf31-1595702bb389\u001b[0m\n",
       "│   \u001b[37m   Assigned to: \u001b[0m\u001b[32mProtein Selection Expert\u001b[0m\n",
       "│   \u001b[37m   Status: \u001b[0m\u001b[1;32m✅ Completed\u001b[0m\n",
       "│   └── \u001b[1;32m🤖 Agent: \u001b[0m\u001b[32mProtein Selection Expert\u001b[0m\n",
       "│       \u001b[37m    Status: \u001b[0m\u001b[1;32m✅ Completed\u001b[0m\n",
       "│       └── \u001b[1;32m🔧 \u001b[0m\u001b[32mUsed getFuncInfo (1)\u001b[0m\n",
       "├── \u001b[1;32m📋 Task: 092f99b0-aae9-4434-9fcb-22083d6bfd97\u001b[0m\n",
       "│   \u001b[37m   Assigned to: \u001b[0m\u001b[32mProtein Scaffolding Specialist\u001b[0m\n",
       "│   \u001b[37m   Status: \u001b[0m\u001b[1;32m✅ Completed\u001b[0m\n",
       "│   └── \u001b[1;32m🤖 Agent: \u001b[0m\u001b[32mProtein Scaffolding Specialist\u001b[0m\n",
       "│       \u001b[37m    Status: \u001b[0m\u001b[1;32m✅ Completed\u001b[0m\n",
       "│       └── \u001b[1;32m🔧 \u001b[0m\u001b[32mUsed getSiteInfo (1)\u001b[0m\n",
       "└── \u001b[1;33m📋 Task: 5990c659-96a8-4131-95cd-8f4fe6aed56c\u001b[0m\n",
       "    \u001b[37m   Status: \u001b[0m\u001b[2;33mExecuting Task...\u001b[0m\n",
       "    └── \u001b[1;32m🤖 Agent: \u001b[0m\u001b[32mRF Diffusion Expert\u001b[0m\n",
       "        \u001b[37m    Status: \u001b[0m\u001b[1;32mIn Progress\u001b[0m\n",
       "        └── \u001b[1;34m🧠 \u001b[0m\u001b[34mThinking...\u001b[0m\n"
      ]
     },
     "metadata": {},
     "output_type": "display_data"
    },
    {
     "data": {
      "text/html": [
       "<pre style=\"white-space:pre;overflow-x:auto;line-height:normal;font-family:Menlo,'DejaVu Sans Mono',consolas,'Courier New',monospace\">\n",
       "</pre>\n"
      ],
      "text/plain": [
       "\n"
      ]
     },
     "metadata": {},
     "output_type": "display_data"
    },
    {
     "data": {
      "text/html": [
       "<pre style=\"white-space:pre;overflow-x:auto;line-height:normal;font-family:Menlo,'DejaVu Sans Mono',consolas,'Courier New',monospace\"><span style=\"color: #008080; text-decoration-color: #008080; font-weight: bold\">🚀 Crew: crew</span>\n",
       "├── <span style=\"color: #008000; text-decoration-color: #008000; font-weight: bold\">📋 Task: caf17771-5c84-4cff-a0c5-e14ae66db4c5</span>\n",
       "│   <span style=\"color: #c0c0c0; text-decoration-color: #c0c0c0\">   Assigned to: </span><span style=\"color: #008000; text-decoration-color: #008000\">queryGen</span>\n",
       "│   <span style=\"color: #c0c0c0; text-decoration-color: #c0c0c0\">   Status: </span><span style=\"color: #008000; text-decoration-color: #008000; font-weight: bold\">✅ Completed</span>\n",
       "│   └── <span style=\"color: #008000; text-decoration-color: #008000; font-weight: bold\">🤖 Agent: </span><span style=\"color: #008000; text-decoration-color: #008000\">queryGen</span>\n",
       "│       <span style=\"color: #c0c0c0; text-decoration-color: #c0c0c0\">    Status: </span><span style=\"color: #008000; text-decoration-color: #008000; font-weight: bold\">✅ Completed</span>\n",
       "├── <span style=\"color: #008000; text-decoration-color: #008000; font-weight: bold\">📋 Task: d056b313-31cd-4ef9-81d6-e5e5fc29d6ac</span>\n",
       "│   <span style=\"color: #c0c0c0; text-decoration-color: #c0c0c0\">   Assigned to: </span><span style=\"color: #008000; text-decoration-color: #008000\">queryValidator</span>\n",
       "│   <span style=\"color: #c0c0c0; text-decoration-color: #c0c0c0\">   Status: </span><span style=\"color: #008000; text-decoration-color: #008000; font-weight: bold\">✅ Completed</span>\n",
       "│   └── <span style=\"color: #008000; text-decoration-color: #008000; font-weight: bold\">🤖 Agent: </span><span style=\"color: #008000; text-decoration-color: #008000\">queryValidator</span>\n",
       "│       <span style=\"color: #c0c0c0; text-decoration-color: #c0c0c0\">    Status: </span><span style=\"color: #008000; text-decoration-color: #008000; font-weight: bold\">✅ Completed</span>\n",
       "│       └── <span style=\"color: #008000; text-decoration-color: #008000; font-weight: bold\">🔧 </span><span style=\"color: #008000; text-decoration-color: #008000\">Used fetchUniProt (1)</span>\n",
       "├── <span style=\"color: #008000; text-decoration-color: #008000; font-weight: bold\">📋 Task: 0efdf50d-e90f-4f85-bf31-1595702bb389</span>\n",
       "│   <span style=\"color: #c0c0c0; text-decoration-color: #c0c0c0\">   Assigned to: </span><span style=\"color: #008000; text-decoration-color: #008000\">Protein Selection Expert</span>\n",
       "│   <span style=\"color: #c0c0c0; text-decoration-color: #c0c0c0\">   Status: </span><span style=\"color: #008000; text-decoration-color: #008000; font-weight: bold\">✅ Completed</span>\n",
       "│   └── <span style=\"color: #008000; text-decoration-color: #008000; font-weight: bold\">🤖 Agent: </span><span style=\"color: #008000; text-decoration-color: #008000\">Protein Selection Expert</span>\n",
       "│       <span style=\"color: #c0c0c0; text-decoration-color: #c0c0c0\">    Status: </span><span style=\"color: #008000; text-decoration-color: #008000; font-weight: bold\">✅ Completed</span>\n",
       "│       └── <span style=\"color: #008000; text-decoration-color: #008000; font-weight: bold\">🔧 </span><span style=\"color: #008000; text-decoration-color: #008000\">Used getFuncInfo (1)</span>\n",
       "├── <span style=\"color: #008000; text-decoration-color: #008000; font-weight: bold\">📋 Task: 092f99b0-aae9-4434-9fcb-22083d6bfd97</span>\n",
       "│   <span style=\"color: #c0c0c0; text-decoration-color: #c0c0c0\">   Assigned to: </span><span style=\"color: #008000; text-decoration-color: #008000\">Protein Scaffolding Specialist</span>\n",
       "│   <span style=\"color: #c0c0c0; text-decoration-color: #c0c0c0\">   Status: </span><span style=\"color: #008000; text-decoration-color: #008000; font-weight: bold\">✅ Completed</span>\n",
       "│   └── <span style=\"color: #008000; text-decoration-color: #008000; font-weight: bold\">🤖 Agent: </span><span style=\"color: #008000; text-decoration-color: #008000\">Protein Scaffolding Specialist</span>\n",
       "│       <span style=\"color: #c0c0c0; text-decoration-color: #c0c0c0\">    Status: </span><span style=\"color: #008000; text-decoration-color: #008000; font-weight: bold\">✅ Completed</span>\n",
       "│       └── <span style=\"color: #008000; text-decoration-color: #008000; font-weight: bold\">🔧 </span><span style=\"color: #008000; text-decoration-color: #008000\">Used getSiteInfo (1)</span>\n",
       "└── <span style=\"color: #808000; text-decoration-color: #808000; font-weight: bold\">📋 Task: 5990c659-96a8-4131-95cd-8f4fe6aed56c</span>\n",
       "    <span style=\"color: #c0c0c0; text-decoration-color: #c0c0c0\">   Status: </span><span style=\"color: #bfbf7f; text-decoration-color: #bfbf7f\">Executing Task...</span>\n",
       "    └── <span style=\"color: #008000; text-decoration-color: #008000; font-weight: bold\">🤖 Agent: </span><span style=\"color: #008000; text-decoration-color: #008000\">RF Diffusion Expert</span>\n",
       "        <span style=\"color: #c0c0c0; text-decoration-color: #c0c0c0\">    Status: </span><span style=\"color: #008000; text-decoration-color: #008000; font-weight: bold\">In Progress</span>\n",
       "</pre>\n"
      ],
      "text/plain": [
       "\u001b[1;36m🚀 Crew: \u001b[0m\u001b[1;36mcrew\u001b[0m\n",
       "├── \u001b[1;32m📋 Task: caf17771-5c84-4cff-a0c5-e14ae66db4c5\u001b[0m\n",
       "│   \u001b[37m   Assigned to: \u001b[0m\u001b[32mqueryGen\u001b[0m\n",
       "│   \u001b[37m   Status: \u001b[0m\u001b[1;32m✅ Completed\u001b[0m\n",
       "│   └── \u001b[1;32m🤖 Agent: \u001b[0m\u001b[32mqueryGen\u001b[0m\n",
       "│       \u001b[37m    Status: \u001b[0m\u001b[1;32m✅ Completed\u001b[0m\n",
       "├── \u001b[1;32m📋 Task: d056b313-31cd-4ef9-81d6-e5e5fc29d6ac\u001b[0m\n",
       "│   \u001b[37m   Assigned to: \u001b[0m\u001b[32mqueryValidator\u001b[0m\n",
       "│   \u001b[37m   Status: \u001b[0m\u001b[1;32m✅ Completed\u001b[0m\n",
       "│   └── \u001b[1;32m🤖 Agent: \u001b[0m\u001b[32mqueryValidator\u001b[0m\n",
       "│       \u001b[37m    Status: \u001b[0m\u001b[1;32m✅ Completed\u001b[0m\n",
       "│       └── \u001b[1;32m🔧 \u001b[0m\u001b[32mUsed fetchUniProt (1)\u001b[0m\n",
       "├── \u001b[1;32m📋 Task: 0efdf50d-e90f-4f85-bf31-1595702bb389\u001b[0m\n",
       "│   \u001b[37m   Assigned to: \u001b[0m\u001b[32mProtein Selection Expert\u001b[0m\n",
       "│   \u001b[37m   Status: \u001b[0m\u001b[1;32m✅ Completed\u001b[0m\n",
       "│   └── \u001b[1;32m🤖 Agent: \u001b[0m\u001b[32mProtein Selection Expert\u001b[0m\n",
       "│       \u001b[37m    Status: \u001b[0m\u001b[1;32m✅ Completed\u001b[0m\n",
       "│       └── \u001b[1;32m🔧 \u001b[0m\u001b[32mUsed getFuncInfo (1)\u001b[0m\n",
       "├── \u001b[1;32m📋 Task: 092f99b0-aae9-4434-9fcb-22083d6bfd97\u001b[0m\n",
       "│   \u001b[37m   Assigned to: \u001b[0m\u001b[32mProtein Scaffolding Specialist\u001b[0m\n",
       "│   \u001b[37m   Status: \u001b[0m\u001b[1;32m✅ Completed\u001b[0m\n",
       "│   └── \u001b[1;32m🤖 Agent: \u001b[0m\u001b[32mProtein Scaffolding Specialist\u001b[0m\n",
       "│       \u001b[37m    Status: \u001b[0m\u001b[1;32m✅ Completed\u001b[0m\n",
       "│       └── \u001b[1;32m🔧 \u001b[0m\u001b[32mUsed getSiteInfo (1)\u001b[0m\n",
       "└── \u001b[1;33m📋 Task: 5990c659-96a8-4131-95cd-8f4fe6aed56c\u001b[0m\n",
       "    \u001b[37m   Status: \u001b[0m\u001b[2;33mExecuting Task...\u001b[0m\n",
       "    └── \u001b[1;32m🤖 Agent: \u001b[0m\u001b[32mRF Diffusion Expert\u001b[0m\n",
       "        \u001b[37m    Status: \u001b[0m\u001b[1;32mIn Progress\u001b[0m\n"
      ]
     },
     "metadata": {},
     "output_type": "display_data"
    },
    {
     "data": {
      "text/html": [
       "<pre style=\"white-space:pre;overflow-x:auto;line-height:normal;font-family:Menlo,'DejaVu Sans Mono',consolas,'Courier New',monospace\">\n",
       "</pre>\n"
      ],
      "text/plain": [
       "\n"
      ]
     },
     "metadata": {},
     "output_type": "display_data"
    },
    {
     "name": "stdout",
     "output_type": "stream",
     "text": [
      "\n",
      "\n",
      "\u001b[1m\u001b[95m# Agent:\u001b[00m \u001b[1m\u001b[92mRF Diffusion Expert\u001b[00m\n",
      "\u001b[95m## Final Answer:\u001b[00m \u001b[92m\n",
      "{\n",
      "  \"output_prefix\": \"outputs/P07199_scaffold\",\n",
      "  \"input_pdb\": \"P07199.pdb\",\n",
      "  \"contigmap_contigs\": \"[10-20/A28-48/5-10/A97-129/10-20/A536-599/5-15]\",\n",
      "  \"num_designs\": 20,\n",
      "  \"contigmap_length\": null,\n",
      "  \"contigmap_inpaint_seq\": \"[A143-184/A387-475/A495-544]\",\n",
      "  \"ckpt_override_path\": null\n",
      "}\u001b[00m\n",
      "\n",
      "\n"
     ]
    },
    {
     "data": {
      "text/html": [
       "<pre style=\"white-space:pre;overflow-x:auto;line-height:normal;font-family:Menlo,'DejaVu Sans Mono',consolas,'Courier New',monospace\"><span style=\"color: #008080; text-decoration-color: #008080; font-weight: bold\">🚀 Crew: crew</span>\n",
       "├── <span style=\"color: #008000; text-decoration-color: #008000; font-weight: bold\">📋 Task: caf17771-5c84-4cff-a0c5-e14ae66db4c5</span>\n",
       "│   <span style=\"color: #c0c0c0; text-decoration-color: #c0c0c0\">   Assigned to: </span><span style=\"color: #008000; text-decoration-color: #008000\">queryGen</span>\n",
       "│   <span style=\"color: #c0c0c0; text-decoration-color: #c0c0c0\">   Status: </span><span style=\"color: #008000; text-decoration-color: #008000; font-weight: bold\">✅ Completed</span>\n",
       "│   └── <span style=\"color: #008000; text-decoration-color: #008000; font-weight: bold\">🤖 Agent: </span><span style=\"color: #008000; text-decoration-color: #008000\">queryGen</span>\n",
       "│       <span style=\"color: #c0c0c0; text-decoration-color: #c0c0c0\">    Status: </span><span style=\"color: #008000; text-decoration-color: #008000; font-weight: bold\">✅ Completed</span>\n",
       "├── <span style=\"color: #008000; text-decoration-color: #008000; font-weight: bold\">📋 Task: d056b313-31cd-4ef9-81d6-e5e5fc29d6ac</span>\n",
       "│   <span style=\"color: #c0c0c0; text-decoration-color: #c0c0c0\">   Assigned to: </span><span style=\"color: #008000; text-decoration-color: #008000\">queryValidator</span>\n",
       "│   <span style=\"color: #c0c0c0; text-decoration-color: #c0c0c0\">   Status: </span><span style=\"color: #008000; text-decoration-color: #008000; font-weight: bold\">✅ Completed</span>\n",
       "│   └── <span style=\"color: #008000; text-decoration-color: #008000; font-weight: bold\">🤖 Agent: </span><span style=\"color: #008000; text-decoration-color: #008000\">queryValidator</span>\n",
       "│       <span style=\"color: #c0c0c0; text-decoration-color: #c0c0c0\">    Status: </span><span style=\"color: #008000; text-decoration-color: #008000; font-weight: bold\">✅ Completed</span>\n",
       "│       └── <span style=\"color: #008000; text-decoration-color: #008000; font-weight: bold\">🔧 </span><span style=\"color: #008000; text-decoration-color: #008000\">Used fetchUniProt (1)</span>\n",
       "├── <span style=\"color: #008000; text-decoration-color: #008000; font-weight: bold\">📋 Task: 0efdf50d-e90f-4f85-bf31-1595702bb389</span>\n",
       "│   <span style=\"color: #c0c0c0; text-decoration-color: #c0c0c0\">   Assigned to: </span><span style=\"color: #008000; text-decoration-color: #008000\">Protein Selection Expert</span>\n",
       "│   <span style=\"color: #c0c0c0; text-decoration-color: #c0c0c0\">   Status: </span><span style=\"color: #008000; text-decoration-color: #008000; font-weight: bold\">✅ Completed</span>\n",
       "│   └── <span style=\"color: #008000; text-decoration-color: #008000; font-weight: bold\">🤖 Agent: </span><span style=\"color: #008000; text-decoration-color: #008000\">Protein Selection Expert</span>\n",
       "│       <span style=\"color: #c0c0c0; text-decoration-color: #c0c0c0\">    Status: </span><span style=\"color: #008000; text-decoration-color: #008000; font-weight: bold\">✅ Completed</span>\n",
       "│       └── <span style=\"color: #008000; text-decoration-color: #008000; font-weight: bold\">🔧 </span><span style=\"color: #008000; text-decoration-color: #008000\">Used getFuncInfo (1)</span>\n",
       "├── <span style=\"color: #008000; text-decoration-color: #008000; font-weight: bold\">📋 Task: 092f99b0-aae9-4434-9fcb-22083d6bfd97</span>\n",
       "│   <span style=\"color: #c0c0c0; text-decoration-color: #c0c0c0\">   Assigned to: </span><span style=\"color: #008000; text-decoration-color: #008000\">Protein Scaffolding Specialist</span>\n",
       "│   <span style=\"color: #c0c0c0; text-decoration-color: #c0c0c0\">   Status: </span><span style=\"color: #008000; text-decoration-color: #008000; font-weight: bold\">✅ Completed</span>\n",
       "│   └── <span style=\"color: #008000; text-decoration-color: #008000; font-weight: bold\">🤖 Agent: </span><span style=\"color: #008000; text-decoration-color: #008000\">Protein Scaffolding Specialist</span>\n",
       "│       <span style=\"color: #c0c0c0; text-decoration-color: #c0c0c0\">    Status: </span><span style=\"color: #008000; text-decoration-color: #008000; font-weight: bold\">✅ Completed</span>\n",
       "│       └── <span style=\"color: #008000; text-decoration-color: #008000; font-weight: bold\">🔧 </span><span style=\"color: #008000; text-decoration-color: #008000\">Used getSiteInfo (1)</span>\n",
       "└── <span style=\"color: #808000; text-decoration-color: #808000; font-weight: bold\">📋 Task: 5990c659-96a8-4131-95cd-8f4fe6aed56c</span>\n",
       "    <span style=\"color: #c0c0c0; text-decoration-color: #c0c0c0\">   Status: </span><span style=\"color: #bfbf7f; text-decoration-color: #bfbf7f\">Executing Task...</span>\n",
       "    └── <span style=\"color: #008000; text-decoration-color: #008000; font-weight: bold\">🤖 Agent: </span><span style=\"color: #008000; text-decoration-color: #008000\">RF Diffusion Expert</span>\n",
       "        <span style=\"color: #c0c0c0; text-decoration-color: #c0c0c0\">    Status: </span><span style=\"color: #008000; text-decoration-color: #008000; font-weight: bold\">✅ Completed</span>\n",
       "</pre>\n"
      ],
      "text/plain": [
       "\u001b[1;36m🚀 Crew: \u001b[0m\u001b[1;36mcrew\u001b[0m\n",
       "├── \u001b[1;32m📋 Task: caf17771-5c84-4cff-a0c5-e14ae66db4c5\u001b[0m\n",
       "│   \u001b[37m   Assigned to: \u001b[0m\u001b[32mqueryGen\u001b[0m\n",
       "│   \u001b[37m   Status: \u001b[0m\u001b[1;32m✅ Completed\u001b[0m\n",
       "│   └── \u001b[1;32m🤖 Agent: \u001b[0m\u001b[32mqueryGen\u001b[0m\n",
       "│       \u001b[37m    Status: \u001b[0m\u001b[1;32m✅ Completed\u001b[0m\n",
       "├── \u001b[1;32m📋 Task: d056b313-31cd-4ef9-81d6-e5e5fc29d6ac\u001b[0m\n",
       "│   \u001b[37m   Assigned to: \u001b[0m\u001b[32mqueryValidator\u001b[0m\n",
       "│   \u001b[37m   Status: \u001b[0m\u001b[1;32m✅ Completed\u001b[0m\n",
       "│   └── \u001b[1;32m🤖 Agent: \u001b[0m\u001b[32mqueryValidator\u001b[0m\n",
       "│       \u001b[37m    Status: \u001b[0m\u001b[1;32m✅ Completed\u001b[0m\n",
       "│       └── \u001b[1;32m🔧 \u001b[0m\u001b[32mUsed fetchUniProt (1)\u001b[0m\n",
       "├── \u001b[1;32m📋 Task: 0efdf50d-e90f-4f85-bf31-1595702bb389\u001b[0m\n",
       "│   \u001b[37m   Assigned to: \u001b[0m\u001b[32mProtein Selection Expert\u001b[0m\n",
       "│   \u001b[37m   Status: \u001b[0m\u001b[1;32m✅ Completed\u001b[0m\n",
       "│   └── \u001b[1;32m🤖 Agent: \u001b[0m\u001b[32mProtein Selection Expert\u001b[0m\n",
       "│       \u001b[37m    Status: \u001b[0m\u001b[1;32m✅ Completed\u001b[0m\n",
       "│       └── \u001b[1;32m🔧 \u001b[0m\u001b[32mUsed getFuncInfo (1)\u001b[0m\n",
       "├── \u001b[1;32m📋 Task: 092f99b0-aae9-4434-9fcb-22083d6bfd97\u001b[0m\n",
       "│   \u001b[37m   Assigned to: \u001b[0m\u001b[32mProtein Scaffolding Specialist\u001b[0m\n",
       "│   \u001b[37m   Status: \u001b[0m\u001b[1;32m✅ Completed\u001b[0m\n",
       "│   └── \u001b[1;32m🤖 Agent: \u001b[0m\u001b[32mProtein Scaffolding Specialist\u001b[0m\n",
       "│       \u001b[37m    Status: \u001b[0m\u001b[1;32m✅ Completed\u001b[0m\n",
       "│       └── \u001b[1;32m🔧 \u001b[0m\u001b[32mUsed getSiteInfo (1)\u001b[0m\n",
       "└── \u001b[1;33m📋 Task: 5990c659-96a8-4131-95cd-8f4fe6aed56c\u001b[0m\n",
       "    \u001b[37m   Status: \u001b[0m\u001b[2;33mExecuting Task...\u001b[0m\n",
       "    └── \u001b[1;32m🤖 Agent: \u001b[0m\u001b[32mRF Diffusion Expert\u001b[0m\n",
       "        \u001b[37m    Status: \u001b[0m\u001b[1;32m✅ Completed\u001b[0m\n"
      ]
     },
     "metadata": {},
     "output_type": "display_data"
    },
    {
     "data": {
      "text/html": [
       "<pre style=\"white-space:pre;overflow-x:auto;line-height:normal;font-family:Menlo,'DejaVu Sans Mono',consolas,'Courier New',monospace\">\n",
       "</pre>\n"
      ],
      "text/plain": [
       "\n"
      ]
     },
     "metadata": {},
     "output_type": "display_data"
    },
    {
     "data": {
      "text/html": [
       "<pre style=\"white-space:pre;overflow-x:auto;line-height:normal;font-family:Menlo,'DejaVu Sans Mono',consolas,'Courier New',monospace\"><span style=\"color: #008080; text-decoration-color: #008080; font-weight: bold\">🚀 Crew: crew</span>\n",
       "├── <span style=\"color: #008000; text-decoration-color: #008000; font-weight: bold\">📋 Task: caf17771-5c84-4cff-a0c5-e14ae66db4c5</span>\n",
       "│   <span style=\"color: #c0c0c0; text-decoration-color: #c0c0c0\">   Assigned to: </span><span style=\"color: #008000; text-decoration-color: #008000\">queryGen</span>\n",
       "│   <span style=\"color: #c0c0c0; text-decoration-color: #c0c0c0\">   Status: </span><span style=\"color: #008000; text-decoration-color: #008000; font-weight: bold\">✅ Completed</span>\n",
       "│   └── <span style=\"color: #008000; text-decoration-color: #008000; font-weight: bold\">🤖 Agent: </span><span style=\"color: #008000; text-decoration-color: #008000\">queryGen</span>\n",
       "│       <span style=\"color: #c0c0c0; text-decoration-color: #c0c0c0\">    Status: </span><span style=\"color: #008000; text-decoration-color: #008000; font-weight: bold\">✅ Completed</span>\n",
       "├── <span style=\"color: #008000; text-decoration-color: #008000; font-weight: bold\">📋 Task: d056b313-31cd-4ef9-81d6-e5e5fc29d6ac</span>\n",
       "│   <span style=\"color: #c0c0c0; text-decoration-color: #c0c0c0\">   Assigned to: </span><span style=\"color: #008000; text-decoration-color: #008000\">queryValidator</span>\n",
       "│   <span style=\"color: #c0c0c0; text-decoration-color: #c0c0c0\">   Status: </span><span style=\"color: #008000; text-decoration-color: #008000; font-weight: bold\">✅ Completed</span>\n",
       "│   └── <span style=\"color: #008000; text-decoration-color: #008000; font-weight: bold\">🤖 Agent: </span><span style=\"color: #008000; text-decoration-color: #008000\">queryValidator</span>\n",
       "│       <span style=\"color: #c0c0c0; text-decoration-color: #c0c0c0\">    Status: </span><span style=\"color: #008000; text-decoration-color: #008000; font-weight: bold\">✅ Completed</span>\n",
       "│       └── <span style=\"color: #008000; text-decoration-color: #008000; font-weight: bold\">🔧 </span><span style=\"color: #008000; text-decoration-color: #008000\">Used fetchUniProt (1)</span>\n",
       "├── <span style=\"color: #008000; text-decoration-color: #008000; font-weight: bold\">📋 Task: 0efdf50d-e90f-4f85-bf31-1595702bb389</span>\n",
       "│   <span style=\"color: #c0c0c0; text-decoration-color: #c0c0c0\">   Assigned to: </span><span style=\"color: #008000; text-decoration-color: #008000\">Protein Selection Expert</span>\n",
       "│   <span style=\"color: #c0c0c0; text-decoration-color: #c0c0c0\">   Status: </span><span style=\"color: #008000; text-decoration-color: #008000; font-weight: bold\">✅ Completed</span>\n",
       "│   └── <span style=\"color: #008000; text-decoration-color: #008000; font-weight: bold\">🤖 Agent: </span><span style=\"color: #008000; text-decoration-color: #008000\">Protein Selection Expert</span>\n",
       "│       <span style=\"color: #c0c0c0; text-decoration-color: #c0c0c0\">    Status: </span><span style=\"color: #008000; text-decoration-color: #008000; font-weight: bold\">✅ Completed</span>\n",
       "│       └── <span style=\"color: #008000; text-decoration-color: #008000; font-weight: bold\">🔧 </span><span style=\"color: #008000; text-decoration-color: #008000\">Used getFuncInfo (1)</span>\n",
       "├── <span style=\"color: #008000; text-decoration-color: #008000; font-weight: bold\">📋 Task: 092f99b0-aae9-4434-9fcb-22083d6bfd97</span>\n",
       "│   <span style=\"color: #c0c0c0; text-decoration-color: #c0c0c0\">   Assigned to: </span><span style=\"color: #008000; text-decoration-color: #008000\">Protein Scaffolding Specialist</span>\n",
       "│   <span style=\"color: #c0c0c0; text-decoration-color: #c0c0c0\">   Status: </span><span style=\"color: #008000; text-decoration-color: #008000; font-weight: bold\">✅ Completed</span>\n",
       "│   └── <span style=\"color: #008000; text-decoration-color: #008000; font-weight: bold\">🤖 Agent: </span><span style=\"color: #008000; text-decoration-color: #008000\">Protein Scaffolding Specialist</span>\n",
       "│       <span style=\"color: #c0c0c0; text-decoration-color: #c0c0c0\">    Status: </span><span style=\"color: #008000; text-decoration-color: #008000; font-weight: bold\">✅ Completed</span>\n",
       "│       └── <span style=\"color: #008000; text-decoration-color: #008000; font-weight: bold\">🔧 </span><span style=\"color: #008000; text-decoration-color: #008000\">Used getSiteInfo (1)</span>\n",
       "└── <span style=\"color: #008000; text-decoration-color: #008000; font-weight: bold\">📋 Task: 5990c659-96a8-4131-95cd-8f4fe6aed56c</span>\n",
       "    <span style=\"color: #c0c0c0; text-decoration-color: #c0c0c0\">   Assigned to: </span><span style=\"color: #008000; text-decoration-color: #008000\">RF Diffusion Expert</span>\n",
       "    <span style=\"color: #c0c0c0; text-decoration-color: #c0c0c0\">   Status: </span><span style=\"color: #008000; text-decoration-color: #008000; font-weight: bold\">✅ Completed</span>\n",
       "    └── <span style=\"color: #008000; text-decoration-color: #008000; font-weight: bold\">🤖 Agent: </span><span style=\"color: #008000; text-decoration-color: #008000\">RF Diffusion Expert</span>\n",
       "        <span style=\"color: #c0c0c0; text-decoration-color: #c0c0c0\">    Status: </span><span style=\"color: #008000; text-decoration-color: #008000; font-weight: bold\">✅ Completed</span>\n",
       "</pre>\n"
      ],
      "text/plain": [
       "\u001b[1;36m🚀 Crew: \u001b[0m\u001b[1;36mcrew\u001b[0m\n",
       "├── \u001b[1;32m📋 Task: caf17771-5c84-4cff-a0c5-e14ae66db4c5\u001b[0m\n",
       "│   \u001b[37m   Assigned to: \u001b[0m\u001b[32mqueryGen\u001b[0m\n",
       "│   \u001b[37m   Status: \u001b[0m\u001b[1;32m✅ Completed\u001b[0m\n",
       "│   └── \u001b[1;32m🤖 Agent: \u001b[0m\u001b[32mqueryGen\u001b[0m\n",
       "│       \u001b[37m    Status: \u001b[0m\u001b[1;32m✅ Completed\u001b[0m\n",
       "├── \u001b[1;32m📋 Task: d056b313-31cd-4ef9-81d6-e5e5fc29d6ac\u001b[0m\n",
       "│   \u001b[37m   Assigned to: \u001b[0m\u001b[32mqueryValidator\u001b[0m\n",
       "│   \u001b[37m   Status: \u001b[0m\u001b[1;32m✅ Completed\u001b[0m\n",
       "│   └── \u001b[1;32m🤖 Agent: \u001b[0m\u001b[32mqueryValidator\u001b[0m\n",
       "│       \u001b[37m    Status: \u001b[0m\u001b[1;32m✅ Completed\u001b[0m\n",
       "│       └── \u001b[1;32m🔧 \u001b[0m\u001b[32mUsed fetchUniProt (1)\u001b[0m\n",
       "├── \u001b[1;32m📋 Task: 0efdf50d-e90f-4f85-bf31-1595702bb389\u001b[0m\n",
       "│   \u001b[37m   Assigned to: \u001b[0m\u001b[32mProtein Selection Expert\u001b[0m\n",
       "│   \u001b[37m   Status: \u001b[0m\u001b[1;32m✅ Completed\u001b[0m\n",
       "│   └── \u001b[1;32m🤖 Agent: \u001b[0m\u001b[32mProtein Selection Expert\u001b[0m\n",
       "│       \u001b[37m    Status: \u001b[0m\u001b[1;32m✅ Completed\u001b[0m\n",
       "│       └── \u001b[1;32m🔧 \u001b[0m\u001b[32mUsed getFuncInfo (1)\u001b[0m\n",
       "├── \u001b[1;32m📋 Task: 092f99b0-aae9-4434-9fcb-22083d6bfd97\u001b[0m\n",
       "│   \u001b[37m   Assigned to: \u001b[0m\u001b[32mProtein Scaffolding Specialist\u001b[0m\n",
       "│   \u001b[37m   Status: \u001b[0m\u001b[1;32m✅ Completed\u001b[0m\n",
       "│   └── \u001b[1;32m🤖 Agent: \u001b[0m\u001b[32mProtein Scaffolding Specialist\u001b[0m\n",
       "│       \u001b[37m    Status: \u001b[0m\u001b[1;32m✅ Completed\u001b[0m\n",
       "│       └── \u001b[1;32m🔧 \u001b[0m\u001b[32mUsed getSiteInfo (1)\u001b[0m\n",
       "└── \u001b[1;32m📋 Task: 5990c659-96a8-4131-95cd-8f4fe6aed56c\u001b[0m\n",
       "    \u001b[37m   Assigned to: \u001b[0m\u001b[32mRF Diffusion Expert\u001b[0m\n",
       "    \u001b[37m   Status: \u001b[0m\u001b[1;32m✅ Completed\u001b[0m\n",
       "    └── \u001b[1;32m🤖 Agent: \u001b[0m\u001b[32mRF Diffusion Expert\u001b[0m\n",
       "        \u001b[37m    Status: \u001b[0m\u001b[1;32m✅ Completed\u001b[0m\n"
      ]
     },
     "metadata": {},
     "output_type": "display_data"
    },
    {
     "data": {
      "text/html": [
       "<pre style=\"white-space:pre;overflow-x:auto;line-height:normal;font-family:Menlo,'DejaVu Sans Mono',consolas,'Courier New',monospace\"><span style=\"color: #008000; text-decoration-color: #008000\">╭──────────────────────────────────────────────── Task Completion ────────────────────────────────────────────────╮</span>\n",
       "<span style=\"color: #008000; text-decoration-color: #008000\">│</span>                                                                                                                 <span style=\"color: #008000; text-decoration-color: #008000\">│</span>\n",
       "<span style=\"color: #008000; text-decoration-color: #008000\">│</span>  <span style=\"color: #008000; text-decoration-color: #008000; font-weight: bold\">Task Completed</span>                                                                                                 <span style=\"color: #008000; text-decoration-color: #008000\">│</span>\n",
       "<span style=\"color: #008000; text-decoration-color: #008000\">│</span>  <span style=\"color: #c0c0c0; text-decoration-color: #c0c0c0\">Name: </span><span style=\"color: #008000; text-decoration-color: #008000\">5990c659-96a8-4131-95cd-8f4fe6aed56c</span>                                                                     <span style=\"color: #008000; text-decoration-color: #008000\">│</span>\n",
       "<span style=\"color: #008000; text-decoration-color: #008000\">│</span>  <span style=\"color: #c0c0c0; text-decoration-color: #c0c0c0\">Agent: </span><span style=\"color: #008000; text-decoration-color: #008000\">RF Diffusion Expert</span>                                                                                     <span style=\"color: #008000; text-decoration-color: #008000\">│</span>\n",
       "<span style=\"color: #008000; text-decoration-color: #008000\">│</span>                                                                                                                 <span style=\"color: #008000; text-decoration-color: #008000\">│</span>\n",
       "<span style=\"color: #008000; text-decoration-color: #008000\">│</span>                                                                                                                 <span style=\"color: #008000; text-decoration-color: #008000\">│</span>\n",
       "<span style=\"color: #008000; text-decoration-color: #008000\">╰─────────────────────────────────────────────────────────────────────────────────────────────────────────────────╯</span>\n",
       "</pre>\n"
      ],
      "text/plain": [
       "\u001b[32m╭─\u001b[0m\u001b[32m───────────────────────────────────────────────\u001b[0m\u001b[32m Task Completion \u001b[0m\u001b[32m───────────────────────────────────────────────\u001b[0m\u001b[32m─╮\u001b[0m\n",
       "\u001b[32m│\u001b[0m                                                                                                                 \u001b[32m│\u001b[0m\n",
       "\u001b[32m│\u001b[0m  \u001b[1;32mTask Completed\u001b[0m                                                                                                 \u001b[32m│\u001b[0m\n",
       "\u001b[32m│\u001b[0m  \u001b[37mName: \u001b[0m\u001b[32m5990c659-96a8-4131-95cd-8f4fe6aed56c\u001b[0m                                                                     \u001b[32m│\u001b[0m\n",
       "\u001b[32m│\u001b[0m  \u001b[37mAgent: \u001b[0m\u001b[32mRF Diffusion Expert\u001b[0m                                                                                     \u001b[32m│\u001b[0m\n",
       "\u001b[32m│\u001b[0m                                                                                                                 \u001b[32m│\u001b[0m\n",
       "\u001b[32m│\u001b[0m                                                                                                                 \u001b[32m│\u001b[0m\n",
       "\u001b[32m╰─────────────────────────────────────────────────────────────────────────────────────────────────────────────────╯\u001b[0m\n"
      ]
     },
     "metadata": {},
     "output_type": "display_data"
    },
    {
     "data": {
      "text/html": [
       "<pre style=\"white-space:pre;overflow-x:auto;line-height:normal;font-family:Menlo,'DejaVu Sans Mono',consolas,'Courier New',monospace\">\n",
       "</pre>\n"
      ],
      "text/plain": [
       "\n"
      ]
     },
     "metadata": {},
     "output_type": "display_data"
    },
    {
     "data": {
      "text/html": [
       "<pre style=\"white-space:pre;overflow-x:auto;line-height:normal;font-family:Menlo,'DejaVu Sans Mono',consolas,'Courier New',monospace\"><span style=\"color: #008080; text-decoration-color: #008080; font-weight: bold\">🚀 Crew: crew</span>\n",
       "├── <span style=\"color: #008000; text-decoration-color: #008000; font-weight: bold\">📋 Task: caf17771-5c84-4cff-a0c5-e14ae66db4c5</span>\n",
       "│   <span style=\"color: #c0c0c0; text-decoration-color: #c0c0c0\">   Assigned to: </span><span style=\"color: #008000; text-decoration-color: #008000\">queryGen</span>\n",
       "│   <span style=\"color: #c0c0c0; text-decoration-color: #c0c0c0\">   Status: </span><span style=\"color: #008000; text-decoration-color: #008000; font-weight: bold\">✅ Completed</span>\n",
       "│   └── <span style=\"color: #008000; text-decoration-color: #008000; font-weight: bold\">🤖 Agent: </span><span style=\"color: #008000; text-decoration-color: #008000\">queryGen</span>\n",
       "│       <span style=\"color: #c0c0c0; text-decoration-color: #c0c0c0\">    Status: </span><span style=\"color: #008000; text-decoration-color: #008000; font-weight: bold\">✅ Completed</span>\n",
       "├── <span style=\"color: #008000; text-decoration-color: #008000; font-weight: bold\">📋 Task: d056b313-31cd-4ef9-81d6-e5e5fc29d6ac</span>\n",
       "│   <span style=\"color: #c0c0c0; text-decoration-color: #c0c0c0\">   Assigned to: </span><span style=\"color: #008000; text-decoration-color: #008000\">queryValidator</span>\n",
       "│   <span style=\"color: #c0c0c0; text-decoration-color: #c0c0c0\">   Status: </span><span style=\"color: #008000; text-decoration-color: #008000; font-weight: bold\">✅ Completed</span>\n",
       "│   └── <span style=\"color: #008000; text-decoration-color: #008000; font-weight: bold\">🤖 Agent: </span><span style=\"color: #008000; text-decoration-color: #008000\">queryValidator</span>\n",
       "│       <span style=\"color: #c0c0c0; text-decoration-color: #c0c0c0\">    Status: </span><span style=\"color: #008000; text-decoration-color: #008000; font-weight: bold\">✅ Completed</span>\n",
       "│       └── <span style=\"color: #008000; text-decoration-color: #008000; font-weight: bold\">🔧 </span><span style=\"color: #008000; text-decoration-color: #008000\">Used fetchUniProt (1)</span>\n",
       "├── <span style=\"color: #008000; text-decoration-color: #008000; font-weight: bold\">📋 Task: 0efdf50d-e90f-4f85-bf31-1595702bb389</span>\n",
       "│   <span style=\"color: #c0c0c0; text-decoration-color: #c0c0c0\">   Assigned to: </span><span style=\"color: #008000; text-decoration-color: #008000\">Protein Selection Expert</span>\n",
       "│   <span style=\"color: #c0c0c0; text-decoration-color: #c0c0c0\">   Status: </span><span style=\"color: #008000; text-decoration-color: #008000; font-weight: bold\">✅ Completed</span>\n",
       "│   └── <span style=\"color: #008000; text-decoration-color: #008000; font-weight: bold\">🤖 Agent: </span><span style=\"color: #008000; text-decoration-color: #008000\">Protein Selection Expert</span>\n",
       "│       <span style=\"color: #c0c0c0; text-decoration-color: #c0c0c0\">    Status: </span><span style=\"color: #008000; text-decoration-color: #008000; font-weight: bold\">✅ Completed</span>\n",
       "│       └── <span style=\"color: #008000; text-decoration-color: #008000; font-weight: bold\">🔧 </span><span style=\"color: #008000; text-decoration-color: #008000\">Used getFuncInfo (1)</span>\n",
       "├── <span style=\"color: #008000; text-decoration-color: #008000; font-weight: bold\">📋 Task: 092f99b0-aae9-4434-9fcb-22083d6bfd97</span>\n",
       "│   <span style=\"color: #c0c0c0; text-decoration-color: #c0c0c0\">   Assigned to: </span><span style=\"color: #008000; text-decoration-color: #008000\">Protein Scaffolding Specialist</span>\n",
       "│   <span style=\"color: #c0c0c0; text-decoration-color: #c0c0c0\">   Status: </span><span style=\"color: #008000; text-decoration-color: #008000; font-weight: bold\">✅ Completed</span>\n",
       "│   └── <span style=\"color: #008000; text-decoration-color: #008000; font-weight: bold\">🤖 Agent: </span><span style=\"color: #008000; text-decoration-color: #008000\">Protein Scaffolding Specialist</span>\n",
       "│       <span style=\"color: #c0c0c0; text-decoration-color: #c0c0c0\">    Status: </span><span style=\"color: #008000; text-decoration-color: #008000; font-weight: bold\">✅ Completed</span>\n",
       "│       └── <span style=\"color: #008000; text-decoration-color: #008000; font-weight: bold\">🔧 </span><span style=\"color: #008000; text-decoration-color: #008000\">Used getSiteInfo (1)</span>\n",
       "├── <span style=\"color: #008000; text-decoration-color: #008000; font-weight: bold\">📋 Task: 5990c659-96a8-4131-95cd-8f4fe6aed56c</span>\n",
       "│   <span style=\"color: #c0c0c0; text-decoration-color: #c0c0c0\">   Assigned to: </span><span style=\"color: #008000; text-decoration-color: #008000\">RF Diffusion Expert</span>\n",
       "│   <span style=\"color: #c0c0c0; text-decoration-color: #c0c0c0\">   Status: </span><span style=\"color: #008000; text-decoration-color: #008000; font-weight: bold\">✅ Completed</span>\n",
       "│   └── <span style=\"color: #008000; text-decoration-color: #008000; font-weight: bold\">🤖 Agent: </span><span style=\"color: #008000; text-decoration-color: #008000\">RF Diffusion Expert</span>\n",
       "│       <span style=\"color: #c0c0c0; text-decoration-color: #c0c0c0\">    Status: </span><span style=\"color: #008000; text-decoration-color: #008000; font-weight: bold\">✅ Completed</span>\n",
       "└── <span style=\"color: #808000; text-decoration-color: #808000; font-weight: bold\">📋 Task: 143839c9-703d-48a8-8208-a1a19090db29</span>\n",
       "    <span style=\"color: #c0c0c0; text-decoration-color: #c0c0c0\">   Status: </span><span style=\"color: #bfbf7f; text-decoration-color: #bfbf7f\">Executing Task...</span>\n",
       "</pre>\n"
      ],
      "text/plain": [
       "\u001b[1;36m🚀 Crew: \u001b[0m\u001b[1;36mcrew\u001b[0m\n",
       "├── \u001b[1;32m📋 Task: caf17771-5c84-4cff-a0c5-e14ae66db4c5\u001b[0m\n",
       "│   \u001b[37m   Assigned to: \u001b[0m\u001b[32mqueryGen\u001b[0m\n",
       "│   \u001b[37m   Status: \u001b[0m\u001b[1;32m✅ Completed\u001b[0m\n",
       "│   └── \u001b[1;32m🤖 Agent: \u001b[0m\u001b[32mqueryGen\u001b[0m\n",
       "│       \u001b[37m    Status: \u001b[0m\u001b[1;32m✅ Completed\u001b[0m\n",
       "├── \u001b[1;32m📋 Task: d056b313-31cd-4ef9-81d6-e5e5fc29d6ac\u001b[0m\n",
       "│   \u001b[37m   Assigned to: \u001b[0m\u001b[32mqueryValidator\u001b[0m\n",
       "│   \u001b[37m   Status: \u001b[0m\u001b[1;32m✅ Completed\u001b[0m\n",
       "│   └── \u001b[1;32m🤖 Agent: \u001b[0m\u001b[32mqueryValidator\u001b[0m\n",
       "│       \u001b[37m    Status: \u001b[0m\u001b[1;32m✅ Completed\u001b[0m\n",
       "│       └── \u001b[1;32m🔧 \u001b[0m\u001b[32mUsed fetchUniProt (1)\u001b[0m\n",
       "├── \u001b[1;32m📋 Task: 0efdf50d-e90f-4f85-bf31-1595702bb389\u001b[0m\n",
       "│   \u001b[37m   Assigned to: \u001b[0m\u001b[32mProtein Selection Expert\u001b[0m\n",
       "│   \u001b[37m   Status: \u001b[0m\u001b[1;32m✅ Completed\u001b[0m\n",
       "│   └── \u001b[1;32m🤖 Agent: \u001b[0m\u001b[32mProtein Selection Expert\u001b[0m\n",
       "│       \u001b[37m    Status: \u001b[0m\u001b[1;32m✅ Completed\u001b[0m\n",
       "│       └── \u001b[1;32m🔧 \u001b[0m\u001b[32mUsed getFuncInfo (1)\u001b[0m\n",
       "├── \u001b[1;32m📋 Task: 092f99b0-aae9-4434-9fcb-22083d6bfd97\u001b[0m\n",
       "│   \u001b[37m   Assigned to: \u001b[0m\u001b[32mProtein Scaffolding Specialist\u001b[0m\n",
       "│   \u001b[37m   Status: \u001b[0m\u001b[1;32m✅ Completed\u001b[0m\n",
       "│   └── \u001b[1;32m🤖 Agent: \u001b[0m\u001b[32mProtein Scaffolding Specialist\u001b[0m\n",
       "│       \u001b[37m    Status: \u001b[0m\u001b[1;32m✅ Completed\u001b[0m\n",
       "│       └── \u001b[1;32m🔧 \u001b[0m\u001b[32mUsed getSiteInfo (1)\u001b[0m\n",
       "├── \u001b[1;32m📋 Task: 5990c659-96a8-4131-95cd-8f4fe6aed56c\u001b[0m\n",
       "│   \u001b[37m   Assigned to: \u001b[0m\u001b[32mRF Diffusion Expert\u001b[0m\n",
       "│   \u001b[37m   Status: \u001b[0m\u001b[1;32m✅ Completed\u001b[0m\n",
       "│   └── \u001b[1;32m🤖 Agent: \u001b[0m\u001b[32mRF Diffusion Expert\u001b[0m\n",
       "│       \u001b[37m    Status: \u001b[0m\u001b[1;32m✅ Completed\u001b[0m\n",
       "└── \u001b[1;33m📋 Task: 143839c9-703d-48a8-8208-a1a19090db29\u001b[0m\n",
       "    \u001b[37m   Status: \u001b[0m\u001b[2;33mExecuting Task...\u001b[0m\n"
      ]
     },
     "metadata": {},
     "output_type": "display_data"
    },
    {
     "data": {
      "text/html": [
       "<pre style=\"white-space:pre;overflow-x:auto;line-height:normal;font-family:Menlo,'DejaVu Sans Mono',consolas,'Courier New',monospace\">\n",
       "</pre>\n"
      ],
      "text/plain": [
       "\n"
      ]
     },
     "metadata": {},
     "output_type": "display_data"
    },
    {
     "data": {
      "text/html": [
       "<pre style=\"white-space:pre;overflow-x:auto;line-height:normal;font-family:Menlo,'DejaVu Sans Mono',consolas,'Courier New',monospace\"><span style=\"color: #008080; text-decoration-color: #008080; font-weight: bold\">🚀 Crew: crew</span>\n",
       "├── <span style=\"color: #008000; text-decoration-color: #008000; font-weight: bold\">📋 Task: caf17771-5c84-4cff-a0c5-e14ae66db4c5</span>\n",
       "│   <span style=\"color: #c0c0c0; text-decoration-color: #c0c0c0\">   Assigned to: </span><span style=\"color: #008000; text-decoration-color: #008000\">queryGen</span>\n",
       "│   <span style=\"color: #c0c0c0; text-decoration-color: #c0c0c0\">   Status: </span><span style=\"color: #008000; text-decoration-color: #008000; font-weight: bold\">✅ Completed</span>\n",
       "│   └── <span style=\"color: #008000; text-decoration-color: #008000; font-weight: bold\">🤖 Agent: </span><span style=\"color: #008000; text-decoration-color: #008000\">queryGen</span>\n",
       "│       <span style=\"color: #c0c0c0; text-decoration-color: #c0c0c0\">    Status: </span><span style=\"color: #008000; text-decoration-color: #008000; font-weight: bold\">✅ Completed</span>\n",
       "├── <span style=\"color: #008000; text-decoration-color: #008000; font-weight: bold\">📋 Task: d056b313-31cd-4ef9-81d6-e5e5fc29d6ac</span>\n",
       "│   <span style=\"color: #c0c0c0; text-decoration-color: #c0c0c0\">   Assigned to: </span><span style=\"color: #008000; text-decoration-color: #008000\">queryValidator</span>\n",
       "│   <span style=\"color: #c0c0c0; text-decoration-color: #c0c0c0\">   Status: </span><span style=\"color: #008000; text-decoration-color: #008000; font-weight: bold\">✅ Completed</span>\n",
       "│   └── <span style=\"color: #008000; text-decoration-color: #008000; font-weight: bold\">🤖 Agent: </span><span style=\"color: #008000; text-decoration-color: #008000\">queryValidator</span>\n",
       "│       <span style=\"color: #c0c0c0; text-decoration-color: #c0c0c0\">    Status: </span><span style=\"color: #008000; text-decoration-color: #008000; font-weight: bold\">✅ Completed</span>\n",
       "│       └── <span style=\"color: #008000; text-decoration-color: #008000; font-weight: bold\">🔧 </span><span style=\"color: #008000; text-decoration-color: #008000\">Used fetchUniProt (1)</span>\n",
       "├── <span style=\"color: #008000; text-decoration-color: #008000; font-weight: bold\">📋 Task: 0efdf50d-e90f-4f85-bf31-1595702bb389</span>\n",
       "│   <span style=\"color: #c0c0c0; text-decoration-color: #c0c0c0\">   Assigned to: </span><span style=\"color: #008000; text-decoration-color: #008000\">Protein Selection Expert</span>\n",
       "│   <span style=\"color: #c0c0c0; text-decoration-color: #c0c0c0\">   Status: </span><span style=\"color: #008000; text-decoration-color: #008000; font-weight: bold\">✅ Completed</span>\n",
       "│   └── <span style=\"color: #008000; text-decoration-color: #008000; font-weight: bold\">🤖 Agent: </span><span style=\"color: #008000; text-decoration-color: #008000\">Protein Selection Expert</span>\n",
       "│       <span style=\"color: #c0c0c0; text-decoration-color: #c0c0c0\">    Status: </span><span style=\"color: #008000; text-decoration-color: #008000; font-weight: bold\">✅ Completed</span>\n",
       "│       └── <span style=\"color: #008000; text-decoration-color: #008000; font-weight: bold\">🔧 </span><span style=\"color: #008000; text-decoration-color: #008000\">Used getFuncInfo (1)</span>\n",
       "├── <span style=\"color: #008000; text-decoration-color: #008000; font-weight: bold\">📋 Task: 092f99b0-aae9-4434-9fcb-22083d6bfd97</span>\n",
       "│   <span style=\"color: #c0c0c0; text-decoration-color: #c0c0c0\">   Assigned to: </span><span style=\"color: #008000; text-decoration-color: #008000\">Protein Scaffolding Specialist</span>\n",
       "│   <span style=\"color: #c0c0c0; text-decoration-color: #c0c0c0\">   Status: </span><span style=\"color: #008000; text-decoration-color: #008000; font-weight: bold\">✅ Completed</span>\n",
       "│   └── <span style=\"color: #008000; text-decoration-color: #008000; font-weight: bold\">🤖 Agent: </span><span style=\"color: #008000; text-decoration-color: #008000\">Protein Scaffolding Specialist</span>\n",
       "│       <span style=\"color: #c0c0c0; text-decoration-color: #c0c0c0\">    Status: </span><span style=\"color: #008000; text-decoration-color: #008000; font-weight: bold\">✅ Completed</span>\n",
       "│       └── <span style=\"color: #008000; text-decoration-color: #008000; font-weight: bold\">🔧 </span><span style=\"color: #008000; text-decoration-color: #008000\">Used getSiteInfo (1)</span>\n",
       "├── <span style=\"color: #008000; text-decoration-color: #008000; font-weight: bold\">📋 Task: 5990c659-96a8-4131-95cd-8f4fe6aed56c</span>\n",
       "│   <span style=\"color: #c0c0c0; text-decoration-color: #c0c0c0\">   Assigned to: </span><span style=\"color: #008000; text-decoration-color: #008000\">RF Diffusion Expert</span>\n",
       "│   <span style=\"color: #c0c0c0; text-decoration-color: #c0c0c0\">   Status: </span><span style=\"color: #008000; text-decoration-color: #008000; font-weight: bold\">✅ Completed</span>\n",
       "│   └── <span style=\"color: #008000; text-decoration-color: #008000; font-weight: bold\">🤖 Agent: </span><span style=\"color: #008000; text-decoration-color: #008000\">RF Diffusion Expert</span>\n",
       "│       <span style=\"color: #c0c0c0; text-decoration-color: #c0c0c0\">    Status: </span><span style=\"color: #008000; text-decoration-color: #008000; font-weight: bold\">✅ Completed</span>\n",
       "└── <span style=\"color: #808000; text-decoration-color: #808000; font-weight: bold\">📋 Task: 143839c9-703d-48a8-8208-a1a19090db29</span>\n",
       "    <span style=\"color: #c0c0c0; text-decoration-color: #c0c0c0\">   Status: </span><span style=\"color: #bfbf7f; text-decoration-color: #bfbf7f\">Executing Task...</span>\n",
       "    └── <span style=\"color: #008000; text-decoration-color: #008000; font-weight: bold\">🤖 Agent: </span><span style=\"color: #008000; text-decoration-color: #008000\">RF Diffusion Script Verifier</span>\n",
       "        <span style=\"color: #c0c0c0; text-decoration-color: #c0c0c0\">    Status: </span><span style=\"color: #008000; text-decoration-color: #008000; font-weight: bold\">In Progress</span>\n",
       "</pre>\n"
      ],
      "text/plain": [
       "\u001b[1;36m🚀 Crew: \u001b[0m\u001b[1;36mcrew\u001b[0m\n",
       "├── \u001b[1;32m📋 Task: caf17771-5c84-4cff-a0c5-e14ae66db4c5\u001b[0m\n",
       "│   \u001b[37m   Assigned to: \u001b[0m\u001b[32mqueryGen\u001b[0m\n",
       "│   \u001b[37m   Status: \u001b[0m\u001b[1;32m✅ Completed\u001b[0m\n",
       "│   └── \u001b[1;32m🤖 Agent: \u001b[0m\u001b[32mqueryGen\u001b[0m\n",
       "│       \u001b[37m    Status: \u001b[0m\u001b[1;32m✅ Completed\u001b[0m\n",
       "├── \u001b[1;32m📋 Task: d056b313-31cd-4ef9-81d6-e5e5fc29d6ac\u001b[0m\n",
       "│   \u001b[37m   Assigned to: \u001b[0m\u001b[32mqueryValidator\u001b[0m\n",
       "│   \u001b[37m   Status: \u001b[0m\u001b[1;32m✅ Completed\u001b[0m\n",
       "│   └── \u001b[1;32m🤖 Agent: \u001b[0m\u001b[32mqueryValidator\u001b[0m\n",
       "│       \u001b[37m    Status: \u001b[0m\u001b[1;32m✅ Completed\u001b[0m\n",
       "│       └── \u001b[1;32m🔧 \u001b[0m\u001b[32mUsed fetchUniProt (1)\u001b[0m\n",
       "├── \u001b[1;32m📋 Task: 0efdf50d-e90f-4f85-bf31-1595702bb389\u001b[0m\n",
       "│   \u001b[37m   Assigned to: \u001b[0m\u001b[32mProtein Selection Expert\u001b[0m\n",
       "│   \u001b[37m   Status: \u001b[0m\u001b[1;32m✅ Completed\u001b[0m\n",
       "│   └── \u001b[1;32m🤖 Agent: \u001b[0m\u001b[32mProtein Selection Expert\u001b[0m\n",
       "│       \u001b[37m    Status: \u001b[0m\u001b[1;32m✅ Completed\u001b[0m\n",
       "│       └── \u001b[1;32m🔧 \u001b[0m\u001b[32mUsed getFuncInfo (1)\u001b[0m\n",
       "├── \u001b[1;32m📋 Task: 092f99b0-aae9-4434-9fcb-22083d6bfd97\u001b[0m\n",
       "│   \u001b[37m   Assigned to: \u001b[0m\u001b[32mProtein Scaffolding Specialist\u001b[0m\n",
       "│   \u001b[37m   Status: \u001b[0m\u001b[1;32m✅ Completed\u001b[0m\n",
       "│   └── \u001b[1;32m🤖 Agent: \u001b[0m\u001b[32mProtein Scaffolding Specialist\u001b[0m\n",
       "│       \u001b[37m    Status: \u001b[0m\u001b[1;32m✅ Completed\u001b[0m\n",
       "│       └── \u001b[1;32m🔧 \u001b[0m\u001b[32mUsed getSiteInfo (1)\u001b[0m\n",
       "├── \u001b[1;32m📋 Task: 5990c659-96a8-4131-95cd-8f4fe6aed56c\u001b[0m\n",
       "│   \u001b[37m   Assigned to: \u001b[0m\u001b[32mRF Diffusion Expert\u001b[0m\n",
       "│   \u001b[37m   Status: \u001b[0m\u001b[1;32m✅ Completed\u001b[0m\n",
       "│   └── \u001b[1;32m🤖 Agent: \u001b[0m\u001b[32mRF Diffusion Expert\u001b[0m\n",
       "│       \u001b[37m    Status: \u001b[0m\u001b[1;32m✅ Completed\u001b[0m\n",
       "└── \u001b[1;33m📋 Task: 143839c9-703d-48a8-8208-a1a19090db29\u001b[0m\n",
       "    \u001b[37m   Status: \u001b[0m\u001b[2;33mExecuting Task...\u001b[0m\n",
       "    └── \u001b[1;32m🤖 Agent: \u001b[0m\u001b[32mRF Diffusion Script Verifier\u001b[0m\n",
       "        \u001b[37m    Status: \u001b[0m\u001b[1;32mIn Progress\u001b[0m\n"
      ]
     },
     "metadata": {},
     "output_type": "display_data"
    },
    {
     "data": {
      "text/html": [
       "<pre style=\"white-space:pre;overflow-x:auto;line-height:normal;font-family:Menlo,'DejaVu Sans Mono',consolas,'Courier New',monospace\">\n",
       "</pre>\n"
      ],
      "text/plain": [
       "\n"
      ]
     },
     "metadata": {},
     "output_type": "display_data"
    },
    {
     "name": "stdout",
     "output_type": "stream",
     "text": [
      "\u001b[1m\u001b[95m# Agent:\u001b[00m \u001b[1m\u001b[92mRF Diffusion Script Verifier\u001b[00m\n",
      "\u001b[95m## Task:\u001b[00m \u001b[92m1) Take the output configuration script from the previous task.  2) Check syntax and parameter correctness, remove any unnecessary or redundant lines.  3) Run the cleaned script using rf_diffusion_tool.run(script_path).  4) IMMEDIATELY STOP PROCESSING ONCE PDB FILE IS GENERATED IN THE OUTPUT DIRECTORY.5) Do NOT perform any additional verification steps beyond PDB file creation.\u001b[00m\n"
     ]
    },
    {
     "data": {
      "text/html": [
       "<pre style=\"white-space:pre;overflow-x:auto;line-height:normal;font-family:Menlo,'DejaVu Sans Mono',consolas,'Courier New',monospace\"><span style=\"color: #008080; text-decoration-color: #008080; font-weight: bold\">🚀 Crew: crew</span>\n",
       "├── <span style=\"color: #008000; text-decoration-color: #008000; font-weight: bold\">📋 Task: caf17771-5c84-4cff-a0c5-e14ae66db4c5</span>\n",
       "│   <span style=\"color: #c0c0c0; text-decoration-color: #c0c0c0\">   Assigned to: </span><span style=\"color: #008000; text-decoration-color: #008000\">queryGen</span>\n",
       "│   <span style=\"color: #c0c0c0; text-decoration-color: #c0c0c0\">   Status: </span><span style=\"color: #008000; text-decoration-color: #008000; font-weight: bold\">✅ Completed</span>\n",
       "│   └── <span style=\"color: #008000; text-decoration-color: #008000; font-weight: bold\">🤖 Agent: </span><span style=\"color: #008000; text-decoration-color: #008000\">queryGen</span>\n",
       "│       <span style=\"color: #c0c0c0; text-decoration-color: #c0c0c0\">    Status: </span><span style=\"color: #008000; text-decoration-color: #008000; font-weight: bold\">✅ Completed</span>\n",
       "├── <span style=\"color: #008000; text-decoration-color: #008000; font-weight: bold\">📋 Task: d056b313-31cd-4ef9-81d6-e5e5fc29d6ac</span>\n",
       "│   <span style=\"color: #c0c0c0; text-decoration-color: #c0c0c0\">   Assigned to: </span><span style=\"color: #008000; text-decoration-color: #008000\">queryValidator</span>\n",
       "│   <span style=\"color: #c0c0c0; text-decoration-color: #c0c0c0\">   Status: </span><span style=\"color: #008000; text-decoration-color: #008000; font-weight: bold\">✅ Completed</span>\n",
       "│   └── <span style=\"color: #008000; text-decoration-color: #008000; font-weight: bold\">🤖 Agent: </span><span style=\"color: #008000; text-decoration-color: #008000\">queryValidator</span>\n",
       "│       <span style=\"color: #c0c0c0; text-decoration-color: #c0c0c0\">    Status: </span><span style=\"color: #008000; text-decoration-color: #008000; font-weight: bold\">✅ Completed</span>\n",
       "│       └── <span style=\"color: #008000; text-decoration-color: #008000; font-weight: bold\">🔧 </span><span style=\"color: #008000; text-decoration-color: #008000\">Used fetchUniProt (1)</span>\n",
       "├── <span style=\"color: #008000; text-decoration-color: #008000; font-weight: bold\">📋 Task: 0efdf50d-e90f-4f85-bf31-1595702bb389</span>\n",
       "│   <span style=\"color: #c0c0c0; text-decoration-color: #c0c0c0\">   Assigned to: </span><span style=\"color: #008000; text-decoration-color: #008000\">Protein Selection Expert</span>\n",
       "│   <span style=\"color: #c0c0c0; text-decoration-color: #c0c0c0\">   Status: </span><span style=\"color: #008000; text-decoration-color: #008000; font-weight: bold\">✅ Completed</span>\n",
       "│   └── <span style=\"color: #008000; text-decoration-color: #008000; font-weight: bold\">🤖 Agent: </span><span style=\"color: #008000; text-decoration-color: #008000\">Protein Selection Expert</span>\n",
       "│       <span style=\"color: #c0c0c0; text-decoration-color: #c0c0c0\">    Status: </span><span style=\"color: #008000; text-decoration-color: #008000; font-weight: bold\">✅ Completed</span>\n",
       "│       └── <span style=\"color: #008000; text-decoration-color: #008000; font-weight: bold\">🔧 </span><span style=\"color: #008000; text-decoration-color: #008000\">Used getFuncInfo (1)</span>\n",
       "├── <span style=\"color: #008000; text-decoration-color: #008000; font-weight: bold\">📋 Task: 092f99b0-aae9-4434-9fcb-22083d6bfd97</span>\n",
       "│   <span style=\"color: #c0c0c0; text-decoration-color: #c0c0c0\">   Assigned to: </span><span style=\"color: #008000; text-decoration-color: #008000\">Protein Scaffolding Specialist</span>\n",
       "│   <span style=\"color: #c0c0c0; text-decoration-color: #c0c0c0\">   Status: </span><span style=\"color: #008000; text-decoration-color: #008000; font-weight: bold\">✅ Completed</span>\n",
       "│   └── <span style=\"color: #008000; text-decoration-color: #008000; font-weight: bold\">🤖 Agent: </span><span style=\"color: #008000; text-decoration-color: #008000\">Protein Scaffolding Specialist</span>\n",
       "│       <span style=\"color: #c0c0c0; text-decoration-color: #c0c0c0\">    Status: </span><span style=\"color: #008000; text-decoration-color: #008000; font-weight: bold\">✅ Completed</span>\n",
       "│       └── <span style=\"color: #008000; text-decoration-color: #008000; font-weight: bold\">🔧 </span><span style=\"color: #008000; text-decoration-color: #008000\">Used getSiteInfo (1)</span>\n",
       "├── <span style=\"color: #008000; text-decoration-color: #008000; font-weight: bold\">📋 Task: 5990c659-96a8-4131-95cd-8f4fe6aed56c</span>\n",
       "│   <span style=\"color: #c0c0c0; text-decoration-color: #c0c0c0\">   Assigned to: </span><span style=\"color: #008000; text-decoration-color: #008000\">RF Diffusion Expert</span>\n",
       "│   <span style=\"color: #c0c0c0; text-decoration-color: #c0c0c0\">   Status: </span><span style=\"color: #008000; text-decoration-color: #008000; font-weight: bold\">✅ Completed</span>\n",
       "│   └── <span style=\"color: #008000; text-decoration-color: #008000; font-weight: bold\">🤖 Agent: </span><span style=\"color: #008000; text-decoration-color: #008000\">RF Diffusion Expert</span>\n",
       "│       <span style=\"color: #c0c0c0; text-decoration-color: #c0c0c0\">    Status: </span><span style=\"color: #008000; text-decoration-color: #008000; font-weight: bold\">✅ Completed</span>\n",
       "└── <span style=\"color: #808000; text-decoration-color: #808000; font-weight: bold\">📋 Task: 143839c9-703d-48a8-8208-a1a19090db29</span>\n",
       "    <span style=\"color: #c0c0c0; text-decoration-color: #c0c0c0\">   Status: </span><span style=\"color: #bfbf7f; text-decoration-color: #bfbf7f\">Executing Task...</span>\n",
       "    └── <span style=\"color: #008000; text-decoration-color: #008000; font-weight: bold\">🤖 Agent: </span><span style=\"color: #008000; text-decoration-color: #008000\">RF Diffusion Script Verifier</span>\n",
       "        <span style=\"color: #c0c0c0; text-decoration-color: #c0c0c0\">    Status: </span><span style=\"color: #008000; text-decoration-color: #008000; font-weight: bold\">In Progress</span>\n",
       "        └── <span style=\"color: #000080; text-decoration-color: #000080; font-weight: bold\">🧠 </span><span style=\"color: #000080; text-decoration-color: #000080\">Thinking...</span>\n",
       "</pre>\n"
      ],
      "text/plain": [
       "\u001b[1;36m🚀 Crew: \u001b[0m\u001b[1;36mcrew\u001b[0m\n",
       "├── \u001b[1;32m📋 Task: caf17771-5c84-4cff-a0c5-e14ae66db4c5\u001b[0m\n",
       "│   \u001b[37m   Assigned to: \u001b[0m\u001b[32mqueryGen\u001b[0m\n",
       "│   \u001b[37m   Status: \u001b[0m\u001b[1;32m✅ Completed\u001b[0m\n",
       "│   └── \u001b[1;32m🤖 Agent: \u001b[0m\u001b[32mqueryGen\u001b[0m\n",
       "│       \u001b[37m    Status: \u001b[0m\u001b[1;32m✅ Completed\u001b[0m\n",
       "├── \u001b[1;32m📋 Task: d056b313-31cd-4ef9-81d6-e5e5fc29d6ac\u001b[0m\n",
       "│   \u001b[37m   Assigned to: \u001b[0m\u001b[32mqueryValidator\u001b[0m\n",
       "│   \u001b[37m   Status: \u001b[0m\u001b[1;32m✅ Completed\u001b[0m\n",
       "│   └── \u001b[1;32m🤖 Agent: \u001b[0m\u001b[32mqueryValidator\u001b[0m\n",
       "│       \u001b[37m    Status: \u001b[0m\u001b[1;32m✅ Completed\u001b[0m\n",
       "│       └── \u001b[1;32m🔧 \u001b[0m\u001b[32mUsed fetchUniProt (1)\u001b[0m\n",
       "├── \u001b[1;32m📋 Task: 0efdf50d-e90f-4f85-bf31-1595702bb389\u001b[0m\n",
       "│   \u001b[37m   Assigned to: \u001b[0m\u001b[32mProtein Selection Expert\u001b[0m\n",
       "│   \u001b[37m   Status: \u001b[0m\u001b[1;32m✅ Completed\u001b[0m\n",
       "│   └── \u001b[1;32m🤖 Agent: \u001b[0m\u001b[32mProtein Selection Expert\u001b[0m\n",
       "│       \u001b[37m    Status: \u001b[0m\u001b[1;32m✅ Completed\u001b[0m\n",
       "│       └── \u001b[1;32m🔧 \u001b[0m\u001b[32mUsed getFuncInfo (1)\u001b[0m\n",
       "├── \u001b[1;32m📋 Task: 092f99b0-aae9-4434-9fcb-22083d6bfd97\u001b[0m\n",
       "│   \u001b[37m   Assigned to: \u001b[0m\u001b[32mProtein Scaffolding Specialist\u001b[0m\n",
       "│   \u001b[37m   Status: \u001b[0m\u001b[1;32m✅ Completed\u001b[0m\n",
       "│   └── \u001b[1;32m🤖 Agent: \u001b[0m\u001b[32mProtein Scaffolding Specialist\u001b[0m\n",
       "│       \u001b[37m    Status: \u001b[0m\u001b[1;32m✅ Completed\u001b[0m\n",
       "│       └── \u001b[1;32m🔧 \u001b[0m\u001b[32mUsed getSiteInfo (1)\u001b[0m\n",
       "├── \u001b[1;32m📋 Task: 5990c659-96a8-4131-95cd-8f4fe6aed56c\u001b[0m\n",
       "│   \u001b[37m   Assigned to: \u001b[0m\u001b[32mRF Diffusion Expert\u001b[0m\n",
       "│   \u001b[37m   Status: \u001b[0m\u001b[1;32m✅ Completed\u001b[0m\n",
       "│   └── \u001b[1;32m🤖 Agent: \u001b[0m\u001b[32mRF Diffusion Expert\u001b[0m\n",
       "│       \u001b[37m    Status: \u001b[0m\u001b[1;32m✅ Completed\u001b[0m\n",
       "└── \u001b[1;33m📋 Task: 143839c9-703d-48a8-8208-a1a19090db29\u001b[0m\n",
       "    \u001b[37m   Status: \u001b[0m\u001b[2;33mExecuting Task...\u001b[0m\n",
       "    └── \u001b[1;32m🤖 Agent: \u001b[0m\u001b[32mRF Diffusion Script Verifier\u001b[0m\n",
       "        \u001b[37m    Status: \u001b[0m\u001b[1;32mIn Progress\u001b[0m\n",
       "        └── \u001b[1;34m🧠 \u001b[0m\u001b[34mThinking...\u001b[0m\n"
      ]
     },
     "metadata": {},
     "output_type": "display_data"
    },
    {
     "data": {
      "text/html": [
       "<pre style=\"white-space:pre;overflow-x:auto;line-height:normal;font-family:Menlo,'DejaVu Sans Mono',consolas,'Courier New',monospace\">\n",
       "</pre>\n"
      ],
      "text/plain": [
       "\n"
      ]
     },
     "metadata": {},
     "output_type": "display_data"
    },
    {
     "data": {
      "text/html": [
       "<pre style=\"white-space:pre;overflow-x:auto;line-height:normal;font-family:Menlo,'DejaVu Sans Mono',consolas,'Courier New',monospace\"><span style=\"color: #008080; text-decoration-color: #008080; font-weight: bold\">🚀 Crew: crew</span>\n",
       "├── <span style=\"color: #008000; text-decoration-color: #008000; font-weight: bold\">📋 Task: caf17771-5c84-4cff-a0c5-e14ae66db4c5</span>\n",
       "│   <span style=\"color: #c0c0c0; text-decoration-color: #c0c0c0\">   Assigned to: </span><span style=\"color: #008000; text-decoration-color: #008000\">queryGen</span>\n",
       "│   <span style=\"color: #c0c0c0; text-decoration-color: #c0c0c0\">   Status: </span><span style=\"color: #008000; text-decoration-color: #008000; font-weight: bold\">✅ Completed</span>\n",
       "│   └── <span style=\"color: #008000; text-decoration-color: #008000; font-weight: bold\">🤖 Agent: </span><span style=\"color: #008000; text-decoration-color: #008000\">queryGen</span>\n",
       "│       <span style=\"color: #c0c0c0; text-decoration-color: #c0c0c0\">    Status: </span><span style=\"color: #008000; text-decoration-color: #008000; font-weight: bold\">✅ Completed</span>\n",
       "├── <span style=\"color: #008000; text-decoration-color: #008000; font-weight: bold\">📋 Task: d056b313-31cd-4ef9-81d6-e5e5fc29d6ac</span>\n",
       "│   <span style=\"color: #c0c0c0; text-decoration-color: #c0c0c0\">   Assigned to: </span><span style=\"color: #008000; text-decoration-color: #008000\">queryValidator</span>\n",
       "│   <span style=\"color: #c0c0c0; text-decoration-color: #c0c0c0\">   Status: </span><span style=\"color: #008000; text-decoration-color: #008000; font-weight: bold\">✅ Completed</span>\n",
       "│   └── <span style=\"color: #008000; text-decoration-color: #008000; font-weight: bold\">🤖 Agent: </span><span style=\"color: #008000; text-decoration-color: #008000\">queryValidator</span>\n",
       "│       <span style=\"color: #c0c0c0; text-decoration-color: #c0c0c0\">    Status: </span><span style=\"color: #008000; text-decoration-color: #008000; font-weight: bold\">✅ Completed</span>\n",
       "│       └── <span style=\"color: #008000; text-decoration-color: #008000; font-weight: bold\">🔧 </span><span style=\"color: #008000; text-decoration-color: #008000\">Used fetchUniProt (1)</span>\n",
       "├── <span style=\"color: #008000; text-decoration-color: #008000; font-weight: bold\">📋 Task: 0efdf50d-e90f-4f85-bf31-1595702bb389</span>\n",
       "│   <span style=\"color: #c0c0c0; text-decoration-color: #c0c0c0\">   Assigned to: </span><span style=\"color: #008000; text-decoration-color: #008000\">Protein Selection Expert</span>\n",
       "│   <span style=\"color: #c0c0c0; text-decoration-color: #c0c0c0\">   Status: </span><span style=\"color: #008000; text-decoration-color: #008000; font-weight: bold\">✅ Completed</span>\n",
       "│   └── <span style=\"color: #008000; text-decoration-color: #008000; font-weight: bold\">🤖 Agent: </span><span style=\"color: #008000; text-decoration-color: #008000\">Protein Selection Expert</span>\n",
       "│       <span style=\"color: #c0c0c0; text-decoration-color: #c0c0c0\">    Status: </span><span style=\"color: #008000; text-decoration-color: #008000; font-weight: bold\">✅ Completed</span>\n",
       "│       └── <span style=\"color: #008000; text-decoration-color: #008000; font-weight: bold\">🔧 </span><span style=\"color: #008000; text-decoration-color: #008000\">Used getFuncInfo (1)</span>\n",
       "├── <span style=\"color: #008000; text-decoration-color: #008000; font-weight: bold\">📋 Task: 092f99b0-aae9-4434-9fcb-22083d6bfd97</span>\n",
       "│   <span style=\"color: #c0c0c0; text-decoration-color: #c0c0c0\">   Assigned to: </span><span style=\"color: #008000; text-decoration-color: #008000\">Protein Scaffolding Specialist</span>\n",
       "│   <span style=\"color: #c0c0c0; text-decoration-color: #c0c0c0\">   Status: </span><span style=\"color: #008000; text-decoration-color: #008000; font-weight: bold\">✅ Completed</span>\n",
       "│   └── <span style=\"color: #008000; text-decoration-color: #008000; font-weight: bold\">🤖 Agent: </span><span style=\"color: #008000; text-decoration-color: #008000\">Protein Scaffolding Specialist</span>\n",
       "│       <span style=\"color: #c0c0c0; text-decoration-color: #c0c0c0\">    Status: </span><span style=\"color: #008000; text-decoration-color: #008000; font-weight: bold\">✅ Completed</span>\n",
       "│       └── <span style=\"color: #008000; text-decoration-color: #008000; font-weight: bold\">🔧 </span><span style=\"color: #008000; text-decoration-color: #008000\">Used getSiteInfo (1)</span>\n",
       "├── <span style=\"color: #008000; text-decoration-color: #008000; font-weight: bold\">📋 Task: 5990c659-96a8-4131-95cd-8f4fe6aed56c</span>\n",
       "│   <span style=\"color: #c0c0c0; text-decoration-color: #c0c0c0\">   Assigned to: </span><span style=\"color: #008000; text-decoration-color: #008000\">RF Diffusion Expert</span>\n",
       "│   <span style=\"color: #c0c0c0; text-decoration-color: #c0c0c0\">   Status: </span><span style=\"color: #008000; text-decoration-color: #008000; font-weight: bold\">✅ Completed</span>\n",
       "│   └── <span style=\"color: #008000; text-decoration-color: #008000; font-weight: bold\">🤖 Agent: </span><span style=\"color: #008000; text-decoration-color: #008000\">RF Diffusion Expert</span>\n",
       "│       <span style=\"color: #c0c0c0; text-decoration-color: #c0c0c0\">    Status: </span><span style=\"color: #008000; text-decoration-color: #008000; font-weight: bold\">✅ Completed</span>\n",
       "└── <span style=\"color: #808000; text-decoration-color: #808000; font-weight: bold\">📋 Task: 143839c9-703d-48a8-8208-a1a19090db29</span>\n",
       "    <span style=\"color: #c0c0c0; text-decoration-color: #c0c0c0\">   Status: </span><span style=\"color: #bfbf7f; text-decoration-color: #bfbf7f\">Executing Task...</span>\n",
       "    └── <span style=\"color: #008000; text-decoration-color: #008000; font-weight: bold\">🤖 Agent: </span><span style=\"color: #008000; text-decoration-color: #008000\">RF Diffusion Script Verifier</span>\n",
       "        <span style=\"color: #c0c0c0; text-decoration-color: #c0c0c0\">    Status: </span><span style=\"color: #008000; text-decoration-color: #008000; font-weight: bold\">In Progress</span>\n",
       "</pre>\n"
      ],
      "text/plain": [
       "\u001b[1;36m🚀 Crew: \u001b[0m\u001b[1;36mcrew\u001b[0m\n",
       "├── \u001b[1;32m📋 Task: caf17771-5c84-4cff-a0c5-e14ae66db4c5\u001b[0m\n",
       "│   \u001b[37m   Assigned to: \u001b[0m\u001b[32mqueryGen\u001b[0m\n",
       "│   \u001b[37m   Status: \u001b[0m\u001b[1;32m✅ Completed\u001b[0m\n",
       "│   └── \u001b[1;32m🤖 Agent: \u001b[0m\u001b[32mqueryGen\u001b[0m\n",
       "│       \u001b[37m    Status: \u001b[0m\u001b[1;32m✅ Completed\u001b[0m\n",
       "├── \u001b[1;32m📋 Task: d056b313-31cd-4ef9-81d6-e5e5fc29d6ac\u001b[0m\n",
       "│   \u001b[37m   Assigned to: \u001b[0m\u001b[32mqueryValidator\u001b[0m\n",
       "│   \u001b[37m   Status: \u001b[0m\u001b[1;32m✅ Completed\u001b[0m\n",
       "│   └── \u001b[1;32m🤖 Agent: \u001b[0m\u001b[32mqueryValidator\u001b[0m\n",
       "│       \u001b[37m    Status: \u001b[0m\u001b[1;32m✅ Completed\u001b[0m\n",
       "│       └── \u001b[1;32m🔧 \u001b[0m\u001b[32mUsed fetchUniProt (1)\u001b[0m\n",
       "├── \u001b[1;32m📋 Task: 0efdf50d-e90f-4f85-bf31-1595702bb389\u001b[0m\n",
       "│   \u001b[37m   Assigned to: \u001b[0m\u001b[32mProtein Selection Expert\u001b[0m\n",
       "│   \u001b[37m   Status: \u001b[0m\u001b[1;32m✅ Completed\u001b[0m\n",
       "│   └── \u001b[1;32m🤖 Agent: \u001b[0m\u001b[32mProtein Selection Expert\u001b[0m\n",
       "│       \u001b[37m    Status: \u001b[0m\u001b[1;32m✅ Completed\u001b[0m\n",
       "│       └── \u001b[1;32m🔧 \u001b[0m\u001b[32mUsed getFuncInfo (1)\u001b[0m\n",
       "├── \u001b[1;32m📋 Task: 092f99b0-aae9-4434-9fcb-22083d6bfd97\u001b[0m\n",
       "│   \u001b[37m   Assigned to: \u001b[0m\u001b[32mProtein Scaffolding Specialist\u001b[0m\n",
       "│   \u001b[37m   Status: \u001b[0m\u001b[1;32m✅ Completed\u001b[0m\n",
       "│   └── \u001b[1;32m🤖 Agent: \u001b[0m\u001b[32mProtein Scaffolding Specialist\u001b[0m\n",
       "│       \u001b[37m    Status: \u001b[0m\u001b[1;32m✅ Completed\u001b[0m\n",
       "│       └── \u001b[1;32m🔧 \u001b[0m\u001b[32mUsed getSiteInfo (1)\u001b[0m\n",
       "├── \u001b[1;32m📋 Task: 5990c659-96a8-4131-95cd-8f4fe6aed56c\u001b[0m\n",
       "│   \u001b[37m   Assigned to: \u001b[0m\u001b[32mRF Diffusion Expert\u001b[0m\n",
       "│   \u001b[37m   Status: \u001b[0m\u001b[1;32m✅ Completed\u001b[0m\n",
       "│   └── \u001b[1;32m🤖 Agent: \u001b[0m\u001b[32mRF Diffusion Expert\u001b[0m\n",
       "│       \u001b[37m    Status: \u001b[0m\u001b[1;32m✅ Completed\u001b[0m\n",
       "└── \u001b[1;33m📋 Task: 143839c9-703d-48a8-8208-a1a19090db29\u001b[0m\n",
       "    \u001b[37m   Status: \u001b[0m\u001b[2;33mExecuting Task...\u001b[0m\n",
       "    └── \u001b[1;32m🤖 Agent: \u001b[0m\u001b[32mRF Diffusion Script Verifier\u001b[0m\n",
       "        \u001b[37m    Status: \u001b[0m\u001b[1;32mIn Progress\u001b[0m\n"
      ]
     },
     "metadata": {},
     "output_type": "display_data"
    },
    {
     "data": {
      "text/html": [
       "<pre style=\"white-space:pre;overflow-x:auto;line-height:normal;font-family:Menlo,'DejaVu Sans Mono',consolas,'Courier New',monospace\">\n",
       "</pre>\n"
      ],
      "text/plain": [
       "\n"
      ]
     },
     "metadata": {},
     "output_type": "display_data"
    },
    {
     "data": {
      "text/html": [
       "<pre style=\"white-space:pre;overflow-x:auto;line-height:normal;font-family:Menlo,'DejaVu Sans Mono',consolas,'Courier New',monospace\"><span style=\"color: #008080; text-decoration-color: #008080; font-weight: bold\">🚀 Crew: crew</span>\n",
       "├── <span style=\"color: #008000; text-decoration-color: #008000; font-weight: bold\">📋 Task: caf17771-5c84-4cff-a0c5-e14ae66db4c5</span>\n",
       "│   <span style=\"color: #c0c0c0; text-decoration-color: #c0c0c0\">   Assigned to: </span><span style=\"color: #008000; text-decoration-color: #008000\">queryGen</span>\n",
       "│   <span style=\"color: #c0c0c0; text-decoration-color: #c0c0c0\">   Status: </span><span style=\"color: #008000; text-decoration-color: #008000; font-weight: bold\">✅ Completed</span>\n",
       "│   └── <span style=\"color: #008000; text-decoration-color: #008000; font-weight: bold\">🤖 Agent: </span><span style=\"color: #008000; text-decoration-color: #008000\">queryGen</span>\n",
       "│       <span style=\"color: #c0c0c0; text-decoration-color: #c0c0c0\">    Status: </span><span style=\"color: #008000; text-decoration-color: #008000; font-weight: bold\">✅ Completed</span>\n",
       "├── <span style=\"color: #008000; text-decoration-color: #008000; font-weight: bold\">📋 Task: d056b313-31cd-4ef9-81d6-e5e5fc29d6ac</span>\n",
       "│   <span style=\"color: #c0c0c0; text-decoration-color: #c0c0c0\">   Assigned to: </span><span style=\"color: #008000; text-decoration-color: #008000\">queryValidator</span>\n",
       "│   <span style=\"color: #c0c0c0; text-decoration-color: #c0c0c0\">   Status: </span><span style=\"color: #008000; text-decoration-color: #008000; font-weight: bold\">✅ Completed</span>\n",
       "│   └── <span style=\"color: #008000; text-decoration-color: #008000; font-weight: bold\">🤖 Agent: </span><span style=\"color: #008000; text-decoration-color: #008000\">queryValidator</span>\n",
       "│       <span style=\"color: #c0c0c0; text-decoration-color: #c0c0c0\">    Status: </span><span style=\"color: #008000; text-decoration-color: #008000; font-weight: bold\">✅ Completed</span>\n",
       "│       └── <span style=\"color: #008000; text-decoration-color: #008000; font-weight: bold\">🔧 </span><span style=\"color: #008000; text-decoration-color: #008000\">Used fetchUniProt (1)</span>\n",
       "├── <span style=\"color: #008000; text-decoration-color: #008000; font-weight: bold\">📋 Task: 0efdf50d-e90f-4f85-bf31-1595702bb389</span>\n",
       "│   <span style=\"color: #c0c0c0; text-decoration-color: #c0c0c0\">   Assigned to: </span><span style=\"color: #008000; text-decoration-color: #008000\">Protein Selection Expert</span>\n",
       "│   <span style=\"color: #c0c0c0; text-decoration-color: #c0c0c0\">   Status: </span><span style=\"color: #008000; text-decoration-color: #008000; font-weight: bold\">✅ Completed</span>\n",
       "│   └── <span style=\"color: #008000; text-decoration-color: #008000; font-weight: bold\">🤖 Agent: </span><span style=\"color: #008000; text-decoration-color: #008000\">Protein Selection Expert</span>\n",
       "│       <span style=\"color: #c0c0c0; text-decoration-color: #c0c0c0\">    Status: </span><span style=\"color: #008000; text-decoration-color: #008000; font-weight: bold\">✅ Completed</span>\n",
       "│       └── <span style=\"color: #008000; text-decoration-color: #008000; font-weight: bold\">🔧 </span><span style=\"color: #008000; text-decoration-color: #008000\">Used getFuncInfo (1)</span>\n",
       "├── <span style=\"color: #008000; text-decoration-color: #008000; font-weight: bold\">📋 Task: 092f99b0-aae9-4434-9fcb-22083d6bfd97</span>\n",
       "│   <span style=\"color: #c0c0c0; text-decoration-color: #c0c0c0\">   Assigned to: </span><span style=\"color: #008000; text-decoration-color: #008000\">Protein Scaffolding Specialist</span>\n",
       "│   <span style=\"color: #c0c0c0; text-decoration-color: #c0c0c0\">   Status: </span><span style=\"color: #008000; text-decoration-color: #008000; font-weight: bold\">✅ Completed</span>\n",
       "│   └── <span style=\"color: #008000; text-decoration-color: #008000; font-weight: bold\">🤖 Agent: </span><span style=\"color: #008000; text-decoration-color: #008000\">Protein Scaffolding Specialist</span>\n",
       "│       <span style=\"color: #c0c0c0; text-decoration-color: #c0c0c0\">    Status: </span><span style=\"color: #008000; text-decoration-color: #008000; font-weight: bold\">✅ Completed</span>\n",
       "│       └── <span style=\"color: #008000; text-decoration-color: #008000; font-weight: bold\">🔧 </span><span style=\"color: #008000; text-decoration-color: #008000\">Used getSiteInfo (1)</span>\n",
       "├── <span style=\"color: #008000; text-decoration-color: #008000; font-weight: bold\">📋 Task: 5990c659-96a8-4131-95cd-8f4fe6aed56c</span>\n",
       "│   <span style=\"color: #c0c0c0; text-decoration-color: #c0c0c0\">   Assigned to: </span><span style=\"color: #008000; text-decoration-color: #008000\">RF Diffusion Expert</span>\n",
       "│   <span style=\"color: #c0c0c0; text-decoration-color: #c0c0c0\">   Status: </span><span style=\"color: #008000; text-decoration-color: #008000; font-weight: bold\">✅ Completed</span>\n",
       "│   └── <span style=\"color: #008000; text-decoration-color: #008000; font-weight: bold\">🤖 Agent: </span><span style=\"color: #008000; text-decoration-color: #008000\">RF Diffusion Expert</span>\n",
       "│       <span style=\"color: #c0c0c0; text-decoration-color: #c0c0c0\">    Status: </span><span style=\"color: #008000; text-decoration-color: #008000; font-weight: bold\">✅ Completed</span>\n",
       "└── <span style=\"color: #808000; text-decoration-color: #808000; font-weight: bold\">📋 Task: 143839c9-703d-48a8-8208-a1a19090db29</span>\n",
       "    <span style=\"color: #c0c0c0; text-decoration-color: #c0c0c0\">   Status: </span><span style=\"color: #bfbf7f; text-decoration-color: #bfbf7f\">Executing Task...</span>\n",
       "    └── <span style=\"color: #008000; text-decoration-color: #008000; font-weight: bold\">🤖 Agent: </span><span style=\"color: #008000; text-decoration-color: #008000\">RF Diffusion Script Verifier</span>\n",
       "        <span style=\"color: #c0c0c0; text-decoration-color: #c0c0c0\">    Status: </span><span style=\"color: #008000; text-decoration-color: #008000; font-weight: bold\">In Progress</span>\n",
       "        └── <span style=\"color: #808000; text-decoration-color: #808000; font-weight: bold\">🔧 </span><span style=\"color: #808000; text-decoration-color: #808000\">Using rfDiffTool (1)</span>\n",
       "</pre>\n"
      ],
      "text/plain": [
       "\u001b[1;36m🚀 Crew: \u001b[0m\u001b[1;36mcrew\u001b[0m\n",
       "├── \u001b[1;32m📋 Task: caf17771-5c84-4cff-a0c5-e14ae66db4c5\u001b[0m\n",
       "│   \u001b[37m   Assigned to: \u001b[0m\u001b[32mqueryGen\u001b[0m\n",
       "│   \u001b[37m   Status: \u001b[0m\u001b[1;32m✅ Completed\u001b[0m\n",
       "│   └── \u001b[1;32m🤖 Agent: \u001b[0m\u001b[32mqueryGen\u001b[0m\n",
       "│       \u001b[37m    Status: \u001b[0m\u001b[1;32m✅ Completed\u001b[0m\n",
       "├── \u001b[1;32m📋 Task: d056b313-31cd-4ef9-81d6-e5e5fc29d6ac\u001b[0m\n",
       "│   \u001b[37m   Assigned to: \u001b[0m\u001b[32mqueryValidator\u001b[0m\n",
       "│   \u001b[37m   Status: \u001b[0m\u001b[1;32m✅ Completed\u001b[0m\n",
       "│   └── \u001b[1;32m🤖 Agent: \u001b[0m\u001b[32mqueryValidator\u001b[0m\n",
       "│       \u001b[37m    Status: \u001b[0m\u001b[1;32m✅ Completed\u001b[0m\n",
       "│       └── \u001b[1;32m🔧 \u001b[0m\u001b[32mUsed fetchUniProt (1)\u001b[0m\n",
       "├── \u001b[1;32m📋 Task: 0efdf50d-e90f-4f85-bf31-1595702bb389\u001b[0m\n",
       "│   \u001b[37m   Assigned to: \u001b[0m\u001b[32mProtein Selection Expert\u001b[0m\n",
       "│   \u001b[37m   Status: \u001b[0m\u001b[1;32m✅ Completed\u001b[0m\n",
       "│   └── \u001b[1;32m🤖 Agent: \u001b[0m\u001b[32mProtein Selection Expert\u001b[0m\n",
       "│       \u001b[37m    Status: \u001b[0m\u001b[1;32m✅ Completed\u001b[0m\n",
       "│       └── \u001b[1;32m🔧 \u001b[0m\u001b[32mUsed getFuncInfo (1)\u001b[0m\n",
       "├── \u001b[1;32m📋 Task: 092f99b0-aae9-4434-9fcb-22083d6bfd97\u001b[0m\n",
       "│   \u001b[37m   Assigned to: \u001b[0m\u001b[32mProtein Scaffolding Specialist\u001b[0m\n",
       "│   \u001b[37m   Status: \u001b[0m\u001b[1;32m✅ Completed\u001b[0m\n",
       "│   └── \u001b[1;32m🤖 Agent: \u001b[0m\u001b[32mProtein Scaffolding Specialist\u001b[0m\n",
       "│       \u001b[37m    Status: \u001b[0m\u001b[1;32m✅ Completed\u001b[0m\n",
       "│       └── \u001b[1;32m🔧 \u001b[0m\u001b[32mUsed getSiteInfo (1)\u001b[0m\n",
       "├── \u001b[1;32m📋 Task: 5990c659-96a8-4131-95cd-8f4fe6aed56c\u001b[0m\n",
       "│   \u001b[37m   Assigned to: \u001b[0m\u001b[32mRF Diffusion Expert\u001b[0m\n",
       "│   \u001b[37m   Status: \u001b[0m\u001b[1;32m✅ Completed\u001b[0m\n",
       "│   └── \u001b[1;32m🤖 Agent: \u001b[0m\u001b[32mRF Diffusion Expert\u001b[0m\n",
       "│       \u001b[37m    Status: \u001b[0m\u001b[1;32m✅ Completed\u001b[0m\n",
       "└── \u001b[1;33m📋 Task: 143839c9-703d-48a8-8208-a1a19090db29\u001b[0m\n",
       "    \u001b[37m   Status: \u001b[0m\u001b[2;33mExecuting Task...\u001b[0m\n",
       "    └── \u001b[1;32m🤖 Agent: \u001b[0m\u001b[32mRF Diffusion Script Verifier\u001b[0m\n",
       "        \u001b[37m    Status: \u001b[0m\u001b[1;32mIn Progress\u001b[0m\n",
       "        └── \u001b[1;33m🔧 \u001b[0m\u001b[33mUsing rfDiffTool (1)\u001b[0m\n"
      ]
     },
     "metadata": {},
     "output_type": "display_data"
    },
    {
     "data": {
      "text/html": [
       "<pre style=\"white-space:pre;overflow-x:auto;line-height:normal;font-family:Menlo,'DejaVu Sans Mono',consolas,'Courier New',monospace\">\n",
       "</pre>\n"
      ],
      "text/plain": [
       "\n"
      ]
     },
     "metadata": {},
     "output_type": "display_data"
    },
    {
     "name": "stdout",
     "output_type": "stream",
     "text": [
      "../scripts/run_inference.py  inference.output_prefix=/home/bharath-sooryaa-m/Documents/BIO/proj/Protein-Designing-With-Agents/cache/session_20250408-220920_55100258/output inference.input_pdb=input_pdbs/P07199.pdb 'contigmap.contigs=[10-20/A28-48/5-10/A97-129/10-20/A536-599/5-15]' inference.num_designs=1 'contigmap.inpaint_seq=[A143-184/A387-475/A495-544]'\n",
      "Executing command: /home/bharath-sooryaa-m/anaconda3/envs/SE3nv/bin/python ../scripts/run_inference.py  inference.output_prefix=/home/bharath-sooryaa-m/Documents/BIO/proj/Protein-Designing-With-Agents/cache/session_20250408-220920_55100258/output inference.input_pdb=input_pdbs/P07199.pdb 'contigmap.contigs=[10-20/A28-48/5-10/A97-129/10-20/A536-599/5-15]' inference.num_designs=1 'contigmap.inpaint_seq=[A143-184/A387-475/A495-544]'\n",
      "[2025-04-08 22:12:28,511][__main__][INFO] - Found GPU with device_name NVIDIA GeForce RTX 3050 Ti Laptop GPU. Will run RFdiffusion on NVIDIA GeForce RTX 3050 Ti Laptop GPU\n",
      "Reading models from /home/bharath-sooryaa-m/RFdiffusion/rfdiffusion/inference/../../models\n",
      "[2025-04-08 22:12:28,512][rfdiffusion.inference.model_runners][INFO] - Reading checkpoint from /home/bharath-sooryaa-m/RFdiffusion/rfdiffusion/inference/../../models/InpaintSeq_ckpt.pt\n",
      "This is inf_conf.ckpt_path\n",
      "/home/bharath-sooryaa-m/RFdiffusion/rfdiffusion/inference/../../models/InpaintSeq_ckpt.pt\n",
      "Assembling -model, -diffuser and -preprocess configs from checkpoint\n",
      "USING MODEL CONFIG: self._conf[model][n_extra_block] = 4\n",
      "USING MODEL CONFIG: self._conf[model][n_main_block] = 32\n",
      "USING MODEL CONFIG: self._conf[model][n_ref_block] = 4\n",
      "USING MODEL CONFIG: self._conf[model][d_msa] = 256\n",
      "USING MODEL CONFIG: self._conf[model][d_msa_full] = 64\n",
      "USING MODEL CONFIG: self._conf[model][d_pair] = 128\n",
      "USING MODEL CONFIG: self._conf[model][d_templ] = 64\n",
      "USING MODEL CONFIG: self._conf[model][n_head_msa] = 8\n",
      "USING MODEL CONFIG: self._conf[model][n_head_pair] = 4\n",
      "USING MODEL CONFIG: self._conf[model][n_head_templ] = 4\n",
      "USING MODEL CONFIG: self._conf[model][d_hidden] = 32\n",
      "USING MODEL CONFIG: self._conf[model][d_hidden_templ] = 32\n",
      "USING MODEL CONFIG: self._conf[model][p_drop] = 0.15\n",
      "USING MODEL CONFIG: self._conf[model][SE3_param_full] = {'num_layers': 1, 'num_channels': 32, 'num_degrees': 2, 'n_heads': 4, 'div': 4, 'l0_in_features': 8, 'l0_out_features': 8, 'l1_in_features': 3, 'l1_out_features': 2, 'num_edge_features': 32}\n",
      "USING MODEL CONFIG: self._conf[model][SE3_param_topk] = {'num_layers': 1, 'num_channels': 32, 'num_degrees': 2, 'n_heads': 4, 'div': 4, 'l0_in_features': 64, 'l0_out_features': 64, 'l1_in_features': 3, 'l1_out_features': 2, 'num_edge_features': 64}\n",
      "USING MODEL CONFIG: self._conf[model][freeze_track_motif] = False\n",
      "USING MODEL CONFIG: self._conf[model][use_motif_timestep] = True\n",
      "USING MODEL CONFIG: self._conf[diffuser][T] = 50\n",
      "USING MODEL CONFIG: self._conf[diffuser][b_0] = 0.01\n",
      "USING MODEL CONFIG: self._conf[diffuser][b_T] = 0.07\n",
      "USING MODEL CONFIG: self._conf[diffuser][schedule_type] = linear\n",
      "USING MODEL CONFIG: self._conf[diffuser][so3_type] = igso3\n",
      "USING MODEL CONFIG: self._conf[diffuser][crd_scale] = 0.25\n",
      "USING MODEL CONFIG: self._conf[diffuser][so3_schedule_type] = linear\n",
      "USING MODEL CONFIG: self._conf[diffuser][min_b] = 1.5\n",
      "USING MODEL CONFIG: self._conf[diffuser][max_b] = 2.5\n",
      "USING MODEL CONFIG: self._conf[diffuser][min_sigma] = 0.02\n",
      "USING MODEL CONFIG: self._conf[diffuser][max_sigma] = 1.5\n",
      "USING MODEL CONFIG: self._conf[preprocess][sidechain_input] = False\n",
      "USING MODEL CONFIG: self._conf[preprocess][motif_sidechain_input] = True\n",
      "USING MODEL CONFIG: self._conf[preprocess][d_t1d] = 24\n",
      "USING MODEL CONFIG: self._conf[preprocess][d_t2d] = 44\n",
      "USING MODEL CONFIG: self._conf[preprocess][prob_self_cond] = 0.5\n",
      "USING MODEL CONFIG: self._conf[preprocess][str_self_cond] = True\n",
      "USING MODEL CONFIG: self._conf[preprocess][predict_previous] = False\n",
      "[2025-04-08 22:12:30,532][rfdiffusion.inference.model_runners][INFO] - Loading checkpoint.\n",
      "[2025-04-08 22:12:30,639][rfdiffusion.diffusion][INFO] - Using cached IGSO3.\n",
      "Successful diffuser __init__\n",
      "[2025-04-08 22:12:30,677][__main__][INFO] - Making design /home/bharath-sooryaa-m/Documents/BIO/proj/Protein-Designing-With-Agents/cache/session_20250408-220920_55100258/output_0\n",
      "[2025-04-08 22:12:30,711][rfdiffusion.inference.model_runners][INFO] - Using contig: ['10-20/A28-48/5-10/A97-129/10-20/A536-599/5-15']\n",
      "With this beta schedule (linear schedule, beta_0 = 0.04, beta_T = 0.28), alpha_bar_T = 0.00013696050154976547\n",
      "[2025-04-08 22:12:30,731][rfdiffusion.inference.model_runners][INFO] - Sequence init: ------------------KGEIARRFNIPPSTLSTILKN-----GIILKEKALRIAEELGMDDFTASNGWLDRFRRR----------------------------GEAMAYFAMVKRYLTSFPIDDRVQSHILHLEHDLVHVTRKNHARQAGVRGLGHQS------------\n",
      "WARNING: you're using a model trained on complexes and hotspot residues, without specifying hotspots.                         If you're doing monomer diffusion this is fine\n",
      "[2025-04-08 22:12:33,253][rfdiffusion.inference.utils][INFO] - Sampled motif RMSD: 1.46\n",
      "[2025-04-08 22:12:33,256][rfdiffusion.inference.model_runners][INFO] - Timestep 50, input to next step: ------------------KGEIARRFNIPPSTLSTILKN-----GIILKEKALRIAEELGMDDFTASNGWLDRFRRR----------------------------GEAMAYFAMVKRYLTSFPIDDRVQSHILHLEHDLVHVTRKNHARQAGVRGLGHQS------------\n",
      "WARNING: you're using a model trained on complexes and hotspot residues, without specifying hotspots.                         If you're doing monomer diffusion this is fine\n",
      "[2025-04-08 22:12:34,942][rfdiffusion.inference.utils][INFO] - Sampled motif RMSD: 1.18\n",
      "[2025-04-08 22:12:34,944][rfdiffusion.inference.model_runners][INFO] - Timestep 49, input to next step: ------------------KGEIARRFNIPPSTLSTILKN-----GIILKEKALRIAEELGMDDFTASNGWLDRFRRR----------------------------GEAMAYFAMVKRYLTSFPIDDRVQSHILHLEHDLVHVTRKNHARQAGVRGLGHQS------------\n",
      "WARNING: you're using a model trained on complexes and hotspot residues, without specifying hotspots.                         If you're doing monomer diffusion this is fine\n",
      "[2025-04-08 22:12:36,620][rfdiffusion.inference.utils][INFO] - Sampled motif RMSD: 1.05\n",
      "[2025-04-08 22:12:36,621][rfdiffusion.inference.model_runners][INFO] - Timestep 48, input to next step: ------------------KGEIARRFNIPPSTLSTILKN-----GIILKEKALRIAEELGMDDFTASNGWLDRFRRR----------------------------GEAMAYFAMVKRYLTSFPIDDRVQSHILHLEHDLVHVTRKNHARQAGVRGLGHQS------------\n",
      "WARNING: you're using a model trained on complexes and hotspot residues, without specifying hotspots.                         If you're doing monomer diffusion this is fine\n",
      "[2025-04-08 22:12:38,300][rfdiffusion.inference.utils][INFO] - Sampled motif RMSD: 1.02\n",
      "[2025-04-08 22:12:38,302][rfdiffusion.inference.model_runners][INFO] - Timestep 47, input to next step: ------------------KGEIARRFNIPPSTLSTILKN-----GIILKEKALRIAEELGMDDFTASNGWLDRFRRR----------------------------GEAMAYFAMVKRYLTSFPIDDRVQSHILHLEHDLVHVTRKNHARQAGVRGLGHQS------------\n",
      "WARNING: you're using a model trained on complexes and hotspot residues, without specifying hotspots.                         If you're doing monomer diffusion this is fine\n",
      "[2025-04-08 22:12:39,977][rfdiffusion.inference.utils][INFO] - Sampled motif RMSD: 0.98\n",
      "[2025-04-08 22:12:39,979][rfdiffusion.inference.model_runners][INFO] - Timestep 46, input to next step: ------------------KGEIARRFNIPPSTLSTILKN-----GIILKEKALRIAEELGMDDFTASNGWLDRFRRR----------------------------GEAMAYFAMVKRYLTSFPIDDRVQSHILHLEHDLVHVTRKNHARQAGVRGLGHQS------------\n",
      "WARNING: you're using a model trained on complexes and hotspot residues, without specifying hotspots.                         If you're doing monomer diffusion this is fine\n",
      "[2025-04-08 22:12:41,652][rfdiffusion.inference.utils][INFO] - Sampled motif RMSD: 1.05\n",
      "[2025-04-08 22:12:41,654][rfdiffusion.inference.model_runners][INFO] - Timestep 45, input to next step: ------------------KGEIARRFNIPPSTLSTILKN-----GIILKEKALRIAEELGMDDFTASNGWLDRFRRR----------------------------GEAMAYFAMVKRYLTSFPIDDRVQSHILHLEHDLVHVTRKNHARQAGVRGLGHQS------------\n",
      "WARNING: you're using a model trained on complexes and hotspot residues, without specifying hotspots.                         If you're doing monomer diffusion this is fine\n",
      "[2025-04-08 22:12:43,324][rfdiffusion.inference.utils][INFO] - Sampled motif RMSD: 1.06\n",
      "[2025-04-08 22:12:43,326][rfdiffusion.inference.model_runners][INFO] - Timestep 44, input to next step: ------------------KGEIARRFNIPPSTLSTILKN-----GIILKEKALRIAEELGMDDFTASNGWLDRFRRR----------------------------GEAMAYFAMVKRYLTSFPIDDRVQSHILHLEHDLVHVTRKNHARQAGVRGLGHQS------------\n",
      "WARNING: you're using a model trained on complexes and hotspot residues, without specifying hotspots.                         If you're doing monomer diffusion this is fine\n",
      "[2025-04-08 22:12:45,001][rfdiffusion.inference.utils][INFO] - Sampled motif RMSD: 1.15\n",
      "[2025-04-08 22:12:45,003][rfdiffusion.inference.model_runners][INFO] - Timestep 43, input to next step: ------------------KGEIARRFNIPPSTLSTILKN-----GIILKEKALRIAEELGMDDFTASNGWLDRFRRR----------------------------GEAMAYFAMVKRYLTSFPIDDRVQSHILHLEHDLVHVTRKNHARQAGVRGLGHQS------------\n",
      "WARNING: you're using a model trained on complexes and hotspot residues, without specifying hotspots.                         If you're doing monomer diffusion this is fine\n",
      "[2025-04-08 22:12:46,679][rfdiffusion.inference.utils][INFO] - Sampled motif RMSD: 1.12\n",
      "[2025-04-08 22:12:46,681][rfdiffusion.inference.model_runners][INFO] - Timestep 42, input to next step: ------------------KGEIARRFNIPPSTLSTILKN-----GIILKEKALRIAEELGMDDFTASNGWLDRFRRR----------------------------GEAMAYFAMVKRYLTSFPIDDRVQSHILHLEHDLVHVTRKNHARQAGVRGLGHQS------------\n",
      "WARNING: you're using a model trained on complexes and hotspot residues, without specifying hotspots.                         If you're doing monomer diffusion this is fine\n",
      "[2025-04-08 22:12:48,362][rfdiffusion.inference.utils][INFO] - Sampled motif RMSD: 1.03\n",
      "[2025-04-08 22:12:48,363][rfdiffusion.inference.model_runners][INFO] - Timestep 41, input to next step: ------------------KGEIARRFNIPPSTLSTILKN-----GIILKEKALRIAEELGMDDFTASNGWLDRFRRR----------------------------GEAMAYFAMVKRYLTSFPIDDRVQSHILHLEHDLVHVTRKNHARQAGVRGLGHQS------------\n",
      "WARNING: you're using a model trained on complexes and hotspot residues, without specifying hotspots.                         If you're doing monomer diffusion this is fine\n",
      "[2025-04-08 22:12:50,041][rfdiffusion.inference.utils][INFO] - Sampled motif RMSD: 1.01\n",
      "[2025-04-08 22:12:50,043][rfdiffusion.inference.model_runners][INFO] - Timestep 40, input to next step: ------------------KGEIARRFNIPPSTLSTILKN-----GIILKEKALRIAEELGMDDFTASNGWLDRFRRR----------------------------GEAMAYFAMVKRYLTSFPIDDRVQSHILHLEHDLVHVTRKNHARQAGVRGLGHQS------------\n",
      "WARNING: you're using a model trained on complexes and hotspot residues, without specifying hotspots.                         If you're doing monomer diffusion this is fine\n",
      "[2025-04-08 22:12:51,721][rfdiffusion.inference.utils][INFO] - Sampled motif RMSD: 1.02\n",
      "[2025-04-08 22:12:51,723][rfdiffusion.inference.model_runners][INFO] - Timestep 39, input to next step: ------------------KGEIARRFNIPPSTLSTILKN-----GIILKEKALRIAEELGMDDFTASNGWLDRFRRR----------------------------GEAMAYFAMVKRYLTSFPIDDRVQSHILHLEHDLVHVTRKNHARQAGVRGLGHQS------------\n",
      "WARNING: you're using a model trained on complexes and hotspot residues, without specifying hotspots.                         If you're doing monomer diffusion this is fine\n",
      "[2025-04-08 22:12:53,402][rfdiffusion.inference.utils][INFO] - Sampled motif RMSD: 1.00\n",
      "[2025-04-08 22:12:53,403][rfdiffusion.inference.model_runners][INFO] - Timestep 38, input to next step: ------------------KGEIARRFNIPPSTLSTILKN-----GIILKEKALRIAEELGMDDFTASNGWLDRFRRR----------------------------GEAMAYFAMVKRYLTSFPIDDRVQSHILHLEHDLVHVTRKNHARQAGVRGLGHQS------------\n",
      "WARNING: you're using a model trained on complexes and hotspot residues, without specifying hotspots.                         If you're doing monomer diffusion this is fine\n",
      "[2025-04-08 22:12:55,091][rfdiffusion.inference.utils][INFO] - Sampled motif RMSD: 0.91\n",
      "[2025-04-08 22:12:55,093][rfdiffusion.inference.model_runners][INFO] - Timestep 37, input to next step: ------------------KGEIARRFNIPPSTLSTILKN-----GIILKEKALRIAEELGMDDFTASNGWLDRFRRR----------------------------GEAMAYFAMVKRYLTSFPIDDRVQSHILHLEHDLVHVTRKNHARQAGVRGLGHQS------------\n",
      "WARNING: you're using a model trained on complexes and hotspot residues, without specifying hotspots.                         If you're doing monomer diffusion this is fine\n",
      "[2025-04-08 22:12:56,789][rfdiffusion.inference.utils][INFO] - Sampled motif RMSD: 0.95\n",
      "[2025-04-08 22:12:56,791][rfdiffusion.inference.model_runners][INFO] - Timestep 36, input to next step: ------------------KGEIARRFNIPPSTLSTILKN-----GIILKEKALRIAEELGMDDFTASNGWLDRFRRR----------------------------GEAMAYFAMVKRYLTSFPIDDRVQSHILHLEHDLVHVTRKNHARQAGVRGLGHQS------------\n",
      "WARNING: you're using a model trained on complexes and hotspot residues, without specifying hotspots.                         If you're doing monomer diffusion this is fine\n",
      "[2025-04-08 22:12:58,493][rfdiffusion.inference.utils][INFO] - Sampled motif RMSD: 0.87\n",
      "[2025-04-08 22:12:58,495][rfdiffusion.inference.model_runners][INFO] - Timestep 35, input to next step: ------------------KGEIARRFNIPPSTLSTILKN-----GIILKEKALRIAEELGMDDFTASNGWLDRFRRR----------------------------GEAMAYFAMVKRYLTSFPIDDRVQSHILHLEHDLVHVTRKNHARQAGVRGLGHQS------------\n",
      "WARNING: you're using a model trained on complexes and hotspot residues, without specifying hotspots.                         If you're doing monomer diffusion this is fine\n",
      "[2025-04-08 22:13:00,189][rfdiffusion.inference.utils][INFO] - Sampled motif RMSD: 0.84\n",
      "[2025-04-08 22:13:00,191][rfdiffusion.inference.model_runners][INFO] - Timestep 34, input to next step: ------------------KGEIARRFNIPPSTLSTILKN-----GIILKEKALRIAEELGMDDFTASNGWLDRFRRR----------------------------GEAMAYFAMVKRYLTSFPIDDRVQSHILHLEHDLVHVTRKNHARQAGVRGLGHQS------------\n",
      "WARNING: you're using a model trained on complexes and hotspot residues, without specifying hotspots.                         If you're doing monomer diffusion this is fine\n",
      "[2025-04-08 22:13:01,893][rfdiffusion.inference.utils][INFO] - Sampled motif RMSD: 0.87\n",
      "[2025-04-08 22:13:01,895][rfdiffusion.inference.model_runners][INFO] - Timestep 33, input to next step: ------------------KGEIARRFNIPPSTLSTILKN-----GIILKEKALRIAEELGMDDFTASNGWLDRFRRR----------------------------GEAMAYFAMVKRYLTSFPIDDRVQSHILHLEHDLVHVTRKNHARQAGVRGLGHQS------------\n",
      "WARNING: you're using a model trained on complexes and hotspot residues, without specifying hotspots.                         If you're doing monomer diffusion this is fine\n",
      "[2025-04-08 22:13:03,583][rfdiffusion.inference.utils][INFO] - Sampled motif RMSD: 0.90\n",
      "[2025-04-08 22:13:03,585][rfdiffusion.inference.model_runners][INFO] - Timestep 32, input to next step: ------------------KGEIARRFNIPPSTLSTILKN-----GIILKEKALRIAEELGMDDFTASNGWLDRFRRR----------------------------GEAMAYFAMVKRYLTSFPIDDRVQSHILHLEHDLVHVTRKNHARQAGVRGLGHQS------------\n",
      "WARNING: you're using a model trained on complexes and hotspot residues, without specifying hotspots.                         If you're doing monomer diffusion this is fine\n",
      "[2025-04-08 22:13:05,272][rfdiffusion.inference.utils][INFO] - Sampled motif RMSD: 0.93\n",
      "[2025-04-08 22:13:05,274][rfdiffusion.inference.model_runners][INFO] - Timestep 31, input to next step: ------------------KGEIARRFNIPPSTLSTILKN-----GIILKEKALRIAEELGMDDFTASNGWLDRFRRR----------------------------GEAMAYFAMVKRYLTSFPIDDRVQSHILHLEHDLVHVTRKNHARQAGVRGLGHQS------------\n",
      "WARNING: you're using a model trained on complexes and hotspot residues, without specifying hotspots.                         If you're doing monomer diffusion this is fine\n",
      "[2025-04-08 22:13:06,970][rfdiffusion.inference.utils][INFO] - Sampled motif RMSD: 0.96\n",
      "[2025-04-08 22:13:06,972][rfdiffusion.inference.model_runners][INFO] - Timestep 30, input to next step: ------------------KGEIARRFNIPPSTLSTILKN-----GIILKEKALRIAEELGMDDFTASNGWLDRFRRR----------------------------GEAMAYFAMVKRYLTSFPIDDRVQSHILHLEHDLVHVTRKNHARQAGVRGLGHQS------------\n",
      "WARNING: you're using a model trained on complexes and hotspot residues, without specifying hotspots.                         If you're doing monomer diffusion this is fine\n",
      "[2025-04-08 22:13:08,669][rfdiffusion.inference.utils][INFO] - Sampled motif RMSD: 0.91\n",
      "[2025-04-08 22:13:08,671][rfdiffusion.inference.model_runners][INFO] - Timestep 29, input to next step: ------------------KGEIARRFNIPPSTLSTILKN-----GIILKEKALRIAEELGMDDFTASNGWLDRFRRR----------------------------GEAMAYFAMVKRYLTSFPIDDRVQSHILHLEHDLVHVTRKNHARQAGVRGLGHQS------------\n",
      "WARNING: you're using a model trained on complexes and hotspot residues, without specifying hotspots.                         If you're doing monomer diffusion this is fine\n",
      "[2025-04-08 22:13:10,371][rfdiffusion.inference.utils][INFO] - Sampled motif RMSD: 0.92\n",
      "[2025-04-08 22:13:10,373][rfdiffusion.inference.model_runners][INFO] - Timestep 28, input to next step: ------------------KGEIARRFNIPPSTLSTILKN-----GIILKEKALRIAEELGMDDFTASNGWLDRFRRR----------------------------GEAMAYFAMVKRYLTSFPIDDRVQSHILHLEHDLVHVTRKNHARQAGVRGLGHQS------------\n",
      "WARNING: you're using a model trained on complexes and hotspot residues, without specifying hotspots.                         If you're doing monomer diffusion this is fine\n",
      "[2025-04-08 22:13:12,068][rfdiffusion.inference.utils][INFO] - Sampled motif RMSD: 0.85\n",
      "[2025-04-08 22:13:12,070][rfdiffusion.inference.model_runners][INFO] - Timestep 27, input to next step: ------------------KGEIARRFNIPPSTLSTILKN-----GIILKEKALRIAEELGMDDFTASNGWLDRFRRR----------------------------GEAMAYFAMVKRYLTSFPIDDRVQSHILHLEHDLVHVTRKNHARQAGVRGLGHQS------------\n",
      "WARNING: you're using a model trained on complexes and hotspot residues, without specifying hotspots.                         If you're doing monomer diffusion this is fine\n",
      "[2025-04-08 22:13:13,764][rfdiffusion.inference.utils][INFO] - Sampled motif RMSD: 0.84\n",
      "[2025-04-08 22:13:13,766][rfdiffusion.inference.model_runners][INFO] - Timestep 26, input to next step: ------------------KGEIARRFNIPPSTLSTILKN-----GIILKEKALRIAEELGMDDFTASNGWLDRFRRR----------------------------GEAMAYFAMVKRYLTSFPIDDRVQSHILHLEHDLVHVTRKNHARQAGVRGLGHQS------------\n",
      "WARNING: you're using a model trained on complexes and hotspot residues, without specifying hotspots.                         If you're doing monomer diffusion this is fine\n",
      "[2025-04-08 22:13:15,462][rfdiffusion.inference.utils][INFO] - Sampled motif RMSD: 0.78\n",
      "[2025-04-08 22:13:15,464][rfdiffusion.inference.model_runners][INFO] - Timestep 25, input to next step: ------------------KGEIARRFNIPPSTLSTILKN-----GIILKEKALRIAEELGMDDFTASNGWLDRFRRR----------------------------GEAMAYFAMVKRYLTSFPIDDRVQSHILHLEHDLVHVTRKNHARQAGVRGLGHQS------------\n",
      "WARNING: you're using a model trained on complexes and hotspot residues, without specifying hotspots.                         If you're doing monomer diffusion this is fine\n",
      "[2025-04-08 22:13:17,159][rfdiffusion.inference.utils][INFO] - Sampled motif RMSD: 0.78\n",
      "[2025-04-08 22:13:17,161][rfdiffusion.inference.model_runners][INFO] - Timestep 24, input to next step: ------------------KGEIARRFNIPPSTLSTILKN-----GIILKEKALRIAEELGMDDFTASNGWLDRFRRR----------------------------GEAMAYFAMVKRYLTSFPIDDRVQSHILHLEHDLVHVTRKNHARQAGVRGLGHQS------------\n",
      "WARNING: you're using a model trained on complexes and hotspot residues, without specifying hotspots.                         If you're doing monomer diffusion this is fine\n",
      "[2025-04-08 22:13:18,855][rfdiffusion.inference.utils][INFO] - Sampled motif RMSD: 0.73\n",
      "[2025-04-08 22:13:18,857][rfdiffusion.inference.model_runners][INFO] - Timestep 23, input to next step: ------------------KGEIARRFNIPPSTLSTILKN-----GIILKEKALRIAEELGMDDFTASNGWLDRFRRR----------------------------GEAMAYFAMVKRYLTSFPIDDRVQSHILHLEHDLVHVTRKNHARQAGVRGLGHQS------------\n",
      "WARNING: you're using a model trained on complexes and hotspot residues, without specifying hotspots.                         If you're doing monomer diffusion this is fine\n",
      "[2025-04-08 22:13:20,553][rfdiffusion.inference.utils][INFO] - Sampled motif RMSD: 0.68\n",
      "[2025-04-08 22:13:20,554][rfdiffusion.inference.model_runners][INFO] - Timestep 22, input to next step: ------------------KGEIARRFNIPPSTLSTILKN-----GIILKEKALRIAEELGMDDFTASNGWLDRFRRR----------------------------GEAMAYFAMVKRYLTSFPIDDRVQSHILHLEHDLVHVTRKNHARQAGVRGLGHQS------------\n",
      "WARNING: you're using a model trained on complexes and hotspot residues, without specifying hotspots.                         If you're doing monomer diffusion this is fine\n",
      "[2025-04-08 22:13:22,255][rfdiffusion.inference.utils][INFO] - Sampled motif RMSD: 0.62\n",
      "[2025-04-08 22:13:22,257][rfdiffusion.inference.model_runners][INFO] - Timestep 21, input to next step: ------------------KGEIARRFNIPPSTLSTILKN-----GIILKEKALRIAEELGMDDFTASNGWLDRFRRR----------------------------GEAMAYFAMVKRYLTSFPIDDRVQSHILHLEHDLVHVTRKNHARQAGVRGLGHQS------------\n",
      "WARNING: you're using a model trained on complexes and hotspot residues, without specifying hotspots.                         If you're doing monomer diffusion this is fine\n",
      "[2025-04-08 22:13:23,958][rfdiffusion.inference.utils][INFO] - Sampled motif RMSD: 0.66\n",
      "[2025-04-08 22:13:23,960][rfdiffusion.inference.model_runners][INFO] - Timestep 20, input to next step: ------------------KGEIARRFNIPPSTLSTILKN-----GIILKEKALRIAEELGMDDFTASNGWLDRFRRR----------------------------GEAMAYFAMVKRYLTSFPIDDRVQSHILHLEHDLVHVTRKNHARQAGVRGLGHQS------------\n",
      "WARNING: you're using a model trained on complexes and hotspot residues, without specifying hotspots.                         If you're doing monomer diffusion this is fine\n",
      "[2025-04-08 22:13:25,660][rfdiffusion.inference.utils][INFO] - Sampled motif RMSD: 0.68\n",
      "[2025-04-08 22:13:25,662][rfdiffusion.inference.model_runners][INFO] - Timestep 19, input to next step: ------------------KGEIARRFNIPPSTLSTILKN-----GIILKEKALRIAEELGMDDFTASNGWLDRFRRR----------------------------GEAMAYFAMVKRYLTSFPIDDRVQSHILHLEHDLVHVTRKNHARQAGVRGLGHQS------------\n",
      "WARNING: you're using a model trained on complexes and hotspot residues, without specifying hotspots.                         If you're doing monomer diffusion this is fine\n",
      "[2025-04-08 22:13:27,365][rfdiffusion.inference.utils][INFO] - Sampled motif RMSD: 0.65\n",
      "[2025-04-08 22:13:27,367][rfdiffusion.inference.model_runners][INFO] - Timestep 18, input to next step: ------------------KGEIARRFNIPPSTLSTILKN-----GIILKEKALRIAEELGMDDFTASNGWLDRFRRR----------------------------GEAMAYFAMVKRYLTSFPIDDRVQSHILHLEHDLVHVTRKNHARQAGVRGLGHQS------------\n",
      "WARNING: you're using a model trained on complexes and hotspot residues, without specifying hotspots.                         If you're doing monomer diffusion this is fine\n",
      "[2025-04-08 22:13:29,071][rfdiffusion.inference.utils][INFO] - Sampled motif RMSD: 0.66\n",
      "[2025-04-08 22:13:29,073][rfdiffusion.inference.model_runners][INFO] - Timestep 17, input to next step: ------------------KGEIARRFNIPPSTLSTILKN-----GIILKEKALRIAEELGMDDFTASNGWLDRFRRR----------------------------GEAMAYFAMVKRYLTSFPIDDRVQSHILHLEHDLVHVTRKNHARQAGVRGLGHQS------------\n",
      "WARNING: you're using a model trained on complexes and hotspot residues, without specifying hotspots.                         If you're doing monomer diffusion this is fine\n",
      "[2025-04-08 22:13:30,778][rfdiffusion.inference.utils][INFO] - Sampled motif RMSD: 0.64\n",
      "[2025-04-08 22:13:30,780][rfdiffusion.inference.model_runners][INFO] - Timestep 16, input to next step: ------------------KGEIARRFNIPPSTLSTILKN-----GIILKEKALRIAEELGMDDFTASNGWLDRFRRR----------------------------GEAMAYFAMVKRYLTSFPIDDRVQSHILHLEHDLVHVTRKNHARQAGVRGLGHQS------------\n",
      "WARNING: you're using a model trained on complexes and hotspot residues, without specifying hotspots.                         If you're doing monomer diffusion this is fine\n",
      "[2025-04-08 22:13:32,481][rfdiffusion.inference.utils][INFO] - Sampled motif RMSD: 0.60\n",
      "[2025-04-08 22:13:32,483][rfdiffusion.inference.model_runners][INFO] - Timestep 15, input to next step: ------------------KGEIARRFNIPPSTLSTILKN-----GIILKEKALRIAEELGMDDFTASNGWLDRFRRR----------------------------GEAMAYFAMVKRYLTSFPIDDRVQSHILHLEHDLVHVTRKNHARQAGVRGLGHQS------------\n",
      "WARNING: you're using a model trained on complexes and hotspot residues, without specifying hotspots.                         If you're doing monomer diffusion this is fine\n",
      "[2025-04-08 22:13:34,192][rfdiffusion.inference.utils][INFO] - Sampled motif RMSD: 0.62\n",
      "[2025-04-08 22:13:34,194][rfdiffusion.inference.model_runners][INFO] - Timestep 14, input to next step: ------------------KGEIARRFNIPPSTLSTILKN-----GIILKEKALRIAEELGMDDFTASNGWLDRFRRR----------------------------GEAMAYFAMVKRYLTSFPIDDRVQSHILHLEHDLVHVTRKNHARQAGVRGLGHQS------------\n",
      "WARNING: you're using a model trained on complexes and hotspot residues, without specifying hotspots.                         If you're doing monomer diffusion this is fine\n",
      "[2025-04-08 22:13:35,898][rfdiffusion.inference.utils][INFO] - Sampled motif RMSD: 0.62\n",
      "[2025-04-08 22:13:35,900][rfdiffusion.inference.model_runners][INFO] - Timestep 13, input to next step: ------------------KGEIARRFNIPPSTLSTILKN-----GIILKEKALRIAEELGMDDFTASNGWLDRFRRR----------------------------GEAMAYFAMVKRYLTSFPIDDRVQSHILHLEHDLVHVTRKNHARQAGVRGLGHQS------------\n",
      "WARNING: you're using a model trained on complexes and hotspot residues, without specifying hotspots.                         If you're doing monomer diffusion this is fine\n",
      "[2025-04-08 22:13:37,609][rfdiffusion.inference.utils][INFO] - Sampled motif RMSD: 0.60\n",
      "[2025-04-08 22:13:37,611][rfdiffusion.inference.model_runners][INFO] - Timestep 12, input to next step: ------------------KGEIARRFNIPPSTLSTILKN-----GIILKEKALRIAEELGMDDFTASNGWLDRFRRR----------------------------GEAMAYFAMVKRYLTSFPIDDRVQSHILHLEHDLVHVTRKNHARQAGVRGLGHQS------------\n",
      "WARNING: you're using a model trained on complexes and hotspot residues, without specifying hotspots.                         If you're doing monomer diffusion this is fine\n",
      "[2025-04-08 22:13:39,315][rfdiffusion.inference.utils][INFO] - Sampled motif RMSD: 0.63\n",
      "[2025-04-08 22:13:39,317][rfdiffusion.inference.model_runners][INFO] - Timestep 11, input to next step: ------------------KGEIARRFNIPPSTLSTILKN-----GIILKEKALRIAEELGMDDFTASNGWLDRFRRR----------------------------GEAMAYFAMVKRYLTSFPIDDRVQSHILHLEHDLVHVTRKNHARQAGVRGLGHQS------------\n",
      "WARNING: you're using a model trained on complexes and hotspot residues, without specifying hotspots.                         If you're doing monomer diffusion this is fine\n",
      "[2025-04-08 22:13:41,023][rfdiffusion.inference.utils][INFO] - Sampled motif RMSD: 0.62\n",
      "[2025-04-08 22:13:41,024][rfdiffusion.inference.model_runners][INFO] - Timestep 10, input to next step: ------------------KGEIARRFNIPPSTLSTILKN-----GIILKEKALRIAEELGMDDFTASNGWLDRFRRR----------------------------GEAMAYFAMVKRYLTSFPIDDRVQSHILHLEHDLVHVTRKNHARQAGVRGLGHQS------------\n",
      "WARNING: you're using a model trained on complexes and hotspot residues, without specifying hotspots.                         If you're doing monomer diffusion this is fine\n",
      "[2025-04-08 22:13:42,730][rfdiffusion.inference.utils][INFO] - Sampled motif RMSD: 0.62\n",
      "[2025-04-08 22:13:42,732][rfdiffusion.inference.model_runners][INFO] - Timestep 9, input to next step: ------------------KGEIARRFNIPPSTLSTILKN-----GIILKEKALRIAEELGMDDFTASNGWLDRFRRR----------------------------GEAMAYFAMVKRYLTSFPIDDRVQSHILHLEHDLVHVTRKNHARQAGVRGLGHQS------------\n",
      "WARNING: you're using a model trained on complexes and hotspot residues, without specifying hotspots.                         If you're doing monomer diffusion this is fine\n",
      "[2025-04-08 22:13:44,439][rfdiffusion.inference.utils][INFO] - Sampled motif RMSD: 0.62\n",
      "[2025-04-08 22:13:44,441][rfdiffusion.inference.model_runners][INFO] - Timestep 8, input to next step: ------------------KGEIARRFNIPPSTLSTILKN-----GIILKEKALRIAEELGMDDFTASNGWLDRFRRR----------------------------GEAMAYFAMVKRYLTSFPIDDRVQSHILHLEHDLVHVTRKNHARQAGVRGLGHQS------------\n",
      "WARNING: you're using a model trained on complexes and hotspot residues, without specifying hotspots.                         If you're doing monomer diffusion this is fine\n",
      "[2025-04-08 22:13:46,142][rfdiffusion.inference.utils][INFO] - Sampled motif RMSD: 0.60\n",
      "[2025-04-08 22:13:46,144][rfdiffusion.inference.model_runners][INFO] - Timestep 7, input to next step: ------------------KGEIARRFNIPPSTLSTILKN-----GIILKEKALRIAEELGMDDFTASNGWLDRFRRR----------------------------GEAMAYFAMVKRYLTSFPIDDRVQSHILHLEHDLVHVTRKNHARQAGVRGLGHQS------------\n",
      "WARNING: you're using a model trained on complexes and hotspot residues, without specifying hotspots.                         If you're doing monomer diffusion this is fine\n",
      "[2025-04-08 22:13:47,846][rfdiffusion.inference.utils][INFO] - Sampled motif RMSD: 0.62\n",
      "[2025-04-08 22:13:47,848][rfdiffusion.inference.model_runners][INFO] - Timestep 6, input to next step: ------------------KGEIARRFNIPPSTLSTILKN-----GIILKEKALRIAEELGMDDFTASNGWLDRFRRR----------------------------GEAMAYFAMVKRYLTSFPIDDRVQSHILHLEHDLVHVTRKNHARQAGVRGLGHQS------------\n",
      "WARNING: you're using a model trained on complexes and hotspot residues, without specifying hotspots.                         If you're doing monomer diffusion this is fine\n",
      "[2025-04-08 22:13:49,552][rfdiffusion.inference.utils][INFO] - Sampled motif RMSD: 0.59\n",
      "[2025-04-08 22:13:49,553][rfdiffusion.inference.model_runners][INFO] - Timestep 5, input to next step: ------------------KGEIARRFNIPPSTLSTILKN-----GIILKEKALRIAEELGMDDFTASNGWLDRFRRR----------------------------GEAMAYFAMVKRYLTSFPIDDRVQSHILHLEHDLVHVTRKNHARQAGVRGLGHQS------------\n",
      "WARNING: you're using a model trained on complexes and hotspot residues, without specifying hotspots.                         If you're doing monomer diffusion this is fine\n",
      "[2025-04-08 22:13:51,261][rfdiffusion.inference.utils][INFO] - Sampled motif RMSD: 0.56\n",
      "[2025-04-08 22:13:51,263][rfdiffusion.inference.model_runners][INFO] - Timestep 4, input to next step: ------------------KGEIARRFNIPPSTLSTILKN-----GIILKEKALRIAEELGMDDFTASNGWLDRFRRR----------------------------GEAMAYFAMVKRYLTSFPIDDRVQSHILHLEHDLVHVTRKNHARQAGVRGLGHQS------------\n",
      "WARNING: you're using a model trained on complexes and hotspot residues, without specifying hotspots.                         If you're doing monomer diffusion this is fine\n",
      "[2025-04-08 22:13:52,968][rfdiffusion.inference.utils][INFO] - Sampled motif RMSD: 0.53\n",
      "[2025-04-08 22:13:52,970][rfdiffusion.inference.model_runners][INFO] - Timestep 3, input to next step: ------------------KGEIARRFNIPPSTLSTILKN-----GIILKEKALRIAEELGMDDFTASNGWLDRFRRR----------------------------GEAMAYFAMVKRYLTSFPIDDRVQSHILHLEHDLVHVTRKNHARQAGVRGLGHQS------------\n",
      "WARNING: you're using a model trained on complexes and hotspot residues, without specifying hotspots.                         If you're doing monomer diffusion this is fine\n",
      "[2025-04-08 22:13:54,674][rfdiffusion.inference.utils][INFO] - Sampled motif RMSD: 0.48\n",
      "[2025-04-08 22:13:54,676][rfdiffusion.inference.model_runners][INFO] - Timestep 2, input to next step: ------------------KGEIARRFNIPPSTLSTILKN-----GIILKEKALRIAEELGMDDFTASNGWLDRFRRR----------------------------GEAMAYFAMVKRYLTSFPIDDRVQSHILHLEHDLVHVTRKNHARQAGVRGLGHQS------------\n",
      "WARNING: you're using a model trained on complexes and hotspot residues, without specifying hotspots.                         If you're doing monomer diffusion this is fine\n",
      "[2025-04-08 22:13:58,116][__main__][INFO] - Finished design in 1.46 minutes\n"
     ]
    },
    {
     "data": {
      "text/html": [
       "<pre style=\"white-space:pre;overflow-x:auto;line-height:normal;font-family:Menlo,'DejaVu Sans Mono',consolas,'Courier New',monospace\"><span style=\"color: #008080; text-decoration-color: #008080; font-weight: bold\">🚀 Crew: crew</span>\n",
       "├── <span style=\"color: #008000; text-decoration-color: #008000; font-weight: bold\">📋 Task: caf17771-5c84-4cff-a0c5-e14ae66db4c5</span>\n",
       "│   <span style=\"color: #c0c0c0; text-decoration-color: #c0c0c0\">   Assigned to: </span><span style=\"color: #008000; text-decoration-color: #008000\">queryGen</span>\n",
       "│   <span style=\"color: #c0c0c0; text-decoration-color: #c0c0c0\">   Status: </span><span style=\"color: #008000; text-decoration-color: #008000; font-weight: bold\">✅ Completed</span>\n",
       "│   └── <span style=\"color: #008000; text-decoration-color: #008000; font-weight: bold\">🤖 Agent: </span><span style=\"color: #008000; text-decoration-color: #008000\">queryGen</span>\n",
       "│       <span style=\"color: #c0c0c0; text-decoration-color: #c0c0c0\">    Status: </span><span style=\"color: #008000; text-decoration-color: #008000; font-weight: bold\">✅ Completed</span>\n",
       "├── <span style=\"color: #008000; text-decoration-color: #008000; font-weight: bold\">📋 Task: d056b313-31cd-4ef9-81d6-e5e5fc29d6ac</span>\n",
       "│   <span style=\"color: #c0c0c0; text-decoration-color: #c0c0c0\">   Assigned to: </span><span style=\"color: #008000; text-decoration-color: #008000\">queryValidator</span>\n",
       "│   <span style=\"color: #c0c0c0; text-decoration-color: #c0c0c0\">   Status: </span><span style=\"color: #008000; text-decoration-color: #008000; font-weight: bold\">✅ Completed</span>\n",
       "│   └── <span style=\"color: #008000; text-decoration-color: #008000; font-weight: bold\">🤖 Agent: </span><span style=\"color: #008000; text-decoration-color: #008000\">queryValidator</span>\n",
       "│       <span style=\"color: #c0c0c0; text-decoration-color: #c0c0c0\">    Status: </span><span style=\"color: #008000; text-decoration-color: #008000; font-weight: bold\">✅ Completed</span>\n",
       "│       └── <span style=\"color: #008000; text-decoration-color: #008000; font-weight: bold\">🔧 </span><span style=\"color: #008000; text-decoration-color: #008000\">Used fetchUniProt (1)</span>\n",
       "├── <span style=\"color: #008000; text-decoration-color: #008000; font-weight: bold\">📋 Task: 0efdf50d-e90f-4f85-bf31-1595702bb389</span>\n",
       "│   <span style=\"color: #c0c0c0; text-decoration-color: #c0c0c0\">   Assigned to: </span><span style=\"color: #008000; text-decoration-color: #008000\">Protein Selection Expert</span>\n",
       "│   <span style=\"color: #c0c0c0; text-decoration-color: #c0c0c0\">   Status: </span><span style=\"color: #008000; text-decoration-color: #008000; font-weight: bold\">✅ Completed</span>\n",
       "│   └── <span style=\"color: #008000; text-decoration-color: #008000; font-weight: bold\">🤖 Agent: </span><span style=\"color: #008000; text-decoration-color: #008000\">Protein Selection Expert</span>\n",
       "│       <span style=\"color: #c0c0c0; text-decoration-color: #c0c0c0\">    Status: </span><span style=\"color: #008000; text-decoration-color: #008000; font-weight: bold\">✅ Completed</span>\n",
       "│       └── <span style=\"color: #008000; text-decoration-color: #008000; font-weight: bold\">🔧 </span><span style=\"color: #008000; text-decoration-color: #008000\">Used getFuncInfo (1)</span>\n",
       "├── <span style=\"color: #008000; text-decoration-color: #008000; font-weight: bold\">📋 Task: 092f99b0-aae9-4434-9fcb-22083d6bfd97</span>\n",
       "│   <span style=\"color: #c0c0c0; text-decoration-color: #c0c0c0\">   Assigned to: </span><span style=\"color: #008000; text-decoration-color: #008000\">Protein Scaffolding Specialist</span>\n",
       "│   <span style=\"color: #c0c0c0; text-decoration-color: #c0c0c0\">   Status: </span><span style=\"color: #008000; text-decoration-color: #008000; font-weight: bold\">✅ Completed</span>\n",
       "│   └── <span style=\"color: #008000; text-decoration-color: #008000; font-weight: bold\">🤖 Agent: </span><span style=\"color: #008000; text-decoration-color: #008000\">Protein Scaffolding Specialist</span>\n",
       "│       <span style=\"color: #c0c0c0; text-decoration-color: #c0c0c0\">    Status: </span><span style=\"color: #008000; text-decoration-color: #008000; font-weight: bold\">✅ Completed</span>\n",
       "│       └── <span style=\"color: #008000; text-decoration-color: #008000; font-weight: bold\">🔧 </span><span style=\"color: #008000; text-decoration-color: #008000\">Used getSiteInfo (1)</span>\n",
       "├── <span style=\"color: #008000; text-decoration-color: #008000; font-weight: bold\">📋 Task: 5990c659-96a8-4131-95cd-8f4fe6aed56c</span>\n",
       "│   <span style=\"color: #c0c0c0; text-decoration-color: #c0c0c0\">   Assigned to: </span><span style=\"color: #008000; text-decoration-color: #008000\">RF Diffusion Expert</span>\n",
       "│   <span style=\"color: #c0c0c0; text-decoration-color: #c0c0c0\">   Status: </span><span style=\"color: #008000; text-decoration-color: #008000; font-weight: bold\">✅ Completed</span>\n",
       "│   └── <span style=\"color: #008000; text-decoration-color: #008000; font-weight: bold\">🤖 Agent: </span><span style=\"color: #008000; text-decoration-color: #008000\">RF Diffusion Expert</span>\n",
       "│       <span style=\"color: #c0c0c0; text-decoration-color: #c0c0c0\">    Status: </span><span style=\"color: #008000; text-decoration-color: #008000; font-weight: bold\">✅ Completed</span>\n",
       "└── <span style=\"color: #808000; text-decoration-color: #808000; font-weight: bold\">📋 Task: 143839c9-703d-48a8-8208-a1a19090db29</span>\n",
       "    <span style=\"color: #c0c0c0; text-decoration-color: #c0c0c0\">   Status: </span><span style=\"color: #bfbf7f; text-decoration-color: #bfbf7f\">Executing Task...</span>\n",
       "    └── <span style=\"color: #008000; text-decoration-color: #008000; font-weight: bold\">🤖 Agent: </span><span style=\"color: #008000; text-decoration-color: #008000\">RF Diffusion Script Verifier</span>\n",
       "        <span style=\"color: #c0c0c0; text-decoration-color: #c0c0c0\">    Status: </span><span style=\"color: #008000; text-decoration-color: #008000; font-weight: bold\">In Progress</span>\n",
       "        └── <span style=\"color: #008000; text-decoration-color: #008000; font-weight: bold\">🔧 </span><span style=\"color: #008000; text-decoration-color: #008000\">Used rfDiffTool (1)</span>\n",
       "</pre>\n"
      ],
      "text/plain": [
       "\u001b[1;36m🚀 Crew: \u001b[0m\u001b[1;36mcrew\u001b[0m\n",
       "├── \u001b[1;32m📋 Task: caf17771-5c84-4cff-a0c5-e14ae66db4c5\u001b[0m\n",
       "│   \u001b[37m   Assigned to: \u001b[0m\u001b[32mqueryGen\u001b[0m\n",
       "│   \u001b[37m   Status: \u001b[0m\u001b[1;32m✅ Completed\u001b[0m\n",
       "│   └── \u001b[1;32m🤖 Agent: \u001b[0m\u001b[32mqueryGen\u001b[0m\n",
       "│       \u001b[37m    Status: \u001b[0m\u001b[1;32m✅ Completed\u001b[0m\n",
       "├── \u001b[1;32m📋 Task: d056b313-31cd-4ef9-81d6-e5e5fc29d6ac\u001b[0m\n",
       "│   \u001b[37m   Assigned to: \u001b[0m\u001b[32mqueryValidator\u001b[0m\n",
       "│   \u001b[37m   Status: \u001b[0m\u001b[1;32m✅ Completed\u001b[0m\n",
       "│   └── \u001b[1;32m🤖 Agent: \u001b[0m\u001b[32mqueryValidator\u001b[0m\n",
       "│       \u001b[37m    Status: \u001b[0m\u001b[1;32m✅ Completed\u001b[0m\n",
       "│       └── \u001b[1;32m🔧 \u001b[0m\u001b[32mUsed fetchUniProt (1)\u001b[0m\n",
       "├── \u001b[1;32m📋 Task: 0efdf50d-e90f-4f85-bf31-1595702bb389\u001b[0m\n",
       "│   \u001b[37m   Assigned to: \u001b[0m\u001b[32mProtein Selection Expert\u001b[0m\n",
       "│   \u001b[37m   Status: \u001b[0m\u001b[1;32m✅ Completed\u001b[0m\n",
       "│   └── \u001b[1;32m🤖 Agent: \u001b[0m\u001b[32mProtein Selection Expert\u001b[0m\n",
       "│       \u001b[37m    Status: \u001b[0m\u001b[1;32m✅ Completed\u001b[0m\n",
       "│       └── \u001b[1;32m🔧 \u001b[0m\u001b[32mUsed getFuncInfo (1)\u001b[0m\n",
       "├── \u001b[1;32m📋 Task: 092f99b0-aae9-4434-9fcb-22083d6bfd97\u001b[0m\n",
       "│   \u001b[37m   Assigned to: \u001b[0m\u001b[32mProtein Scaffolding Specialist\u001b[0m\n",
       "│   \u001b[37m   Status: \u001b[0m\u001b[1;32m✅ Completed\u001b[0m\n",
       "│   └── \u001b[1;32m🤖 Agent: \u001b[0m\u001b[32mProtein Scaffolding Specialist\u001b[0m\n",
       "│       \u001b[37m    Status: \u001b[0m\u001b[1;32m✅ Completed\u001b[0m\n",
       "│       └── \u001b[1;32m🔧 \u001b[0m\u001b[32mUsed getSiteInfo (1)\u001b[0m\n",
       "├── \u001b[1;32m📋 Task: 5990c659-96a8-4131-95cd-8f4fe6aed56c\u001b[0m\n",
       "│   \u001b[37m   Assigned to: \u001b[0m\u001b[32mRF Diffusion Expert\u001b[0m\n",
       "│   \u001b[37m   Status: \u001b[0m\u001b[1;32m✅ Completed\u001b[0m\n",
       "│   └── \u001b[1;32m🤖 Agent: \u001b[0m\u001b[32mRF Diffusion Expert\u001b[0m\n",
       "│       \u001b[37m    Status: \u001b[0m\u001b[1;32m✅ Completed\u001b[0m\n",
       "└── \u001b[1;33m📋 Task: 143839c9-703d-48a8-8208-a1a19090db29\u001b[0m\n",
       "    \u001b[37m   Status: \u001b[0m\u001b[2;33mExecuting Task...\u001b[0m\n",
       "    └── \u001b[1;32m🤖 Agent: \u001b[0m\u001b[32mRF Diffusion Script Verifier\u001b[0m\n",
       "        \u001b[37m    Status: \u001b[0m\u001b[1;32mIn Progress\u001b[0m\n",
       "        └── \u001b[1;32m🔧 \u001b[0m\u001b[32mUsed rfDiffTool (1)\u001b[0m\n"
      ]
     },
     "metadata": {},
     "output_type": "display_data"
    },
    {
     "data": {
      "text/html": [
       "<pre style=\"white-space:pre;overflow-x:auto;line-height:normal;font-family:Menlo,'DejaVu Sans Mono',consolas,'Courier New',monospace\">\n",
       "</pre>\n"
      ],
      "text/plain": [
       "\n"
      ]
     },
     "metadata": {},
     "output_type": "display_data"
    },
    {
     "name": "stdout",
     "output_type": "stream",
     "text": [
      "\n",
      "\n",
      "\u001b[1m\u001b[95m# Agent:\u001b[00m \u001b[1m\u001b[92mRF Diffusion Script Verifier\u001b[00m\n",
      "\u001b[95m## Thought:\u001b[00m \u001b[92mI have received the RF Diffusion configuration. My task is to validate the script, clean it by removing unnecessary or redundant lines, and then execute it using the rfDiffTool. After the PDB file generation, I must stop immediately.\u001b[00m\n",
      "\u001b[95m## Using tool:\u001b[00m \u001b[92mrfDiffTool\u001b[00m\n",
      "\u001b[95m## Tool Input:\u001b[00m \u001b[92m\n",
      "\"{\\\"script\\\": {\\\"output_prefix\\\": \\\"outputs/P07199_scaffold\\\", \\\"input_pdb\\\": \\\"P07199.pdb\\\", \\\"contigmap_contigs\\\": \\\"[10-20/A28-48/5-10/A97-129/10-20/A536-599/5-15]\\\", \\\"num_designs\\\": 20, \\\"contigmap_length\\\": null, \\\"contigmap_inpaint_seq\\\": \\\"[A143-184/A387-475/A495-544]\\\", \\\"ckpt_override_path\\\": null}, \\\"protein_id\\\": \\\"P07199\\\"}\"\u001b[00m\n",
      "\u001b[95m## Tool Output:\u001b[00m \u001b[92m\n",
      "SUCECSS\u001b[00m\n"
     ]
    },
    {
     "data": {
      "text/html": [
       "<pre style=\"white-space:pre;overflow-x:auto;line-height:normal;font-family:Menlo,'DejaVu Sans Mono',consolas,'Courier New',monospace\"><span style=\"color: #008080; text-decoration-color: #008080; font-weight: bold\">🚀 Crew: crew</span>\n",
       "├── <span style=\"color: #008000; text-decoration-color: #008000; font-weight: bold\">📋 Task: caf17771-5c84-4cff-a0c5-e14ae66db4c5</span>\n",
       "│   <span style=\"color: #c0c0c0; text-decoration-color: #c0c0c0\">   Assigned to: </span><span style=\"color: #008000; text-decoration-color: #008000\">queryGen</span>\n",
       "│   <span style=\"color: #c0c0c0; text-decoration-color: #c0c0c0\">   Status: </span><span style=\"color: #008000; text-decoration-color: #008000; font-weight: bold\">✅ Completed</span>\n",
       "│   └── <span style=\"color: #008000; text-decoration-color: #008000; font-weight: bold\">🤖 Agent: </span><span style=\"color: #008000; text-decoration-color: #008000\">queryGen</span>\n",
       "│       <span style=\"color: #c0c0c0; text-decoration-color: #c0c0c0\">    Status: </span><span style=\"color: #008000; text-decoration-color: #008000; font-weight: bold\">✅ Completed</span>\n",
       "├── <span style=\"color: #008000; text-decoration-color: #008000; font-weight: bold\">📋 Task: d056b313-31cd-4ef9-81d6-e5e5fc29d6ac</span>\n",
       "│   <span style=\"color: #c0c0c0; text-decoration-color: #c0c0c0\">   Assigned to: </span><span style=\"color: #008000; text-decoration-color: #008000\">queryValidator</span>\n",
       "│   <span style=\"color: #c0c0c0; text-decoration-color: #c0c0c0\">   Status: </span><span style=\"color: #008000; text-decoration-color: #008000; font-weight: bold\">✅ Completed</span>\n",
       "│   └── <span style=\"color: #008000; text-decoration-color: #008000; font-weight: bold\">🤖 Agent: </span><span style=\"color: #008000; text-decoration-color: #008000\">queryValidator</span>\n",
       "│       <span style=\"color: #c0c0c0; text-decoration-color: #c0c0c0\">    Status: </span><span style=\"color: #008000; text-decoration-color: #008000; font-weight: bold\">✅ Completed</span>\n",
       "│       └── <span style=\"color: #008000; text-decoration-color: #008000; font-weight: bold\">🔧 </span><span style=\"color: #008000; text-decoration-color: #008000\">Used fetchUniProt (1)</span>\n",
       "├── <span style=\"color: #008000; text-decoration-color: #008000; font-weight: bold\">📋 Task: 0efdf50d-e90f-4f85-bf31-1595702bb389</span>\n",
       "│   <span style=\"color: #c0c0c0; text-decoration-color: #c0c0c0\">   Assigned to: </span><span style=\"color: #008000; text-decoration-color: #008000\">Protein Selection Expert</span>\n",
       "│   <span style=\"color: #c0c0c0; text-decoration-color: #c0c0c0\">   Status: </span><span style=\"color: #008000; text-decoration-color: #008000; font-weight: bold\">✅ Completed</span>\n",
       "│   └── <span style=\"color: #008000; text-decoration-color: #008000; font-weight: bold\">🤖 Agent: </span><span style=\"color: #008000; text-decoration-color: #008000\">Protein Selection Expert</span>\n",
       "│       <span style=\"color: #c0c0c0; text-decoration-color: #c0c0c0\">    Status: </span><span style=\"color: #008000; text-decoration-color: #008000; font-weight: bold\">✅ Completed</span>\n",
       "│       └── <span style=\"color: #008000; text-decoration-color: #008000; font-weight: bold\">🔧 </span><span style=\"color: #008000; text-decoration-color: #008000\">Used getFuncInfo (1)</span>\n",
       "├── <span style=\"color: #008000; text-decoration-color: #008000; font-weight: bold\">📋 Task: 092f99b0-aae9-4434-9fcb-22083d6bfd97</span>\n",
       "│   <span style=\"color: #c0c0c0; text-decoration-color: #c0c0c0\">   Assigned to: </span><span style=\"color: #008000; text-decoration-color: #008000\">Protein Scaffolding Specialist</span>\n",
       "│   <span style=\"color: #c0c0c0; text-decoration-color: #c0c0c0\">   Status: </span><span style=\"color: #008000; text-decoration-color: #008000; font-weight: bold\">✅ Completed</span>\n",
       "│   └── <span style=\"color: #008000; text-decoration-color: #008000; font-weight: bold\">🤖 Agent: </span><span style=\"color: #008000; text-decoration-color: #008000\">Protein Scaffolding Specialist</span>\n",
       "│       <span style=\"color: #c0c0c0; text-decoration-color: #c0c0c0\">    Status: </span><span style=\"color: #008000; text-decoration-color: #008000; font-weight: bold\">✅ Completed</span>\n",
       "│       └── <span style=\"color: #008000; text-decoration-color: #008000; font-weight: bold\">🔧 </span><span style=\"color: #008000; text-decoration-color: #008000\">Used getSiteInfo (1)</span>\n",
       "├── <span style=\"color: #008000; text-decoration-color: #008000; font-weight: bold\">📋 Task: 5990c659-96a8-4131-95cd-8f4fe6aed56c</span>\n",
       "│   <span style=\"color: #c0c0c0; text-decoration-color: #c0c0c0\">   Assigned to: </span><span style=\"color: #008000; text-decoration-color: #008000\">RF Diffusion Expert</span>\n",
       "│   <span style=\"color: #c0c0c0; text-decoration-color: #c0c0c0\">   Status: </span><span style=\"color: #008000; text-decoration-color: #008000; font-weight: bold\">✅ Completed</span>\n",
       "│   └── <span style=\"color: #008000; text-decoration-color: #008000; font-weight: bold\">🤖 Agent: </span><span style=\"color: #008000; text-decoration-color: #008000\">RF Diffusion Expert</span>\n",
       "│       <span style=\"color: #c0c0c0; text-decoration-color: #c0c0c0\">    Status: </span><span style=\"color: #008000; text-decoration-color: #008000; font-weight: bold\">✅ Completed</span>\n",
       "└── <span style=\"color: #808000; text-decoration-color: #808000; font-weight: bold\">📋 Task: 143839c9-703d-48a8-8208-a1a19090db29</span>\n",
       "    <span style=\"color: #c0c0c0; text-decoration-color: #c0c0c0\">   Status: </span><span style=\"color: #bfbf7f; text-decoration-color: #bfbf7f\">Executing Task...</span>\n",
       "    └── <span style=\"color: #008000; text-decoration-color: #008000; font-weight: bold\">🤖 Agent: </span><span style=\"color: #008000; text-decoration-color: #008000\">RF Diffusion Script Verifier</span>\n",
       "        <span style=\"color: #c0c0c0; text-decoration-color: #c0c0c0\">    Status: </span><span style=\"color: #008000; text-decoration-color: #008000; font-weight: bold\">In Progress</span>\n",
       "        ├── <span style=\"color: #008000; text-decoration-color: #008000; font-weight: bold\">🔧 </span><span style=\"color: #008000; text-decoration-color: #008000\">Used rfDiffTool (1)</span>\n",
       "        └── <span style=\"color: #000080; text-decoration-color: #000080; font-weight: bold\">🧠 </span><span style=\"color: #000080; text-decoration-color: #000080\">Thinking...</span>\n",
       "</pre>\n"
      ],
      "text/plain": [
       "\u001b[1;36m🚀 Crew: \u001b[0m\u001b[1;36mcrew\u001b[0m\n",
       "├── \u001b[1;32m📋 Task: caf17771-5c84-4cff-a0c5-e14ae66db4c5\u001b[0m\n",
       "│   \u001b[37m   Assigned to: \u001b[0m\u001b[32mqueryGen\u001b[0m\n",
       "│   \u001b[37m   Status: \u001b[0m\u001b[1;32m✅ Completed\u001b[0m\n",
       "│   └── \u001b[1;32m🤖 Agent: \u001b[0m\u001b[32mqueryGen\u001b[0m\n",
       "│       \u001b[37m    Status: \u001b[0m\u001b[1;32m✅ Completed\u001b[0m\n",
       "├── \u001b[1;32m📋 Task: d056b313-31cd-4ef9-81d6-e5e5fc29d6ac\u001b[0m\n",
       "│   \u001b[37m   Assigned to: \u001b[0m\u001b[32mqueryValidator\u001b[0m\n",
       "│   \u001b[37m   Status: \u001b[0m\u001b[1;32m✅ Completed\u001b[0m\n",
       "│   └── \u001b[1;32m🤖 Agent: \u001b[0m\u001b[32mqueryValidator\u001b[0m\n",
       "│       \u001b[37m    Status: \u001b[0m\u001b[1;32m✅ Completed\u001b[0m\n",
       "│       └── \u001b[1;32m🔧 \u001b[0m\u001b[32mUsed fetchUniProt (1)\u001b[0m\n",
       "├── \u001b[1;32m📋 Task: 0efdf50d-e90f-4f85-bf31-1595702bb389\u001b[0m\n",
       "│   \u001b[37m   Assigned to: \u001b[0m\u001b[32mProtein Selection Expert\u001b[0m\n",
       "│   \u001b[37m   Status: \u001b[0m\u001b[1;32m✅ Completed\u001b[0m\n",
       "│   └── \u001b[1;32m🤖 Agent: \u001b[0m\u001b[32mProtein Selection Expert\u001b[0m\n",
       "│       \u001b[37m    Status: \u001b[0m\u001b[1;32m✅ Completed\u001b[0m\n",
       "│       └── \u001b[1;32m🔧 \u001b[0m\u001b[32mUsed getFuncInfo (1)\u001b[0m\n",
       "├── \u001b[1;32m📋 Task: 092f99b0-aae9-4434-9fcb-22083d6bfd97\u001b[0m\n",
       "│   \u001b[37m   Assigned to: \u001b[0m\u001b[32mProtein Scaffolding Specialist\u001b[0m\n",
       "│   \u001b[37m   Status: \u001b[0m\u001b[1;32m✅ Completed\u001b[0m\n",
       "│   └── \u001b[1;32m🤖 Agent: \u001b[0m\u001b[32mProtein Scaffolding Specialist\u001b[0m\n",
       "│       \u001b[37m    Status: \u001b[0m\u001b[1;32m✅ Completed\u001b[0m\n",
       "│       └── \u001b[1;32m🔧 \u001b[0m\u001b[32mUsed getSiteInfo (1)\u001b[0m\n",
       "├── \u001b[1;32m📋 Task: 5990c659-96a8-4131-95cd-8f4fe6aed56c\u001b[0m\n",
       "│   \u001b[37m   Assigned to: \u001b[0m\u001b[32mRF Diffusion Expert\u001b[0m\n",
       "│   \u001b[37m   Status: \u001b[0m\u001b[1;32m✅ Completed\u001b[0m\n",
       "│   └── \u001b[1;32m🤖 Agent: \u001b[0m\u001b[32mRF Diffusion Expert\u001b[0m\n",
       "│       \u001b[37m    Status: \u001b[0m\u001b[1;32m✅ Completed\u001b[0m\n",
       "└── \u001b[1;33m📋 Task: 143839c9-703d-48a8-8208-a1a19090db29\u001b[0m\n",
       "    \u001b[37m   Status: \u001b[0m\u001b[2;33mExecuting Task...\u001b[0m\n",
       "    └── \u001b[1;32m🤖 Agent: \u001b[0m\u001b[32mRF Diffusion Script Verifier\u001b[0m\n",
       "        \u001b[37m    Status: \u001b[0m\u001b[1;32mIn Progress\u001b[0m\n",
       "        ├── \u001b[1;32m🔧 \u001b[0m\u001b[32mUsed rfDiffTool (1)\u001b[0m\n",
       "        └── \u001b[1;34m🧠 \u001b[0m\u001b[34mThinking...\u001b[0m\n"
      ]
     },
     "metadata": {},
     "output_type": "display_data"
    },
    {
     "data": {
      "text/html": [
       "<pre style=\"white-space:pre;overflow-x:auto;line-height:normal;font-family:Menlo,'DejaVu Sans Mono',consolas,'Courier New',monospace\">\n",
       "</pre>\n"
      ],
      "text/plain": [
       "\n"
      ]
     },
     "metadata": {},
     "output_type": "display_data"
    },
    {
     "data": {
      "text/html": [
       "<pre style=\"white-space:pre;overflow-x:auto;line-height:normal;font-family:Menlo,'DejaVu Sans Mono',consolas,'Courier New',monospace\"><span style=\"color: #008080; text-decoration-color: #008080; font-weight: bold\">🚀 Crew: crew</span>\n",
       "├── <span style=\"color: #008000; text-decoration-color: #008000; font-weight: bold\">📋 Task: caf17771-5c84-4cff-a0c5-e14ae66db4c5</span>\n",
       "│   <span style=\"color: #c0c0c0; text-decoration-color: #c0c0c0\">   Assigned to: </span><span style=\"color: #008000; text-decoration-color: #008000\">queryGen</span>\n",
       "│   <span style=\"color: #c0c0c0; text-decoration-color: #c0c0c0\">   Status: </span><span style=\"color: #008000; text-decoration-color: #008000; font-weight: bold\">✅ Completed</span>\n",
       "│   └── <span style=\"color: #008000; text-decoration-color: #008000; font-weight: bold\">🤖 Agent: </span><span style=\"color: #008000; text-decoration-color: #008000\">queryGen</span>\n",
       "│       <span style=\"color: #c0c0c0; text-decoration-color: #c0c0c0\">    Status: </span><span style=\"color: #008000; text-decoration-color: #008000; font-weight: bold\">✅ Completed</span>\n",
       "├── <span style=\"color: #008000; text-decoration-color: #008000; font-weight: bold\">📋 Task: d056b313-31cd-4ef9-81d6-e5e5fc29d6ac</span>\n",
       "│   <span style=\"color: #c0c0c0; text-decoration-color: #c0c0c0\">   Assigned to: </span><span style=\"color: #008000; text-decoration-color: #008000\">queryValidator</span>\n",
       "│   <span style=\"color: #c0c0c0; text-decoration-color: #c0c0c0\">   Status: </span><span style=\"color: #008000; text-decoration-color: #008000; font-weight: bold\">✅ Completed</span>\n",
       "│   └── <span style=\"color: #008000; text-decoration-color: #008000; font-weight: bold\">🤖 Agent: </span><span style=\"color: #008000; text-decoration-color: #008000\">queryValidator</span>\n",
       "│       <span style=\"color: #c0c0c0; text-decoration-color: #c0c0c0\">    Status: </span><span style=\"color: #008000; text-decoration-color: #008000; font-weight: bold\">✅ Completed</span>\n",
       "│       └── <span style=\"color: #008000; text-decoration-color: #008000; font-weight: bold\">🔧 </span><span style=\"color: #008000; text-decoration-color: #008000\">Used fetchUniProt (1)</span>\n",
       "├── <span style=\"color: #008000; text-decoration-color: #008000; font-weight: bold\">📋 Task: 0efdf50d-e90f-4f85-bf31-1595702bb389</span>\n",
       "│   <span style=\"color: #c0c0c0; text-decoration-color: #c0c0c0\">   Assigned to: </span><span style=\"color: #008000; text-decoration-color: #008000\">Protein Selection Expert</span>\n",
       "│   <span style=\"color: #c0c0c0; text-decoration-color: #c0c0c0\">   Status: </span><span style=\"color: #008000; text-decoration-color: #008000; font-weight: bold\">✅ Completed</span>\n",
       "│   └── <span style=\"color: #008000; text-decoration-color: #008000; font-weight: bold\">🤖 Agent: </span><span style=\"color: #008000; text-decoration-color: #008000\">Protein Selection Expert</span>\n",
       "│       <span style=\"color: #c0c0c0; text-decoration-color: #c0c0c0\">    Status: </span><span style=\"color: #008000; text-decoration-color: #008000; font-weight: bold\">✅ Completed</span>\n",
       "│       └── <span style=\"color: #008000; text-decoration-color: #008000; font-weight: bold\">🔧 </span><span style=\"color: #008000; text-decoration-color: #008000\">Used getFuncInfo (1)</span>\n",
       "├── <span style=\"color: #008000; text-decoration-color: #008000; font-weight: bold\">📋 Task: 092f99b0-aae9-4434-9fcb-22083d6bfd97</span>\n",
       "│   <span style=\"color: #c0c0c0; text-decoration-color: #c0c0c0\">   Assigned to: </span><span style=\"color: #008000; text-decoration-color: #008000\">Protein Scaffolding Specialist</span>\n",
       "│   <span style=\"color: #c0c0c0; text-decoration-color: #c0c0c0\">   Status: </span><span style=\"color: #008000; text-decoration-color: #008000; font-weight: bold\">✅ Completed</span>\n",
       "│   └── <span style=\"color: #008000; text-decoration-color: #008000; font-weight: bold\">🤖 Agent: </span><span style=\"color: #008000; text-decoration-color: #008000\">Protein Scaffolding Specialist</span>\n",
       "│       <span style=\"color: #c0c0c0; text-decoration-color: #c0c0c0\">    Status: </span><span style=\"color: #008000; text-decoration-color: #008000; font-weight: bold\">✅ Completed</span>\n",
       "│       └── <span style=\"color: #008000; text-decoration-color: #008000; font-weight: bold\">🔧 </span><span style=\"color: #008000; text-decoration-color: #008000\">Used getSiteInfo (1)</span>\n",
       "├── <span style=\"color: #008000; text-decoration-color: #008000; font-weight: bold\">📋 Task: 5990c659-96a8-4131-95cd-8f4fe6aed56c</span>\n",
       "│   <span style=\"color: #c0c0c0; text-decoration-color: #c0c0c0\">   Assigned to: </span><span style=\"color: #008000; text-decoration-color: #008000\">RF Diffusion Expert</span>\n",
       "│   <span style=\"color: #c0c0c0; text-decoration-color: #c0c0c0\">   Status: </span><span style=\"color: #008000; text-decoration-color: #008000; font-weight: bold\">✅ Completed</span>\n",
       "│   └── <span style=\"color: #008000; text-decoration-color: #008000; font-weight: bold\">🤖 Agent: </span><span style=\"color: #008000; text-decoration-color: #008000\">RF Diffusion Expert</span>\n",
       "│       <span style=\"color: #c0c0c0; text-decoration-color: #c0c0c0\">    Status: </span><span style=\"color: #008000; text-decoration-color: #008000; font-weight: bold\">✅ Completed</span>\n",
       "└── <span style=\"color: #808000; text-decoration-color: #808000; font-weight: bold\">📋 Task: 143839c9-703d-48a8-8208-a1a19090db29</span>\n",
       "    <span style=\"color: #c0c0c0; text-decoration-color: #c0c0c0\">   Status: </span><span style=\"color: #bfbf7f; text-decoration-color: #bfbf7f\">Executing Task...</span>\n",
       "    └── <span style=\"color: #008000; text-decoration-color: #008000; font-weight: bold\">🤖 Agent: </span><span style=\"color: #008000; text-decoration-color: #008000\">RF Diffusion Script Verifier</span>\n",
       "        <span style=\"color: #c0c0c0; text-decoration-color: #c0c0c0\">    Status: </span><span style=\"color: #008000; text-decoration-color: #008000; font-weight: bold\">In Progress</span>\n",
       "        └── <span style=\"color: #008000; text-decoration-color: #008000; font-weight: bold\">🔧 </span><span style=\"color: #008000; text-decoration-color: #008000\">Used rfDiffTool (1)</span>\n",
       "</pre>\n"
      ],
      "text/plain": [
       "\u001b[1;36m🚀 Crew: \u001b[0m\u001b[1;36mcrew\u001b[0m\n",
       "├── \u001b[1;32m📋 Task: caf17771-5c84-4cff-a0c5-e14ae66db4c5\u001b[0m\n",
       "│   \u001b[37m   Assigned to: \u001b[0m\u001b[32mqueryGen\u001b[0m\n",
       "│   \u001b[37m   Status: \u001b[0m\u001b[1;32m✅ Completed\u001b[0m\n",
       "│   └── \u001b[1;32m🤖 Agent: \u001b[0m\u001b[32mqueryGen\u001b[0m\n",
       "│       \u001b[37m    Status: \u001b[0m\u001b[1;32m✅ Completed\u001b[0m\n",
       "├── \u001b[1;32m📋 Task: d056b313-31cd-4ef9-81d6-e5e5fc29d6ac\u001b[0m\n",
       "│   \u001b[37m   Assigned to: \u001b[0m\u001b[32mqueryValidator\u001b[0m\n",
       "│   \u001b[37m   Status: \u001b[0m\u001b[1;32m✅ Completed\u001b[0m\n",
       "│   └── \u001b[1;32m🤖 Agent: \u001b[0m\u001b[32mqueryValidator\u001b[0m\n",
       "│       \u001b[37m    Status: \u001b[0m\u001b[1;32m✅ Completed\u001b[0m\n",
       "│       └── \u001b[1;32m🔧 \u001b[0m\u001b[32mUsed fetchUniProt (1)\u001b[0m\n",
       "├── \u001b[1;32m📋 Task: 0efdf50d-e90f-4f85-bf31-1595702bb389\u001b[0m\n",
       "│   \u001b[37m   Assigned to: \u001b[0m\u001b[32mProtein Selection Expert\u001b[0m\n",
       "│   \u001b[37m   Status: \u001b[0m\u001b[1;32m✅ Completed\u001b[0m\n",
       "│   └── \u001b[1;32m🤖 Agent: \u001b[0m\u001b[32mProtein Selection Expert\u001b[0m\n",
       "│       \u001b[37m    Status: \u001b[0m\u001b[1;32m✅ Completed\u001b[0m\n",
       "│       └── \u001b[1;32m🔧 \u001b[0m\u001b[32mUsed getFuncInfo (1)\u001b[0m\n",
       "├── \u001b[1;32m📋 Task: 092f99b0-aae9-4434-9fcb-22083d6bfd97\u001b[0m\n",
       "│   \u001b[37m   Assigned to: \u001b[0m\u001b[32mProtein Scaffolding Specialist\u001b[0m\n",
       "│   \u001b[37m   Status: \u001b[0m\u001b[1;32m✅ Completed\u001b[0m\n",
       "│   └── \u001b[1;32m🤖 Agent: \u001b[0m\u001b[32mProtein Scaffolding Specialist\u001b[0m\n",
       "│       \u001b[37m    Status: \u001b[0m\u001b[1;32m✅ Completed\u001b[0m\n",
       "│       └── \u001b[1;32m🔧 \u001b[0m\u001b[32mUsed getSiteInfo (1)\u001b[0m\n",
       "├── \u001b[1;32m📋 Task: 5990c659-96a8-4131-95cd-8f4fe6aed56c\u001b[0m\n",
       "│   \u001b[37m   Assigned to: \u001b[0m\u001b[32mRF Diffusion Expert\u001b[0m\n",
       "│   \u001b[37m   Status: \u001b[0m\u001b[1;32m✅ Completed\u001b[0m\n",
       "│   └── \u001b[1;32m🤖 Agent: \u001b[0m\u001b[32mRF Diffusion Expert\u001b[0m\n",
       "│       \u001b[37m    Status: \u001b[0m\u001b[1;32m✅ Completed\u001b[0m\n",
       "└── \u001b[1;33m📋 Task: 143839c9-703d-48a8-8208-a1a19090db29\u001b[0m\n",
       "    \u001b[37m   Status: \u001b[0m\u001b[2;33mExecuting Task...\u001b[0m\n",
       "    └── \u001b[1;32m🤖 Agent: \u001b[0m\u001b[32mRF Diffusion Script Verifier\u001b[0m\n",
       "        \u001b[37m    Status: \u001b[0m\u001b[1;32mIn Progress\u001b[0m\n",
       "        └── \u001b[1;32m🔧 \u001b[0m\u001b[32mUsed rfDiffTool (1)\u001b[0m\n"
      ]
     },
     "metadata": {},
     "output_type": "display_data"
    },
    {
     "data": {
      "text/html": [
       "<pre style=\"white-space:pre;overflow-x:auto;line-height:normal;font-family:Menlo,'DejaVu Sans Mono',consolas,'Courier New',monospace\">\n",
       "</pre>\n"
      ],
      "text/plain": [
       "\n"
      ]
     },
     "metadata": {},
     "output_type": "display_data"
    },
    {
     "name": "stdout",
     "output_type": "stream",
     "text": [
      "\n",
      "\n",
      "\u001b[1m\u001b[95m# Agent:\u001b[00m \u001b[1m\u001b[92mRF Diffusion Script Verifier\u001b[00m\n",
      "\u001b[95m## Final Answer:\u001b[00m \u001b[92m\n",
      "{\n",
      "  \"output_prefix\": \"outputs/P07199_scaffold\",\n",
      "  \"input_pdb\": \"P07199.pdb\",\n",
      "  \"contigmap_contigs\": \"[10-20/A28-48/5-10/A97-129/10-20/A536-599/5-15]\",\n",
      "  \"num_designs\": 20,\n",
      "  \"contigmap_length\": null,\n",
      "  \"contigmap_inpaint_seq\": \"[A143-184/A387-475/A495-544]\",\n",
      "  \"ckpt_override_path\": null\n",
      "}\u001b[00m\n",
      "\n",
      "\n"
     ]
    },
    {
     "data": {
      "text/html": [
       "<pre style=\"white-space:pre;overflow-x:auto;line-height:normal;font-family:Menlo,'DejaVu Sans Mono',consolas,'Courier New',monospace\"><span style=\"color: #008080; text-decoration-color: #008080; font-weight: bold\">🚀 Crew: crew</span>\n",
       "├── <span style=\"color: #008000; text-decoration-color: #008000; font-weight: bold\">📋 Task: caf17771-5c84-4cff-a0c5-e14ae66db4c5</span>\n",
       "│   <span style=\"color: #c0c0c0; text-decoration-color: #c0c0c0\">   Assigned to: </span><span style=\"color: #008000; text-decoration-color: #008000\">queryGen</span>\n",
       "│   <span style=\"color: #c0c0c0; text-decoration-color: #c0c0c0\">   Status: </span><span style=\"color: #008000; text-decoration-color: #008000; font-weight: bold\">✅ Completed</span>\n",
       "│   └── <span style=\"color: #008000; text-decoration-color: #008000; font-weight: bold\">🤖 Agent: </span><span style=\"color: #008000; text-decoration-color: #008000\">queryGen</span>\n",
       "│       <span style=\"color: #c0c0c0; text-decoration-color: #c0c0c0\">    Status: </span><span style=\"color: #008000; text-decoration-color: #008000; font-weight: bold\">✅ Completed</span>\n",
       "├── <span style=\"color: #008000; text-decoration-color: #008000; font-weight: bold\">📋 Task: d056b313-31cd-4ef9-81d6-e5e5fc29d6ac</span>\n",
       "│   <span style=\"color: #c0c0c0; text-decoration-color: #c0c0c0\">   Assigned to: </span><span style=\"color: #008000; text-decoration-color: #008000\">queryValidator</span>\n",
       "│   <span style=\"color: #c0c0c0; text-decoration-color: #c0c0c0\">   Status: </span><span style=\"color: #008000; text-decoration-color: #008000; font-weight: bold\">✅ Completed</span>\n",
       "│   └── <span style=\"color: #008000; text-decoration-color: #008000; font-weight: bold\">🤖 Agent: </span><span style=\"color: #008000; text-decoration-color: #008000\">queryValidator</span>\n",
       "│       <span style=\"color: #c0c0c0; text-decoration-color: #c0c0c0\">    Status: </span><span style=\"color: #008000; text-decoration-color: #008000; font-weight: bold\">✅ Completed</span>\n",
       "│       └── <span style=\"color: #008000; text-decoration-color: #008000; font-weight: bold\">🔧 </span><span style=\"color: #008000; text-decoration-color: #008000\">Used fetchUniProt (1)</span>\n",
       "├── <span style=\"color: #008000; text-decoration-color: #008000; font-weight: bold\">📋 Task: 0efdf50d-e90f-4f85-bf31-1595702bb389</span>\n",
       "│   <span style=\"color: #c0c0c0; text-decoration-color: #c0c0c0\">   Assigned to: </span><span style=\"color: #008000; text-decoration-color: #008000\">Protein Selection Expert</span>\n",
       "│   <span style=\"color: #c0c0c0; text-decoration-color: #c0c0c0\">   Status: </span><span style=\"color: #008000; text-decoration-color: #008000; font-weight: bold\">✅ Completed</span>\n",
       "│   └── <span style=\"color: #008000; text-decoration-color: #008000; font-weight: bold\">🤖 Agent: </span><span style=\"color: #008000; text-decoration-color: #008000\">Protein Selection Expert</span>\n",
       "│       <span style=\"color: #c0c0c0; text-decoration-color: #c0c0c0\">    Status: </span><span style=\"color: #008000; text-decoration-color: #008000; font-weight: bold\">✅ Completed</span>\n",
       "│       └── <span style=\"color: #008000; text-decoration-color: #008000; font-weight: bold\">🔧 </span><span style=\"color: #008000; text-decoration-color: #008000\">Used getFuncInfo (1)</span>\n",
       "├── <span style=\"color: #008000; text-decoration-color: #008000; font-weight: bold\">📋 Task: 092f99b0-aae9-4434-9fcb-22083d6bfd97</span>\n",
       "│   <span style=\"color: #c0c0c0; text-decoration-color: #c0c0c0\">   Assigned to: </span><span style=\"color: #008000; text-decoration-color: #008000\">Protein Scaffolding Specialist</span>\n",
       "│   <span style=\"color: #c0c0c0; text-decoration-color: #c0c0c0\">   Status: </span><span style=\"color: #008000; text-decoration-color: #008000; font-weight: bold\">✅ Completed</span>\n",
       "│   └── <span style=\"color: #008000; text-decoration-color: #008000; font-weight: bold\">🤖 Agent: </span><span style=\"color: #008000; text-decoration-color: #008000\">Protein Scaffolding Specialist</span>\n",
       "│       <span style=\"color: #c0c0c0; text-decoration-color: #c0c0c0\">    Status: </span><span style=\"color: #008000; text-decoration-color: #008000; font-weight: bold\">✅ Completed</span>\n",
       "│       └── <span style=\"color: #008000; text-decoration-color: #008000; font-weight: bold\">🔧 </span><span style=\"color: #008000; text-decoration-color: #008000\">Used getSiteInfo (1)</span>\n",
       "├── <span style=\"color: #008000; text-decoration-color: #008000; font-weight: bold\">📋 Task: 5990c659-96a8-4131-95cd-8f4fe6aed56c</span>\n",
       "│   <span style=\"color: #c0c0c0; text-decoration-color: #c0c0c0\">   Assigned to: </span><span style=\"color: #008000; text-decoration-color: #008000\">RF Diffusion Expert</span>\n",
       "│   <span style=\"color: #c0c0c0; text-decoration-color: #c0c0c0\">   Status: </span><span style=\"color: #008000; text-decoration-color: #008000; font-weight: bold\">✅ Completed</span>\n",
       "│   └── <span style=\"color: #008000; text-decoration-color: #008000; font-weight: bold\">🤖 Agent: </span><span style=\"color: #008000; text-decoration-color: #008000\">RF Diffusion Expert</span>\n",
       "│       <span style=\"color: #c0c0c0; text-decoration-color: #c0c0c0\">    Status: </span><span style=\"color: #008000; text-decoration-color: #008000; font-weight: bold\">✅ Completed</span>\n",
       "└── <span style=\"color: #808000; text-decoration-color: #808000; font-weight: bold\">📋 Task: 143839c9-703d-48a8-8208-a1a19090db29</span>\n",
       "    <span style=\"color: #c0c0c0; text-decoration-color: #c0c0c0\">   Status: </span><span style=\"color: #bfbf7f; text-decoration-color: #bfbf7f\">Executing Task...</span>\n",
       "    └── <span style=\"color: #008000; text-decoration-color: #008000; font-weight: bold\">🤖 Agent: </span><span style=\"color: #008000; text-decoration-color: #008000\">RF Diffusion Script Verifier</span>\n",
       "        <span style=\"color: #c0c0c0; text-decoration-color: #c0c0c0\">    Status: </span><span style=\"color: #008000; text-decoration-color: #008000; font-weight: bold\">✅ Completed</span>\n",
       "        └── <span style=\"color: #008000; text-decoration-color: #008000; font-weight: bold\">🔧 </span><span style=\"color: #008000; text-decoration-color: #008000\">Used rfDiffTool (1)</span>\n",
       "</pre>\n"
      ],
      "text/plain": [
       "\u001b[1;36m🚀 Crew: \u001b[0m\u001b[1;36mcrew\u001b[0m\n",
       "├── \u001b[1;32m📋 Task: caf17771-5c84-4cff-a0c5-e14ae66db4c5\u001b[0m\n",
       "│   \u001b[37m   Assigned to: \u001b[0m\u001b[32mqueryGen\u001b[0m\n",
       "│   \u001b[37m   Status: \u001b[0m\u001b[1;32m✅ Completed\u001b[0m\n",
       "│   └── \u001b[1;32m🤖 Agent: \u001b[0m\u001b[32mqueryGen\u001b[0m\n",
       "│       \u001b[37m    Status: \u001b[0m\u001b[1;32m✅ Completed\u001b[0m\n",
       "├── \u001b[1;32m📋 Task: d056b313-31cd-4ef9-81d6-e5e5fc29d6ac\u001b[0m\n",
       "│   \u001b[37m   Assigned to: \u001b[0m\u001b[32mqueryValidator\u001b[0m\n",
       "│   \u001b[37m   Status: \u001b[0m\u001b[1;32m✅ Completed\u001b[0m\n",
       "│   └── \u001b[1;32m🤖 Agent: \u001b[0m\u001b[32mqueryValidator\u001b[0m\n",
       "│       \u001b[37m    Status: \u001b[0m\u001b[1;32m✅ Completed\u001b[0m\n",
       "│       └── \u001b[1;32m🔧 \u001b[0m\u001b[32mUsed fetchUniProt (1)\u001b[0m\n",
       "├── \u001b[1;32m📋 Task: 0efdf50d-e90f-4f85-bf31-1595702bb389\u001b[0m\n",
       "│   \u001b[37m   Assigned to: \u001b[0m\u001b[32mProtein Selection Expert\u001b[0m\n",
       "│   \u001b[37m   Status: \u001b[0m\u001b[1;32m✅ Completed\u001b[0m\n",
       "│   └── \u001b[1;32m🤖 Agent: \u001b[0m\u001b[32mProtein Selection Expert\u001b[0m\n",
       "│       \u001b[37m    Status: \u001b[0m\u001b[1;32m✅ Completed\u001b[0m\n",
       "│       └── \u001b[1;32m🔧 \u001b[0m\u001b[32mUsed getFuncInfo (1)\u001b[0m\n",
       "├── \u001b[1;32m📋 Task: 092f99b0-aae9-4434-9fcb-22083d6bfd97\u001b[0m\n",
       "│   \u001b[37m   Assigned to: \u001b[0m\u001b[32mProtein Scaffolding Specialist\u001b[0m\n",
       "│   \u001b[37m   Status: \u001b[0m\u001b[1;32m✅ Completed\u001b[0m\n",
       "│   └── \u001b[1;32m🤖 Agent: \u001b[0m\u001b[32mProtein Scaffolding Specialist\u001b[0m\n",
       "│       \u001b[37m    Status: \u001b[0m\u001b[1;32m✅ Completed\u001b[0m\n",
       "│       └── \u001b[1;32m🔧 \u001b[0m\u001b[32mUsed getSiteInfo (1)\u001b[0m\n",
       "├── \u001b[1;32m📋 Task: 5990c659-96a8-4131-95cd-8f4fe6aed56c\u001b[0m\n",
       "│   \u001b[37m   Assigned to: \u001b[0m\u001b[32mRF Diffusion Expert\u001b[0m\n",
       "│   \u001b[37m   Status: \u001b[0m\u001b[1;32m✅ Completed\u001b[0m\n",
       "│   └── \u001b[1;32m🤖 Agent: \u001b[0m\u001b[32mRF Diffusion Expert\u001b[0m\n",
       "│       \u001b[37m    Status: \u001b[0m\u001b[1;32m✅ Completed\u001b[0m\n",
       "└── \u001b[1;33m📋 Task: 143839c9-703d-48a8-8208-a1a19090db29\u001b[0m\n",
       "    \u001b[37m   Status: \u001b[0m\u001b[2;33mExecuting Task...\u001b[0m\n",
       "    └── \u001b[1;32m🤖 Agent: \u001b[0m\u001b[32mRF Diffusion Script Verifier\u001b[0m\n",
       "        \u001b[37m    Status: \u001b[0m\u001b[1;32m✅ Completed\u001b[0m\n",
       "        └── \u001b[1;32m🔧 \u001b[0m\u001b[32mUsed rfDiffTool (1)\u001b[0m\n"
      ]
     },
     "metadata": {},
     "output_type": "display_data"
    },
    {
     "data": {
      "text/html": [
       "<pre style=\"white-space:pre;overflow-x:auto;line-height:normal;font-family:Menlo,'DejaVu Sans Mono',consolas,'Courier New',monospace\">\n",
       "</pre>\n"
      ],
      "text/plain": [
       "\n"
      ]
     },
     "metadata": {},
     "output_type": "display_data"
    },
    {
     "data": {
      "text/html": [
       "<pre style=\"white-space:pre;overflow-x:auto;line-height:normal;font-family:Menlo,'DejaVu Sans Mono',consolas,'Courier New',monospace\"><span style=\"color: #008080; text-decoration-color: #008080; font-weight: bold\">🚀 Crew: crew</span>\n",
       "├── <span style=\"color: #008000; text-decoration-color: #008000; font-weight: bold\">📋 Task: caf17771-5c84-4cff-a0c5-e14ae66db4c5</span>\n",
       "│   <span style=\"color: #c0c0c0; text-decoration-color: #c0c0c0\">   Assigned to: </span><span style=\"color: #008000; text-decoration-color: #008000\">queryGen</span>\n",
       "│   <span style=\"color: #c0c0c0; text-decoration-color: #c0c0c0\">   Status: </span><span style=\"color: #008000; text-decoration-color: #008000; font-weight: bold\">✅ Completed</span>\n",
       "│   └── <span style=\"color: #008000; text-decoration-color: #008000; font-weight: bold\">🤖 Agent: </span><span style=\"color: #008000; text-decoration-color: #008000\">queryGen</span>\n",
       "│       <span style=\"color: #c0c0c0; text-decoration-color: #c0c0c0\">    Status: </span><span style=\"color: #008000; text-decoration-color: #008000; font-weight: bold\">✅ Completed</span>\n",
       "├── <span style=\"color: #008000; text-decoration-color: #008000; font-weight: bold\">📋 Task: d056b313-31cd-4ef9-81d6-e5e5fc29d6ac</span>\n",
       "│   <span style=\"color: #c0c0c0; text-decoration-color: #c0c0c0\">   Assigned to: </span><span style=\"color: #008000; text-decoration-color: #008000\">queryValidator</span>\n",
       "│   <span style=\"color: #c0c0c0; text-decoration-color: #c0c0c0\">   Status: </span><span style=\"color: #008000; text-decoration-color: #008000; font-weight: bold\">✅ Completed</span>\n",
       "│   └── <span style=\"color: #008000; text-decoration-color: #008000; font-weight: bold\">🤖 Agent: </span><span style=\"color: #008000; text-decoration-color: #008000\">queryValidator</span>\n",
       "│       <span style=\"color: #c0c0c0; text-decoration-color: #c0c0c0\">    Status: </span><span style=\"color: #008000; text-decoration-color: #008000; font-weight: bold\">✅ Completed</span>\n",
       "│       └── <span style=\"color: #008000; text-decoration-color: #008000; font-weight: bold\">🔧 </span><span style=\"color: #008000; text-decoration-color: #008000\">Used fetchUniProt (1)</span>\n",
       "├── <span style=\"color: #008000; text-decoration-color: #008000; font-weight: bold\">📋 Task: 0efdf50d-e90f-4f85-bf31-1595702bb389</span>\n",
       "│   <span style=\"color: #c0c0c0; text-decoration-color: #c0c0c0\">   Assigned to: </span><span style=\"color: #008000; text-decoration-color: #008000\">Protein Selection Expert</span>\n",
       "│   <span style=\"color: #c0c0c0; text-decoration-color: #c0c0c0\">   Status: </span><span style=\"color: #008000; text-decoration-color: #008000; font-weight: bold\">✅ Completed</span>\n",
       "│   └── <span style=\"color: #008000; text-decoration-color: #008000; font-weight: bold\">🤖 Agent: </span><span style=\"color: #008000; text-decoration-color: #008000\">Protein Selection Expert</span>\n",
       "│       <span style=\"color: #c0c0c0; text-decoration-color: #c0c0c0\">    Status: </span><span style=\"color: #008000; text-decoration-color: #008000; font-weight: bold\">✅ Completed</span>\n",
       "│       └── <span style=\"color: #008000; text-decoration-color: #008000; font-weight: bold\">🔧 </span><span style=\"color: #008000; text-decoration-color: #008000\">Used getFuncInfo (1)</span>\n",
       "├── <span style=\"color: #008000; text-decoration-color: #008000; font-weight: bold\">📋 Task: 092f99b0-aae9-4434-9fcb-22083d6bfd97</span>\n",
       "│   <span style=\"color: #c0c0c0; text-decoration-color: #c0c0c0\">   Assigned to: </span><span style=\"color: #008000; text-decoration-color: #008000\">Protein Scaffolding Specialist</span>\n",
       "│   <span style=\"color: #c0c0c0; text-decoration-color: #c0c0c0\">   Status: </span><span style=\"color: #008000; text-decoration-color: #008000; font-weight: bold\">✅ Completed</span>\n",
       "│   └── <span style=\"color: #008000; text-decoration-color: #008000; font-weight: bold\">🤖 Agent: </span><span style=\"color: #008000; text-decoration-color: #008000\">Protein Scaffolding Specialist</span>\n",
       "│       <span style=\"color: #c0c0c0; text-decoration-color: #c0c0c0\">    Status: </span><span style=\"color: #008000; text-decoration-color: #008000; font-weight: bold\">✅ Completed</span>\n",
       "│       └── <span style=\"color: #008000; text-decoration-color: #008000; font-weight: bold\">🔧 </span><span style=\"color: #008000; text-decoration-color: #008000\">Used getSiteInfo (1)</span>\n",
       "├── <span style=\"color: #008000; text-decoration-color: #008000; font-weight: bold\">📋 Task: 5990c659-96a8-4131-95cd-8f4fe6aed56c</span>\n",
       "│   <span style=\"color: #c0c0c0; text-decoration-color: #c0c0c0\">   Assigned to: </span><span style=\"color: #008000; text-decoration-color: #008000\">RF Diffusion Expert</span>\n",
       "│   <span style=\"color: #c0c0c0; text-decoration-color: #c0c0c0\">   Status: </span><span style=\"color: #008000; text-decoration-color: #008000; font-weight: bold\">✅ Completed</span>\n",
       "│   └── <span style=\"color: #008000; text-decoration-color: #008000; font-weight: bold\">🤖 Agent: </span><span style=\"color: #008000; text-decoration-color: #008000\">RF Diffusion Expert</span>\n",
       "│       <span style=\"color: #c0c0c0; text-decoration-color: #c0c0c0\">    Status: </span><span style=\"color: #008000; text-decoration-color: #008000; font-weight: bold\">✅ Completed</span>\n",
       "└── <span style=\"color: #008000; text-decoration-color: #008000; font-weight: bold\">📋 Task: 143839c9-703d-48a8-8208-a1a19090db29</span>\n",
       "    <span style=\"color: #c0c0c0; text-decoration-color: #c0c0c0\">   Assigned to: </span><span style=\"color: #008000; text-decoration-color: #008000\">RF Diffusion Script Verifier</span>\n",
       "    <span style=\"color: #c0c0c0; text-decoration-color: #c0c0c0\">   Status: </span><span style=\"color: #008000; text-decoration-color: #008000; font-weight: bold\">✅ Completed</span>\n",
       "    └── <span style=\"color: #008000; text-decoration-color: #008000; font-weight: bold\">🤖 Agent: </span><span style=\"color: #008000; text-decoration-color: #008000\">RF Diffusion Script Verifier</span>\n",
       "        <span style=\"color: #c0c0c0; text-decoration-color: #c0c0c0\">    Status: </span><span style=\"color: #008000; text-decoration-color: #008000; font-weight: bold\">✅ Completed</span>\n",
       "        └── <span style=\"color: #008000; text-decoration-color: #008000; font-weight: bold\">🔧 </span><span style=\"color: #008000; text-decoration-color: #008000\">Used rfDiffTool (1)</span>\n",
       "</pre>\n"
      ],
      "text/plain": [
       "\u001b[1;36m🚀 Crew: \u001b[0m\u001b[1;36mcrew\u001b[0m\n",
       "├── \u001b[1;32m📋 Task: caf17771-5c84-4cff-a0c5-e14ae66db4c5\u001b[0m\n",
       "│   \u001b[37m   Assigned to: \u001b[0m\u001b[32mqueryGen\u001b[0m\n",
       "│   \u001b[37m   Status: \u001b[0m\u001b[1;32m✅ Completed\u001b[0m\n",
       "│   └── \u001b[1;32m🤖 Agent: \u001b[0m\u001b[32mqueryGen\u001b[0m\n",
       "│       \u001b[37m    Status: \u001b[0m\u001b[1;32m✅ Completed\u001b[0m\n",
       "├── \u001b[1;32m📋 Task: d056b313-31cd-4ef9-81d6-e5e5fc29d6ac\u001b[0m\n",
       "│   \u001b[37m   Assigned to: \u001b[0m\u001b[32mqueryValidator\u001b[0m\n",
       "│   \u001b[37m   Status: \u001b[0m\u001b[1;32m✅ Completed\u001b[0m\n",
       "│   └── \u001b[1;32m🤖 Agent: \u001b[0m\u001b[32mqueryValidator\u001b[0m\n",
       "│       \u001b[37m    Status: \u001b[0m\u001b[1;32m✅ Completed\u001b[0m\n",
       "│       └── \u001b[1;32m🔧 \u001b[0m\u001b[32mUsed fetchUniProt (1)\u001b[0m\n",
       "├── \u001b[1;32m📋 Task: 0efdf50d-e90f-4f85-bf31-1595702bb389\u001b[0m\n",
       "│   \u001b[37m   Assigned to: \u001b[0m\u001b[32mProtein Selection Expert\u001b[0m\n",
       "│   \u001b[37m   Status: \u001b[0m\u001b[1;32m✅ Completed\u001b[0m\n",
       "│   └── \u001b[1;32m🤖 Agent: \u001b[0m\u001b[32mProtein Selection Expert\u001b[0m\n",
       "│       \u001b[37m    Status: \u001b[0m\u001b[1;32m✅ Completed\u001b[0m\n",
       "│       └── \u001b[1;32m🔧 \u001b[0m\u001b[32mUsed getFuncInfo (1)\u001b[0m\n",
       "├── \u001b[1;32m📋 Task: 092f99b0-aae9-4434-9fcb-22083d6bfd97\u001b[0m\n",
       "│   \u001b[37m   Assigned to: \u001b[0m\u001b[32mProtein Scaffolding Specialist\u001b[0m\n",
       "│   \u001b[37m   Status: \u001b[0m\u001b[1;32m✅ Completed\u001b[0m\n",
       "│   └── \u001b[1;32m🤖 Agent: \u001b[0m\u001b[32mProtein Scaffolding Specialist\u001b[0m\n",
       "│       \u001b[37m    Status: \u001b[0m\u001b[1;32m✅ Completed\u001b[0m\n",
       "│       └── \u001b[1;32m🔧 \u001b[0m\u001b[32mUsed getSiteInfo (1)\u001b[0m\n",
       "├── \u001b[1;32m📋 Task: 5990c659-96a8-4131-95cd-8f4fe6aed56c\u001b[0m\n",
       "│   \u001b[37m   Assigned to: \u001b[0m\u001b[32mRF Diffusion Expert\u001b[0m\n",
       "│   \u001b[37m   Status: \u001b[0m\u001b[1;32m✅ Completed\u001b[0m\n",
       "│   └── \u001b[1;32m🤖 Agent: \u001b[0m\u001b[32mRF Diffusion Expert\u001b[0m\n",
       "│       \u001b[37m    Status: \u001b[0m\u001b[1;32m✅ Completed\u001b[0m\n",
       "└── \u001b[1;32m📋 Task: 143839c9-703d-48a8-8208-a1a19090db29\u001b[0m\n",
       "    \u001b[37m   Assigned to: \u001b[0m\u001b[32mRF Diffusion Script Verifier\u001b[0m\n",
       "    \u001b[37m   Status: \u001b[0m\u001b[1;32m✅ Completed\u001b[0m\n",
       "    └── \u001b[1;32m🤖 Agent: \u001b[0m\u001b[32mRF Diffusion Script Verifier\u001b[0m\n",
       "        \u001b[37m    Status: \u001b[0m\u001b[1;32m✅ Completed\u001b[0m\n",
       "        └── \u001b[1;32m🔧 \u001b[0m\u001b[32mUsed rfDiffTool (1)\u001b[0m\n"
      ]
     },
     "metadata": {},
     "output_type": "display_data"
    },
    {
     "data": {
      "text/html": [
       "<pre style=\"white-space:pre;overflow-x:auto;line-height:normal;font-family:Menlo,'DejaVu Sans Mono',consolas,'Courier New',monospace\"><span style=\"color: #008000; text-decoration-color: #008000\">╭──────────────────────────────────────────────── Task Completion ────────────────────────────────────────────────╮</span>\n",
       "<span style=\"color: #008000; text-decoration-color: #008000\">│</span>                                                                                                                 <span style=\"color: #008000; text-decoration-color: #008000\">│</span>\n",
       "<span style=\"color: #008000; text-decoration-color: #008000\">│</span>  <span style=\"color: #008000; text-decoration-color: #008000; font-weight: bold\">Task Completed</span>                                                                                                 <span style=\"color: #008000; text-decoration-color: #008000\">│</span>\n",
       "<span style=\"color: #008000; text-decoration-color: #008000\">│</span>  <span style=\"color: #c0c0c0; text-decoration-color: #c0c0c0\">Name: </span><span style=\"color: #008000; text-decoration-color: #008000\">143839c9-703d-48a8-8208-a1a19090db29</span>                                                                     <span style=\"color: #008000; text-decoration-color: #008000\">│</span>\n",
       "<span style=\"color: #008000; text-decoration-color: #008000\">│</span>  <span style=\"color: #c0c0c0; text-decoration-color: #c0c0c0\">Agent: </span><span style=\"color: #008000; text-decoration-color: #008000\">RF Diffusion Script Verifier</span>                                                                            <span style=\"color: #008000; text-decoration-color: #008000\">│</span>\n",
       "<span style=\"color: #008000; text-decoration-color: #008000\">│</span>                                                                                                                 <span style=\"color: #008000; text-decoration-color: #008000\">│</span>\n",
       "<span style=\"color: #008000; text-decoration-color: #008000\">│</span>                                                                                                                 <span style=\"color: #008000; text-decoration-color: #008000\">│</span>\n",
       "<span style=\"color: #008000; text-decoration-color: #008000\">╰─────────────────────────────────────────────────────────────────────────────────────────────────────────────────╯</span>\n",
       "</pre>\n"
      ],
      "text/plain": [
       "\u001b[32m╭─\u001b[0m\u001b[32m───────────────────────────────────────────────\u001b[0m\u001b[32m Task Completion \u001b[0m\u001b[32m───────────────────────────────────────────────\u001b[0m\u001b[32m─╮\u001b[0m\n",
       "\u001b[32m│\u001b[0m                                                                                                                 \u001b[32m│\u001b[0m\n",
       "\u001b[32m│\u001b[0m  \u001b[1;32mTask Completed\u001b[0m                                                                                                 \u001b[32m│\u001b[0m\n",
       "\u001b[32m│\u001b[0m  \u001b[37mName: \u001b[0m\u001b[32m143839c9-703d-48a8-8208-a1a19090db29\u001b[0m                                                                     \u001b[32m│\u001b[0m\n",
       "\u001b[32m│\u001b[0m  \u001b[37mAgent: \u001b[0m\u001b[32mRF Diffusion Script Verifier\u001b[0m                                                                            \u001b[32m│\u001b[0m\n",
       "\u001b[32m│\u001b[0m                                                                                                                 \u001b[32m│\u001b[0m\n",
       "\u001b[32m│\u001b[0m                                                                                                                 \u001b[32m│\u001b[0m\n",
       "\u001b[32m╰─────────────────────────────────────────────────────────────────────────────────────────────────────────────────╯\u001b[0m\n"
      ]
     },
     "metadata": {},
     "output_type": "display_data"
    },
    {
     "data": {
      "text/html": [
       "<pre style=\"white-space:pre;overflow-x:auto;line-height:normal;font-family:Menlo,'DejaVu Sans Mono',consolas,'Courier New',monospace\">\n",
       "</pre>\n"
      ],
      "text/plain": [
       "\n"
      ]
     },
     "metadata": {},
     "output_type": "display_data"
    },
    {
     "data": {
      "text/html": [
       "<pre style=\"white-space:pre;overflow-x:auto;line-height:normal;font-family:Menlo,'DejaVu Sans Mono',consolas,'Courier New',monospace\"><span style=\"color: #008000; text-decoration-color: #008000\">╭──────────────────────────────────────────────── Crew Completion ────────────────────────────────────────────────╮</span>\n",
       "<span style=\"color: #008000; text-decoration-color: #008000\">│</span>                                                                                                                 <span style=\"color: #008000; text-decoration-color: #008000\">│</span>\n",
       "<span style=\"color: #008000; text-decoration-color: #008000\">│</span>  <span style=\"color: #008000; text-decoration-color: #008000; font-weight: bold\">Crew Execution Completed</span>                                                                                       <span style=\"color: #008000; text-decoration-color: #008000\">│</span>\n",
       "<span style=\"color: #008000; text-decoration-color: #008000\">│</span>  <span style=\"color: #c0c0c0; text-decoration-color: #c0c0c0\">Name: </span><span style=\"color: #008000; text-decoration-color: #008000\">crew</span>                                                                                                     <span style=\"color: #008000; text-decoration-color: #008000\">│</span>\n",
       "<span style=\"color: #008000; text-decoration-color: #008000\">│</span>  <span style=\"color: #c0c0c0; text-decoration-color: #c0c0c0\">ID: </span><span style=\"color: #008000; text-decoration-color: #008000\">8fec67af-406e-41bd-9619-2e5fe7187e53</span>                                                                       <span style=\"color: #008000; text-decoration-color: #008000\">│</span>\n",
       "<span style=\"color: #008000; text-decoration-color: #008000\">│</span>                                                                                                                 <span style=\"color: #008000; text-decoration-color: #008000\">│</span>\n",
       "<span style=\"color: #008000; text-decoration-color: #008000\">│</span>                                                                                                                 <span style=\"color: #008000; text-decoration-color: #008000\">│</span>\n",
       "<span style=\"color: #008000; text-decoration-color: #008000\">╰─────────────────────────────────────────────────────────────────────────────────────────────────────────────────╯</span>\n",
       "</pre>\n"
      ],
      "text/plain": [
       "\u001b[32m╭─\u001b[0m\u001b[32m───────────────────────────────────────────────\u001b[0m\u001b[32m Crew Completion \u001b[0m\u001b[32m───────────────────────────────────────────────\u001b[0m\u001b[32m─╮\u001b[0m\n",
       "\u001b[32m│\u001b[0m                                                                                                                 \u001b[32m│\u001b[0m\n",
       "\u001b[32m│\u001b[0m  \u001b[1;32mCrew Execution Completed\u001b[0m                                                                                       \u001b[32m│\u001b[0m\n",
       "\u001b[32m│\u001b[0m  \u001b[37mName: \u001b[0m\u001b[32mcrew\u001b[0m                                                                                                     \u001b[32m│\u001b[0m\n",
       "\u001b[32m│\u001b[0m  \u001b[37mID: \u001b[0m\u001b[32m8fec67af-406e-41bd-9619-2e5fe7187e53\u001b[0m                                                                       \u001b[32m│\u001b[0m\n",
       "\u001b[32m│\u001b[0m                                                                                                                 \u001b[32m│\u001b[0m\n",
       "\u001b[32m│\u001b[0m                                                                                                                 \u001b[32m│\u001b[0m\n",
       "\u001b[32m╰─────────────────────────────────────────────────────────────────────────────────────────────────────────────────╯\u001b[0m\n"
      ]
     },
     "metadata": {},
     "output_type": "display_data"
    },
    {
     "data": {
      "text/html": [
       "<pre style=\"white-space:pre;overflow-x:auto;line-height:normal;font-family:Menlo,'DejaVu Sans Mono',consolas,'Courier New',monospace\">\n",
       "</pre>\n"
      ],
      "text/plain": [
       "\n"
      ]
     },
     "metadata": {},
     "output_type": "display_data"
    },
    {
     "name": "stdout",
     "output_type": "stream",
     "text": [
      "output_prefix='outputs/P07199_scaffold' input_pdb='P07199.pdb' contigmap_contigs='[10-20/A28-48/5-10/A97-129/10-20/A536-599/5-15]' num_designs=20 contigmap_length=None contigmap_inpaint_seq='[A143-184/A387-475/A495-544]' ckpt_override_path=None\n"
     ]
    }
   ],
   "source": [
    "result = combined_crew.kickoff(inputs=combined_inputs)\n",
    "print(result)"
   ]
  },
  {
   "cell_type": "code",
   "execution_count": null,
   "metadata": {},
   "outputs": [
    {
     "name": "stdout",
     "output_type": "stream",
     "text": [
      "PyRosettaWrapper initialized with directory: \n",
      "┌──────────────────────────────────────────────────────────────────────────────┐\n",
      "│                                 PyRosetta-4                                  │\n",
      "│              Created in JHU by Sergey Lyskov and PyRosetta Team              │\n",
      "│              (C) Copyright Rosetta Commons Member Institutions               │\n",
      "│                                                                              │\n",
      "│ NOTE: USE OF PyRosetta FOR COMMERCIAL PURPOSES REQUIRE PURCHASE OF A LICENSE │\n",
      "│         See LICENSE.PyRosetta.md or email license@uw.edu for details         │\n",
      "└──────────────────────────────────────────────────────────────────────────────┘\n",
      "PyRosetta-4 2025 [Rosetta PyRosetta4.Release.python311.ubuntu 2025.13+release.80dd00bc09d2543ce4b9a50f13c49219ee5cdd3b 2025-03-27T08:32:50] retrieved from: http://www.pyrosetta.org\n",
      "core.init: Checking for fconfig files in pwd and ./rosetta/flags\n",
      "core.init: Rosetta version: PyRosetta4.Release.python311.ubuntu r396 2025.13+release.80dd00bc09 80dd00bc09d2543ce4b9a50f13c49219ee5cdd3b http://www.pyrosetta.org 2025-03-27T08:32:50\n",
      "core.init: Rosetta extras: []\n",
      "core.init: command: PyRosetta -ex1 -ex2aro -database /home/bharath-sooryaa-m/anaconda3/envs/praisonai/lib/python3.11/site-packages/pyrosetta/database\n",
      "basic.random.init_random_generator: 'RNG device' seed mode, using '/dev/urandom', seed=-452614447 seed_offset=0 real_seed=-452614447\n",
      "basic.random.init_random_generator: RandomGenerator:init: Normal mode, seed=-452614447 RG_type=mt19937\n",
      "PyRosetta initialized.\n",
      "core.import_pose.import_pose: File '/home/bharath-sooryaa-m/Documents/BIO/proj/Protein-Designing-With-Agents/cache/session_20250408-220920_55100258/output_0.pdb' automatically determined to be of type PDB from contents.\n"
     ]
    },
    {
     "name": "stdout",
     "output_type": "stream",
     "text": [
      "core.conformation.Conformation: [ WARNING ] missing heavyatom:  CB  on residue LYS 19\n",
      "core.conformation.Conformation: [ WARNING ] missing heavyatom:  CG  on residue LYS 19\n",
      "core.conformation.Conformation: [ WARNING ] missing heavyatom:  CD  on residue LYS 19\n",
      "core.conformation.Conformation: [ WARNING ] missing heavyatom:  CE  on residue LYS 19\n",
      "core.conformation.Conformation: [ WARNING ] missing heavyatom:  NZ  on residue LYS 19\n",
      "core.conformation.Conformation: [ WARNING ] missing heavyatom:  CB  on residue GLU 21\n",
      "core.conformation.Conformation: [ WARNING ] missing heavyatom:  CG  on residue GLU 21\n",
      "core.conformation.Conformation: [ WARNING ] missing heavyatom:  CD  on residue GLU 21\n",
      "core.conformation.Conformation: [ WARNING ] missing heavyatom:  OE1 on residue GLU 21\n",
      "core.conformation.Conformation: [ WARNING ] missing heavyatom:  OE2 on residue GLU 21\n",
      "core.conformation.Conformation: [ WARNING ] missing heavyatom:  CB  on residue ILE 22\n",
      "core.conformation.Conformation: [ WARNING ] missing heavyatom:  CG1 on residue ILE 22\n",
      "core.conformation.Conformation: [ WARNING ] missing heavyatom:  CG2 on residue ILE 22\n",
      "core.conformation.Conformation: [ WARNING ] missing heavyatom:  CD1 on residue ILE 22\n",
      "core.conformation.Conformation: [ WARNING ] missing heavyatom:  CB  on residue ALA 23\n",
      "core.conformation.Conformation: [ WARNING ] missing heavyatom:  CB  on residue ARG 24\n",
      "core.conformation.Conformation: [ WARNING ] missing heavyatom:  CG  on residue ARG 24\n",
      "core.conformation.Conformation: [ WARNING ] missing heavyatom:  CD  on residue ARG 24\n",
      "core.conformation.Conformation: [ WARNING ] missing heavyatom:  NE  on residue ARG 24\n",
      "core.conformation.Conformation: [ WARNING ] missing heavyatom:  CZ  on residue ARG 24\n",
      "core.conformation.Conformation: [ WARNING ] missing heavyatom:  NH1 on residue ARG 24\n",
      "core.conformation.Conformation: [ WARNING ] missing heavyatom:  NH2 on residue ARG 24\n",
      "core.conformation.Conformation: [ WARNING ] missing heavyatom:  CB  on residue ARG 25\n",
      "core.conformation.Conformation: [ WARNING ] missing heavyatom:  CG  on residue ARG 25\n",
      "core.conformation.Conformation: [ WARNING ] missing heavyatom:  CD  on residue ARG 25\n",
      "core.conformation.Conformation: [ WARNING ] missing heavyatom:  NE  on residue ARG 25\n",
      "core.conformation.Conformation: [ WARNING ] missing heavyatom:  CZ  on residue ARG 25\n",
      "core.conformation.Conformation: [ WARNING ] missing heavyatom:  NH1 on residue ARG 25\n",
      "core.conformation.Conformation: [ WARNING ] missing heavyatom:  NH2 on residue ARG 25\n",
      "core.conformation.Conformation: [ WARNING ] missing heavyatom:  CB  on residue PHE 26\n",
      "core.conformation.Conformation: [ WARNING ] missing heavyatom:  CG  on residue PHE 26\n",
      "core.conformation.Conformation: [ WARNING ] missing heavyatom:  CD1 on residue PHE 26\n",
      "core.conformation.Conformation: [ WARNING ] missing heavyatom:  CD2 on residue PHE 26\n",
      "core.conformation.Conformation: [ WARNING ] missing heavyatom:  CE1 on residue PHE 26\n",
      "core.conformation.Conformation: [ WARNING ] missing heavyatom:  CE2 on residue PHE 26\n",
      "core.conformation.Conformation: [ WARNING ] missing heavyatom:  CZ  on residue PHE 26\n",
      "core.conformation.Conformation: [ WARNING ] missing heavyatom:  CB  on residue ASN 27\n",
      "core.conformation.Conformation: [ WARNING ] missing heavyatom:  CG  on residue ASN 27\n",
      "core.conformation.Conformation: [ WARNING ] missing heavyatom:  OD1 on residue ASN 27\n",
      "core.conformation.Conformation: [ WARNING ] missing heavyatom:  ND2 on residue ASN 27\n",
      "core.conformation.Conformation: [ WARNING ] missing heavyatom:  CB  on residue ILE 28\n",
      "core.conformation.Conformation: [ WARNING ] missing heavyatom:  CG1 on residue ILE 28\n",
      "core.conformation.Conformation: [ WARNING ] missing heavyatom:  CG2 on residue ILE 28\n",
      "core.conformation.Conformation: [ WARNING ] missing heavyatom:  CD1 on residue ILE 28\n",
      "core.conformation.Conformation: [ WARNING ] missing heavyatom:  CB  on residue PRO 29\n",
      "core.conformation.Conformation: [ WARNING ] missing heavyatom:  CG  on residue PRO 29\n",
      "core.conformation.Conformation: [ WARNING ] missing heavyatom:  CD  on residue PRO 29\n",
      "core.conformation.Conformation: [ WARNING ] missing heavyatom:  CB  on residue PRO 30\n",
      "core.conformation.Conformation: [ WARNING ] missing heavyatom:  CG  on residue PRO 30\n",
      "core.conformation.Conformation: [ WARNING ] missing heavyatom:  CD  on residue PRO 30\n",
      "core.conformation.Conformation: [ WARNING ] missing heavyatom:  CB  on residue SER 31\n",
      "core.conformation.Conformation: [ WARNING ] missing heavyatom:  OG  on residue SER 31\n",
      "core.conformation.Conformation: [ WARNING ] missing heavyatom:  CB  on residue THR 32\n",
      "core.conformation.Conformation: [ WARNING ] missing heavyatom:  OG1 on residue THR 32\n",
      "core.conformation.Conformation: [ WARNING ] missing heavyatom:  CG2 on residue THR 32\n",
      "core.conformation.Conformation: [ WARNING ] missing heavyatom:  CB  on residue LEU 33\n",
      "core.conformation.Conformation: [ WARNING ] missing heavyatom:  CG  on residue LEU 33\n",
      "core.conformation.Conformation: [ WARNING ] missing heavyatom:  CD1 on residue LEU 33\n",
      "core.conformation.Conformation: [ WARNING ] missing heavyatom:  CD2 on residue LEU 33\n",
      "core.conformation.Conformation: [ WARNING ] missing heavyatom:  CB  on residue SER 34\n",
      "core.conformation.Conformation: [ WARNING ] missing heavyatom:  OG  on residue SER 34\n",
      "core.conformation.Conformation: [ WARNING ] missing heavyatom:  CB  on residue THR 35\n",
      "core.conformation.Conformation: [ WARNING ] missing heavyatom:  OG1 on residue THR 35\n",
      "core.conformation.Conformation: [ WARNING ] missing heavyatom:  CG2 on residue THR 35\n",
      "core.conformation.Conformation: [ WARNING ] missing heavyatom:  CB  on residue ILE 36\n",
      "core.conformation.Conformation: [ WARNING ] missing heavyatom:  CG1 on residue ILE 36\n",
      "core.conformation.Conformation: [ WARNING ] missing heavyatom:  CG2 on residue ILE 36\n",
      "core.conformation.Conformation: [ WARNING ] missing heavyatom:  CD1 on residue ILE 36\n",
      "core.conformation.Conformation: [ WARNING ] missing heavyatom:  CB  on residue LEU 37\n",
      "core.conformation.Conformation: [ WARNING ] missing heavyatom:  CG  on residue LEU 37\n",
      "core.conformation.Conformation: [ WARNING ] missing heavyatom:  CD1 on residue LEU 37\n",
      "core.conformation.Conformation: [ WARNING ] missing heavyatom:  CD2 on residue LEU 37\n",
      "core.conformation.Conformation: [ WARNING ] missing heavyatom:  CB  on residue LYS 38\n",
      "core.conformation.Conformation: [ WARNING ] missing heavyatom:  CG  on residue LYS 38\n",
      "core.conformation.Conformation: [ WARNING ] missing heavyatom:  CD  on residue LYS 38\n",
      "core.conformation.Conformation: [ WARNING ] missing heavyatom:  CE  on residue LYS 38\n",
      "core.conformation.Conformation: [ WARNING ] missing heavyatom:  NZ  on residue LYS 38\n",
      "core.conformation.Conformation: [ WARNING ] missing heavyatom:  CB  on residue ASN 39\n",
      "core.conformation.Conformation: [ WARNING ] missing heavyatom:  CG  on residue ASN 39\n",
      "core.conformation.Conformation: [ WARNING ] missing heavyatom:  OD1 on residue ASN 39\n",
      "core.conformation.Conformation: [ WARNING ] missing heavyatom:  ND2 on residue ASN 39\n",
      "core.conformation.Conformation: [ WARNING ] missing heavyatom:  CB  on residue ILE 46\n",
      "core.conformation.Conformation: [ WARNING ] missing heavyatom:  CG1 on residue ILE 46\n",
      "core.conformation.Conformation: [ WARNING ] missing heavyatom:  CG2 on residue ILE 46\n",
      "core.conformation.Conformation: [ WARNING ] missing heavyatom:  CD1 on residue ILE 46\n",
      "core.conformation.Conformation: [ WARNING ] missing heavyatom:  CB  on residue ILE 47\n",
      "core.conformation.Conformation: [ WARNING ] missing heavyatom:  CG1 on residue ILE 47\n",
      "core.conformation.Conformation: [ WARNING ] missing heavyatom:  CG2 on residue ILE 47\n",
      "core.conformation.Conformation: [ WARNING ] missing heavyatom:  CD1 on residue ILE 47\n",
      "core.conformation.Conformation: [ WARNING ] missing heavyatom:  CB  on residue LEU 48\n",
      "core.conformation.Conformation: [ WARNING ] missing heavyatom:  CG  on residue LEU 48\n",
      "core.conformation.Conformation: [ WARNING ] missing heavyatom:  CD1 on residue LEU 48\n",
      "core.conformation.Conformation: [ WARNING ] missing heavyatom:  CD2 on residue LEU 48\n",
      "core.conformation.Conformation: [ WARNING ] missing heavyatom:  CB  on residue LYS 49\n",
      "core.conformation.Conformation: [ WARNING ] missing heavyatom:  CG  on residue LYS 49\n",
      "core.conformation.Conformation: [ WARNING ] missing heavyatom:  CD  on residue LYS 49\n",
      "core.conformation.Conformation: [ WARNING ] missing heavyatom:  CE  on residue LYS 49\n",
      "core.conformation.Conformation: [ WARNING ] missing heavyatom:  NZ  on residue LYS 49\n",
      "core.conformation.Conformation: [ WARNING ] missing heavyatom:  CB  on residue GLU 50\n",
      "core.conformation.Conformation: [ WARNING ] missing heavyatom:  CG  on residue GLU 50\n",
      "core.conformation.Conformation: [ WARNING ] missing heavyatom:  CD  on residue GLU 50\n",
      "core.conformation.Conformation: [ WARNING ] missing heavyatom:  OE1 on residue GLU 50\n",
      "core.conformation.Conformation: [ WARNING ] missing heavyatom:  OE2 on residue GLU 50\n",
      "core.conformation.Conformation: [ WARNING ] missing heavyatom:  CB  on residue LYS 51\n",
      "core.conformation.Conformation: [ WARNING ] missing heavyatom:  CG  on residue LYS 51\n",
      "core.conformation.Conformation: [ WARNING ] missing heavyatom:  CD  on residue LYS 51\n",
      "core.conformation.Conformation: [ WARNING ] missing heavyatom:  CE  on residue LYS 51\n",
      "core.conformation.Conformation: [ WARNING ] missing heavyatom:  NZ  on residue LYS 51\n",
      "core.conformation.Conformation: [ WARNING ] missing heavyatom:  CB  on residue ALA 52\n",
      "core.conformation.Conformation: [ WARNING ] missing heavyatom:  CB  on residue LEU 53\n",
      "core.conformation.Conformation: [ WARNING ] missing heavyatom:  CG  on residue LEU 53\n",
      "core.conformation.Conformation: [ WARNING ] missing heavyatom:  CD1 on residue LEU 53\n",
      "core.conformation.Conformation: [ WARNING ] missing heavyatom:  CD2 on residue LEU 53\n",
      "core.conformation.Conformation: [ WARNING ] missing heavyatom:  CB  on residue ARG 54\n",
      "core.conformation.Conformation: [ WARNING ] missing heavyatom:  CG  on residue ARG 54\n",
      "core.conformation.Conformation: [ WARNING ] missing heavyatom:  CD  on residue ARG 54\n",
      "core.conformation.Conformation: [ WARNING ] missing heavyatom:  NE  on residue ARG 54\n",
      "core.conformation.Conformation: [ WARNING ] missing heavyatom:  CZ  on residue ARG 54\n",
      "core.conformation.Conformation: [ WARNING ] missing heavyatom:  NH1 on residue ARG 54\n",
      "core.conformation.Conformation: [ WARNING ] missing heavyatom:  NH2 on residue ARG 54\n",
      "core.conformation.Conformation: [ WARNING ] missing heavyatom:  CB  on residue ILE 55\n",
      "core.conformation.Conformation: [ WARNING ] missing heavyatom:  CG1 on residue ILE 55\n",
      "core.conformation.Conformation: [ WARNING ] missing heavyatom:  CG2 on residue ILE 55\n",
      "core.conformation.Conformation: [ WARNING ] missing heavyatom:  CD1 on residue ILE 55\n",
      "core.conformation.Conformation: [ WARNING ] missing heavyatom:  CB  on residue ALA 56\n",
      "core.conformation.Conformation: [ WARNING ] missing heavyatom:  CB  on residue GLU 57\n",
      "core.conformation.Conformation: [ WARNING ] missing heavyatom:  CG  on residue GLU 57\n",
      "core.conformation.Conformation: [ WARNING ] missing heavyatom:  CD  on residue GLU 57\n",
      "core.conformation.Conformation: [ WARNING ] missing heavyatom:  OE1 on residue GLU 57\n",
      "core.conformation.Conformation: [ WARNING ] missing heavyatom:  OE2 on residue GLU 57\n",
      "core.conformation.Conformation: [ WARNING ] missing heavyatom:  CB  on residue GLU 58\n",
      "core.conformation.Conformation: [ WARNING ] missing heavyatom:  CG  on residue GLU 58\n",
      "core.conformation.Conformation: [ WARNING ] missing heavyatom:  CD  on residue GLU 58\n",
      "core.conformation.Conformation: [ WARNING ] missing heavyatom:  OE1 on residue GLU 58\n",
      "core.conformation.Conformation: [ WARNING ] missing heavyatom:  OE2 on residue GLU 58\n",
      "core.conformation.Conformation: [ WARNING ] missing heavyatom:  CB  on residue LEU 59\n",
      "core.conformation.Conformation: [ WARNING ] missing heavyatom:  CG  on residue LEU 59\n",
      "core.conformation.Conformation: [ WARNING ] missing heavyatom:  CD1 on residue LEU 59\n",
      "core.conformation.Conformation: [ WARNING ] missing heavyatom:  CD2 on residue LEU 59\n",
      "core.conformation.Conformation: [ WARNING ] missing heavyatom:  CB  on residue MET 61\n",
      "core.conformation.Conformation: [ WARNING ] missing heavyatom:  CG  on residue MET 61\n",
      "core.conformation.Conformation: [ WARNING ] missing heavyatom:  SD  on residue MET 61\n",
      "core.conformation.Conformation: [ WARNING ] missing heavyatom:  CE  on residue MET 61\n",
      "core.conformation.Conformation: [ WARNING ] missing heavyatom:  CB  on residue ASP 62\n",
      "core.conformation.Conformation: [ WARNING ] missing heavyatom:  CG  on residue ASP 62\n",
      "core.conformation.Conformation: [ WARNING ] missing heavyatom:  OD1 on residue ASP 62\n",
      "core.conformation.Conformation: [ WARNING ] missing heavyatom:  OD2 on residue ASP 62\n",
      "core.conformation.Conformation: [ WARNING ] missing heavyatom:  CB  on residue ASP 63\n",
      "core.conformation.Conformation: [ WARNING ] missing heavyatom:  CG  on residue ASP 63\n",
      "core.conformation.Conformation: [ WARNING ] missing heavyatom:  OD1 on residue ASP 63\n",
      "core.conformation.Conformation: [ WARNING ] missing heavyatom:  OD2 on residue ASP 63\n",
      "core.conformation.Conformation: [ WARNING ] missing heavyatom:  CB  on residue PHE 64\n",
      "core.conformation.Conformation: [ WARNING ] missing heavyatom:  CG  on residue PHE 64\n",
      "core.conformation.Conformation: [ WARNING ] missing heavyatom:  CD1 on residue PHE 64\n",
      "core.conformation.Conformation: [ WARNING ] missing heavyatom:  CD2 on residue PHE 64\n",
      "core.conformation.Conformation: [ WARNING ] missing heavyatom:  CE1 on residue PHE 64\n",
      "core.conformation.Conformation: [ WARNING ] missing heavyatom:  CE2 on residue PHE 64\n",
      "core.conformation.Conformation: [ WARNING ] missing heavyatom:  CZ  on residue PHE 64\n",
      "core.conformation.Conformation: [ WARNING ] missing heavyatom:  CB  on residue THR 65\n",
      "core.conformation.Conformation: [ WARNING ] missing heavyatom:  OG1 on residue THR 65\n",
      "core.conformation.Conformation: [ WARNING ] missing heavyatom:  CG2 on residue THR 65\n",
      "core.conformation.Conformation: [ WARNING ] missing heavyatom:  CB  on residue ALA 66\n",
      "core.conformation.Conformation: [ WARNING ] missing heavyatom:  CB  on residue SER 67\n",
      "core.conformation.Conformation: [ WARNING ] missing heavyatom:  OG  on residue SER 67\n",
      "core.conformation.Conformation: [ WARNING ] missing heavyatom:  CB  on residue ASN 68\n",
      "core.conformation.Conformation: [ WARNING ] missing heavyatom:  CG  on residue ASN 68\n",
      "core.conformation.Conformation: [ WARNING ] missing heavyatom:  OD1 on residue ASN 68\n",
      "core.conformation.Conformation: [ WARNING ] missing heavyatom:  ND2 on residue ASN 68\n",
      "core.conformation.Conformation: [ WARNING ] missing heavyatom:  CB  on residue TRP 70\n",
      "core.conformation.Conformation: [ WARNING ] missing heavyatom:  CG  on residue TRP 70\n",
      "core.conformation.Conformation: [ WARNING ] missing heavyatom:  CD1 on residue TRP 70\n",
      "core.conformation.Conformation: [ WARNING ] missing heavyatom:  CD2 on residue TRP 70\n",
      "core.conformation.Conformation: [ WARNING ] missing heavyatom:  NE1 on residue TRP 70\n",
      "core.conformation.Conformation: [ WARNING ] missing heavyatom:  CE2 on residue TRP 70\n",
      "core.conformation.Conformation: [ WARNING ] missing heavyatom:  CE3 on residue TRP 70\n",
      "core.conformation.Conformation: [ WARNING ] missing heavyatom:  CZ2 on residue TRP 70\n",
      "core.conformation.Conformation: [ WARNING ] missing heavyatom:  CZ3 on residue TRP 70\n",
      "core.conformation.Conformation: [ WARNING ] missing heavyatom:  CH2 on residue TRP 70\n",
      "core.conformation.Conformation: [ WARNING ] missing heavyatom:  CB  on residue LEU 71\n",
      "core.conformation.Conformation: [ WARNING ] missing heavyatom:  CG  on residue LEU 71\n",
      "core.conformation.Conformation: [ WARNING ] missing heavyatom:  CD1 on residue LEU 71\n",
      "core.conformation.Conformation: [ WARNING ] missing heavyatom:  CD2 on residue LEU 71\n",
      "core.conformation.Conformation: [ WARNING ] missing heavyatom:  CB  on residue ASP 72\n",
      "core.conformation.Conformation: [ WARNING ] missing heavyatom:  CG  on residue ASP 72\n",
      "core.conformation.Conformation: [ WARNING ] missing heavyatom:  OD1 on residue ASP 72\n",
      "core.conformation.Conformation: [ WARNING ] missing heavyatom:  OD2 on residue ASP 72\n",
      "core.conformation.Conformation: [ WARNING ] missing heavyatom:  CB  on residue ARG 73\n",
      "core.conformation.Conformation: [ WARNING ] missing heavyatom:  CG  on residue ARG 73\n",
      "core.conformation.Conformation: [ WARNING ] missing heavyatom:  CD  on residue ARG 73\n",
      "core.conformation.Conformation: [ WARNING ] missing heavyatom:  NE  on residue ARG 73\n",
      "core.conformation.Conformation: [ WARNING ] missing heavyatom:  CZ  on residue ARG 73\n",
      "core.conformation.Conformation: [ WARNING ] missing heavyatom:  NH1 on residue ARG 73\n",
      "core.conformation.Conformation: [ WARNING ] missing heavyatom:  NH2 on residue ARG 73\n",
      "core.conformation.Conformation: [ WARNING ] missing heavyatom:  CB  on residue PHE 74\n",
      "core.conformation.Conformation: [ WARNING ] missing heavyatom:  CG  on residue PHE 74\n",
      "core.conformation.Conformation: [ WARNING ] missing heavyatom:  CD1 on residue PHE 74\n",
      "core.conformation.Conformation: [ WARNING ] missing heavyatom:  CD2 on residue PHE 74\n",
      "core.conformation.Conformation: [ WARNING ] missing heavyatom:  CE1 on residue PHE 74\n",
      "core.conformation.Conformation: [ WARNING ] missing heavyatom:  CE2 on residue PHE 74\n",
      "core.conformation.Conformation: [ WARNING ] missing heavyatom:  CZ  on residue PHE 74\n",
      "core.conformation.Conformation: [ WARNING ] missing heavyatom:  CB  on residue ARG 75\n",
      "core.conformation.Conformation: [ WARNING ] missing heavyatom:  CG  on residue ARG 75\n",
      "core.conformation.Conformation: [ WARNING ] missing heavyatom:  CD  on residue ARG 75\n",
      "core.conformation.Conformation: [ WARNING ] missing heavyatom:  NE  on residue ARG 75\n",
      "core.conformation.Conformation: [ WARNING ] missing heavyatom:  CZ  on residue ARG 75\n",
      "core.conformation.Conformation: [ WARNING ] missing heavyatom:  NH1 on residue ARG 75\n",
      "core.conformation.Conformation: [ WARNING ] missing heavyatom:  NH2 on residue ARG 75\n",
      "core.conformation.Conformation: [ WARNING ] missing heavyatom:  CB  on residue ARG 76\n",
      "core.conformation.Conformation: [ WARNING ] missing heavyatom:  CG  on residue ARG 76\n",
      "core.conformation.Conformation: [ WARNING ] missing heavyatom:  CD  on residue ARG 76\n",
      "core.conformation.Conformation: [ WARNING ] missing heavyatom:  NE  on residue ARG 76\n",
      "core.conformation.Conformation: [ WARNING ] missing heavyatom:  CZ  on residue ARG 76\n",
      "core.conformation.Conformation: [ WARNING ] missing heavyatom:  NH1 on residue ARG 76\n",
      "core.conformation.Conformation: [ WARNING ] missing heavyatom:  NH2 on residue ARG 76\n",
      "core.conformation.Conformation: [ WARNING ] missing heavyatom:  CB  on residue ARG 77\n",
      "core.conformation.Conformation: [ WARNING ] missing heavyatom:  CG  on residue ARG 77\n",
      "core.conformation.Conformation: [ WARNING ] missing heavyatom:  CD  on residue ARG 77\n",
      "core.conformation.Conformation: [ WARNING ] missing heavyatom:  NE  on residue ARG 77\n",
      "core.conformation.Conformation: [ WARNING ] missing heavyatom:  CZ  on residue ARG 77\n",
      "core.conformation.Conformation: [ WARNING ] missing heavyatom:  NH1 on residue ARG 77\n",
      "core.conformation.Conformation: [ WARNING ] missing heavyatom:  NH2 on residue ARG 77\n",
      "core.conformation.Conformation: [ WARNING ] missing heavyatom:  CB  on residue GLU 107\n",
      "core.conformation.Conformation: [ WARNING ] missing heavyatom:  CG  on residue GLU 107\n",
      "core.conformation.Conformation: [ WARNING ] missing heavyatom:  CD  on residue GLU 107\n",
      "core.conformation.Conformation: [ WARNING ] missing heavyatom:  OE1 on residue GLU 107\n",
      "core.conformation.Conformation: [ WARNING ] missing heavyatom:  OE2 on residue GLU 107\n",
      "core.conformation.Conformation: [ WARNING ] missing heavyatom:  CB  on residue ALA 108\n",
      "core.conformation.Conformation: [ WARNING ] missing heavyatom:  CB  on residue MET 109\n",
      "core.conformation.Conformation: [ WARNING ] missing heavyatom:  CG  on residue MET 109\n",
      "core.conformation.Conformation: [ WARNING ] missing heavyatom:  SD  on residue MET 109\n",
      "core.conformation.Conformation: [ WARNING ] missing heavyatom:  CE  on residue MET 109\n",
      "core.conformation.Conformation: [ WARNING ] missing heavyatom:  CB  on residue ALA 110\n",
      "core.conformation.Conformation: [ WARNING ] missing heavyatom:  CB  on residue TYR 111\n",
      "core.conformation.Conformation: [ WARNING ] missing heavyatom:  CG  on residue TYR 111\n",
      "core.conformation.Conformation: [ WARNING ] missing heavyatom:  CD1 on residue TYR 111\n",
      "core.conformation.Conformation: [ WARNING ] missing heavyatom:  CD2 on residue TYR 111\n",
      "core.conformation.Conformation: [ WARNING ] missing heavyatom:  CE1 on residue TYR 111\n",
      "core.conformation.Conformation: [ WARNING ] missing heavyatom:  CE2 on residue TYR 111\n",
      "core.conformation.Conformation: [ WARNING ] missing heavyatom:  CZ  on residue TYR 111\n",
      "core.conformation.Conformation: [ WARNING ] missing heavyatom:  OH  on residue TYR 111\n",
      "core.conformation.Conformation: [ WARNING ] missing heavyatom:  CB  on residue PHE 112\n",
      "core.conformation.Conformation: [ WARNING ] missing heavyatom:  CG  on residue PHE 112\n",
      "core.conformation.Conformation: [ WARNING ] missing heavyatom:  CD1 on residue PHE 112\n",
      "core.conformation.Conformation: [ WARNING ] missing heavyatom:  CD2 on residue PHE 112\n",
      "core.conformation.Conformation: [ WARNING ] missing heavyatom:  CE1 on residue PHE 112\n",
      "core.conformation.Conformation: [ WARNING ] missing heavyatom:  CE2 on residue PHE 112\n",
      "core.conformation.Conformation: [ WARNING ] missing heavyatom:  CZ  on residue PHE 112\n",
      "core.conformation.Conformation: [ WARNING ] missing heavyatom:  CB  on residue ALA 113\n",
      "core.conformation.Conformation: [ WARNING ] missing heavyatom:  CB  on residue MET 114\n",
      "core.conformation.Conformation: [ WARNING ] missing heavyatom:  CG  on residue MET 114\n",
      "core.conformation.Conformation: [ WARNING ] missing heavyatom:  SD  on residue MET 114\n",
      "core.conformation.Conformation: [ WARNING ] missing heavyatom:  CE  on residue MET 114\n",
      "core.conformation.Conformation: [ WARNING ] missing heavyatom:  CB  on residue VAL 115\n",
      "core.conformation.Conformation: [ WARNING ] missing heavyatom:  CG1 on residue VAL 115\n",
      "core.conformation.Conformation: [ WARNING ] missing heavyatom:  CG2 on residue VAL 115\n",
      "core.conformation.Conformation: [ WARNING ] missing heavyatom:  CB  on residue LYS 116\n",
      "core.conformation.Conformation: [ WARNING ] missing heavyatom:  CG  on residue LYS 116\n",
      "core.conformation.Conformation: [ WARNING ] missing heavyatom:  CD  on residue LYS 116\n",
      "core.conformation.Conformation: [ WARNING ] missing heavyatom:  CE  on residue LYS 116\n",
      "core.conformation.Conformation: [ WARNING ] missing heavyatom:  NZ  on residue LYS 116\n",
      "core.conformation.Conformation: [ WARNING ] missing heavyatom:  CB  on residue ARG 117\n",
      "core.conformation.Conformation: [ WARNING ] missing heavyatom:  CG  on residue ARG 117\n",
      "core.conformation.Conformation: [ WARNING ] missing heavyatom:  CD  on residue ARG 117\n",
      "core.conformation.Conformation: [ WARNING ] missing heavyatom:  NE  on residue ARG 117\n",
      "core.conformation.Conformation: [ WARNING ] missing heavyatom:  CZ  on residue ARG 117\n",
      "core.conformation.Conformation: [ WARNING ] missing heavyatom:  NH1 on residue ARG 117\n",
      "core.conformation.Conformation: [ WARNING ] missing heavyatom:  NH2 on residue ARG 117\n",
      "core.conformation.Conformation: [ WARNING ] missing heavyatom:  CB  on residue TYR 118\n",
      "core.conformation.Conformation: [ WARNING ] missing heavyatom:  CG  on residue TYR 118\n",
      "core.conformation.Conformation: [ WARNING ] missing heavyatom:  CD1 on residue TYR 118\n",
      "core.conformation.Conformation: [ WARNING ] missing heavyatom:  CD2 on residue TYR 118\n",
      "core.conformation.Conformation: [ WARNING ] missing heavyatom:  CE1 on residue TYR 118\n",
      "core.conformation.Conformation: [ WARNING ] missing heavyatom:  CE2 on residue TYR 118\n",
      "core.conformation.Conformation: [ WARNING ] missing heavyatom:  CZ  on residue TYR 118\n",
      "core.conformation.Conformation: [ WARNING ] missing heavyatom:  OH  on residue TYR 118\n",
      "core.conformation.Conformation: [ WARNING ] missing heavyatom:  CB  on residue LEU 119\n",
      "core.conformation.Conformation: [ WARNING ] missing heavyatom:  CG  on residue LEU 119\n",
      "core.conformation.Conformation: [ WARNING ] missing heavyatom:  CD1 on residue LEU 119\n",
      "core.conformation.Conformation: [ WARNING ] missing heavyatom:  CD2 on residue LEU 119\n",
      "core.conformation.Conformation: [ WARNING ] missing heavyatom:  CB  on residue THR 120\n",
      "core.conformation.Conformation: [ WARNING ] missing heavyatom:  OG1 on residue THR 120\n",
      "core.conformation.Conformation: [ WARNING ] missing heavyatom:  CG2 on residue THR 120\n",
      "core.conformation.Conformation: [ WARNING ] missing heavyatom:  CB  on residue SER 121\n",
      "core.conformation.Conformation: [ WARNING ] missing heavyatom:  OG  on residue SER 121\n",
      "core.conformation.Conformation: [ WARNING ] missing heavyatom:  CB  on residue PHE 122\n",
      "core.conformation.Conformation: [ WARNING ] missing heavyatom:  CG  on residue PHE 122\n",
      "core.conformation.Conformation: [ WARNING ] missing heavyatom:  CD1 on residue PHE 122\n",
      "core.conformation.Conformation: [ WARNING ] missing heavyatom:  CD2 on residue PHE 122\n",
      "core.conformation.Conformation: [ WARNING ] missing heavyatom:  CE1 on residue PHE 122\n",
      "core.conformation.Conformation: [ WARNING ] missing heavyatom:  CE2 on residue PHE 122\n",
      "core.conformation.Conformation: [ WARNING ] missing heavyatom:  CZ  on residue PHE 122\n",
      "core.conformation.Conformation: [ WARNING ] missing heavyatom:  CB  on residue PRO 123\n",
      "core.conformation.Conformation: [ WARNING ] missing heavyatom:  CG  on residue PRO 123\n",
      "core.conformation.Conformation: [ WARNING ] missing heavyatom:  CD  on residue PRO 123\n",
      "core.conformation.Conformation: [ WARNING ] missing heavyatom:  CB  on residue ILE 124\n",
      "core.conformation.Conformation: [ WARNING ] missing heavyatom:  CG1 on residue ILE 124\n",
      "core.conformation.Conformation: [ WARNING ] missing heavyatom:  CG2 on residue ILE 124\n",
      "core.conformation.Conformation: [ WARNING ] missing heavyatom:  CD1 on residue ILE 124\n",
      "core.conformation.Conformation: [ WARNING ] missing heavyatom:  CB  on residue ASP 125\n",
      "core.conformation.Conformation: [ WARNING ] missing heavyatom:  CG  on residue ASP 125\n",
      "core.conformation.Conformation: [ WARNING ] missing heavyatom:  OD1 on residue ASP 125\n",
      "core.conformation.Conformation: [ WARNING ] missing heavyatom:  OD2 on residue ASP 125\n",
      "core.conformation.Conformation: [ WARNING ] missing heavyatom:  CB  on residue ASP 126\n",
      "core.conformation.Conformation: [ WARNING ] missing heavyatom:  CG  on residue ASP 126\n",
      "core.conformation.Conformation: [ WARNING ] missing heavyatom:  OD1 on residue ASP 126\n",
      "core.conformation.Conformation: [ WARNING ] missing heavyatom:  OD2 on residue ASP 126\n",
      "core.conformation.Conformation: [ WARNING ] missing heavyatom:  CB  on residue ARG 127\n",
      "core.conformation.Conformation: [ WARNING ] missing heavyatom:  CG  on residue ARG 127\n",
      "core.conformation.Conformation: [ WARNING ] missing heavyatom:  CD  on residue ARG 127\n",
      "core.conformation.Conformation: [ WARNING ] missing heavyatom:  NE  on residue ARG 127\n",
      "core.conformation.Conformation: [ WARNING ] missing heavyatom:  CZ  on residue ARG 127\n",
      "core.conformation.Conformation: [ WARNING ] missing heavyatom:  NH1 on residue ARG 127\n",
      "core.conformation.Conformation: [ WARNING ] missing heavyatom:  NH2 on residue ARG 127\n",
      "core.conformation.Conformation: [ WARNING ] missing heavyatom:  CB  on residue VAL 128\n",
      "core.conformation.Conformation: [ WARNING ] missing heavyatom:  CG1 on residue VAL 128\n",
      "core.conformation.Conformation: [ WARNING ] missing heavyatom:  CG2 on residue VAL 128\n",
      "core.conformation.Conformation: [ WARNING ] missing heavyatom:  CB  on residue GLN 129\n",
      "core.conformation.Conformation: [ WARNING ] missing heavyatom:  CG  on residue GLN 129\n",
      "core.conformation.Conformation: [ WARNING ] missing heavyatom:  CD  on residue GLN 129\n",
      "core.conformation.Conformation: [ WARNING ] missing heavyatom:  OE1 on residue GLN 129\n",
      "core.conformation.Conformation: [ WARNING ] missing heavyatom:  NE2 on residue GLN 129\n",
      "core.conformation.Conformation: [ WARNING ] missing heavyatom:  CB  on residue SER 130\n",
      "core.conformation.Conformation: [ WARNING ] missing heavyatom:  OG  on residue SER 130\n",
      "core.conformation.Conformation: [ WARNING ] missing heavyatom:  CB  on residue HIS 131\n",
      "core.conformation.Conformation: [ WARNING ] missing heavyatom:  CG  on residue HIS 131\n",
      "core.conformation.Conformation: [ WARNING ] missing heavyatom:  ND1 on residue HIS 131\n",
      "core.conformation.Conformation: [ WARNING ] missing heavyatom:  CD2 on residue HIS 131\n",
      "core.conformation.Conformation: [ WARNING ] missing heavyatom:  CE1 on residue HIS 131\n",
      "core.conformation.Conformation: [ WARNING ] missing heavyatom:  NE2 on residue HIS 131\n",
      "core.conformation.Conformation: [ WARNING ] missing heavyatom:  CB  on residue ILE 132\n",
      "core.conformation.Conformation: [ WARNING ] missing heavyatom:  CG1 on residue ILE 132\n",
      "core.conformation.Conformation: [ WARNING ] missing heavyatom:  CG2 on residue ILE 132\n",
      "core.conformation.Conformation: [ WARNING ] missing heavyatom:  CD1 on residue ILE 132\n",
      "core.conformation.Conformation: [ WARNING ] missing heavyatom:  CB  on residue LEU 133\n",
      "core.conformation.Conformation: [ WARNING ] missing heavyatom:  CG  on residue LEU 133\n",
      "core.conformation.Conformation: [ WARNING ] missing heavyatom:  CD1 on residue LEU 133\n",
      "core.conformation.Conformation: [ WARNING ] missing heavyatom:  CD2 on residue LEU 133\n",
      "core.conformation.Conformation: [ WARNING ] missing heavyatom:  CB  on residue HIS 134\n",
      "core.conformation.Conformation: [ WARNING ] missing heavyatom:  CG  on residue HIS 134\n",
      "core.conformation.Conformation: [ WARNING ] missing heavyatom:  ND1 on residue HIS 134\n",
      "core.conformation.Conformation: [ WARNING ] missing heavyatom:  CD2 on residue HIS 134\n",
      "core.conformation.Conformation: [ WARNING ] missing heavyatom:  CE1 on residue HIS 134\n",
      "core.conformation.Conformation: [ WARNING ] missing heavyatom:  NE2 on residue HIS 134\n",
      "core.conformation.Conformation: [ WARNING ] missing heavyatom:  CB  on residue LEU 135\n",
      "core.conformation.Conformation: [ WARNING ] missing heavyatom:  CG  on residue LEU 135\n",
      "core.conformation.Conformation: [ WARNING ] missing heavyatom:  CD1 on residue LEU 135\n",
      "core.conformation.Conformation: [ WARNING ] missing heavyatom:  CD2 on residue LEU 135\n",
      "core.conformation.Conformation: [ WARNING ] missing heavyatom:  CB  on residue GLU 136\n",
      "core.conformation.Conformation: [ WARNING ] missing heavyatom:  CG  on residue GLU 136\n",
      "core.conformation.Conformation: [ WARNING ] missing heavyatom:  CD  on residue GLU 136\n",
      "core.conformation.Conformation: [ WARNING ] missing heavyatom:  OE1 on residue GLU 136\n",
      "core.conformation.Conformation: [ WARNING ] missing heavyatom:  OE2 on residue GLU 136\n",
      "core.conformation.Conformation: [ WARNING ] missing heavyatom:  CB  on residue HIS 137\n",
      "core.conformation.Conformation: [ WARNING ] missing heavyatom:  CG  on residue HIS 137\n",
      "core.conformation.Conformation: [ WARNING ] missing heavyatom:  ND1 on residue HIS 137\n",
      "core.conformation.Conformation: [ WARNING ] missing heavyatom:  CD2 on residue HIS 137\n",
      "core.conformation.Conformation: [ WARNING ] missing heavyatom:  CE1 on residue HIS 137\n",
      "core.conformation.Conformation: [ WARNING ] missing heavyatom:  NE2 on residue HIS 137\n",
      "core.conformation.Conformation: [ WARNING ] missing heavyatom:  CB  on residue ASP 138\n",
      "core.conformation.Conformation: [ WARNING ] missing heavyatom:  CG  on residue ASP 138\n",
      "core.conformation.Conformation: [ WARNING ] missing heavyatom:  OD1 on residue ASP 138\n",
      "core.conformation.Conformation: [ WARNING ] missing heavyatom:  OD2 on residue ASP 138\n",
      "core.conformation.Conformation: [ WARNING ] missing heavyatom:  CB  on residue LEU 139\n",
      "core.conformation.Conformation: [ WARNING ] missing heavyatom:  CG  on residue LEU 139\n",
      "core.conformation.Conformation: [ WARNING ] missing heavyatom:  CD1 on residue LEU 139\n",
      "core.conformation.Conformation: [ WARNING ] missing heavyatom:  CD2 on residue LEU 139\n",
      "core.conformation.Conformation: [ WARNING ] missing heavyatom:  CB  on residue VAL 140\n",
      "core.conformation.Conformation: [ WARNING ] missing heavyatom:  CG1 on residue VAL 140\n",
      "core.conformation.Conformation: [ WARNING ] missing heavyatom:  CG2 on residue VAL 140\n",
      "core.conformation.Conformation: [ WARNING ] missing heavyatom:  CB  on residue HIS 141\n",
      "core.conformation.Conformation: [ WARNING ] missing heavyatom:  CG  on residue HIS 141\n",
      "core.conformation.Conformation: [ WARNING ] missing heavyatom:  ND1 on residue HIS 141\n",
      "core.conformation.Conformation: [ WARNING ] missing heavyatom:  CD2 on residue HIS 141\n",
      "core.conformation.Conformation: [ WARNING ] missing heavyatom:  CE1 on residue HIS 141\n",
      "core.conformation.Conformation: [ WARNING ] missing heavyatom:  NE2 on residue HIS 141\n",
      "core.conformation.Conformation: [ WARNING ] missing heavyatom:  CB  on residue VAL 142\n",
      "core.conformation.Conformation: [ WARNING ] missing heavyatom:  CG1 on residue VAL 142\n",
      "core.conformation.Conformation: [ WARNING ] missing heavyatom:  CG2 on residue VAL 142\n",
      "core.conformation.Conformation: [ WARNING ] missing heavyatom:  CB  on residue THR 143\n",
      "core.conformation.Conformation: [ WARNING ] missing heavyatom:  OG1 on residue THR 143\n",
      "core.conformation.Conformation: [ WARNING ] missing heavyatom:  CG2 on residue THR 143\n",
      "core.conformation.Conformation: [ WARNING ] missing heavyatom:  CB  on residue ARG 144\n",
      "core.conformation.Conformation: [ WARNING ] missing heavyatom:  CG  on residue ARG 144\n",
      "core.conformation.Conformation: [ WARNING ] missing heavyatom:  CD  on residue ARG 144\n",
      "core.conformation.Conformation: [ WARNING ] missing heavyatom:  NE  on residue ARG 144\n",
      "core.conformation.Conformation: [ WARNING ] missing heavyatom:  CZ  on residue ARG 144\n",
      "core.conformation.Conformation: [ WARNING ] missing heavyatom:  NH1 on residue ARG 144\n",
      "core.conformation.Conformation: [ WARNING ] missing heavyatom:  NH2 on residue ARG 144\n",
      "core.conformation.Conformation: [ WARNING ] missing heavyatom:  CB  on residue LYS 145\n",
      "core.conformation.Conformation: [ WARNING ] missing heavyatom:  CG  on residue LYS 145\n",
      "core.conformation.Conformation: [ WARNING ] missing heavyatom:  CD  on residue LYS 145\n",
      "core.conformation.Conformation: [ WARNING ] missing heavyatom:  CE  on residue LYS 145\n",
      "core.conformation.Conformation: [ WARNING ] missing heavyatom:  NZ  on residue LYS 145\n",
      "core.conformation.Conformation: [ WARNING ] missing heavyatom:  CB  on residue ASN 146\n",
      "core.conformation.Conformation: [ WARNING ] missing heavyatom:  CG  on residue ASN 146\n",
      "core.conformation.Conformation: [ WARNING ] missing heavyatom:  OD1 on residue ASN 146\n",
      "core.conformation.Conformation: [ WARNING ] missing heavyatom:  ND2 on residue ASN 146\n",
      "core.conformation.Conformation: [ WARNING ] missing heavyatom:  CB  on residue HIS 147\n",
      "core.conformation.Conformation: [ WARNING ] missing heavyatom:  CG  on residue HIS 147\n",
      "core.conformation.Conformation: [ WARNING ] missing heavyatom:  ND1 on residue HIS 147\n",
      "core.conformation.Conformation: [ WARNING ] missing heavyatom:  CD2 on residue HIS 147\n",
      "core.conformation.Conformation: [ WARNING ] missing heavyatom:  CE1 on residue HIS 147\n",
      "core.conformation.Conformation: [ WARNING ] missing heavyatom:  NE2 on residue HIS 147\n",
      "core.conformation.Conformation: [ WARNING ] missing heavyatom:  CB  on residue ALA 148\n",
      "core.conformation.Conformation: [ WARNING ] missing heavyatom:  CB  on residue ARG 149\n",
      "core.conformation.Conformation: [ WARNING ] missing heavyatom:  CG  on residue ARG 149\n",
      "core.conformation.Conformation: [ WARNING ] missing heavyatom:  CD  on residue ARG 149\n",
      "core.conformation.Conformation: [ WARNING ] missing heavyatom:  NE  on residue ARG 149\n",
      "core.conformation.Conformation: [ WARNING ] missing heavyatom:  CZ  on residue ARG 149\n",
      "core.conformation.Conformation: [ WARNING ] missing heavyatom:  NH1 on residue ARG 149\n",
      "core.conformation.Conformation: [ WARNING ] missing heavyatom:  NH2 on residue ARG 149\n",
      "core.conformation.Conformation: [ WARNING ] missing heavyatom:  CB  on residue GLN 150\n",
      "core.conformation.Conformation: [ WARNING ] missing heavyatom:  CG  on residue GLN 150\n",
      "core.conformation.Conformation: [ WARNING ] missing heavyatom:  CD  on residue GLN 150\n",
      "core.conformation.Conformation: [ WARNING ] missing heavyatom:  OE1 on residue GLN 150\n",
      "core.conformation.Conformation: [ WARNING ] missing heavyatom:  NE2 on residue GLN 150\n",
      "core.conformation.Conformation: [ WARNING ] missing heavyatom:  CB  on residue ALA 151\n",
      "core.conformation.Conformation: [ WARNING ] missing heavyatom:  CB  on residue VAL 153\n",
      "core.conformation.Conformation: [ WARNING ] missing heavyatom:  CG1 on residue VAL 153\n",
      "core.conformation.Conformation: [ WARNING ] missing heavyatom:  CG2 on residue VAL 153\n",
      "core.conformation.Conformation: [ WARNING ] missing heavyatom:  CB  on residue ARG 154\n",
      "core.conformation.Conformation: [ WARNING ] missing heavyatom:  CG  on residue ARG 154\n",
      "core.conformation.Conformation: [ WARNING ] missing heavyatom:  CD  on residue ARG 154\n",
      "core.conformation.Conformation: [ WARNING ] missing heavyatom:  NE  on residue ARG 154\n",
      "core.conformation.Conformation: [ WARNING ] missing heavyatom:  CZ  on residue ARG 154\n",
      "core.conformation.Conformation: [ WARNING ] missing heavyatom:  NH1 on residue ARG 154\n",
      "core.conformation.Conformation: [ WARNING ] missing heavyatom:  NH2 on residue ARG 154\n",
      "core.conformation.Conformation: [ WARNING ] missing heavyatom:  CB  on residue LEU 156\n",
      "core.conformation.Conformation: [ WARNING ] missing heavyatom:  CG  on residue LEU 156\n",
      "core.conformation.Conformation: [ WARNING ] missing heavyatom:  CD1 on residue LEU 156\n",
      "core.conformation.Conformation: [ WARNING ] missing heavyatom:  CD2 on residue LEU 156\n",
      "core.conformation.Conformation: [ WARNING ] missing heavyatom:  CB  on residue HIS 158\n",
      "core.conformation.Conformation: [ WARNING ] missing heavyatom:  CG  on residue HIS 158\n",
      "core.conformation.Conformation: [ WARNING ] missing heavyatom:  ND1 on residue HIS 158\n",
      "core.conformation.Conformation: [ WARNING ] missing heavyatom:  CD2 on residue HIS 158\n",
      "core.conformation.Conformation: [ WARNING ] missing heavyatom:  CE1 on residue HIS 158\n",
      "core.conformation.Conformation: [ WARNING ] missing heavyatom:  NE2 on residue HIS 158\n",
      "core.conformation.Conformation: [ WARNING ] missing heavyatom:  CB  on residue GLN 159\n",
      "core.conformation.Conformation: [ WARNING ] missing heavyatom:  CG  on residue GLN 159\n",
      "core.conformation.Conformation: [ WARNING ] missing heavyatom:  CD  on residue GLN 159\n",
      "core.conformation.Conformation: [ WARNING ] missing heavyatom:  OE1 on residue GLN 159\n",
      "core.conformation.Conformation: [ WARNING ] missing heavyatom:  NE2 on residue GLN 159\n",
      "core.conformation.Conformation: [ WARNING ] missing heavyatom:  CB  on residue SER 160\n",
      "core.conformation.Conformation: [ WARNING ] missing heavyatom:  OG  on residue SER 160\n",
      "core.conformation.Conformation: [ WARNING ] missing heavyatom:  OXT on residue GLY:CtermProteinFull 172\n",
      "core.pack.pack_missing_sidechains: packing residue number 19 because of missing atom number 5 atom name  CB\n",
      "core.pack.pack_missing_sidechains: packing residue number 21 because of missing atom number 5 atom name  CB\n",
      "core.pack.pack_missing_sidechains: packing residue number 22 because of missing atom number 5 atom name  CB\n",
      "core.pack.pack_missing_sidechains: packing residue number 23 because of missing atom number 5 atom name  CB\n",
      "core.pack.pack_missing_sidechains: packing residue number 24 because of missing atom number 5 atom name  CB\n",
      "core.pack.pack_missing_sidechains: packing residue number 25 because of missing atom number 5 atom name  CB\n",
      "core.pack.pack_missing_sidechains: packing residue number 26 because of missing atom number 5 atom name  CB\n",
      "core.pack.pack_missing_sidechains: packing residue number 27 because of missing atom number 5 atom name  CB\n",
      "core.pack.pack_missing_sidechains: packing residue number 28 because of missing atom number 5 atom name  CB\n",
      "core.pack.pack_missing_sidechains: packing residue number 29 because of missing atom number 5 atom name  CB\n",
      "core.pack.pack_missing_sidechains: packing residue number 30 because of missing atom number 5 atom name  CB\n",
      "core.pack.pack_missing_sidechains: packing residue number 31 because of missing atom number 5 atom name  CB\n",
      "core.pack.pack_missing_sidechains: packing residue number 32 because of missing atom number 5 atom name  CB\n",
      "core.pack.pack_missing_sidechains: packing residue number 33 because of missing atom number 5 atom name  CB\n",
      "core.pack.pack_missing_sidechains: packing residue number 34 because of missing atom number 5 atom name  CB\n",
      "core.pack.pack_missing_sidechains: packing residue number 35 because of missing atom number 5 atom name  CB\n",
      "core.pack.pack_missing_sidechains: packing residue number 36 because of missing atom number 5 atom name  CB\n",
      "core.pack.pack_missing_sidechains: packing residue number 37 because of missing atom number 5 atom name  CB\n",
      "core.pack.pack_missing_sidechains: packing residue number 38 because of missing atom number 5 atom name  CB\n",
      "core.pack.pack_missing_sidechains: packing residue number 39 because of missing atom number 5 atom name  CB\n",
      "core.pack.pack_missing_sidechains: packing residue number 46 because of missing atom number 5 atom name  CB\n",
      "core.pack.pack_missing_sidechains: packing residue number 47 because of missing atom number 5 atom name  CB\n",
      "core.pack.pack_missing_sidechains: packing residue number 48 because of missing atom number 5 atom name  CB\n",
      "core.pack.pack_missing_sidechains: packing residue number 49 because of missing atom number 5 atom name  CB\n",
      "core.pack.pack_missing_sidechains: packing residue number 50 because of missing atom number 5 atom name  CB\n",
      "core.pack.pack_missing_sidechains: packing residue number 51 because of missing atom number 5 atom name  CB\n",
      "core.pack.pack_missing_sidechains: packing residue number 52 because of missing atom number 5 atom name  CB\n",
      "core.pack.pack_missing_sidechains: packing residue number 53 because of missing atom number 5 atom name  CB\n",
      "core.pack.pack_missing_sidechains: packing residue number 54 because of missing atom number 5 atom name  CB\n",
      "core.pack.pack_missing_sidechains: packing residue number 55 because of missing atom number 5 atom name  CB\n",
      "core.pack.pack_missing_sidechains: packing residue number 56 because of missing atom number 5 atom name  CB\n",
      "core.pack.pack_missing_sidechains: packing residue number 57 because of missing atom number 5 atom name  CB\n",
      "core.pack.pack_missing_sidechains: packing residue number 58 because of missing atom number 5 atom name  CB\n",
      "core.pack.pack_missing_sidechains: packing residue number 59 because of missing atom number 5 atom name  CB\n",
      "core.pack.pack_missing_sidechains: packing residue number 61 because of missing atom number 5 atom name  CB\n",
      "core.pack.pack_missing_sidechains: packing residue number 62 because of missing atom number 5 atom name  CB\n",
      "core.pack.pack_missing_sidechains: packing residue number 63 because of missing atom number 5 atom name  CB\n",
      "core.pack.pack_missing_sidechains: packing residue number 64 because of missing atom number 5 atom name  CB\n",
      "core.pack.pack_missing_sidechains: packing residue number 65 because of missing atom number 5 atom name  CB\n",
      "core.pack.pack_missing_sidechains: packing residue number 66 because of missing atom number 5 atom name  CB\n",
      "core.pack.pack_missing_sidechains: packing residue number 67 because of missing atom number 5 atom name  CB\n",
      "core.pack.pack_missing_sidechains: packing residue number 68 because of missing atom number 5 atom name  CB\n",
      "core.pack.pack_missing_sidechains: packing residue number 70 because of missing atom number 5 atom name  CB\n",
      "core.pack.pack_missing_sidechains: packing residue number 71 because of missing atom number 5 atom name  CB\n",
      "core.pack.pack_missing_sidechains: packing residue number 72 because of missing atom number 5 atom name  CB\n",
      "core.pack.pack_missing_sidechains: packing residue number 73 because of missing atom number 5 atom name  CB\n",
      "core.pack.pack_missing_sidechains: packing residue number 74 because of missing atom number 5 atom name  CB\n",
      "core.pack.pack_missing_sidechains: packing residue number 75 because of missing atom number 5 atom name  CB\n",
      "core.pack.pack_missing_sidechains: packing residue number 76 because of missing atom number 5 atom name  CB\n",
      "core.pack.pack_missing_sidechains: packing residue number 77 because of missing atom number 5 atom name  CB\n",
      "core.pack.pack_missing_sidechains: packing residue number 107 because of missing atom number 5 atom name  CB\n",
      "core.pack.pack_missing_sidechains: packing residue number 108 because of missing atom number 5 atom name  CB\n",
      "core.pack.pack_missing_sidechains: packing residue number 109 because of missing atom number 5 atom name  CB\n",
      "core.pack.pack_missing_sidechains: packing residue number 110 because of missing atom number 5 atom name  CB\n",
      "core.pack.pack_missing_sidechains: packing residue number 111 because of missing atom number 5 atom name  CB\n",
      "core.pack.pack_missing_sidechains: packing residue number 112 because of missing atom number 5 atom name  CB\n",
      "core.pack.pack_missing_sidechains: packing residue number 113 because of missing atom number 5 atom name  CB\n",
      "core.pack.pack_missing_sidechains: packing residue number 114 because of missing atom number 5 atom name  CB\n",
      "core.pack.pack_missing_sidechains: packing residue number 115 because of missing atom number 5 atom name  CB\n",
      "core.pack.pack_missing_sidechains: packing residue number 116 because of missing atom number 5 atom name  CB\n",
      "core.pack.pack_missing_sidechains: packing residue number 117 because of missing atom number 5 atom name  CB\n",
      "core.pack.pack_missing_sidechains: packing residue number 118 because of missing atom number 5 atom name  CB\n",
      "core.pack.pack_missing_sidechains: packing residue number 119 because of missing atom number 5 atom name  CB\n",
      "core.pack.pack_missing_sidechains: packing residue number 120 because of missing atom number 5 atom name  CB\n",
      "core.pack.pack_missing_sidechains: packing residue number 121 because of missing atom number 5 atom name  CB\n",
      "core.pack.pack_missing_sidechains: packing residue number 122 because of missing atom number 5 atom name  CB\n",
      "core.pack.pack_missing_sidechains: packing residue number 123 because of missing atom number 5 atom name  CB\n",
      "core.pack.pack_missing_sidechains: packing residue number 124 because of missing atom number 5 atom name  CB\n",
      "core.pack.pack_missing_sidechains: packing residue number 125 because of missing atom number 5 atom name  CB\n",
      "core.pack.pack_missing_sidechains: packing residue number 126 because of missing atom number 5 atom name  CB\n",
      "core.pack.pack_missing_sidechains: packing residue number 127 because of missing atom number 5 atom name  CB\n",
      "core.pack.pack_missing_sidechains: packing residue number 128 because of missing atom number 5 atom name  CB\n",
      "core.pack.pack_missing_sidechains: packing residue number 129 because of missing atom number 5 atom name  CB\n",
      "core.pack.pack_missing_sidechains: packing residue number 130 because of missing atom number 5 atom name  CB\n",
      "core.pack.pack_missing_sidechains: packing residue number 131 because of missing atom number 5 atom name  CB\n",
      "core.pack.pack_missing_sidechains: packing residue number 132 because of missing atom number 5 atom name  CB\n",
      "core.pack.pack_missing_sidechains: packing residue number 133 because of missing atom number 5 atom name  CB\n",
      "core.pack.pack_missing_sidechains: packing residue number 134 because of missing atom number 5 atom name  CB\n",
      "core.pack.pack_missing_sidechains: packing residue number 135 because of missing atom number 5 atom name  CB\n",
      "core.pack.pack_missing_sidechains: packing residue number 136 because of missing atom number 5 atom name  CB\n",
      "core.pack.pack_missing_sidechains: packing residue number 137 because of missing atom number 5 atom name  CB\n",
      "core.pack.pack_missing_sidechains: packing residue number 138 because of missing atom number 5 atom name  CB\n",
      "core.pack.pack_missing_sidechains: packing residue number 139 because of missing atom number 5 atom name  CB\n",
      "core.pack.pack_missing_sidechains: packing residue number 140 because of missing atom number 5 atom name  CB\n",
      "core.pack.pack_missing_sidechains: packing residue number 141 because of missing atom number 5 atom name  CB\n",
      "core.pack.pack_missing_sidechains: packing residue number 142 because of missing atom number 5 atom name  CB\n",
      "core.pack.pack_missing_sidechains: packing residue number 143 because of missing atom number 5 atom name  CB\n",
      "core.pack.pack_missing_sidechains: packing residue number 144 because of missing atom number 5 atom name  CB\n",
      "core.pack.pack_missing_sidechains: packing residue number 145 because of missing atom number 5 atom name  CB\n",
      "core.pack.pack_missing_sidechains: packing residue number 146 because of missing atom number 5 atom name  CB\n",
      "core.pack.pack_missing_sidechains: packing residue number 147 because of missing atom number 5 atom name  CB\n",
      "core.pack.pack_missing_sidechains: packing residue number 148 because of missing atom number 5 atom name  CB\n",
      "core.pack.pack_missing_sidechains: packing residue number 149 because of missing atom number 5 atom name  CB\n",
      "core.pack.pack_missing_sidechains: packing residue number 150 because of missing atom number 5 atom name  CB\n",
      "core.pack.pack_missing_sidechains: packing residue number 151 because of missing atom number 5 atom name  CB\n",
      "core.pack.pack_missing_sidechains: packing residue number 153 because of missing atom number 5 atom name  CB\n",
      "core.pack.pack_missing_sidechains: packing residue number 154 because of missing atom number 5 atom name  CB\n",
      "core.pack.pack_missing_sidechains: packing residue number 156 because of missing atom number 5 atom name  CB\n",
      "core.pack.pack_missing_sidechains: packing residue number 158 because of missing atom number 5 atom name  CB\n",
      "core.pack.pack_missing_sidechains: packing residue number 159 because of missing atom number 5 atom name  CB\n",
      "core.pack.pack_missing_sidechains: packing residue number 160 because of missing atom number 5 atom name  CB\n",
      "core.pack.task: Packer task: initialize from command line()\n",
      "core.scoring.ScoreFunctionFactory: SCOREFUNCTION: ref2015\n",
      "core.scoring.etable: Starting energy table calculation\n",
      "core.scoring.etable: smooth_etable: changing atr/rep split to bottom of energy well\n",
      "core.scoring.etable: smooth_etable: spline smoothing lj etables (maxdis = 6)\n",
      "core.scoring.etable: smooth_etable: spline smoothing solvation etables (max_dis = 6)\n",
      "core.scoring.etable: Finished calculating energy tables.\n",
      "basic.io.database: Database file opened: scoring/score_functions/hbonds/ref2015_params/HBPoly1D.csv\n",
      "basic.io.database: Database file opened: scoring/score_functions/hbonds/ref2015_params/HBFadeIntervals.csv\n",
      "basic.io.database: Database file opened: scoring/score_functions/hbonds/ref2015_params/HBEval.csv\n",
      "basic.io.database: Database file opened: scoring/score_functions/hbonds/ref2015_params/DonStrength.csv\n",
      "basic.io.database: Database file opened: scoring/score_functions/hbonds/ref2015_params/AccStrength.csv\n",
      "basic.io.database: Database file opened: scoring/score_functions/rama/fd/all.ramaProb\n",
      "basic.io.database: Database file opened: scoring/score_functions/rama/fd/prepro.ramaProb\n",
      "basic.io.database: Database file opened: scoring/score_functions/omega/omega_ppdep.all.txt\n",
      "basic.io.database: Database file opened: scoring/score_functions/omega/omega_ppdep.gly.txt\n",
      "basic.io.database: Database file opened: scoring/score_functions/omega/omega_ppdep.pro.txt\n",
      "basic.io.database: Database file opened: scoring/score_functions/omega/omega_ppdep.valile.txt\n",
      "basic.io.database: Database file opened: scoring/score_functions/P_AA_pp/P_AA\n",
      "basic.io.database: Database file opened: scoring/score_functions/P_AA_pp/P_AA_n\n",
      "core.scoring.P_AA: shapovalov_lib::shap_p_aa_pp_smooth_level of 1( aka low_smooth ) got activated.\n",
      "basic.io.database: Database file opened: scoring/score_functions/P_AA_pp/shapovalov/10deg/kappa131/a20.prop\n",
      "basic.io.database: Database file opened: scoring/score_functions/elec_cp_reps.dat\n",
      "core.scoring.elec.util: Read 40 countpair representative atoms\n",
      "core.pack.dunbrack.RotamerLibrary: shapovalov_lib_fixes_enable option is true.\n",
      "core.pack.dunbrack.RotamerLibrary: shapovalov_lib::shap_dun10_smooth_level of 1( aka lowest_smooth ) got activated.\n",
      "core.pack.dunbrack.RotamerLibrary: Binary rotamer library selected: /home/bharath-sooryaa-m/anaconda3/envs/praisonai/lib/python3.11/site-packages/pyrosetta/database/rotamer/shapovalov/StpDwn_0-0-0/Dunbrack10.lib.bin\n",
      "core.pack.dunbrack.RotamerLibrary: Using Dunbrack library binary file '/home/bharath-sooryaa-m/anaconda3/envs/praisonai/lib/python3.11/site-packages/pyrosetta/database/rotamer/shapovalov/StpDwn_0-0-0/Dunbrack10.lib.bin'.\n",
      "core.pack.dunbrack.RotamerLibrary: Dunbrack 2010 library took 0.149314 seconds to load from binary\n",
      "core.pack.pack_rotamers: built 1453 rotamers at 101 positions.\n",
      "core.pack.interaction_graph.interaction_graph_factory: Instantiating DensePDInteractionGraph\n",
      "Loaded structure from /home/bharath-sooryaa-m/Documents/BIO/proj/Protein-Designing-With-Agents/cache/session_20250408-220920_55100258/output_0.pdb with 172 residues.\n",
      "core.scoring.ScoreFunctionFactory: SCOREFUNCTION: ref2015\n",
      "Total Score: 38.720 REU\n",
      "protocols.relax.RelaxScriptManager: Reading relax scripts list from database.\n",
      "core.scoring.ScoreFunctionFactory: SCOREFUNCTION: ref2015\n",
      "protocols.relax.RelaxScriptManager: Looking for MonomerRelax2019.txt\n",
      "protocols.relax.RelaxScriptManager: ================== Reading script file: /home/bharath-sooryaa-m/anaconda3/envs/praisonai/lib/python3.11/site-packages/pyrosetta/database/sampling/relax_scripts/MonomerRelax2019.txt ==================\n",
      "protocols.relax.RelaxScriptManager: repeat %%nrepeats%%\n",
      "protocols.relax.RelaxScriptManager: coord_cst_weight 1.0\n",
      "protocols.relax.RelaxScriptManager: scale:fa_rep 0.040\n",
      "protocols.relax.RelaxScriptManager: repack\n",
      "protocols.relax.RelaxScriptManager: scale:fa_rep 0.051\n",
      "protocols.relax.RelaxScriptManager: min 0.01\n",
      "protocols.relax.RelaxScriptManager: coord_cst_weight 0.5\n",
      "protocols.relax.RelaxScriptManager: scale:fa_rep 0.265\n",
      "protocols.relax.RelaxScriptManager: repack\n",
      "protocols.relax.RelaxScriptManager: scale:fa_rep 0.280\n",
      "protocols.relax.RelaxScriptManager: min 0.01\n",
      "protocols.relax.RelaxScriptManager: coord_cst_weight 0.0\n",
      "protocols.relax.RelaxScriptManager: scale:fa_rep 0.559\n",
      "protocols.relax.RelaxScriptManager: repack\n",
      "protocols.relax.RelaxScriptManager: scale:fa_rep 0.581\n",
      "protocols.relax.RelaxScriptManager: min 0.01\n",
      "protocols.relax.RelaxScriptManager: coord_cst_weight 0.0\n",
      "protocols.relax.RelaxScriptManager: scale:fa_rep 1\n",
      "protocols.relax.RelaxScriptManager: repack\n",
      "protocols.relax.RelaxScriptManager: min 0.00001\n",
      "protocols.relax.RelaxScriptManager: accept_to_best\n",
      "protocols.relax.RelaxScriptManager: endrepeat\n",
      "protocols.relax.FastRelax: CMD: repeat  38.7203  0  0  0.55\n",
      "protocols.relax.FastRelax: CMD: coord_cst_weight  38.7203  0  0  0.55\n",
      "protocols.relax.FastRelax: CMD: scale:fa_rep  -102.407  0  0  0.022\n",
      "core.pack.task: Packer task: initialize from command line()\n",
      "core.pack.pack_rotamers: built 1794 rotamers at 172 positions.\n",
      "core.pack.interaction_graph.interaction_graph_factory: Instantiating DensePDInteractionGraph\n",
      "protocols.relax.FastRelax: CMD: repack  -124.776  0  0  0.022\n",
      "protocols.relax.FastRelax: CMD: scale:fa_rep  -120.046  0  0  0.02805\n",
      "protocols.relax.FastRelax: CMD: min  -311.372  15.4755  15.4755  0.02805\n",
      "protocols.relax.FastRelax: CMD: coord_cst_weight  -311.372  15.4755  15.4755  0.02805\n",
      "protocols.relax.FastRelax: CMD: scale:fa_rep  -203.223  15.4755  15.4755  0.14575\n",
      "core.pack.task: Packer task: initialize from command line()\n",
      "core.pack.pack_rotamers: built 1828 rotamers at 172 positions.\n",
      "core.pack.interaction_graph.interaction_graph_factory: Instantiating DensePDInteractionGraph\n",
      "protocols.relax.FastRelax: CMD: repack  -215.764  15.4755  15.4755  0.14575\n",
      "protocols.relax.FastRelax: CMD: scale:fa_rep  -209.757  15.4755  15.4755  0.154\n",
      "protocols.relax.FastRelax: CMD: min  -254.744  15.5467  15.5467  0.154\n",
      "protocols.relax.FastRelax: CMD: coord_cst_weight  -254.744  15.5467  15.5467  0.154\n",
      "protocols.relax.FastRelax: CMD: scale:fa_rep  -209.565  15.5467  15.5467  0.30745\n",
      "core.pack.task: Packer task: initialize from command line()\n",
      "core.pack.pack_rotamers: built 1631 rotamers at 172 positions.\n",
      "core.pack.interaction_graph.interaction_graph_factory: Instantiating DensePDInteractionGraph\n",
      "protocols.relax.FastRelax: CMD: repack  -210.827  15.5467  15.5467  0.30745\n",
      "protocols.relax.FastRelax: CMD: scale:fa_rep  -207.419  15.5467  15.5467  0.31955\n",
      "protocols.relax.FastRelax: CMD: min  -240.061  16.5917  16.5917  0.31955\n",
      "protocols.relax.FastRelax: CMD: coord_cst_weight  -240.061  16.5917  16.5917  0.31955\n",
      "protocols.relax.FastRelax: CMD: scale:fa_rep  -200.78  16.5917  16.5917  0.55\n",
      "core.pack.task: Packer task: initialize from command line()\n",
      "core.pack.pack_rotamers: built 1540 rotamers at 172 positions.\n",
      "core.pack.interaction_graph.interaction_graph_factory: Instantiating DensePDInteractionGraph\n",
      "protocols.relax.FastRelax: CMD: repack  -201.219  16.5917  16.5917  0.55\n",
      "protocols.relax.FastRelax: CMD: min  -35.0991  23.2612  23.2612  0.55\n",
      "protocols.relax.FastRelax: MRP: 0  -35.0991  -35.0991  23.2612  23.2612\n",
      "protocols.relax.FastRelax: CMD: accept_to_best  -35.0991  23.2612  23.2612  0.55\n",
      "protocols.relax.FastRelax: CMD: endrepeat  -35.0991  23.2612  23.2612  0.55\n",
      "protocols.relax.FastRelax: CMD: coord_cst_weight  -35.0991  23.2612  23.2612  0.55\n",
      "protocols.relax.FastRelax: CMD: scale:fa_rep  -321.29  23.2612  23.2612  0.022\n",
      "core.pack.task: Packer task: initialize from command line()\n",
      "core.pack.pack_rotamers: built 1625 rotamers at 172 positions.\n",
      "core.pack.interaction_graph.interaction_graph_factory: Instantiating DensePDInteractionGraph\n",
      "protocols.relax.FastRelax: CMD: repack  -327.737  23.2612  23.2612  0.022\n",
      "protocols.relax.FastRelax: CMD: scale:fa_rep  -322.77  23.2612  23.2612  0.02805\n",
      "protocols.relax.FastRelax: CMD: min  -388.846  21.9149  21.9149  0.02805\n",
      "protocols.relax.FastRelax: CMD: coord_cst_weight  -388.846  21.9149  21.9149  0.02805\n",
      "protocols.relax.FastRelax: CMD: scale:fa_rep  -284.817  21.9149  21.9149  0.14575\n",
      "core.pack.task: Packer task: initialize from command line()\n",
      "core.pack.pack_rotamers: built 1875 rotamers at 172 positions.\n",
      "core.pack.interaction_graph.interaction_graph_factory: Instantiating DensePDInteractionGraph\n",
      "protocols.relax.FastRelax: CMD: repack  -295.193  21.9149  21.9149  0.14575\n",
      "protocols.relax.FastRelax: CMD: scale:fa_rep  -289.405  21.9149  21.9149  0.154\n",
      "protocols.relax.FastRelax: CMD: min  -339.564  21.9301  21.9301  0.154\n",
      "protocols.relax.FastRelax: CMD: coord_cst_weight  -339.564  21.9301  21.9301  0.154\n",
      "protocols.relax.FastRelax: CMD: scale:fa_rep  -298.735  21.9301  21.9301  0.30745\n",
      "core.pack.task: Packer task: initialize from command line()\n",
      "core.pack.pack_rotamers: built 1818 rotamers at 172 positions.\n",
      "core.pack.interaction_graph.interaction_graph_factory: Instantiating DensePDInteractionGraph\n",
      "protocols.relax.FastRelax: CMD: repack  -298.863  21.9301  21.9301  0.30745\n",
      "protocols.relax.FastRelax: CMD: scale:fa_rep  -295.665  21.9301  21.9301  0.31955\n",
      "protocols.relax.FastRelax: CMD: min  -301.731  21.876  21.876  0.31955\n",
      "protocols.relax.FastRelax: CMD: coord_cst_weight  -301.731  21.876  21.876  0.31955\n",
      "protocols.relax.FastRelax: CMD: scale:fa_rep  -253.221  21.876  21.876  0.55\n",
      "core.pack.task: Packer task: initialize from command line()\n",
      "core.pack.pack_rotamers: built 1752 rotamers at 172 positions.\n",
      "core.pack.interaction_graph.interaction_graph_factory: Instantiating DensePDInteractionGraph\n",
      "protocols.relax.FastRelax: CMD: repack  -253.914  21.876  21.876  0.55\n",
      "protocols.relax.FastRelax: CMD: min  -275.804  22.078  22.078  0.55\n",
      "protocols.relax.FastRelax: MRP: 1  -275.804  -275.804  22.078  22.078\n",
      "protocols.relax.FastRelax: CMD: accept_to_best  -275.804  22.078  22.078  0.55\n",
      "protocols.relax.FastRelax: CMD: endrepeat  -275.804  22.078  22.078  0.55\n",
      "protocols.relax.FastRelax: CMD: coord_cst_weight  -275.804  22.078  22.078  0.55\n",
      "protocols.relax.FastRelax: CMD: scale:fa_rep  -352.199  22.078  22.078  0.022\n",
      "core.pack.task: Packer task: initialize from command line()\n",
      "core.pack.pack_rotamers: built 1838 rotamers at 172 positions.\n",
      "core.pack.interaction_graph.interaction_graph_factory: Instantiating DensePDInteractionGraph\n",
      "protocols.relax.FastRelax: CMD: repack  -356.309  22.078  22.078  0.022\n",
      "protocols.relax.FastRelax: CMD: scale:fa_rep  -352.79  22.078  22.078  0.02805\n",
      "protocols.relax.FastRelax: CMD: min  -404.091  22.7795  22.7795  0.02805\n",
      "protocols.relax.FastRelax: CMD: coord_cst_weight  -404.091  22.7795  22.7795  0.02805\n",
      "protocols.relax.FastRelax: CMD: scale:fa_rep  -291.277  22.7795  22.7795  0.14575\n",
      "core.pack.task: Packer task: initialize from command line()\n",
      "core.pack.pack_rotamers: built 1982 rotamers at 172 positions.\n",
      "core.pack.interaction_graph.interaction_graph_factory: Instantiating DensePDInteractionGraph\n",
      "protocols.relax.FastRelax: CMD: repack  -299.918  22.7795  22.7795  0.14575\n",
      "protocols.relax.FastRelax: CMD: scale:fa_rep  -293.434  22.7795  22.7795  0.154\n",
      "protocols.relax.FastRelax: CMD: min  -346.73  22.8406  22.8406  0.154\n",
      "protocols.relax.FastRelax: CMD: coord_cst_weight  -346.73  22.8406  22.8406  0.154\n",
      "protocols.relax.FastRelax: CMD: scale:fa_rep  -305.417  22.8406  22.8406  0.30745\n",
      "core.pack.task: Packer task: initialize from command line()\n",
      "core.pack.pack_rotamers: built 1727 rotamers at 172 positions.\n",
      "core.pack.interaction_graph.interaction_graph_factory: Instantiating DensePDInteractionGraph\n",
      "protocols.relax.FastRelax: CMD: repack  -306.461  22.8406  22.8406  0.30745\n",
      "protocols.relax.FastRelax: CMD: scale:fa_rep  -303.201  22.8406  22.8406  0.31955\n",
      "protocols.relax.FastRelax: CMD: min  -308.754  22.9282  22.9282  0.31955\n",
      "protocols.relax.FastRelax: CMD: coord_cst_weight  -308.754  22.9282  22.9282  0.31955\n",
      "protocols.relax.FastRelax: CMD: scale:fa_rep  -259.937  22.9282  22.9282  0.55\n",
      "core.pack.task: Packer task: initialize from command line()\n",
      "core.pack.pack_rotamers: built 1732 rotamers at 172 positions.\n",
      "core.pack.interaction_graph.interaction_graph_factory: Instantiating DensePDInteractionGraph\n",
      "protocols.relax.FastRelax: CMD: repack  -260.514  22.9282  22.9282  0.55\n",
      "protocols.relax.FastRelax: CMD: min  -284.36  22.522  22.522  0.55\n",
      "protocols.relax.FastRelax: MRP: 2  -284.36  -284.36  22.522  22.522\n",
      "protocols.relax.FastRelax: CMD: accept_to_best  -284.36  22.522  22.522  0.55\n",
      "protocols.relax.FastRelax: CMD: endrepeat  -284.36  22.522  22.522  0.55\n",
      "protocols.relax.FastRelax: CMD: coord_cst_weight  -284.36  22.522  22.522  0.55\n",
      "protocols.relax.FastRelax: CMD: scale:fa_rep  -360.942  22.522  22.522  0.022\n",
      "core.pack.task: Packer task: initialize from command line()\n",
      "core.pack.pack_rotamers: built 1952 rotamers at 172 positions.\n",
      "core.pack.interaction_graph.interaction_graph_factory: Instantiating DensePDInteractionGraph\n",
      "protocols.relax.FastRelax: CMD: repack  -364.896  22.522  22.522  0.022\n",
      "protocols.relax.FastRelax: CMD: scale:fa_rep  -362.201  22.522  22.522  0.02805\n",
      "protocols.relax.FastRelax: CMD: min  -413.09  22.2792  22.2792  0.02805\n",
      "protocols.relax.FastRelax: CMD: coord_cst_weight  -413.09  22.2792  22.2792  0.02805\n",
      "protocols.relax.FastRelax: CMD: scale:fa_rep  -300.532  22.2792  22.2792  0.14575\n",
      "core.pack.task: Packer task: initialize from command line()\n",
      "core.pack.pack_rotamers: built 2107 rotamers at 172 positions.\n",
      "core.pack.interaction_graph.interaction_graph_factory: Instantiating DensePDInteractionGraph\n",
      "protocols.relax.FastRelax: CMD: repack  -306.161  22.2792  22.2792  0.14575\n",
      "protocols.relax.FastRelax: CMD: scale:fa_rep  -298.934  22.2792  22.2792  0.154\n",
      "protocols.relax.FastRelax: CMD: min  -358.793  22.3453  22.3453  0.154\n",
      "protocols.relax.FastRelax: CMD: coord_cst_weight  -358.793  22.3453  22.3453  0.154\n",
      "protocols.relax.FastRelax: CMD: scale:fa_rep  -315.615  22.3453  22.3453  0.30745\n",
      "core.pack.task: Packer task: initialize from command line()\n",
      "core.pack.pack_rotamers: built 1751 rotamers at 172 positions.\n",
      "core.pack.interaction_graph.interaction_graph_factory: Instantiating DensePDInteractionGraph\n",
      "protocols.relax.FastRelax: CMD: repack  -315.685  22.3453  22.3453  0.30745\n",
      "protocols.relax.FastRelax: CMD: scale:fa_rep  -312.276  22.3453  22.3453  0.31955\n",
      "protocols.relax.FastRelax: CMD: min  -320.216  22.3176  22.3176  0.31955\n",
      "protocols.relax.FastRelax: CMD: coord_cst_weight  -320.216  22.3176  22.3176  0.31955\n",
      "protocols.relax.FastRelax: CMD: scale:fa_rep  -273.131  22.3176  22.3176  0.55\n",
      "core.pack.task: Packer task: initialize from command line()\n",
      "core.pack.pack_rotamers: built 1730 rotamers at 172 positions.\n",
      "core.pack.interaction_graph.interaction_graph_factory: Instantiating DensePDInteractionGraph\n",
      "protocols.relax.FastRelax: CMD: repack  -273.646  22.3176  22.3176  0.55\n",
      "protocols.relax.FastRelax: CMD: min  -289.456  22.2822  22.2822  0.55\n",
      "protocols.relax.FastRelax: MRP: 3  -289.456  -289.456  22.2822  22.2822\n",
      "protocols.relax.FastRelax: CMD: accept_to_best  -289.456  22.2822  22.2822  0.55\n",
      "protocols.relax.FastRelax: CMD: endrepeat  -289.456  22.2822  22.2822  0.55\n",
      "protocols.relax.FastRelax: CMD: coord_cst_weight  -289.456  22.2822  22.2822  0.55\n",
      "protocols.relax.FastRelax: CMD: scale:fa_rep  -368.73  22.2822  22.2822  0.022\n",
      "core.pack.task: Packer task: initialize from command line()\n",
      "core.pack.pack_rotamers: built 1967 rotamers at 172 positions.\n",
      "core.pack.interaction_graph.interaction_graph_factory: Instantiating DensePDInteractionGraph\n",
      "protocols.relax.FastRelax: CMD: repack  -372.043  22.2822  22.2822  0.022\n",
      "protocols.relax.FastRelax: CMD: scale:fa_rep  -370.8  22.2822  22.2822  0.02805\n",
      "protocols.relax.FastRelax: CMD: min  -417.701  22.1289  22.1289  0.02805\n",
      "protocols.relax.FastRelax: CMD: coord_cst_weight  -417.701  22.1289  22.1289  0.02805\n",
      "protocols.relax.FastRelax: CMD: scale:fa_rep  -314.643  22.1289  22.1289  0.14575\n",
      "core.pack.task: Packer task: initialize from command line()\n",
      "core.pack.pack_rotamers: built 2112 rotamers at 172 positions.\n",
      "core.pack.interaction_graph.interaction_graph_factory: Instantiating DensePDInteractionGraph\n",
      "protocols.relax.FastRelax: CMD: repack  -320.988  22.1289  22.1289  0.14575\n",
      "protocols.relax.FastRelax: CMD: scale:fa_rep  -314.452  22.1289  22.1289  0.154\n",
      "protocols.relax.FastRelax: CMD: min  -360.257  22.379  22.379  0.154\n",
      "protocols.relax.FastRelax: CMD: coord_cst_weight  -360.257  22.379  22.379  0.154\n",
      "protocols.relax.FastRelax: CMD: scale:fa_rep  -315.416  22.379  22.379  0.30745\n",
      "core.pack.task: Packer task: initialize from command line()\n",
      "core.pack.pack_rotamers: built 1861 rotamers at 172 positions.\n",
      "core.pack.interaction_graph.interaction_graph_factory: Instantiating DensePDInteractionGraph\n",
      "protocols.relax.FastRelax: CMD: repack  -315.827  22.379  22.379  0.30745\n",
      "protocols.relax.FastRelax: CMD: scale:fa_rep  -312.29  22.379  22.379  0.31955\n",
      "protocols.relax.FastRelax: CMD: min  -323.986  22.3443  22.3443  0.31955\n",
      "protocols.relax.FastRelax: CMD: coord_cst_weight  -323.986  22.3443  22.3443  0.31955\n",
      "protocols.relax.FastRelax: CMD: scale:fa_rep  -275.872  22.3443  22.3443  0.55\n",
      "core.pack.task: Packer task: initialize from command line()\n",
      "core.pack.pack_rotamers: built 1709 rotamers at 172 positions.\n",
      "core.pack.interaction_graph.interaction_graph_factory: Instantiating DensePDInteractionGraph\n",
      "protocols.relax.FastRelax: CMD: repack  -276.381  22.3443  22.3443  0.55\n",
      "protocols.relax.FastRelax: CMD: min  -289.55  22.2923  22.2923  0.55\n",
      "protocols.relax.FastRelax: MRP: 4  -289.55  -289.55  22.2923  22.2923\n",
      "protocols.relax.FastRelax: CMD: accept_to_best  -289.55  22.2923  22.2923  0.55\n",
      "protocols.relax.FastRelax: CMD: endrepeat  -289.55  22.2923  22.2923  0.55\n",
      "protocols::checkpoint: Deleting checkpoints of FastRelax\n",
      "Relaxed structure saved to relaxed_structure.pdb.\n",
      "Relaxation complete.\n",
      "core.scoring.ScoreFunctionFactory: SCOREFUNCTION: ref2015\n",
      "Total Score: -289.550 REU\n"
     ]
    },
    {
     "data": {
      "text/plain": [
       "(38.72030837315116,\n",
       " <pyrosetta.rosetta.core.pose.Pose at 0x71d0f379a230>,\n",
       " -289.54999356514287)"
      ]
     },
     "execution_count": 14,
     "metadata": {},
     "output_type": "execute_result"
    }
   ],
   "source": [
    "from rosseta.rosseta_run import PyRosettaWrapper\n",
    "ros_obj = PyRosettaWrapper(\"\")\n",
    "ros_obj.run(pdb_file=r\"{current_path}/output_0.pdb\".format(current_path=current_path))"
   ]
  },
  {
   "cell_type": "code",
   "execution_count": null,
   "metadata": {},
   "outputs": [],
   "source": []
  }
 ],
 "metadata": {
  "kernelspec": {
   "display_name": "praisonai",
   "language": "python",
   "name": "python3"
  },
  "language_info": {
   "codemirror_mode": {
    "name": "ipython",
    "version": 3
   },
   "file_extension": ".py",
   "mimetype": "text/x-python",
   "name": "python",
   "nbconvert_exporter": "python",
   "pygments_lexer": "ipython3",
   "version": "3.11.11"
  }
 },
 "nbformat": 4,
 "nbformat_minor": 2
}
