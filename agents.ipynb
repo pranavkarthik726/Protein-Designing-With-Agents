{
 "cells": [
  {
   "cell_type": "markdown",
   "metadata": {},
   "source": [
    "Initializing TOOL"
   ]
  },
  {
   "cell_type": "code",
   "execution_count": 1,
   "metadata": {},
   "outputs": [],
   "source": [
    "import os\n",
    "import requests\n",
    "import urllib.parse\n",
    "from pydantic import BaseModel\n",
    "from crewai import Agent, Task, Crew, LLM\n",
    "from crewai.tools.structured_tool import CrewStructuredTool\n",
    "def get_uniprot(function_keyword: str):\n",
    "    if not function_keyword:\n",
    "        raise ValueError(\"Function keyword must be a non-empty string.\")\n",
    "    # Build and encode the query\n",
    "    query = f'((cc_function:\"{function_keyword}\"))'\n",
    "    encoded_query = urllib.parse.quote(query)\n",
    "    url = f\"https://rest.uniprot.org/uniprotkb/search?format=json&query={encoded_query}&size=1\"\n",
    "    print(\"Requesting URL:\", url)\n",
    "    try:\n",
    "        response = requests.get(url)\n",
    "        response.raise_for_status()\n",
    "        data = response.json()\n",
    "    except Exception as e:\n",
    "        print(\"Error querying UniProt:\", e)\n",
    "        return None\n",
    "    if not data:\n",
    "        print(\"No UniProt entries found for function:\", function_keyword)\n",
    "        return None\n",
    "    return data\n",
    "\n",
    "# Define the schema for the tool's input using Pydantic\n",
    "class UniprotInput(BaseModel):\n",
    "    function_keyword: str\n",
    "\n",
    "# Updated wrapper that accepts a parameter matching the schema field\n",
    "def uniprot_tool_wrapper(function_keyword: str) -> dict:\n",
    "    result = get_uniprot(function_keyword)\n",
    "    if result is None:\n",
    "        return {\"error\": \"No data found or an error occurred while querying UniProt.\"}\n",
    "    return result\n",
    "\n",
    "# Create and return the structured tool for UniProt querying\n",
    "def create_uniprot_tool():\n",
    "    return CrewStructuredTool.from_function(\n",
    "        name=\"UniProt Fetcher\",\n",
    "        description=\"Fetches UniProt entries based on a function keyword using the UniProt REST API.\",\n",
    "        args_schema=UniprotInput,\n",
    "        func=uniprot_tool_wrapper,\n",
    "    )\n",
    "\n",
    "# Instantiate the UniProt fetcher tool\n",
    "uniprot_tool = create_uniprot_tool()\n"
   ]
  },
  {
   "cell_type": "markdown",
   "metadata": {},
   "source": [
    "Initializing Crew"
   ]
  },
  {
   "cell_type": "code",
   "execution_count": 3,
   "metadata": {},
   "outputs": [
    {
     "name": "stderr",
     "output_type": "stream",
     "text": [
      "Overriding of current TracerProvider is not allowed\n"
     ]
    },
    {
     "name": "stdout",
     "output_type": "stream",
     "text": [
      "\u001b[1m\u001b[95m# Agent:\u001b[00m \u001b[1m\u001b[92muniprot_query_generator\u001b[00m\n",
      "\u001b[95m## Task:\u001b[00m \u001b[92m1. Extract key biological terms from a given protein function description.  I want a protein that can help in the digestion of food..\n",
      "2. Map extracted terms to UniProt search fields  and controlled vocabularies.\n",
      "3. Generate a structured UniProt query optimized  for accuracy and recall.\n",
      "4. Validate and refine the query to ensure relevant search results.\u001b[00m\n",
      "Requesting URL: https://rest.uniprot.org/uniprotkb/search?format=json&query=%28%28cc_function%3A%22digestion%22%29%29&size=1\n",
      "\n",
      "\n",
      "\u001b[1m\u001b[95m# Agent:\u001b[00m \u001b[1m\u001b[92muniprot_query_generator\u001b[00m\n",
      "\u001b[95m## Using tool:\u001b[00m \u001b[92mUniProt Fetcher\u001b[00m\n",
      "\u001b[95m## Tool Input:\u001b[00m \u001b[92m\n",
      "\"{\\\"function_keyword\\\": \\\"digestion\\\"}\"\u001b[00m\n",
      "\u001b[95m## Tool Output:\u001b[00m \u001b[92m\n",
      "{'results': [{'entryType': 'UniProtKB reviewed (Swiss-Prot)', 'primaryAccession': 'P80111', 'uniProtkbId': 'ANTR_AQUCT', 'entryAudit': {'firstPublicDate': '1992-08-01', 'lastAnnotationUpdateDate': '2024-05-29', 'lastSequenceUpdateDate': '1999-07-15', 'entryVersion': 74, 'sequenceVersion': 2}, 'annotationScore': 3.0, 'organism': {'scientificName': 'Aquarana catesbeiana', 'commonName': 'American bullfrog', 'synonyms': ['Rana catesbeiana'], 'taxonId': 8400, 'lineage': ['Eukaryota', 'Metazoa', 'Chordata', 'Craniata', 'Vertebrata', 'Euteleostomi', 'Amphibia', 'Batrachia', 'Anura', 'Neobatrachia', 'Ranoidea', 'Ranidae', 'Aquarana']}, 'proteinExistence': '1: Evidence at protein level', 'proteinDescription': {'recommendedName': {'fullName': {'value': 'Gastrin/cholecystokinin-like peptide'}}, 'alternativeNames': [{'fullName': {'value': 'Antral peptide'}}], 'flag': 'Precursor'}, 'genes': [{'geneName': {'value': 'GAST'}}], 'comments': [{'texts': [{'value': 'May control digestion processes'}], 'commentType': 'FUNCTION'}, {'commentType': 'SUBCELLULAR LOCATION', 'subcellularLocations': [{'location': {'value': 'Secreted', 'id': 'SL-0243'}}]}, {'texts': [{'value': 'Expressed in antrum, duodenum, colon, pancreas, brain and testis. No expression found in kidney, lung, liver, skin or distal two-thirds of small intestine. In the brain, strongly expressed in the pituitary gland with moderate expression in the neural lobe, brain stem and hypothalamus'}], 'commentType': 'TISSUE SPECIFICITY'}, {'texts': [{'evidences': [{'evidenceCode': 'ECO:0000305'}], 'value': 'Belongs to the gastrin/cholecystokinin family'}], 'commentType': 'SIMILARITY'}], 'features': [{'type': 'Signal', 'location': {'start': {'value': 1, 'modifier': 'EXACT'}, 'end': {'value': 20, 'modifier': 'EXACT'}}, 'description': '', 'evidences': [{'evidenceCode': 'ECO:0000255'}]}, {'type': 'Propeptide', 'location': {'start': {'value': 21, 'modifier': 'EXACT'}, 'end': {'value': 45, 'modifier': 'EXACT'}}, 'description': '', 'evidences': [{'evidenceCode': 'ECO:0000269', 'source': 'PubMed', 'id': '1633800'}], 'featureId': 'PRO_0000010659'}, {'type': 'Peptide', 'location': {'start': {'value': 46, 'modifier': 'EXACT'}, 'end': {'value': 92, 'modifier': 'EXACT'}}, 'description': 'Gastrin/cholecystokinin-like peptide', 'featureId': 'PRO_0000010660'}, {'type': 'Propeptide', 'location': {'start': {'value': 96, 'modifier': 'EXACT'}, 'end': {'value': 102, 'modifier': 'EXACT'}}, 'description': '', 'featureId': 'PRO_0000010661'}, {'type': 'Modified residue', 'location': {'start': {'value': 86, 'modifier': 'EXACT'}, 'end': {'value': 86, 'modifier': 'EXACT'}}, 'description': 'Sulfotyrosine', 'evidences': [{'evidenceCode': 'ECO:0000269', 'source': 'PubMed', 'id': '1633800'}]}, {'type': 'Modified residue', 'location': {'start': {'value': 92, 'modifier': 'EXACT'}, 'end': {'value': 92, 'modifier': 'EXACT'}}, 'description': 'Phenylalanine amide', 'evidences': [{'evidenceCode': 'ECO:0000269', 'source': 'PubMed', 'id': '1633800'}]}], 'keywords': [{'id': 'KW-0027', 'category': 'PTM', 'name': 'Amidation'}, {'id': 'KW-0165', 'category': 'PTM', 'name': 'Cleavage on pair of basic residues'}, {'id': 'KW-0222', 'category': 'Biological process', 'name': 'Digestion'}, {'id': 'KW-0903', 'category': 'Technical term', 'name': 'Direct protein sequencing'}, {'id': 'KW-0372', 'category': 'Molecular function', 'name': 'Hormone'}, {'id': 'KW-0964', 'category': 'Cellular component', 'name': 'Secreted'}, {'id': 'KW-0732', 'category': 'Domain', 'name': 'Signal'}, {'id': 'KW-0765', 'category': 'PTM', 'name': 'Sulfation'}], 'references': [{'referenceNumber': 1, 'citation': {'id': '9075736', 'citationType': 'journal article', 'authors': ['Rourke I.J.', 'Rehfeld J.F.', 'Moeller M.', 'Johnson A.H.'], 'citationCrossReferences': [{'database': 'PubMed', 'id': '9075736'}, {'database': 'DOI', 'id': '10.1210/endo.138.4.5084'}], 'title': 'Characterization of the cholecystokinin and gastrin genes from the bullfrog, Rana catesbeiana: evolutionary conservation of primary and secondary sites of gene expression.', 'publicationDate': '1997', 'journal': 'Endocrinology', 'firstPage': '1719', 'lastPage': '1727', 'volume': '138'}, 'referencePositions': ['NUCLEOTIDE SEQUENCE [GENOMIC DNA / MRNA]']}, {'referenceNumber': 2, 'citation': {'id': '1633800', 'citationType': 'journal article', 'authors': ['Johnsen A.H.', 'Rehfeld J.F.'], 'citationCrossReferences': [{'database': 'PubMed', 'id': '1633800'}, {'database': 'DOI', 'id': '10.1111/j.1432-1033.1992.tb17065.x'}], 'title': 'Identification of cholecystokinin/gastrin peptides in frog and turtle. Evidence that cholecystokinin is phylogenetically older than gastrin.', 'publicationDate': '1992', 'journal': 'Eur. J. Biochem.', 'firstPage': '419', 'lastPage': '428', 'volume': '207'}, 'referencePositions': ['PROTEIN SEQUENCE OF 46-92', 'SULFATION AT TYR-86', 'AMIDATION AT PHE-92'], 'referenceComments': [{'value': 'Gastric mucosa', 'type': 'TISSUE'}]}], 'uniProtKBCrossReferences': [{'database': 'EMBL', 'id': 'Y08399', 'properties': [{'key': 'ProteinId', 'value': 'CAA69676.1'}, {'key': 'Status', 'value': '-'}, {'key': 'MoleculeType', 'value': 'Genomic_DNA'}]}, {'database': 'EMBL', 'id': 'Y08400', 'properties': [{'key': 'ProteinId', 'value': 'CAA69676.1'}, {'key': 'Status', 'value': 'JOINED'}, {'key': 'MoleculeType', 'value': 'Genomic_DNA'}]}, {'database': 'EMBL', 'id': 'Y08397', 'properties': [{'key': 'ProteinId', 'value': 'CAA69675.1'}, {'key': 'Status', 'value': '-'}, {'key': 'MoleculeType', 'value': 'mRNA'}]}, {'database': 'PIR', 'id': 'S24142', 'properties': [{'key': 'EntryName', 'value': 'S24142'}]}, {'database': 'AlphaFoldDB', 'id': 'P80111', 'properties': [{'key': 'Description', 'value': '-'}]}, {'database': 'GO', 'id': 'GO:0030424', 'properties': [{'key': 'GoTerm', 'value': 'C:axon'}, {'key': 'GoEvidenceType', 'value': 'IEA:TreeGrafter'}]}, {'database': 'GO', 'id': 'GO:0005615', 'properties': [{'key': 'GoTerm', 'value': 'C:extracellular space'}, {'key': 'GoEvidenceType', 'value': 'IEA:TreeGrafter'}]}, {'database': 'GO', 'id': 'GO:0005184', 'properties': [{'key': 'GoTerm', 'value': 'F:neuropeptide hormone activity'}, {'key': 'GoEvidenceType', 'value': 'IEA:InterPro'}]}, {'database': 'GO', 'id': 'GO:0007586', 'properties': [{'key': 'GoTerm', 'value': 'P:digestion'}, {'key': 'GoEvidenceType', 'value': 'IEA:UniProtKB-KW'}]}, {'database': 'InterPro', 'id': 'IPR015499', 'properties': [{'key': 'EntryName', 'value': 'CCK-like'}]}, {'database': 'InterPro', 'id': 'IPR001651', 'properties': [{'key': 'EntryName', 'value': 'Gastrin/CCK'}]}, {'database': 'InterPro', 'id': 'IPR013152', 'properties': [{'key': 'EntryName', 'value': 'Gastrin/cholecystokinin_CS'}]}, {'database': 'PANTHER', 'id': 'PTHR10786', 'properties': [{'key': 'EntryName', 'value': 'CHOLECYSTOKININ'}, {'key': 'MatchStatus', 'value': '1'}]}, {'database': 'PANTHER', 'id': 'PTHR10786:SF0', 'properties': [{'key': 'EntryName', 'value': 'CHOLECYSTOKININ'}, {'key': 'MatchStatus', 'value': '1'}]}, {'database': 'Pfam', 'id': 'PF00918', 'properties': [{'key': 'EntryName', 'value': 'Gastrin'}, {'key': 'MatchStatus', 'value': '1'}]}, {'database': 'PROSITE', 'id': 'PS00259', 'properties': [{'key': 'EntryName', 'value': 'GASTRIN'}, {'key': 'MatchStatus', 'value': '1'}]}], 'sequence': {'value': 'MDKKVCVSILLAMLAIAALCRPMTELESARHGAQRKNSISDVSRRDLLASLTHEQKQLIMSQLLPELLSELSNAEDHLHPMRDRDYAGWMDFGRRSSEVTES', 'length': 102, 'molWeight': 11551, 'crc64': '6FCBEB01538A0C93', 'md5': 'AD84A90A3A7228099D4699A90767CB21'}, 'extraAttributes': {'countByCommentType': {'FUNCTION': 1, 'SUBCELLULAR LOCATION': 1, 'TISSUE SPECIFICITY': 1, 'SIMILARITY': 1}, 'countByFeatureType': {'Signal': 1, 'Propeptide': 2, 'Peptide': 1, 'Modified residue': 2}, 'uniParcId': 'UPI0000125B69'}}]}\u001b[00m\n",
      "\n",
      "\n",
      "\u001b[1m\u001b[95m# Agent:\u001b[00m \u001b[1m\u001b[92muniprot_query_generator\u001b[00m\n",
      "\u001b[95m## Final Answer:\u001b[00m \u001b[92m\n",
      "{\"function_keyword\": \"digestion\"}\u001b[00m\n",
      "\n",
      "\n"
     ]
    },
    {
     "data": {
      "text/markdown": [
       "{\"function_keyword\": \"digestion\"}"
      ],
      "text/plain": [
       "<IPython.core.display.Markdown object>"
      ]
     },
     "execution_count": 3,
     "metadata": {},
     "output_type": "execute_result"
    }
   ],
   "source": [
    "\n",
    "import pydantic\n",
    "from crewai import Agent, Task, Crew, LLM\n",
    "import os\n",
    "\n",
    "\n",
    "\n",
    "GROQ_API_KEY=\"\"\n",
    "os.environ[\"GROQ_API_KEY\"]=GROQ_API_KEY\n",
    "\n",
    "llm = LLM(\n",
    "    model=\"groq/gemma2-9b-it\",\n",
    "    temperature=0.7\n",
    ")\n",
    "planner = Agent(\n",
    "    role=\"Content Planner\",\n",
    "    goal=\"Plan series of steps and procedure to create a protein based on given input : accurate content on {userinput}\",\n",
    "    backstory=\"\",\n",
    "    allow_delegation=False,\n",
    "\tverbose=True,\n",
    "    llm=llm\n",
    ")\n",
    "query_generator = Agent(\n",
    "    role=\"uniprot_query_generator\",\n",
    "    goal=\"Generates a UniProt query from a given protein function: {userinput}\"\n",
    "         \"Ensure the query retrieves relevant proteins\",\n",
    "    backstory=\n",
    "            \"Designed as a highly specialized bioinformatics assistant\"\n",
    "            \" A bioinformatics assistant trained to construct precise UniProt queries based on a protein function description: {userinput}. \"\n",
    "            \" this agent leverages natural language processing (NLP) techniques to transform textual descriptions of protein functions into precise UniProt queries.\"\n",
    "            \" With an in-depth understanding of protein ontology, biochemical pathways, and molecular interactions, the agent ensures that every generated query retrieves highly relevant protein data. Whether working with simple function descriptions or complex multi-functional proteins, the agent efficiently extracts key terms, maps them to appropriate UniProt search fields, and optimizes query parameters for high recall and precision.\"\n",
    "            \" This capability aids researchers, bioinformaticians, and computational biologists in quickly identifying proteins of interest, expediting research workflows in structural biology, drug discovery, and synthetic biology.\",\n",
    "    tools=[uniprot_tool],\n",
    "    verbose=True,\n",
    "    llm=llm,\n",
    "    output_pydantic = UniprotInput\n",
    ")\n",
    "plan = Task(\n",
    "    description=(\n",
    "        \"1. Extract key biological terms from a given protein function description. \"\n",
    "            \" {userinput}.\\n\"\n",
    "        \"2. Map extracted terms to UniProt search fields  \"\n",
    "            \"and controlled vocabularies.\\n\"\n",
    "        \"3. Generate a structured UniProt query optimized  \"\n",
    "            \"for accuracy and recall.\\n\"\n",
    "        \"4. Validate and refine the query to ensure relevant search results.\"\n",
    "    ),\n",
    "    expected_output=\"Uniprot query for the given protein function description\",\n",
    "    agent=query_generator\n",
    ")\n",
    "crew = Crew(\n",
    "    agents=[query_generator],\n",
    "    tasks=[plan],\n",
    "    verbose=True\n",
    ")\n",
    "result = crew.kickoff(inputs={\"userinput\": \"I want a protein that can help in the digestion of food.\"})\n",
    "from IPython.display import Markdown\n",
    "Markdown(str(result))"
   ]
  },
  {
   "cell_type": "code",
   "execution_count": null,
   "metadata": {},
   "outputs": [],
   "source": []
  }
 ],
 "metadata": {
  "kernelspec": {
   "display_name": "ibs",
   "language": "python",
   "name": "python3"
  },
  "language_info": {
   "codemirror_mode": {
    "name": "ipython",
    "version": 3
   },
   "file_extension": ".py",
   "mimetype": "text/x-python",
   "name": "python",
   "nbconvert_exporter": "python",
   "pygments_lexer": "ipython3",
   "version": "3.11.11"
  }
 },
 "nbformat": 4,
 "nbformat_minor": 2
}
