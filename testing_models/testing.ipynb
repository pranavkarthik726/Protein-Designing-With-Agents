{
 "cells": [
  {
   "cell_type": "code",
   "execution_count": 35,
   "metadata": {},
   "outputs": [],
   "source": [
    "import subprocess\n",
    "import os\n",
    "from vina import Vina\n",
    "\n",
    "def prepare_receptor(receptor_pdb, receptor_pdbqt, prepare_receptor_script):\n",
    "    \"\"\"Prepare receptor PDBQT file using prepare_receptor.py script.\"\"\"\n",
    "    comdand='mk_prepare_receptor.py' +' -i '+ receptor_pdb +' -o '+ receptor_pdbqt\n",
    "    subprocess.run(comdand,shell=True, check=True)\n",
    "\n",
    "def prepare_ligand(ligand_pdb, ligand_pdbqt, prepare_ligand_script):\n",
    "    \"\"\"Prepare ligand PDBQT file using prepare_ligand.py script.\"\"\"\n",
    "    cmd = prepare_ligand_script+' -i '+ ligand_pdb +' -o '+ligand_pdbqt\n",
    "\n",
    "    subprocess.run(cmd,shell=True, check=True)\n",
    "\n",
    "def run_docking(receptor_pdbqt, ligand_pdbqt, center, box_size, output_pdbqt):\n",
    "    \"\"\"Perform docking using AutoDock Vina.\"\"\"\n",
    "    v = Vina(sf_name='vina')\n",
    "    v.set_receptor(receptor_pdbqt)\n",
    "    v.set_ligand_from_file(ligand_pdbqt)\n",
    "    v.compute_vina_maps(center=center, box_size=box_size)\n",
    "    v.dock(exhaustiveness=8, n_poses=20, min_rmsd=1.0)\n",
    "    v.write_poses(output_pdbqt, n_poses=1, overwrite=True)\n",
    "\n",
    "\n"
   ]
  },
  {
   "cell_type": "code",
   "execution_count": 36,
   "metadata": {},
   "outputs": [],
   "source": [
    "# Example usage\n",
    "receptor_pdb = '/home/bharath-sooryaa-m/Documents/BIO/proj/Protein-Designing-With-Agents/cache/session_20250408-125551_c0b9c107/pdb/P28715.pdb'\n",
    "ligand_pdb = '/home/bharath-sooryaa-m/Documents/BIO/proj/Protein-Designing-With-Agents/1C0A.pdb'\n",
    "receptor_pdbqt = 'receptor.pdbqt'\n",
    "ligand_pdbqt = 'ligand.pdbqt'\n",
    "output_pdbqt = 'docked_ligand.pdbqt'\n",
    "prepare_receptor_script = 'mk_prepare_receptor.py'\n",
    "prepare_ligand_script = 'mk_prepare_ligand.py'\n",
    "center = [0.0, 0.0, 0.0]  # Replace with the center of your binding site\n",
    "box_size = [20.0, 20.0, 20.0]  # Replace with your desired box size\n",
    "\n",
    "\n"
   ]
  },
  {
   "cell_type": "code",
   "execution_count": 37,
   "metadata": {},
   "outputs": [
    {
     "name": "stderr",
     "output_type": "stream",
     "text": [
      "@> 9348 atoms and 1 coordinate set(s) were parsed in 0.14s.\n"
     ]
    },
    {
     "name": "stdout",
     "output_type": "stream",
     "text": [
      "\n",
      "\n",
      "Receptor was prepared, but no files were written.\n",
      "\n",
      "Consider the following --write options:\n",
      "  -p/--write_pdbqt\n",
      "  -j/--write_json\n",
      "  -g/--write_gpf\n",
      "  -v/--write_vina_box\n",
      "\n",
      "Use -o/--output_basename, or set a filename after each --write flag\n",
      "\n",
      "Recommended for AutoDock-GPU:\n",
      "  -o my_receptor -p -j -g\n",
      "\n",
      "Recommended for AutoDock-Vina:\n",
      "  -o my_receptor -p -j -v\n",
      "*ERROR* Format [pdb] not in supported formats [sdf/mol2/mol]\n"
     ]
    },
    {
     "ename": "CalledProcessError",
     "evalue": "Command 'mk_prepare_ligand.py -i /home/bharath-sooryaa-m/Documents/BIO/proj/Protein-Designing-With-Agents/1C0A.pdb -o ligand.pdbqt' returned non-zero exit status 1.",
     "output_type": "error",
     "traceback": [
      "\u001b[0;31m---------------------------------------------------------------------------\u001b[0m",
      "\u001b[0;31mCalledProcessError\u001b[0m                        Traceback (most recent call last)",
      "Cell \u001b[0;32mIn[37], line 2\u001b[0m\n\u001b[1;32m      1\u001b[0m prepare_receptor(receptor_pdb, receptor_pdbqt, prepare_receptor_script)\n\u001b[0;32m----> 2\u001b[0m prepare_ligand(ligand_pdb, ligand_pdbqt, prepare_ligand_script)\n",
      "Cell \u001b[0;32mIn[35], line 14\u001b[0m, in \u001b[0;36mprepare_ligand\u001b[0;34m(ligand_pdb, ligand_pdbqt, prepare_ligand_script)\u001b[0m\n\u001b[1;32m     11\u001b[0m \u001b[38;5;250m\u001b[39m\u001b[38;5;124;03m\"\"\"Prepare ligand PDBQT file using prepare_ligand.py script.\"\"\"\u001b[39;00m\n\u001b[1;32m     12\u001b[0m cmd \u001b[38;5;241m=\u001b[39m prepare_ligand_script\u001b[38;5;241m+\u001b[39m\u001b[38;5;124m'\u001b[39m\u001b[38;5;124m -i \u001b[39m\u001b[38;5;124m'\u001b[39m\u001b[38;5;241m+\u001b[39m ligand_pdb \u001b[38;5;241m+\u001b[39m\u001b[38;5;124m'\u001b[39m\u001b[38;5;124m -o \u001b[39m\u001b[38;5;124m'\u001b[39m\u001b[38;5;241m+\u001b[39mligand_pdbqt\n\u001b[0;32m---> 14\u001b[0m subprocess\u001b[38;5;241m.\u001b[39mrun(cmd,shell\u001b[38;5;241m=\u001b[39m\u001b[38;5;28;01mTrue\u001b[39;00m, check\u001b[38;5;241m=\u001b[39m\u001b[38;5;28;01mTrue\u001b[39;00m)\n",
      "File \u001b[0;32m~/anaconda3/envs/praisonai/lib/python3.11/subprocess.py:571\u001b[0m, in \u001b[0;36mrun\u001b[0;34m(input, capture_output, timeout, check, *popenargs, **kwargs)\u001b[0m\n\u001b[1;32m    569\u001b[0m     retcode \u001b[38;5;241m=\u001b[39m process\u001b[38;5;241m.\u001b[39mpoll()\n\u001b[1;32m    570\u001b[0m     \u001b[38;5;28;01mif\u001b[39;00m check \u001b[38;5;129;01mand\u001b[39;00m retcode:\n\u001b[0;32m--> 571\u001b[0m         \u001b[38;5;28;01mraise\u001b[39;00m CalledProcessError(retcode, process\u001b[38;5;241m.\u001b[39margs,\n\u001b[1;32m    572\u001b[0m                                  output\u001b[38;5;241m=\u001b[39mstdout, stderr\u001b[38;5;241m=\u001b[39mstderr)\n\u001b[1;32m    573\u001b[0m \u001b[38;5;28;01mreturn\u001b[39;00m CompletedProcess(process\u001b[38;5;241m.\u001b[39margs, retcode, stdout, stderr)\n",
      "\u001b[0;31mCalledProcessError\u001b[0m: Command 'mk_prepare_ligand.py -i /home/bharath-sooryaa-m/Documents/BIO/proj/Protein-Designing-With-Agents/1C0A.pdb -o ligand.pdbqt' returned non-zero exit status 1."
     ]
    }
   ],
   "source": [
    "prepare_receptor(receptor_pdb, receptor_pdbqt, prepare_receptor_script)\n",
    "prepare_ligand(ligand_pdb, ligand_pdbqt, prepare_ligand_script)"
   ]
  },
  {
   "cell_type": "code",
   "execution_count": null,
   "metadata": {},
   "outputs": [],
   "source": [
    "\n",
    "run_docking(receptor_pdbqt, ligand_pdbqt, center, box_size, output_pdbqt)"
   ]
  }
 ],
 "metadata": {
  "kernelspec": {
   "display_name": "praisonai",
   "language": "python",
   "name": "python3"
  },
  "language_info": {
   "codemirror_mode": {
    "name": "ipython",
    "version": 3
   },
   "file_extension": ".py",
   "mimetype": "text/x-python",
   "name": "python",
   "nbconvert_exporter": "python",
   "pygments_lexer": "ipython3",
   "version": "3.11.11"
  }
 },
 "nbformat": 4,
 "nbformat_minor": 2
}
